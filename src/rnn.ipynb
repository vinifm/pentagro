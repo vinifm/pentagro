{
 "cells": [
  {
   "cell_type": "code",
   "execution_count": 62,
   "metadata": {},
   "outputs": [],
   "source": [
    "import pandas as pd\n",
    "import keras\n"
   ]
  },
  {
   "cell_type": "code",
   "execution_count": 134,
   "metadata": {},
   "outputs": [],
   "source": [
    "df = pd.read_csv('../data/data_phdosado.csv', index_col=1)\n",
    "df = df.drop(columns=['ID', 'Real_RD_PV_BaumeCal'])"
   ]
  },
  {
   "cell_type": "code",
   "execution_count": 135,
   "metadata": {},
   "outputs": [
    {
     "data": {
      "text/plain": [
       "['Real_RD_PV_pHDosado',\n",
       " 'Real_RD_MV_ValvulaCalpHDosado',\n",
       " 'Real_RD_PV_VazaoDosado',\n",
       " 'Real_RD_ST_LimpezaPHmetro',\n",
       " 'Real_RD_PV_PressaoLinhaCal',\n",
       " 'Real_RD_MV_ValvulaCalpHDosado-2',\n",
       " 'Real_RD_MV_PressaoLinhaCal',\n",
       " 'Real_RD_PV_NivelTqCal',\n",
       " 'Real_RD_PV_NivelTqDosado']"
      ]
     },
     "execution_count": 135,
     "metadata": {},
     "output_type": "execute_result"
    }
   ],
   "source": [
    "list(df.columns)"
   ]
  },
  {
   "cell_type": "code",
   "execution_count": 136,
   "metadata": {},
   "outputs": [
    {
     "data": {
      "text/html": [
       "<div>\n",
       "<style scoped>\n",
       "    .dataframe tbody tr th:only-of-type {\n",
       "        vertical-align: middle;\n",
       "    }\n",
       "\n",
       "    .dataframe tbody tr th {\n",
       "        vertical-align: top;\n",
       "    }\n",
       "\n",
       "    .dataframe thead th {\n",
       "        text-align: right;\n",
       "    }\n",
       "</style>\n",
       "<table border=\"1\" class=\"dataframe\">\n",
       "  <thead>\n",
       "    <tr style=\"text-align: right;\">\n",
       "      <th></th>\n",
       "      <th>Real_RD_PV_pHDosado</th>\n",
       "      <th>Real_RD_MV_ValvulaCalpHDosado</th>\n",
       "      <th>Real_RD_PV_VazaoDosado</th>\n",
       "      <th>Real_RD_ST_LimpezaPHmetro</th>\n",
       "      <th>Real_RD_PV_PressaoLinhaCal</th>\n",
       "      <th>Real_RD_MV_ValvulaCalpHDosado-2</th>\n",
       "      <th>Real_RD_MV_PressaoLinhaCal</th>\n",
       "      <th>Real_RD_PV_NivelTqCal</th>\n",
       "      <th>Real_RD_PV_NivelTqDosado</th>\n",
       "    </tr>\n",
       "    <tr>\n",
       "      <th>timezone</th>\n",
       "      <th></th>\n",
       "      <th></th>\n",
       "      <th></th>\n",
       "      <th></th>\n",
       "      <th></th>\n",
       "      <th></th>\n",
       "      <th></th>\n",
       "      <th></th>\n",
       "      <th></th>\n",
       "    </tr>\n",
       "  </thead>\n",
       "  <tbody>\n",
       "    <tr>\n",
       "      <th>2024-07-13 14:28:22</th>\n",
       "      <td>7.1260</td>\n",
       "      <td>37.128124</td>\n",
       "      <td>899.625</td>\n",
       "      <td>0.0</td>\n",
       "      <td>0.798437</td>\n",
       "      <td>37.128124</td>\n",
       "      <td>74.546875</td>\n",
       "      <td>98.31250</td>\n",
       "      <td>73.84375</td>\n",
       "    </tr>\n",
       "    <tr>\n",
       "      <th>2024-07-13 14:28:25</th>\n",
       "      <td>7.1225</td>\n",
       "      <td>37.178123</td>\n",
       "      <td>899.625</td>\n",
       "      <td>0.0</td>\n",
       "      <td>0.798437</td>\n",
       "      <td>37.178123</td>\n",
       "      <td>74.578125</td>\n",
       "      <td>98.34375</td>\n",
       "      <td>73.87500</td>\n",
       "    </tr>\n",
       "    <tr>\n",
       "      <th>2024-07-13 14:28:28</th>\n",
       "      <td>7.1225</td>\n",
       "      <td>37.187500</td>\n",
       "      <td>899.625</td>\n",
       "      <td>0.0</td>\n",
       "      <td>0.796875</td>\n",
       "      <td>37.187500</td>\n",
       "      <td>74.559375</td>\n",
       "      <td>98.40625</td>\n",
       "      <td>73.87500</td>\n",
       "    </tr>\n",
       "    <tr>\n",
       "      <th>2024-07-13 14:28:31</th>\n",
       "      <td>7.1260</td>\n",
       "      <td>37.331249</td>\n",
       "      <td>899.625</td>\n",
       "      <td>0.0</td>\n",
       "      <td>0.798437</td>\n",
       "      <td>37.331249</td>\n",
       "      <td>74.596875</td>\n",
       "      <td>98.50000</td>\n",
       "      <td>73.84375</td>\n",
       "    </tr>\n",
       "    <tr>\n",
       "      <th>2024-07-13 14:28:34</th>\n",
       "      <td>7.1225</td>\n",
       "      <td>37.218750</td>\n",
       "      <td>900.375</td>\n",
       "      <td>0.0</td>\n",
       "      <td>0.798437</td>\n",
       "      <td>37.218750</td>\n",
       "      <td>74.562500</td>\n",
       "      <td>98.25000</td>\n",
       "      <td>73.87500</td>\n",
       "    </tr>\n",
       "  </tbody>\n",
       "</table>\n",
       "</div>"
      ],
      "text/plain": [
       "                     Real_RD_PV_pHDosado  Real_RD_MV_ValvulaCalpHDosado  \\\n",
       "timezone                                                                  \n",
       "2024-07-13 14:28:22               7.1260                      37.128124   \n",
       "2024-07-13 14:28:25               7.1225                      37.178123   \n",
       "2024-07-13 14:28:28               7.1225                      37.187500   \n",
       "2024-07-13 14:28:31               7.1260                      37.331249   \n",
       "2024-07-13 14:28:34               7.1225                      37.218750   \n",
       "\n",
       "                     Real_RD_PV_VazaoDosado  Real_RD_ST_LimpezaPHmetro  \\\n",
       "timezone                                                                 \n",
       "2024-07-13 14:28:22                 899.625                        0.0   \n",
       "2024-07-13 14:28:25                 899.625                        0.0   \n",
       "2024-07-13 14:28:28                 899.625                        0.0   \n",
       "2024-07-13 14:28:31                 899.625                        0.0   \n",
       "2024-07-13 14:28:34                 900.375                        0.0   \n",
       "\n",
       "                     Real_RD_PV_PressaoLinhaCal  \\\n",
       "timezone                                          \n",
       "2024-07-13 14:28:22                    0.798437   \n",
       "2024-07-13 14:28:25                    0.798437   \n",
       "2024-07-13 14:28:28                    0.796875   \n",
       "2024-07-13 14:28:31                    0.798437   \n",
       "2024-07-13 14:28:34                    0.798437   \n",
       "\n",
       "                     Real_RD_MV_ValvulaCalpHDosado-2  \\\n",
       "timezone                                               \n",
       "2024-07-13 14:28:22                        37.128124   \n",
       "2024-07-13 14:28:25                        37.178123   \n",
       "2024-07-13 14:28:28                        37.187500   \n",
       "2024-07-13 14:28:31                        37.331249   \n",
       "2024-07-13 14:28:34                        37.218750   \n",
       "\n",
       "                     Real_RD_MV_PressaoLinhaCal  Real_RD_PV_NivelTqCal  \\\n",
       "timezone                                                                 \n",
       "2024-07-13 14:28:22                   74.546875               98.31250   \n",
       "2024-07-13 14:28:25                   74.578125               98.34375   \n",
       "2024-07-13 14:28:28                   74.559375               98.40625   \n",
       "2024-07-13 14:28:31                   74.596875               98.50000   \n",
       "2024-07-13 14:28:34                   74.562500               98.25000   \n",
       "\n",
       "                     Real_RD_PV_NivelTqDosado  \n",
       "timezone                                       \n",
       "2024-07-13 14:28:22                  73.84375  \n",
       "2024-07-13 14:28:25                  73.87500  \n",
       "2024-07-13 14:28:28                  73.87500  \n",
       "2024-07-13 14:28:31                  73.84375  \n",
       "2024-07-13 14:28:34                  73.87500  "
      ]
     },
     "execution_count": 136,
     "metadata": {},
     "output_type": "execute_result"
    }
   ],
   "source": [
    "df.head()\n"
   ]
  },
  {
   "cell_type": "markdown",
   "metadata": {},
   "source": [
    "## Pré-processamento"
   ]
  },
  {
   "cell_type": "code",
   "execution_count": 137,
   "metadata": {},
   "outputs": [],
   "source": [
    "minute = 20 # Observações por minuto\n",
    "hour = minute * 60\n",
    "day = hour * 24"
   ]
  },
  {
   "cell_type": "code",
   "execution_count": 138,
   "metadata": {},
   "outputs": [],
   "source": [
    "# Seleciona apenas os primeiros dez dias\n",
    "df = df[:(day * 10)]"
   ]
  },
  {
   "cell_type": "code",
   "execution_count": 139,
   "metadata": {},
   "outputs": [],
   "source": [
    "# Normalização\n",
    "from sklearn.preprocessing import MinMaxScaler\n",
    "\n",
    "scaler = MinMaxScaler()\n",
    "normalized_data = scaler.fit_transform(df)\n",
    "normalized_df = pd.DataFrame(normalized_data, columns=df.columns)"
   ]
  },
  {
   "cell_type": "code",
   "execution_count": null,
   "metadata": {},
   "outputs": [],
   "source": [
    "# Porcentagem usada para treinar o modelo\n",
    "split_fraction = 0.715\n",
    "train_split = int(split_fraction * int(df.shape[0]))\n",
    "\n",
    "step = 1\n",
    "\n",
    "# Usaremos os dados da última hora para prever 5 minutos\n",
    "past = hour\n",
    "future = minute * 5\n",
    "\n",
    "learning_rate = 0.001\n",
    "batch_size = 256\n",
    "epochs = 10"
   ]
  },
  {
   "cell_type": "code",
   "execution_count": 141,
   "metadata": {},
   "outputs": [],
   "source": [
    "train_data = normalized_df.loc[0 : train_split - 1]\n",
    "val_data = normalized_df.loc[train_split:]"
   ]
  },
  {
   "cell_type": "markdown",
   "metadata": {},
   "source": [
    "### Dataset de treinamento"
   ]
  },
  {
   "cell_type": "code",
   "execution_count": 142,
   "metadata": {},
   "outputs": [],
   "source": [
    "# Dataset de treinamento\n",
    "start = past + future\n",
    "end = start + train_split\n",
    "\n",
    "x_train = train_data.values\n",
    "# y_train = normalized_df['Real_RD_PV_pHDosado'][:train_split - 1].values\n",
    "y_train = normalized_df['Real_RD_PV_pHDosado'][start:end]\n",
    "\n",
    "sequence_length = int(past / step)"
   ]
  },
  {
   "cell_type": "code",
   "execution_count": 143,
   "metadata": {},
   "outputs": [],
   "source": [
    "dataset_train = keras.preprocessing.timeseries_dataset_from_array(\n",
    "    x_train,\n",
    "    y_train,\n",
    "    sequence_length=sequence_length,\n",
    "    sampling_rate=step,\n",
    "    batch_size=batch_size,\n",
    ")"
   ]
  },
  {
   "cell_type": "code",
   "execution_count": 144,
   "metadata": {},
   "outputs": [
    {
     "name": "stdout",
     "output_type": "stream",
     "text": [
      "x_train shape: (205920, 9)\n",
      "y_train shape: (205920,)\n"
     ]
    }
   ],
   "source": [
    "print(f\"x_train shape: {x_train.shape}\")\n",
    "print(f\"y_train shape: {y_train.shape}\")"
   ]
  },
  {
   "cell_type": "code",
   "execution_count": 145,
   "metadata": {},
   "outputs": [
    {
     "name": "stdout",
     "output_type": "stream",
     "text": [
      "Input shape: (256, 1200, 9)\n",
      "Target shape: (256,)\n"
     ]
    }
   ],
   "source": [
    "for batch in dataset_train.take(1):\n",
    "    inputs, targets = batch\n",
    "\n",
    "print(\"Input shape:\", inputs.numpy().shape)\n",
    "print(\"Target shape:\", targets.numpy().shape)"
   ]
  },
  {
   "cell_type": "markdown",
   "metadata": {},
   "source": [
    "### Dataset de validação"
   ]
  },
  {
   "cell_type": "code",
   "execution_count": 146,
   "metadata": {},
   "outputs": [],
   "source": [
    "# Dataset de validação\n",
    "x_end = len(val_data) - past - future\n",
    "label_start = train_split + past + future\n",
    "\n",
    "x_val = val_data.iloc[:x_end].values\n",
    "y_val = normalized_df['Real_RD_PV_pHDosado'][label_start:].values\n",
    "\n",
    "dataset_val = keras.preprocessing.timeseries_dataset_from_array(\n",
    "    x_val,\n",
    "    y_val,\n",
    "    sequence_length=sequence_length,\n",
    "    sampling_rate=step,\n",
    "    batch_size=batch_size,\n",
    ")"
   ]
  },
  {
   "cell_type": "code",
   "execution_count": 147,
   "metadata": {},
   "outputs": [
    {
     "name": "stdout",
     "output_type": "stream",
     "text": [
      "x_val shape: (80780, 9)\n",
      "y_val shape: (80780,)\n"
     ]
    }
   ],
   "source": [
    "print(f\"x_val shape: {x_val.shape}\")\n",
    "print(f\"y_val shape: {y_val.shape}\")"
   ]
  },
  {
   "cell_type": "markdown",
   "metadata": {},
   "source": [
    "# Treinamento"
   ]
  },
  {
   "cell_type": "code",
   "execution_count": 148,
   "metadata": {},
   "outputs": [
    {
     "data": {
      "text/html": [
       "<pre style=\"white-space:pre;overflow-x:auto;line-height:normal;font-family:Menlo,'DejaVu Sans Mono',consolas,'Courier New',monospace\"><span style=\"font-weight: bold\">Model: \"functional_1\"</span>\n",
       "</pre>\n"
      ],
      "text/plain": [
       "\u001b[1mModel: \"functional_1\"\u001b[0m\n"
      ]
     },
     "metadata": {},
     "output_type": "display_data"
    },
    {
     "data": {
      "text/html": [
       "<pre style=\"white-space:pre;overflow-x:auto;line-height:normal;font-family:Menlo,'DejaVu Sans Mono',consolas,'Courier New',monospace\">┏━━━━━━━━━━━━━━━━━━━━━━━━━━━━━━━━━┳━━━━━━━━━━━━━━━━━━━━━━━━┳━━━━━━━━━━━━━━━┓\n",
       "┃<span style=\"font-weight: bold\"> Layer (type)                    </span>┃<span style=\"font-weight: bold\"> Output Shape           </span>┃<span style=\"font-weight: bold\">       Param # </span>┃\n",
       "┡━━━━━━━━━━━━━━━━━━━━━━━━━━━━━━━━━╇━━━━━━━━━━━━━━━━━━━━━━━━╇━━━━━━━━━━━━━━━┩\n",
       "│ input_layer_1 (<span style=\"color: #0087ff; text-decoration-color: #0087ff\">InputLayer</span>)      │ (<span style=\"color: #00d7ff; text-decoration-color: #00d7ff\">None</span>, <span style=\"color: #00af00; text-decoration-color: #00af00\">1200</span>, <span style=\"color: #00af00; text-decoration-color: #00af00\">9</span>)        │             <span style=\"color: #00af00; text-decoration-color: #00af00\">0</span> │\n",
       "├─────────────────────────────────┼────────────────────────┼───────────────┤\n",
       "│ lstm_1 (<span style=\"color: #0087ff; text-decoration-color: #0087ff\">LSTM</span>)                   │ (<span style=\"color: #00d7ff; text-decoration-color: #00d7ff\">None</span>, <span style=\"color: #00af00; text-decoration-color: #00af00\">32</span>)             │         <span style=\"color: #00af00; text-decoration-color: #00af00\">5,376</span> │\n",
       "├─────────────────────────────────┼────────────────────────┼───────────────┤\n",
       "│ dense_1 (<span style=\"color: #0087ff; text-decoration-color: #0087ff\">Dense</span>)                 │ (<span style=\"color: #00d7ff; text-decoration-color: #00d7ff\">None</span>, <span style=\"color: #00af00; text-decoration-color: #00af00\">1</span>)              │            <span style=\"color: #00af00; text-decoration-color: #00af00\">33</span> │\n",
       "└─────────────────────────────────┴────────────────────────┴───────────────┘\n",
       "</pre>\n"
      ],
      "text/plain": [
       "┏━━━━━━━━━━━━━━━━━━━━━━━━━━━━━━━━━┳━━━━━━━━━━━━━━━━━━━━━━━━┳━━━━━━━━━━━━━━━┓\n",
       "┃\u001b[1m \u001b[0m\u001b[1mLayer (type)                   \u001b[0m\u001b[1m \u001b[0m┃\u001b[1m \u001b[0m\u001b[1mOutput Shape          \u001b[0m\u001b[1m \u001b[0m┃\u001b[1m \u001b[0m\u001b[1m      Param #\u001b[0m\u001b[1m \u001b[0m┃\n",
       "┡━━━━━━━━━━━━━━━━━━━━━━━━━━━━━━━━━╇━━━━━━━━━━━━━━━━━━━━━━━━╇━━━━━━━━━━━━━━━┩\n",
       "│ input_layer_1 (\u001b[38;5;33mInputLayer\u001b[0m)      │ (\u001b[38;5;45mNone\u001b[0m, \u001b[38;5;34m1200\u001b[0m, \u001b[38;5;34m9\u001b[0m)        │             \u001b[38;5;34m0\u001b[0m │\n",
       "├─────────────────────────────────┼────────────────────────┼───────────────┤\n",
       "│ lstm_1 (\u001b[38;5;33mLSTM\u001b[0m)                   │ (\u001b[38;5;45mNone\u001b[0m, \u001b[38;5;34m32\u001b[0m)             │         \u001b[38;5;34m5,376\u001b[0m │\n",
       "├─────────────────────────────────┼────────────────────────┼───────────────┤\n",
       "│ dense_1 (\u001b[38;5;33mDense\u001b[0m)                 │ (\u001b[38;5;45mNone\u001b[0m, \u001b[38;5;34m1\u001b[0m)              │            \u001b[38;5;34m33\u001b[0m │\n",
       "└─────────────────────────────────┴────────────────────────┴───────────────┘\n"
      ]
     },
     "metadata": {},
     "output_type": "display_data"
    },
    {
     "data": {
      "text/html": [
       "<pre style=\"white-space:pre;overflow-x:auto;line-height:normal;font-family:Menlo,'DejaVu Sans Mono',consolas,'Courier New',monospace\"><span style=\"font-weight: bold\"> Total params: </span><span style=\"color: #00af00; text-decoration-color: #00af00\">5,409</span> (21.13 KB)\n",
       "</pre>\n"
      ],
      "text/plain": [
       "\u001b[1m Total params: \u001b[0m\u001b[38;5;34m5,409\u001b[0m (21.13 KB)\n"
      ]
     },
     "metadata": {},
     "output_type": "display_data"
    },
    {
     "data": {
      "text/html": [
       "<pre style=\"white-space:pre;overflow-x:auto;line-height:normal;font-family:Menlo,'DejaVu Sans Mono',consolas,'Courier New',monospace\"><span style=\"font-weight: bold\"> Trainable params: </span><span style=\"color: #00af00; text-decoration-color: #00af00\">5,409</span> (21.13 KB)\n",
       "</pre>\n"
      ],
      "text/plain": [
       "\u001b[1m Trainable params: \u001b[0m\u001b[38;5;34m5,409\u001b[0m (21.13 KB)\n"
      ]
     },
     "metadata": {},
     "output_type": "display_data"
    },
    {
     "data": {
      "text/html": [
       "<pre style=\"white-space:pre;overflow-x:auto;line-height:normal;font-family:Menlo,'DejaVu Sans Mono',consolas,'Courier New',monospace\"><span style=\"font-weight: bold\"> Non-trainable params: </span><span style=\"color: #00af00; text-decoration-color: #00af00\">0</span> (0.00 B)\n",
       "</pre>\n"
      ],
      "text/plain": [
       "\u001b[1m Non-trainable params: \u001b[0m\u001b[38;5;34m0\u001b[0m (0.00 B)\n"
      ]
     },
     "metadata": {},
     "output_type": "display_data"
    }
   ],
   "source": [
    "inputs = keras.layers.Input(shape=(inputs.shape[1], inputs.shape[2]))\n",
    "lstm_out = keras.layers.LSTM(32)(inputs)\n",
    "outputs = keras.layers.Dense(1)(lstm_out)\n",
    "\n",
    "model = keras.Model(inputs=inputs, outputs=outputs)\n",
    "model.compile(optimizer=keras.optimizers.Adam(learning_rate=learning_rate), loss=\"mse\")\n",
    "model.summary()\n"
   ]
  },
  {
   "cell_type": "code",
   "execution_count": null,
   "metadata": {},
   "outputs": [],
   "source": [
    "path_checkpoint = \"model_checkpoint.weights.h5\"\n",
    "es_callback = keras.callbacks.EarlyStopping(monitor=\"val_loss\", min_delta=0, patience=5)\n",
    "\n",
    "modelckpt_callback = keras.callbacks.ModelCheckpoint(\n",
    "    monitor=\"val_loss\",\n",
    "    filepath=path_checkpoint,\n",
    "    verbose=1,\n",
    "    save_weights_only=True,\n",
    "    save_best_only=True,\n",
    ")\n",
    "\n",
    "history = model.fit(\n",
    "    dataset_train,\n",
    "    epochs=epochs,\n",
    "    validation_data=dataset_val,\n",
    "    callbacks=[es_callback, modelckpt_callback],\n",
    ")"
   ]
  },
  {
   "cell_type": "markdown",
   "metadata": {},
   "source": [
    "# Referências"
   ]
  },
  {
   "cell_type": "markdown",
   "metadata": {},
   "source": [
    "- [Timeseries forecasting for weather prediction](https://keras.io/examples/timeseries/timeseries_weather_forecasting/)"
   ]
  }
 ],
 "metadata": {
  "kernelspec": {
   "display_name": ".venv",
   "language": "python",
   "name": "python3"
  },
  "language_info": {
   "codemirror_mode": {
    "name": "ipython",
    "version": 3
   },
   "file_extension": ".py",
   "mimetype": "text/x-python",
   "name": "python",
   "nbconvert_exporter": "python",
   "pygments_lexer": "ipython3",
   "version": "3.12.3"
  }
 },
 "nbformat": 4,
 "nbformat_minor": 2
}
