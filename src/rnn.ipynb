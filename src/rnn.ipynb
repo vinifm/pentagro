{
  "cells": [
    {
      "cell_type": "code",
      "execution_count": 1,
      "metadata": {
        "id": "FdCBq-2qOWPJ"
      },
      "outputs": [],
      "source": [
        "import pandas as pd\n",
        "import keras\n",
        "import matplotlib.pyplot as plt"
      ]
    },
    {
      "cell_type": "code",
      "execution_count": null,
      "metadata": {
        "colab": {
          "base_uri": "https://localhost:8080/"
        },
        "id": "nhUae1hIOL5_",
        "outputId": "8bf89c0c-2ca7-40cf-96dc-15a3e35cb283"
      },
      "outputs": [
        {
          "name": "stdout",
          "output_type": "stream",
          "text": [
            "Mounted at /content/drive\n"
          ]
        }
      ],
      "source": [
        "from google.colab import drive\n",
        "drive.mount('/content/drive')"
      ]
    },
    {
      "cell_type": "code",
      "execution_count": 2,
      "metadata": {
        "id": "DjKZ8Ao3OWPL"
      },
      "outputs": [],
      "source": [
        "df_raw = pd.read_csv('/content/data_phdosado.csv', index_col=1, engine='python', on_bad_lines='skip') # Colab\n",
        "#df = pd.read_csv('../data/data_phdosado.csv', index_col=1) # Local"
      ]
    },
    {
      "cell_type": "code",
      "execution_count": 3,
      "metadata": {
        "colab": {
          "base_uri": "https://localhost:8080/",
          "height": 429
        },
        "id": "oFp0RkcwVys-",
        "outputId": "f22436a5-5678-443a-f18f-f02cd02230b0"
      },
      "outputs": [
        {
          "output_type": "execute_result",
          "data": {
            "text/plain": [
              "ID                                 0\n",
              "Real_RD_PV_pHDosado                0\n",
              "Real_RD_MV_ValvulaCalpHDosado      0\n",
              "Real_RD_PV_VazaoDosado             0\n",
              "Real_RD_ST_LimpezaPHmetro          0\n",
              "Real_RD_PV_BaumeCal                0\n",
              "Real_RD_PV_PressaoLinhaCal         0\n",
              "Real_RD_MV_ValvulaCalpHDosado-2    0\n",
              "Real_RD_MV_PressaoLinhaCal         0\n",
              "Real_RD_PV_NivelTqCal              0\n",
              "Real_RD_PV_NivelTqDosado           0\n",
              "dtype: int64"
            ],
            "text/html": [
              "<div>\n",
              "<style scoped>\n",
              "    .dataframe tbody tr th:only-of-type {\n",
              "        vertical-align: middle;\n",
              "    }\n",
              "\n",
              "    .dataframe tbody tr th {\n",
              "        vertical-align: top;\n",
              "    }\n",
              "\n",
              "    .dataframe thead th {\n",
              "        text-align: right;\n",
              "    }\n",
              "</style>\n",
              "<table border=\"1\" class=\"dataframe\">\n",
              "  <thead>\n",
              "    <tr style=\"text-align: right;\">\n",
              "      <th></th>\n",
              "      <th>0</th>\n",
              "    </tr>\n",
              "  </thead>\n",
              "  <tbody>\n",
              "    <tr>\n",
              "      <th>ID</th>\n",
              "      <td>0</td>\n",
              "    </tr>\n",
              "    <tr>\n",
              "      <th>Real_RD_PV_pHDosado</th>\n",
              "      <td>0</td>\n",
              "    </tr>\n",
              "    <tr>\n",
              "      <th>Real_RD_MV_ValvulaCalpHDosado</th>\n",
              "      <td>0</td>\n",
              "    </tr>\n",
              "    <tr>\n",
              "      <th>Real_RD_PV_VazaoDosado</th>\n",
              "      <td>0</td>\n",
              "    </tr>\n",
              "    <tr>\n",
              "      <th>Real_RD_ST_LimpezaPHmetro</th>\n",
              "      <td>0</td>\n",
              "    </tr>\n",
              "    <tr>\n",
              "      <th>Real_RD_PV_BaumeCal</th>\n",
              "      <td>0</td>\n",
              "    </tr>\n",
              "    <tr>\n",
              "      <th>Real_RD_PV_PressaoLinhaCal</th>\n",
              "      <td>0</td>\n",
              "    </tr>\n",
              "    <tr>\n",
              "      <th>Real_RD_MV_ValvulaCalpHDosado-2</th>\n",
              "      <td>0</td>\n",
              "    </tr>\n",
              "    <tr>\n",
              "      <th>Real_RD_MV_PressaoLinhaCal</th>\n",
              "      <td>0</td>\n",
              "    </tr>\n",
              "    <tr>\n",
              "      <th>Real_RD_PV_NivelTqCal</th>\n",
              "      <td>0</td>\n",
              "    </tr>\n",
              "    <tr>\n",
              "      <th>Real_RD_PV_NivelTqDosado</th>\n",
              "      <td>0</td>\n",
              "    </tr>\n",
              "  </tbody>\n",
              "</table>\n",
              "</div><br><label><b>dtype:</b> int64</label>"
            ]
          },
          "metadata": {},
          "execution_count": 3
        }
      ],
      "source": [
        "# Check for nulls\n",
        "df_raw.isnull().sum()"
      ]
    },
    {
      "cell_type": "code",
      "execution_count": 4,
      "metadata": {
        "colab": {
          "base_uri": "https://localhost:8080/"
        },
        "id": "k7veblrnOWPL",
        "outputId": "7f53695f-44d3-485d-9592-1ce00cf791ba"
      },
      "outputs": [
        {
          "output_type": "execute_result",
          "data": {
            "text/plain": [
              "['ID',\n",
              " 'Real_RD_PV_pHDosado',\n",
              " 'Real_RD_MV_ValvulaCalpHDosado',\n",
              " 'Real_RD_PV_VazaoDosado',\n",
              " 'Real_RD_ST_LimpezaPHmetro',\n",
              " 'Real_RD_PV_BaumeCal',\n",
              " 'Real_RD_PV_PressaoLinhaCal',\n",
              " 'Real_RD_MV_ValvulaCalpHDosado-2',\n",
              " 'Real_RD_MV_PressaoLinhaCal',\n",
              " 'Real_RD_PV_NivelTqCal',\n",
              " 'Real_RD_PV_NivelTqDosado']"
            ]
          },
          "metadata": {},
          "execution_count": 4
        }
      ],
      "source": [
        "list(df_raw.columns)"
      ]
    },
    {
      "cell_type": "code",
      "execution_count": 5,
      "metadata": {
        "colab": {
          "base_uri": "https://localhost:8080/",
          "height": 448
        },
        "id": "GqDXmYMBOWPL",
        "outputId": "d03160b2-61f5-4185-af1b-963bd2e7b77c"
      },
      "outputs": [
        {
          "output_type": "execute_result",
          "data": {
            "text/plain": [
              "                         ID  Real_RD_PV_pHDosado  \\\n",
              "timezone                                           \n",
              "2024-07-13 14:28:22  393652               7.1260   \n",
              "2024-07-13 14:28:25  393653               7.1225   \n",
              "2024-07-13 14:28:28  393654               7.1225   \n",
              "2024-07-13 14:28:31  393655               7.1260   \n",
              "2024-07-13 14:28:34  393656               7.1225   \n",
              "\n",
              "                     Real_RD_MV_ValvulaCalpHDosado  Real_RD_PV_VazaoDosado  \\\n",
              "timezone                                                                     \n",
              "2024-07-13 14:28:22                      37.128124                 899.625   \n",
              "2024-07-13 14:28:25                      37.178123                 899.625   \n",
              "2024-07-13 14:28:28                      37.187500                 899.625   \n",
              "2024-07-13 14:28:31                      37.331249                 899.625   \n",
              "2024-07-13 14:28:34                      37.218750                 900.375   \n",
              "\n",
              "                     Real_RD_ST_LimpezaPHmetro  Real_RD_PV_BaumeCal  \\\n",
              "timezone                                                              \n",
              "2024-07-13 14:28:22                          0            20.454374   \n",
              "2024-07-13 14:28:25                          0            20.454374   \n",
              "2024-07-13 14:28:28                          0            20.454374   \n",
              "2024-07-13 14:28:31                          0            20.454374   \n",
              "2024-07-13 14:28:34                          0            20.454374   \n",
              "\n",
              "                     Real_RD_PV_PressaoLinhaCal  \\\n",
              "timezone                                          \n",
              "2024-07-13 14:28:22                    0.798437   \n",
              "2024-07-13 14:28:25                    0.798437   \n",
              "2024-07-13 14:28:28                    0.796875   \n",
              "2024-07-13 14:28:31                    0.798437   \n",
              "2024-07-13 14:28:34                    0.798437   \n",
              "\n",
              "                     Real_RD_MV_ValvulaCalpHDosado-2  \\\n",
              "timezone                                               \n",
              "2024-07-13 14:28:22                        37.128124   \n",
              "2024-07-13 14:28:25                        37.178123   \n",
              "2024-07-13 14:28:28                        37.187500   \n",
              "2024-07-13 14:28:31                        37.331249   \n",
              "2024-07-13 14:28:34                        37.218750   \n",
              "\n",
              "                     Real_RD_MV_PressaoLinhaCal  Real_RD_PV_NivelTqCal  \\\n",
              "timezone                                                                 \n",
              "2024-07-13 14:28:22                   74.546875               98.31250   \n",
              "2024-07-13 14:28:25                   74.578125               98.34375   \n",
              "2024-07-13 14:28:28                   74.559375               98.40625   \n",
              "2024-07-13 14:28:31                   74.596875               98.50000   \n",
              "2024-07-13 14:28:34                   74.562500               98.25000   \n",
              "\n",
              "                     Real_RD_PV_NivelTqDosado  \n",
              "timezone                                       \n",
              "2024-07-13 14:28:22                  73.84375  \n",
              "2024-07-13 14:28:25                  73.87500  \n",
              "2024-07-13 14:28:28                  73.87500  \n",
              "2024-07-13 14:28:31                  73.84375  \n",
              "2024-07-13 14:28:34                  73.87500  "
            ],
            "text/html": [
              "\n",
              "  <div id=\"df-6596d950-2a3d-4952-a7d1-ad146f39b87b\" class=\"colab-df-container\">\n",
              "    <div>\n",
              "<style scoped>\n",
              "    .dataframe tbody tr th:only-of-type {\n",
              "        vertical-align: middle;\n",
              "    }\n",
              "\n",
              "    .dataframe tbody tr th {\n",
              "        vertical-align: top;\n",
              "    }\n",
              "\n",
              "    .dataframe thead th {\n",
              "        text-align: right;\n",
              "    }\n",
              "</style>\n",
              "<table border=\"1\" class=\"dataframe\">\n",
              "  <thead>\n",
              "    <tr style=\"text-align: right;\">\n",
              "      <th></th>\n",
              "      <th>ID</th>\n",
              "      <th>Real_RD_PV_pHDosado</th>\n",
              "      <th>Real_RD_MV_ValvulaCalpHDosado</th>\n",
              "      <th>Real_RD_PV_VazaoDosado</th>\n",
              "      <th>Real_RD_ST_LimpezaPHmetro</th>\n",
              "      <th>Real_RD_PV_BaumeCal</th>\n",
              "      <th>Real_RD_PV_PressaoLinhaCal</th>\n",
              "      <th>Real_RD_MV_ValvulaCalpHDosado-2</th>\n",
              "      <th>Real_RD_MV_PressaoLinhaCal</th>\n",
              "      <th>Real_RD_PV_NivelTqCal</th>\n",
              "      <th>Real_RD_PV_NivelTqDosado</th>\n",
              "    </tr>\n",
              "    <tr>\n",
              "      <th>timezone</th>\n",
              "      <th></th>\n",
              "      <th></th>\n",
              "      <th></th>\n",
              "      <th></th>\n",
              "      <th></th>\n",
              "      <th></th>\n",
              "      <th></th>\n",
              "      <th></th>\n",
              "      <th></th>\n",
              "      <th></th>\n",
              "      <th></th>\n",
              "    </tr>\n",
              "  </thead>\n",
              "  <tbody>\n",
              "    <tr>\n",
              "      <th>2024-07-13 14:28:22</th>\n",
              "      <td>393652</td>\n",
              "      <td>7.1260</td>\n",
              "      <td>37.128124</td>\n",
              "      <td>899.625</td>\n",
              "      <td>0</td>\n",
              "      <td>20.454374</td>\n",
              "      <td>0.798437</td>\n",
              "      <td>37.128124</td>\n",
              "      <td>74.546875</td>\n",
              "      <td>98.31250</td>\n",
              "      <td>73.84375</td>\n",
              "    </tr>\n",
              "    <tr>\n",
              "      <th>2024-07-13 14:28:25</th>\n",
              "      <td>393653</td>\n",
              "      <td>7.1225</td>\n",
              "      <td>37.178123</td>\n",
              "      <td>899.625</td>\n",
              "      <td>0</td>\n",
              "      <td>20.454374</td>\n",
              "      <td>0.798437</td>\n",
              "      <td>37.178123</td>\n",
              "      <td>74.578125</td>\n",
              "      <td>98.34375</td>\n",
              "      <td>73.87500</td>\n",
              "    </tr>\n",
              "    <tr>\n",
              "      <th>2024-07-13 14:28:28</th>\n",
              "      <td>393654</td>\n",
              "      <td>7.1225</td>\n",
              "      <td>37.187500</td>\n",
              "      <td>899.625</td>\n",
              "      <td>0</td>\n",
              "      <td>20.454374</td>\n",
              "      <td>0.796875</td>\n",
              "      <td>37.187500</td>\n",
              "      <td>74.559375</td>\n",
              "      <td>98.40625</td>\n",
              "      <td>73.87500</td>\n",
              "    </tr>\n",
              "    <tr>\n",
              "      <th>2024-07-13 14:28:31</th>\n",
              "      <td>393655</td>\n",
              "      <td>7.1260</td>\n",
              "      <td>37.331249</td>\n",
              "      <td>899.625</td>\n",
              "      <td>0</td>\n",
              "      <td>20.454374</td>\n",
              "      <td>0.798437</td>\n",
              "      <td>37.331249</td>\n",
              "      <td>74.596875</td>\n",
              "      <td>98.50000</td>\n",
              "      <td>73.84375</td>\n",
              "    </tr>\n",
              "    <tr>\n",
              "      <th>2024-07-13 14:28:34</th>\n",
              "      <td>393656</td>\n",
              "      <td>7.1225</td>\n",
              "      <td>37.218750</td>\n",
              "      <td>900.375</td>\n",
              "      <td>0</td>\n",
              "      <td>20.454374</td>\n",
              "      <td>0.798437</td>\n",
              "      <td>37.218750</td>\n",
              "      <td>74.562500</td>\n",
              "      <td>98.25000</td>\n",
              "      <td>73.87500</td>\n",
              "    </tr>\n",
              "  </tbody>\n",
              "</table>\n",
              "</div>\n",
              "    <div class=\"colab-df-buttons\">\n",
              "\n",
              "  <div class=\"colab-df-container\">\n",
              "    <button class=\"colab-df-convert\" onclick=\"convertToInteractive('df-6596d950-2a3d-4952-a7d1-ad146f39b87b')\"\n",
              "            title=\"Convert this dataframe to an interactive table.\"\n",
              "            style=\"display:none;\">\n",
              "\n",
              "  <svg xmlns=\"http://www.w3.org/2000/svg\" height=\"24px\" viewBox=\"0 -960 960 960\">\n",
              "    <path d=\"M120-120v-720h720v720H120Zm60-500h600v-160H180v160Zm220 220h160v-160H400v160Zm0 220h160v-160H400v160ZM180-400h160v-160H180v160Zm440 0h160v-160H620v160ZM180-180h160v-160H180v160Zm440 0h160v-160H620v160Z\"/>\n",
              "  </svg>\n",
              "    </button>\n",
              "\n",
              "  <style>\n",
              "    .colab-df-container {\n",
              "      display:flex;\n",
              "      gap: 12px;\n",
              "    }\n",
              "\n",
              "    .colab-df-convert {\n",
              "      background-color: #E8F0FE;\n",
              "      border: none;\n",
              "      border-radius: 50%;\n",
              "      cursor: pointer;\n",
              "      display: none;\n",
              "      fill: #1967D2;\n",
              "      height: 32px;\n",
              "      padding: 0 0 0 0;\n",
              "      width: 32px;\n",
              "    }\n",
              "\n",
              "    .colab-df-convert:hover {\n",
              "      background-color: #E2EBFA;\n",
              "      box-shadow: 0px 1px 2px rgba(60, 64, 67, 0.3), 0px 1px 3px 1px rgba(60, 64, 67, 0.15);\n",
              "      fill: #174EA6;\n",
              "    }\n",
              "\n",
              "    .colab-df-buttons div {\n",
              "      margin-bottom: 4px;\n",
              "    }\n",
              "\n",
              "    [theme=dark] .colab-df-convert {\n",
              "      background-color: #3B4455;\n",
              "      fill: #D2E3FC;\n",
              "    }\n",
              "\n",
              "    [theme=dark] .colab-df-convert:hover {\n",
              "      background-color: #434B5C;\n",
              "      box-shadow: 0px 1px 3px 1px rgba(0, 0, 0, 0.15);\n",
              "      filter: drop-shadow(0px 1px 2px rgba(0, 0, 0, 0.3));\n",
              "      fill: #FFFFFF;\n",
              "    }\n",
              "  </style>\n",
              "\n",
              "    <script>\n",
              "      const buttonEl =\n",
              "        document.querySelector('#df-6596d950-2a3d-4952-a7d1-ad146f39b87b button.colab-df-convert');\n",
              "      buttonEl.style.display =\n",
              "        google.colab.kernel.accessAllowed ? 'block' : 'none';\n",
              "\n",
              "      async function convertToInteractive(key) {\n",
              "        const element = document.querySelector('#df-6596d950-2a3d-4952-a7d1-ad146f39b87b');\n",
              "        const dataTable =\n",
              "          await google.colab.kernel.invokeFunction('convertToInteractive',\n",
              "                                                    [key], {});\n",
              "        if (!dataTable) return;\n",
              "\n",
              "        const docLinkHtml = 'Like what you see? Visit the ' +\n",
              "          '<a target=\"_blank\" href=https://colab.research.google.com/notebooks/data_table.ipynb>data table notebook</a>'\n",
              "          + ' to learn more about interactive tables.';\n",
              "        element.innerHTML = '';\n",
              "        dataTable['output_type'] = 'display_data';\n",
              "        await google.colab.output.renderOutput(dataTable, element);\n",
              "        const docLink = document.createElement('div');\n",
              "        docLink.innerHTML = docLinkHtml;\n",
              "        element.appendChild(docLink);\n",
              "      }\n",
              "    </script>\n",
              "  </div>\n",
              "\n",
              "\n",
              "<div id=\"df-cd2be794-ded3-4e07-8858-194e5db2f6f9\">\n",
              "  <button class=\"colab-df-quickchart\" onclick=\"quickchart('df-cd2be794-ded3-4e07-8858-194e5db2f6f9')\"\n",
              "            title=\"Suggest charts\"\n",
              "            style=\"display:none;\">\n",
              "\n",
              "<svg xmlns=\"http://www.w3.org/2000/svg\" height=\"24px\"viewBox=\"0 0 24 24\"\n",
              "     width=\"24px\">\n",
              "    <g>\n",
              "        <path d=\"M19 3H5c-1.1 0-2 .9-2 2v14c0 1.1.9 2 2 2h14c1.1 0 2-.9 2-2V5c0-1.1-.9-2-2-2zM9 17H7v-7h2v7zm4 0h-2V7h2v10zm4 0h-2v-4h2v4z\"/>\n",
              "    </g>\n",
              "</svg>\n",
              "  </button>\n",
              "\n",
              "<style>\n",
              "  .colab-df-quickchart {\n",
              "      --bg-color: #E8F0FE;\n",
              "      --fill-color: #1967D2;\n",
              "      --hover-bg-color: #E2EBFA;\n",
              "      --hover-fill-color: #174EA6;\n",
              "      --disabled-fill-color: #AAA;\n",
              "      --disabled-bg-color: #DDD;\n",
              "  }\n",
              "\n",
              "  [theme=dark] .colab-df-quickchart {\n",
              "      --bg-color: #3B4455;\n",
              "      --fill-color: #D2E3FC;\n",
              "      --hover-bg-color: #434B5C;\n",
              "      --hover-fill-color: #FFFFFF;\n",
              "      --disabled-bg-color: #3B4455;\n",
              "      --disabled-fill-color: #666;\n",
              "  }\n",
              "\n",
              "  .colab-df-quickchart {\n",
              "    background-color: var(--bg-color);\n",
              "    border: none;\n",
              "    border-radius: 50%;\n",
              "    cursor: pointer;\n",
              "    display: none;\n",
              "    fill: var(--fill-color);\n",
              "    height: 32px;\n",
              "    padding: 0;\n",
              "    width: 32px;\n",
              "  }\n",
              "\n",
              "  .colab-df-quickchart:hover {\n",
              "    background-color: var(--hover-bg-color);\n",
              "    box-shadow: 0 1px 2px rgba(60, 64, 67, 0.3), 0 1px 3px 1px rgba(60, 64, 67, 0.15);\n",
              "    fill: var(--button-hover-fill-color);\n",
              "  }\n",
              "\n",
              "  .colab-df-quickchart-complete:disabled,\n",
              "  .colab-df-quickchart-complete:disabled:hover {\n",
              "    background-color: var(--disabled-bg-color);\n",
              "    fill: var(--disabled-fill-color);\n",
              "    box-shadow: none;\n",
              "  }\n",
              "\n",
              "  .colab-df-spinner {\n",
              "    border: 2px solid var(--fill-color);\n",
              "    border-color: transparent;\n",
              "    border-bottom-color: var(--fill-color);\n",
              "    animation:\n",
              "      spin 1s steps(1) infinite;\n",
              "  }\n",
              "\n",
              "  @keyframes spin {\n",
              "    0% {\n",
              "      border-color: transparent;\n",
              "      border-bottom-color: var(--fill-color);\n",
              "      border-left-color: var(--fill-color);\n",
              "    }\n",
              "    20% {\n",
              "      border-color: transparent;\n",
              "      border-left-color: var(--fill-color);\n",
              "      border-top-color: var(--fill-color);\n",
              "    }\n",
              "    30% {\n",
              "      border-color: transparent;\n",
              "      border-left-color: var(--fill-color);\n",
              "      border-top-color: var(--fill-color);\n",
              "      border-right-color: var(--fill-color);\n",
              "    }\n",
              "    40% {\n",
              "      border-color: transparent;\n",
              "      border-right-color: var(--fill-color);\n",
              "      border-top-color: var(--fill-color);\n",
              "    }\n",
              "    60% {\n",
              "      border-color: transparent;\n",
              "      border-right-color: var(--fill-color);\n",
              "    }\n",
              "    80% {\n",
              "      border-color: transparent;\n",
              "      border-right-color: var(--fill-color);\n",
              "      border-bottom-color: var(--fill-color);\n",
              "    }\n",
              "    90% {\n",
              "      border-color: transparent;\n",
              "      border-bottom-color: var(--fill-color);\n",
              "    }\n",
              "  }\n",
              "</style>\n",
              "\n",
              "  <script>\n",
              "    async function quickchart(key) {\n",
              "      const quickchartButtonEl =\n",
              "        document.querySelector('#' + key + ' button');\n",
              "      quickchartButtonEl.disabled = true;  // To prevent multiple clicks.\n",
              "      quickchartButtonEl.classList.add('colab-df-spinner');\n",
              "      try {\n",
              "        const charts = await google.colab.kernel.invokeFunction(\n",
              "            'suggestCharts', [key], {});\n",
              "      } catch (error) {\n",
              "        console.error('Error during call to suggestCharts:', error);\n",
              "      }\n",
              "      quickchartButtonEl.classList.remove('colab-df-spinner');\n",
              "      quickchartButtonEl.classList.add('colab-df-quickchart-complete');\n",
              "    }\n",
              "    (() => {\n",
              "      let quickchartButtonEl =\n",
              "        document.querySelector('#df-cd2be794-ded3-4e07-8858-194e5db2f6f9 button');\n",
              "      quickchartButtonEl.style.display =\n",
              "        google.colab.kernel.accessAllowed ? 'block' : 'none';\n",
              "    })();\n",
              "  </script>\n",
              "</div>\n",
              "\n",
              "    </div>\n",
              "  </div>\n"
            ],
            "application/vnd.google.colaboratory.intrinsic+json": {
              "type": "dataframe",
              "variable_name": "df_raw",
              "summary": "{\n  \"name\": \"df_raw\",\n  \"rows\": 17184,\n  \"fields\": [\n    {\n      \"column\": \"timezone\",\n      \"properties\": {\n        \"dtype\": \"object\",\n        \"num_unique_values\": 16505,\n        \"samples\": [\n          \"2024-07-13 19:54:59\",\n          \"2024-07-13 17:38:45\",\n          \"2024-07-13 20:11:01\"\n        ],\n        \"semantic_type\": \"\",\n        \"description\": \"\"\n      }\n    },\n    {\n      \"column\": \"ID\",\n      \"properties\": {\n        \"dtype\": \"number\",\n        \"std\": 4960,\n        \"min\": 393652,\n        \"max\": 410835,\n        \"num_unique_values\": 17184,\n        \"samples\": [\n          408889,\n          395420,\n          407111\n        ],\n        \"semantic_type\": \"\",\n        \"description\": \"\"\n      }\n    },\n    {\n      \"column\": \"Real_RD_PV_pHDosado\",\n      \"properties\": {\n        \"dtype\": \"number\",\n        \"std\": 0.23240726530332242,\n        \"min\": 5.599999904632568,\n        \"max\": 7.762999534606934,\n        \"num_unique_values\": 447,\n        \"samples\": [\n          7.094499588012695,\n          7.538999557495117,\n          6.0304999351501465\n        ],\n        \"semantic_type\": \"\",\n        \"description\": \"\"\n      }\n    },\n    {\n      \"column\": \"Real_RD_MV_ValvulaCalpHDosado\",\n      \"properties\": {\n        \"dtype\": \"number\",\n        \"std\": 3.885232853899672,\n        \"min\": 25.40625,\n        \"max\": 51.65937423706055,\n        \"num_unique_values\": 4853,\n        \"samples\": [\n          42.54999923706055,\n          36.884376525878906,\n          34.396873474121094\n        ],\n        \"semantic_type\": \"\",\n        \"description\": \"\"\n      }\n    },\n    {\n      \"column\": \"Real_RD_PV_VazaoDosado\",\n      \"properties\": {\n        \"dtype\": \"number\",\n        \"std\": 50.13156539195339,\n        \"min\": 550.125,\n        \"max\": 1111.875,\n        \"num_unique_values\": 565,\n        \"samples\": [\n          1063.875,\n          946.5,\n          1079.625\n        ],\n        \"semantic_type\": \"\",\n        \"description\": \"\"\n      }\n    },\n    {\n      \"column\": \"Real_RD_ST_LimpezaPHmetro\",\n      \"properties\": {\n        \"dtype\": \"number\",\n        \"std\": 0,\n        \"min\": 0,\n        \"max\": 1,\n        \"num_unique_values\": 2,\n        \"samples\": [\n          1,\n          0\n        ],\n        \"semantic_type\": \"\",\n        \"description\": \"\"\n      }\n    },\n    {\n      \"column\": \"Real_RD_PV_BaumeCal\",\n      \"properties\": {\n        \"dtype\": \"number\",\n        \"std\": 0.0,\n        \"min\": 20.45437431335449,\n        \"max\": 20.45437431335449,\n        \"num_unique_values\": 1,\n        \"samples\": [\n          20.45437431335449\n        ],\n        \"semantic_type\": \"\",\n        \"description\": \"\"\n      }\n    },\n    {\n      \"column\": \"Real_RD_PV_PressaoLinhaCal\",\n      \"properties\": {\n        \"dtype\": \"number\",\n        \"std\": 0.012984718909678108,\n        \"min\": 0.7189062237739563,\n        \"max\": 0.8904687762260437,\n        \"num_unique_values\": 111,\n        \"samples\": [\n          0.8435937762260437\n        ],\n        \"semantic_type\": \"\",\n        \"description\": \"\"\n      }\n    },\n    {\n      \"column\": \"Real_RD_MV_ValvulaCalpHDosado-2\",\n      \"properties\": {\n        \"dtype\": \"number\",\n        \"std\": 3.885232853899672,\n        \"min\": 25.40625,\n        \"max\": 51.65937423706055,\n        \"num_unique_values\": 4853,\n        \"samples\": [\n          42.54999923706055\n        ],\n        \"semantic_type\": \"\",\n        \"description\": \"\"\n      }\n    },\n    {\n      \"column\": \"Real_RD_MV_PressaoLinhaCal\",\n      \"properties\": {\n        \"dtype\": \"number\",\n        \"std\": 3.540123414067008,\n        \"min\": 71.775,\n        \"max\": 89.978125,\n        \"num_unique_values\": 3924,\n        \"samples\": [\n          88.928125\n        ],\n        \"semantic_type\": \"\",\n        \"description\": \"\"\n      }\n    },\n    {\n      \"column\": \"Real_RD_PV_NivelTqCal\",\n      \"properties\": {\n        \"dtype\": \"number\",\n        \"std\": 7.177645686531372,\n        \"min\": 74.428125,\n        \"max\": 102.246875,\n        \"num_unique_values\": 910,\n        \"samples\": [\n          75.646875\n        ],\n        \"semantic_type\": \"\",\n        \"description\": \"\"\n      }\n    },\n    {\n      \"column\": \"Real_RD_PV_NivelTqDosado\",\n      \"properties\": {\n        \"dtype\": \"number\",\n        \"std\": 17.43693410130828,\n        \"min\": 23.96875,\n        \"max\": 102.0687484741211,\n        \"num_unique_values\": 2274,\n        \"samples\": [\n          82.13749694824219\n        ],\n        \"semantic_type\": \"\",\n        \"description\": \"\"\n      }\n    }\n  ]\n}"
            }
          },
          "metadata": {},
          "execution_count": 5
        }
      ],
      "source": [
        "df_raw.head()\n"
      ]
    },
    {
      "cell_type": "markdown",
      "metadata": {
        "id": "o3fHLsR7OWPM"
      },
      "source": [
        "## Pré-processamento"
      ]
    },
    {
      "cell_type": "code",
      "execution_count": 6,
      "metadata": {
        "id": "6PoB0tJOOWPO"
      },
      "outputs": [],
      "source": [
        "minute = 20 # Observações por minuto\n",
        "hour = minute * 60\n",
        "day = hour * 24"
      ]
    },
    {
      "cell_type": "code",
      "execution_count": 7,
      "metadata": {
        "colab": {
          "base_uri": "https://localhost:8080/",
          "height": 431
        },
        "id": "PvLb0YY9OWPO",
        "outputId": "72b3a877-f560-4a55-b1e1-8c7a46916773"
      },
      "outputs": [
        {
          "output_type": "execute_result",
          "data": {
            "text/plain": [
              "                     Real_RD_PV_pHDosado  Real_RD_MV_ValvulaCalpHDosado  \\\n",
              "timezone                                                                  \n",
              "2024-07-13 14:28:22               7.1260                      37.128124   \n",
              "2024-07-13 14:28:25               7.1225                      37.178123   \n",
              "2024-07-13 14:28:28               7.1225                      37.187500   \n",
              "2024-07-13 14:28:31               7.1260                      37.331249   \n",
              "2024-07-13 14:28:34               7.1225                      37.218750   \n",
              "\n",
              "                     Real_RD_PV_VazaoDosado  Real_RD_ST_LimpezaPHmetro  \\\n",
              "timezone                                                                 \n",
              "2024-07-13 14:28:22                 899.625                          0   \n",
              "2024-07-13 14:28:25                 899.625                          0   \n",
              "2024-07-13 14:28:28                 899.625                          0   \n",
              "2024-07-13 14:28:31                 899.625                          0   \n",
              "2024-07-13 14:28:34                 900.375                          0   \n",
              "\n",
              "                     Real_RD_PV_PressaoLinhaCal  Real_RD_MV_PressaoLinhaCal  \\\n",
              "timezone                                                                      \n",
              "2024-07-13 14:28:22                    0.798437                   74.546875   \n",
              "2024-07-13 14:28:25                    0.798437                   74.578125   \n",
              "2024-07-13 14:28:28                    0.796875                   74.559375   \n",
              "2024-07-13 14:28:31                    0.798437                   74.596875   \n",
              "2024-07-13 14:28:34                    0.798437                   74.562500   \n",
              "\n",
              "                     Real_RD_PV_NivelTqCal  Real_RD_PV_NivelTqDosado  \n",
              "timezone                                                              \n",
              "2024-07-13 14:28:22               98.31250                  73.84375  \n",
              "2024-07-13 14:28:25               98.34375                  73.87500  \n",
              "2024-07-13 14:28:28               98.40625                  73.87500  \n",
              "2024-07-13 14:28:31               98.50000                  73.84375  \n",
              "2024-07-13 14:28:34               98.25000                  73.87500  "
            ],
            "text/html": [
              "\n",
              "  <div id=\"df-980b0b96-04b7-4382-94e3-e15bd6344ca6\" class=\"colab-df-container\">\n",
              "    <div>\n",
              "<style scoped>\n",
              "    .dataframe tbody tr th:only-of-type {\n",
              "        vertical-align: middle;\n",
              "    }\n",
              "\n",
              "    .dataframe tbody tr th {\n",
              "        vertical-align: top;\n",
              "    }\n",
              "\n",
              "    .dataframe thead th {\n",
              "        text-align: right;\n",
              "    }\n",
              "</style>\n",
              "<table border=\"1\" class=\"dataframe\">\n",
              "  <thead>\n",
              "    <tr style=\"text-align: right;\">\n",
              "      <th></th>\n",
              "      <th>Real_RD_PV_pHDosado</th>\n",
              "      <th>Real_RD_MV_ValvulaCalpHDosado</th>\n",
              "      <th>Real_RD_PV_VazaoDosado</th>\n",
              "      <th>Real_RD_ST_LimpezaPHmetro</th>\n",
              "      <th>Real_RD_PV_PressaoLinhaCal</th>\n",
              "      <th>Real_RD_MV_PressaoLinhaCal</th>\n",
              "      <th>Real_RD_PV_NivelTqCal</th>\n",
              "      <th>Real_RD_PV_NivelTqDosado</th>\n",
              "    </tr>\n",
              "    <tr>\n",
              "      <th>timezone</th>\n",
              "      <th></th>\n",
              "      <th></th>\n",
              "      <th></th>\n",
              "      <th></th>\n",
              "      <th></th>\n",
              "      <th></th>\n",
              "      <th></th>\n",
              "      <th></th>\n",
              "    </tr>\n",
              "  </thead>\n",
              "  <tbody>\n",
              "    <tr>\n",
              "      <th>2024-07-13 14:28:22</th>\n",
              "      <td>7.1260</td>\n",
              "      <td>37.128124</td>\n",
              "      <td>899.625</td>\n",
              "      <td>0</td>\n",
              "      <td>0.798437</td>\n",
              "      <td>74.546875</td>\n",
              "      <td>98.31250</td>\n",
              "      <td>73.84375</td>\n",
              "    </tr>\n",
              "    <tr>\n",
              "      <th>2024-07-13 14:28:25</th>\n",
              "      <td>7.1225</td>\n",
              "      <td>37.178123</td>\n",
              "      <td>899.625</td>\n",
              "      <td>0</td>\n",
              "      <td>0.798437</td>\n",
              "      <td>74.578125</td>\n",
              "      <td>98.34375</td>\n",
              "      <td>73.87500</td>\n",
              "    </tr>\n",
              "    <tr>\n",
              "      <th>2024-07-13 14:28:28</th>\n",
              "      <td>7.1225</td>\n",
              "      <td>37.187500</td>\n",
              "      <td>899.625</td>\n",
              "      <td>0</td>\n",
              "      <td>0.796875</td>\n",
              "      <td>74.559375</td>\n",
              "      <td>98.40625</td>\n",
              "      <td>73.87500</td>\n",
              "    </tr>\n",
              "    <tr>\n",
              "      <th>2024-07-13 14:28:31</th>\n",
              "      <td>7.1260</td>\n",
              "      <td>37.331249</td>\n",
              "      <td>899.625</td>\n",
              "      <td>0</td>\n",
              "      <td>0.798437</td>\n",
              "      <td>74.596875</td>\n",
              "      <td>98.50000</td>\n",
              "      <td>73.84375</td>\n",
              "    </tr>\n",
              "    <tr>\n",
              "      <th>2024-07-13 14:28:34</th>\n",
              "      <td>7.1225</td>\n",
              "      <td>37.218750</td>\n",
              "      <td>900.375</td>\n",
              "      <td>0</td>\n",
              "      <td>0.798437</td>\n",
              "      <td>74.562500</td>\n",
              "      <td>98.25000</td>\n",
              "      <td>73.87500</td>\n",
              "    </tr>\n",
              "  </tbody>\n",
              "</table>\n",
              "</div>\n",
              "    <div class=\"colab-df-buttons\">\n",
              "\n",
              "  <div class=\"colab-df-container\">\n",
              "    <button class=\"colab-df-convert\" onclick=\"convertToInteractive('df-980b0b96-04b7-4382-94e3-e15bd6344ca6')\"\n",
              "            title=\"Convert this dataframe to an interactive table.\"\n",
              "            style=\"display:none;\">\n",
              "\n",
              "  <svg xmlns=\"http://www.w3.org/2000/svg\" height=\"24px\" viewBox=\"0 -960 960 960\">\n",
              "    <path d=\"M120-120v-720h720v720H120Zm60-500h600v-160H180v160Zm220 220h160v-160H400v160Zm0 220h160v-160H400v160ZM180-400h160v-160H180v160Zm440 0h160v-160H620v160ZM180-180h160v-160H180v160Zm440 0h160v-160H620v160Z\"/>\n",
              "  </svg>\n",
              "    </button>\n",
              "\n",
              "  <style>\n",
              "    .colab-df-container {\n",
              "      display:flex;\n",
              "      gap: 12px;\n",
              "    }\n",
              "\n",
              "    .colab-df-convert {\n",
              "      background-color: #E8F0FE;\n",
              "      border: none;\n",
              "      border-radius: 50%;\n",
              "      cursor: pointer;\n",
              "      display: none;\n",
              "      fill: #1967D2;\n",
              "      height: 32px;\n",
              "      padding: 0 0 0 0;\n",
              "      width: 32px;\n",
              "    }\n",
              "\n",
              "    .colab-df-convert:hover {\n",
              "      background-color: #E2EBFA;\n",
              "      box-shadow: 0px 1px 2px rgba(60, 64, 67, 0.3), 0px 1px 3px 1px rgba(60, 64, 67, 0.15);\n",
              "      fill: #174EA6;\n",
              "    }\n",
              "\n",
              "    .colab-df-buttons div {\n",
              "      margin-bottom: 4px;\n",
              "    }\n",
              "\n",
              "    [theme=dark] .colab-df-convert {\n",
              "      background-color: #3B4455;\n",
              "      fill: #D2E3FC;\n",
              "    }\n",
              "\n",
              "    [theme=dark] .colab-df-convert:hover {\n",
              "      background-color: #434B5C;\n",
              "      box-shadow: 0px 1px 3px 1px rgba(0, 0, 0, 0.15);\n",
              "      filter: drop-shadow(0px 1px 2px rgba(0, 0, 0, 0.3));\n",
              "      fill: #FFFFFF;\n",
              "    }\n",
              "  </style>\n",
              "\n",
              "    <script>\n",
              "      const buttonEl =\n",
              "        document.querySelector('#df-980b0b96-04b7-4382-94e3-e15bd6344ca6 button.colab-df-convert');\n",
              "      buttonEl.style.display =\n",
              "        google.colab.kernel.accessAllowed ? 'block' : 'none';\n",
              "\n",
              "      async function convertToInteractive(key) {\n",
              "        const element = document.querySelector('#df-980b0b96-04b7-4382-94e3-e15bd6344ca6');\n",
              "        const dataTable =\n",
              "          await google.colab.kernel.invokeFunction('convertToInteractive',\n",
              "                                                    [key], {});\n",
              "        if (!dataTable) return;\n",
              "\n",
              "        const docLinkHtml = 'Like what you see? Visit the ' +\n",
              "          '<a target=\"_blank\" href=https://colab.research.google.com/notebooks/data_table.ipynb>data table notebook</a>'\n",
              "          + ' to learn more about interactive tables.';\n",
              "        element.innerHTML = '';\n",
              "        dataTable['output_type'] = 'display_data';\n",
              "        await google.colab.output.renderOutput(dataTable, element);\n",
              "        const docLink = document.createElement('div');\n",
              "        docLink.innerHTML = docLinkHtml;\n",
              "        element.appendChild(docLink);\n",
              "      }\n",
              "    </script>\n",
              "  </div>\n",
              "\n",
              "\n",
              "<div id=\"df-a7c2b8ef-88d5-4a24-907f-742ae717c6e3\">\n",
              "  <button class=\"colab-df-quickchart\" onclick=\"quickchart('df-a7c2b8ef-88d5-4a24-907f-742ae717c6e3')\"\n",
              "            title=\"Suggest charts\"\n",
              "            style=\"display:none;\">\n",
              "\n",
              "<svg xmlns=\"http://www.w3.org/2000/svg\" height=\"24px\"viewBox=\"0 0 24 24\"\n",
              "     width=\"24px\">\n",
              "    <g>\n",
              "        <path d=\"M19 3H5c-1.1 0-2 .9-2 2v14c0 1.1.9 2 2 2h14c1.1 0 2-.9 2-2V5c0-1.1-.9-2-2-2zM9 17H7v-7h2v7zm4 0h-2V7h2v10zm4 0h-2v-4h2v4z\"/>\n",
              "    </g>\n",
              "</svg>\n",
              "  </button>\n",
              "\n",
              "<style>\n",
              "  .colab-df-quickchart {\n",
              "      --bg-color: #E8F0FE;\n",
              "      --fill-color: #1967D2;\n",
              "      --hover-bg-color: #E2EBFA;\n",
              "      --hover-fill-color: #174EA6;\n",
              "      --disabled-fill-color: #AAA;\n",
              "      --disabled-bg-color: #DDD;\n",
              "  }\n",
              "\n",
              "  [theme=dark] .colab-df-quickchart {\n",
              "      --bg-color: #3B4455;\n",
              "      --fill-color: #D2E3FC;\n",
              "      --hover-bg-color: #434B5C;\n",
              "      --hover-fill-color: #FFFFFF;\n",
              "      --disabled-bg-color: #3B4455;\n",
              "      --disabled-fill-color: #666;\n",
              "  }\n",
              "\n",
              "  .colab-df-quickchart {\n",
              "    background-color: var(--bg-color);\n",
              "    border: none;\n",
              "    border-radius: 50%;\n",
              "    cursor: pointer;\n",
              "    display: none;\n",
              "    fill: var(--fill-color);\n",
              "    height: 32px;\n",
              "    padding: 0;\n",
              "    width: 32px;\n",
              "  }\n",
              "\n",
              "  .colab-df-quickchart:hover {\n",
              "    background-color: var(--hover-bg-color);\n",
              "    box-shadow: 0 1px 2px rgba(60, 64, 67, 0.3), 0 1px 3px 1px rgba(60, 64, 67, 0.15);\n",
              "    fill: var(--button-hover-fill-color);\n",
              "  }\n",
              "\n",
              "  .colab-df-quickchart-complete:disabled,\n",
              "  .colab-df-quickchart-complete:disabled:hover {\n",
              "    background-color: var(--disabled-bg-color);\n",
              "    fill: var(--disabled-fill-color);\n",
              "    box-shadow: none;\n",
              "  }\n",
              "\n",
              "  .colab-df-spinner {\n",
              "    border: 2px solid var(--fill-color);\n",
              "    border-color: transparent;\n",
              "    border-bottom-color: var(--fill-color);\n",
              "    animation:\n",
              "      spin 1s steps(1) infinite;\n",
              "  }\n",
              "\n",
              "  @keyframes spin {\n",
              "    0% {\n",
              "      border-color: transparent;\n",
              "      border-bottom-color: var(--fill-color);\n",
              "      border-left-color: var(--fill-color);\n",
              "    }\n",
              "    20% {\n",
              "      border-color: transparent;\n",
              "      border-left-color: var(--fill-color);\n",
              "      border-top-color: var(--fill-color);\n",
              "    }\n",
              "    30% {\n",
              "      border-color: transparent;\n",
              "      border-left-color: var(--fill-color);\n",
              "      border-top-color: var(--fill-color);\n",
              "      border-right-color: var(--fill-color);\n",
              "    }\n",
              "    40% {\n",
              "      border-color: transparent;\n",
              "      border-right-color: var(--fill-color);\n",
              "      border-top-color: var(--fill-color);\n",
              "    }\n",
              "    60% {\n",
              "      border-color: transparent;\n",
              "      border-right-color: var(--fill-color);\n",
              "    }\n",
              "    80% {\n",
              "      border-color: transparent;\n",
              "      border-right-color: var(--fill-color);\n",
              "      border-bottom-color: var(--fill-color);\n",
              "    }\n",
              "    90% {\n",
              "      border-color: transparent;\n",
              "      border-bottom-color: var(--fill-color);\n",
              "    }\n",
              "  }\n",
              "</style>\n",
              "\n",
              "  <script>\n",
              "    async function quickchart(key) {\n",
              "      const quickchartButtonEl =\n",
              "        document.querySelector('#' + key + ' button');\n",
              "      quickchartButtonEl.disabled = true;  // To prevent multiple clicks.\n",
              "      quickchartButtonEl.classList.add('colab-df-spinner');\n",
              "      try {\n",
              "        const charts = await google.colab.kernel.invokeFunction(\n",
              "            'suggestCharts', [key], {});\n",
              "      } catch (error) {\n",
              "        console.error('Error during call to suggestCharts:', error);\n",
              "      }\n",
              "      quickchartButtonEl.classList.remove('colab-df-spinner');\n",
              "      quickchartButtonEl.classList.add('colab-df-quickchart-complete');\n",
              "    }\n",
              "    (() => {\n",
              "      let quickchartButtonEl =\n",
              "        document.querySelector('#df-a7c2b8ef-88d5-4a24-907f-742ae717c6e3 button');\n",
              "      quickchartButtonEl.style.display =\n",
              "        google.colab.kernel.accessAllowed ? 'block' : 'none';\n",
              "    })();\n",
              "  </script>\n",
              "</div>\n",
              "\n",
              "    </div>\n",
              "  </div>\n"
            ],
            "application/vnd.google.colaboratory.intrinsic+json": {
              "type": "dataframe",
              "variable_name": "df",
              "summary": "{\n  \"name\": \"df\",\n  \"rows\": 17184,\n  \"fields\": [\n    {\n      \"column\": \"timezone\",\n      \"properties\": {\n        \"dtype\": \"object\",\n        \"num_unique_values\": 16505,\n        \"samples\": [\n          \"2024-07-13 19:54:59\",\n          \"2024-07-13 17:38:45\",\n          \"2024-07-13 20:11:01\"\n        ],\n        \"semantic_type\": \"\",\n        \"description\": \"\"\n      }\n    },\n    {\n      \"column\": \"Real_RD_PV_pHDosado\",\n      \"properties\": {\n        \"dtype\": \"number\",\n        \"std\": 0.23240726530332242,\n        \"min\": 5.599999904632568,\n        \"max\": 7.762999534606934,\n        \"num_unique_values\": 447,\n        \"samples\": [\n          7.094499588012695,\n          7.538999557495117,\n          6.0304999351501465\n        ],\n        \"semantic_type\": \"\",\n        \"description\": \"\"\n      }\n    },\n    {\n      \"column\": \"Real_RD_MV_ValvulaCalpHDosado\",\n      \"properties\": {\n        \"dtype\": \"number\",\n        \"std\": 3.885232853899672,\n        \"min\": 25.40625,\n        \"max\": 51.65937423706055,\n        \"num_unique_values\": 4853,\n        \"samples\": [\n          42.54999923706055,\n          36.884376525878906,\n          34.396873474121094\n        ],\n        \"semantic_type\": \"\",\n        \"description\": \"\"\n      }\n    },\n    {\n      \"column\": \"Real_RD_PV_VazaoDosado\",\n      \"properties\": {\n        \"dtype\": \"number\",\n        \"std\": 50.13156539195339,\n        \"min\": 550.125,\n        \"max\": 1111.875,\n        \"num_unique_values\": 565,\n        \"samples\": [\n          1063.875,\n          946.5,\n          1079.625\n        ],\n        \"semantic_type\": \"\",\n        \"description\": \"\"\n      }\n    },\n    {\n      \"column\": \"Real_RD_ST_LimpezaPHmetro\",\n      \"properties\": {\n        \"dtype\": \"number\",\n        \"std\": 0,\n        \"min\": 0,\n        \"max\": 1,\n        \"num_unique_values\": 2,\n        \"samples\": [\n          1,\n          0\n        ],\n        \"semantic_type\": \"\",\n        \"description\": \"\"\n      }\n    },\n    {\n      \"column\": \"Real_RD_PV_PressaoLinhaCal\",\n      \"properties\": {\n        \"dtype\": \"number\",\n        \"std\": 0.012984718909678108,\n        \"min\": 0.7189062237739563,\n        \"max\": 0.8904687762260437,\n        \"num_unique_values\": 111,\n        \"samples\": [\n          0.8435937762260437,\n          0.778124988079071\n        ],\n        \"semantic_type\": \"\",\n        \"description\": \"\"\n      }\n    },\n    {\n      \"column\": \"Real_RD_MV_PressaoLinhaCal\",\n      \"properties\": {\n        \"dtype\": \"number\",\n        \"std\": 3.540123414067008,\n        \"min\": 71.775,\n        \"max\": 89.978125,\n        \"num_unique_values\": 3924,\n        \"samples\": [\n          88.928125,\n          75.878125\n        ],\n        \"semantic_type\": \"\",\n        \"description\": \"\"\n      }\n    },\n    {\n      \"column\": \"Real_RD_PV_NivelTqCal\",\n      \"properties\": {\n        \"dtype\": \"number\",\n        \"std\": 7.177645686531372,\n        \"min\": 74.428125,\n        \"max\": 102.246875,\n        \"num_unique_values\": 910,\n        \"samples\": [\n          75.646875,\n          89.071875\n        ],\n        \"semantic_type\": \"\",\n        \"description\": \"\"\n      }\n    },\n    {\n      \"column\": \"Real_RD_PV_NivelTqDosado\",\n      \"properties\": {\n        \"dtype\": \"number\",\n        \"std\": 17.43693410130828,\n        \"min\": 23.96875,\n        \"max\": 102.0687484741211,\n        \"num_unique_values\": 2274,\n        \"samples\": [\n          82.13749694824219,\n          81.66874694824219\n        ],\n        \"semantic_type\": \"\",\n        \"description\": \"\"\n      }\n    }\n  ]\n}"
            }
          },
          "metadata": {},
          "execution_count": 7
        }
      ],
      "source": [
        "df = df_raw.dropna() # Drop nulls\n",
        "df = df.tail(day * 10) # Seleciona apenas os últimos dez dias\n",
        "df = df.drop(columns=['ID', 'Real_RD_PV_BaumeCal', 'Real_RD_MV_ValvulaCalpHDosado-2']) # Features não usadas\n",
        "df.head()"
      ]
    },
    {
      "cell_type": "code",
      "execution_count": 8,
      "metadata": {
        "id": "LlFFObnLOWPO"
      },
      "outputs": [],
      "source": [
        "# Normalização\n",
        "from sklearn.preprocessing import MinMaxScaler\n",
        "\n",
        "scaler = MinMaxScaler()\n",
        "normalized_data = scaler.fit_transform(df)\n",
        "normalized_df = pd.DataFrame(normalized_data, columns=df.columns)"
      ]
    },
    {
      "cell_type": "code",
      "execution_count": 9,
      "metadata": {
        "id": "XU5pdBt7OWPO"
      },
      "outputs": [],
      "source": [
        "# Porcentagem usada para treinar o modelo\n",
        "split_fraction = 0.715\n",
        "train_split = int(split_fraction * int(df.shape[0]))\n",
        "\n",
        "learning_rate = 0.001\n",
        "batch_size = 256\n",
        "epochs = 10"
      ]
    },
    {
      "cell_type": "code",
      "execution_count": 10,
      "metadata": {
        "id": "4Jh4voPuOWPQ"
      },
      "outputs": [],
      "source": [
        "train_data = normalized_df.loc[0 : train_split - 1]\n",
        "val_data = normalized_df.loc[train_split:]"
      ]
    },
    {
      "cell_type": "code",
      "execution_count": 11,
      "metadata": {
        "colab": {
          "base_uri": "https://localhost:8080/",
          "height": 443
        },
        "id": "dD07bLOEUpVt",
        "outputId": "fa165665-b16f-48f4-edae-2d383c958831"
      },
      "outputs": [
        {
          "output_type": "execute_result",
          "data": {
            "text/plain": [
              "       Real_RD_PV_pHDosado  Real_RD_MV_ValvulaCalpHDosado  \\\n",
              "0                 0.705502                       0.446494   \n",
              "1                 0.703884                       0.448399   \n",
              "2                 0.703884                       0.448756   \n",
              "3                 0.705502                       0.454232   \n",
              "4                 0.703884                       0.449946   \n",
              "...                    ...                            ...   \n",
              "17179             0.684466                       0.704083   \n",
              "17180             0.684466                       0.691227   \n",
              "17181             0.686084                       0.686942   \n",
              "17182             0.687702                       0.679681   \n",
              "17183             0.690938                       0.671706   \n",
              "\n",
              "       Real_RD_PV_VazaoDosado  Real_RD_ST_LimpezaPHmetro  \\\n",
              "0                    0.622163                        0.0   \n",
              "1                    0.622163                        0.0   \n",
              "2                    0.622163                        0.0   \n",
              "3                    0.622163                        0.0   \n",
              "4                    0.623498                        0.0   \n",
              "...                       ...                        ...   \n",
              "17179                0.710948                        0.0   \n",
              "17180                0.709613                        0.0   \n",
              "17181                0.710948                        0.0   \n",
              "17182                0.712283                        0.0   \n",
              "17183                0.712951                        0.0   \n",
              "\n",
              "       Real_RD_PV_PressaoLinhaCal  Real_RD_MV_PressaoLinhaCal  \\\n",
              "0                        0.463570                    0.152275   \n",
              "1                        0.463570                    0.153991   \n",
              "2                        0.454463                    0.152961   \n",
              "3                        0.463570                    0.155021   \n",
              "4                        0.463570                    0.153133   \n",
              "...                           ...                         ...   \n",
              "17179                    0.436248                    0.687897   \n",
              "17180                    0.427140                    0.689785   \n",
              "17181                    0.436248                    0.690815   \n",
              "17182                    0.454463                    0.690472   \n",
              "17183                    0.427140                    0.692189   \n",
              "\n",
              "       Real_RD_PV_NivelTqCal  Real_RD_PV_NivelTqDosado  \n",
              "0                   0.858571                  0.638604  \n",
              "1                   0.859694                  0.639004  \n",
              "2                   0.861941                  0.639004  \n",
              "3                   0.865311                  0.638604  \n",
              "4                   0.856324                  0.639004  \n",
              "...                      ...                       ...  \n",
              "17179               0.351269                  0.352833  \n",
              "17180               0.347899                  0.354834  \n",
              "17181               0.353516                  0.357234  \n",
              "17182               0.354639                  0.358435  \n",
              "17183               0.355763                  0.361236  \n",
              "\n",
              "[17184 rows x 8 columns]"
            ],
            "text/html": [
              "\n",
              "  <div id=\"df-93928060-6ba2-4764-87e0-0b4e238671ef\" class=\"colab-df-container\">\n",
              "    <div>\n",
              "<style scoped>\n",
              "    .dataframe tbody tr th:only-of-type {\n",
              "        vertical-align: middle;\n",
              "    }\n",
              "\n",
              "    .dataframe tbody tr th {\n",
              "        vertical-align: top;\n",
              "    }\n",
              "\n",
              "    .dataframe thead th {\n",
              "        text-align: right;\n",
              "    }\n",
              "</style>\n",
              "<table border=\"1\" class=\"dataframe\">\n",
              "  <thead>\n",
              "    <tr style=\"text-align: right;\">\n",
              "      <th></th>\n",
              "      <th>Real_RD_PV_pHDosado</th>\n",
              "      <th>Real_RD_MV_ValvulaCalpHDosado</th>\n",
              "      <th>Real_RD_PV_VazaoDosado</th>\n",
              "      <th>Real_RD_ST_LimpezaPHmetro</th>\n",
              "      <th>Real_RD_PV_PressaoLinhaCal</th>\n",
              "      <th>Real_RD_MV_PressaoLinhaCal</th>\n",
              "      <th>Real_RD_PV_NivelTqCal</th>\n",
              "      <th>Real_RD_PV_NivelTqDosado</th>\n",
              "    </tr>\n",
              "  </thead>\n",
              "  <tbody>\n",
              "    <tr>\n",
              "      <th>0</th>\n",
              "      <td>0.705502</td>\n",
              "      <td>0.446494</td>\n",
              "      <td>0.622163</td>\n",
              "      <td>0.0</td>\n",
              "      <td>0.463570</td>\n",
              "      <td>0.152275</td>\n",
              "      <td>0.858571</td>\n",
              "      <td>0.638604</td>\n",
              "    </tr>\n",
              "    <tr>\n",
              "      <th>1</th>\n",
              "      <td>0.703884</td>\n",
              "      <td>0.448399</td>\n",
              "      <td>0.622163</td>\n",
              "      <td>0.0</td>\n",
              "      <td>0.463570</td>\n",
              "      <td>0.153991</td>\n",
              "      <td>0.859694</td>\n",
              "      <td>0.639004</td>\n",
              "    </tr>\n",
              "    <tr>\n",
              "      <th>2</th>\n",
              "      <td>0.703884</td>\n",
              "      <td>0.448756</td>\n",
              "      <td>0.622163</td>\n",
              "      <td>0.0</td>\n",
              "      <td>0.454463</td>\n",
              "      <td>0.152961</td>\n",
              "      <td>0.861941</td>\n",
              "      <td>0.639004</td>\n",
              "    </tr>\n",
              "    <tr>\n",
              "      <th>3</th>\n",
              "      <td>0.705502</td>\n",
              "      <td>0.454232</td>\n",
              "      <td>0.622163</td>\n",
              "      <td>0.0</td>\n",
              "      <td>0.463570</td>\n",
              "      <td>0.155021</td>\n",
              "      <td>0.865311</td>\n",
              "      <td>0.638604</td>\n",
              "    </tr>\n",
              "    <tr>\n",
              "      <th>4</th>\n",
              "      <td>0.703884</td>\n",
              "      <td>0.449946</td>\n",
              "      <td>0.623498</td>\n",
              "      <td>0.0</td>\n",
              "      <td>0.463570</td>\n",
              "      <td>0.153133</td>\n",
              "      <td>0.856324</td>\n",
              "      <td>0.639004</td>\n",
              "    </tr>\n",
              "    <tr>\n",
              "      <th>...</th>\n",
              "      <td>...</td>\n",
              "      <td>...</td>\n",
              "      <td>...</td>\n",
              "      <td>...</td>\n",
              "      <td>...</td>\n",
              "      <td>...</td>\n",
              "      <td>...</td>\n",
              "      <td>...</td>\n",
              "    </tr>\n",
              "    <tr>\n",
              "      <th>17179</th>\n",
              "      <td>0.684466</td>\n",
              "      <td>0.704083</td>\n",
              "      <td>0.710948</td>\n",
              "      <td>0.0</td>\n",
              "      <td>0.436248</td>\n",
              "      <td>0.687897</td>\n",
              "      <td>0.351269</td>\n",
              "      <td>0.352833</td>\n",
              "    </tr>\n",
              "    <tr>\n",
              "      <th>17180</th>\n",
              "      <td>0.684466</td>\n",
              "      <td>0.691227</td>\n",
              "      <td>0.709613</td>\n",
              "      <td>0.0</td>\n",
              "      <td>0.427140</td>\n",
              "      <td>0.689785</td>\n",
              "      <td>0.347899</td>\n",
              "      <td>0.354834</td>\n",
              "    </tr>\n",
              "    <tr>\n",
              "      <th>17181</th>\n",
              "      <td>0.686084</td>\n",
              "      <td>0.686942</td>\n",
              "      <td>0.710948</td>\n",
              "      <td>0.0</td>\n",
              "      <td>0.436248</td>\n",
              "      <td>0.690815</td>\n",
              "      <td>0.353516</td>\n",
              "      <td>0.357234</td>\n",
              "    </tr>\n",
              "    <tr>\n",
              "      <th>17182</th>\n",
              "      <td>0.687702</td>\n",
              "      <td>0.679681</td>\n",
              "      <td>0.712283</td>\n",
              "      <td>0.0</td>\n",
              "      <td>0.454463</td>\n",
              "      <td>0.690472</td>\n",
              "      <td>0.354639</td>\n",
              "      <td>0.358435</td>\n",
              "    </tr>\n",
              "    <tr>\n",
              "      <th>17183</th>\n",
              "      <td>0.690938</td>\n",
              "      <td>0.671706</td>\n",
              "      <td>0.712951</td>\n",
              "      <td>0.0</td>\n",
              "      <td>0.427140</td>\n",
              "      <td>0.692189</td>\n",
              "      <td>0.355763</td>\n",
              "      <td>0.361236</td>\n",
              "    </tr>\n",
              "  </tbody>\n",
              "</table>\n",
              "<p>17184 rows × 8 columns</p>\n",
              "</div>\n",
              "    <div class=\"colab-df-buttons\">\n",
              "\n",
              "  <div class=\"colab-df-container\">\n",
              "    <button class=\"colab-df-convert\" onclick=\"convertToInteractive('df-93928060-6ba2-4764-87e0-0b4e238671ef')\"\n",
              "            title=\"Convert this dataframe to an interactive table.\"\n",
              "            style=\"display:none;\">\n",
              "\n",
              "  <svg xmlns=\"http://www.w3.org/2000/svg\" height=\"24px\" viewBox=\"0 -960 960 960\">\n",
              "    <path d=\"M120-120v-720h720v720H120Zm60-500h600v-160H180v160Zm220 220h160v-160H400v160Zm0 220h160v-160H400v160ZM180-400h160v-160H180v160Zm440 0h160v-160H620v160ZM180-180h160v-160H180v160Zm440 0h160v-160H620v160Z\"/>\n",
              "  </svg>\n",
              "    </button>\n",
              "\n",
              "  <style>\n",
              "    .colab-df-container {\n",
              "      display:flex;\n",
              "      gap: 12px;\n",
              "    }\n",
              "\n",
              "    .colab-df-convert {\n",
              "      background-color: #E8F0FE;\n",
              "      border: none;\n",
              "      border-radius: 50%;\n",
              "      cursor: pointer;\n",
              "      display: none;\n",
              "      fill: #1967D2;\n",
              "      height: 32px;\n",
              "      padding: 0 0 0 0;\n",
              "      width: 32px;\n",
              "    }\n",
              "\n",
              "    .colab-df-convert:hover {\n",
              "      background-color: #E2EBFA;\n",
              "      box-shadow: 0px 1px 2px rgba(60, 64, 67, 0.3), 0px 1px 3px 1px rgba(60, 64, 67, 0.15);\n",
              "      fill: #174EA6;\n",
              "    }\n",
              "\n",
              "    .colab-df-buttons div {\n",
              "      margin-bottom: 4px;\n",
              "    }\n",
              "\n",
              "    [theme=dark] .colab-df-convert {\n",
              "      background-color: #3B4455;\n",
              "      fill: #D2E3FC;\n",
              "    }\n",
              "\n",
              "    [theme=dark] .colab-df-convert:hover {\n",
              "      background-color: #434B5C;\n",
              "      box-shadow: 0px 1px 3px 1px rgba(0, 0, 0, 0.15);\n",
              "      filter: drop-shadow(0px 1px 2px rgba(0, 0, 0, 0.3));\n",
              "      fill: #FFFFFF;\n",
              "    }\n",
              "  </style>\n",
              "\n",
              "    <script>\n",
              "      const buttonEl =\n",
              "        document.querySelector('#df-93928060-6ba2-4764-87e0-0b4e238671ef button.colab-df-convert');\n",
              "      buttonEl.style.display =\n",
              "        google.colab.kernel.accessAllowed ? 'block' : 'none';\n",
              "\n",
              "      async function convertToInteractive(key) {\n",
              "        const element = document.querySelector('#df-93928060-6ba2-4764-87e0-0b4e238671ef');\n",
              "        const dataTable =\n",
              "          await google.colab.kernel.invokeFunction('convertToInteractive',\n",
              "                                                    [key], {});\n",
              "        if (!dataTable) return;\n",
              "\n",
              "        const docLinkHtml = 'Like what you see? Visit the ' +\n",
              "          '<a target=\"_blank\" href=https://colab.research.google.com/notebooks/data_table.ipynb>data table notebook</a>'\n",
              "          + ' to learn more about interactive tables.';\n",
              "        element.innerHTML = '';\n",
              "        dataTable['output_type'] = 'display_data';\n",
              "        await google.colab.output.renderOutput(dataTable, element);\n",
              "        const docLink = document.createElement('div');\n",
              "        docLink.innerHTML = docLinkHtml;\n",
              "        element.appendChild(docLink);\n",
              "      }\n",
              "    </script>\n",
              "  </div>\n",
              "\n",
              "\n",
              "<div id=\"df-d4773729-9e93-4524-b226-a3ae70ec4c63\">\n",
              "  <button class=\"colab-df-quickchart\" onclick=\"quickchart('df-d4773729-9e93-4524-b226-a3ae70ec4c63')\"\n",
              "            title=\"Suggest charts\"\n",
              "            style=\"display:none;\">\n",
              "\n",
              "<svg xmlns=\"http://www.w3.org/2000/svg\" height=\"24px\"viewBox=\"0 0 24 24\"\n",
              "     width=\"24px\">\n",
              "    <g>\n",
              "        <path d=\"M19 3H5c-1.1 0-2 .9-2 2v14c0 1.1.9 2 2 2h14c1.1 0 2-.9 2-2V5c0-1.1-.9-2-2-2zM9 17H7v-7h2v7zm4 0h-2V7h2v10zm4 0h-2v-4h2v4z\"/>\n",
              "    </g>\n",
              "</svg>\n",
              "  </button>\n",
              "\n",
              "<style>\n",
              "  .colab-df-quickchart {\n",
              "      --bg-color: #E8F0FE;\n",
              "      --fill-color: #1967D2;\n",
              "      --hover-bg-color: #E2EBFA;\n",
              "      --hover-fill-color: #174EA6;\n",
              "      --disabled-fill-color: #AAA;\n",
              "      --disabled-bg-color: #DDD;\n",
              "  }\n",
              "\n",
              "  [theme=dark] .colab-df-quickchart {\n",
              "      --bg-color: #3B4455;\n",
              "      --fill-color: #D2E3FC;\n",
              "      --hover-bg-color: #434B5C;\n",
              "      --hover-fill-color: #FFFFFF;\n",
              "      --disabled-bg-color: #3B4455;\n",
              "      --disabled-fill-color: #666;\n",
              "  }\n",
              "\n",
              "  .colab-df-quickchart {\n",
              "    background-color: var(--bg-color);\n",
              "    border: none;\n",
              "    border-radius: 50%;\n",
              "    cursor: pointer;\n",
              "    display: none;\n",
              "    fill: var(--fill-color);\n",
              "    height: 32px;\n",
              "    padding: 0;\n",
              "    width: 32px;\n",
              "  }\n",
              "\n",
              "  .colab-df-quickchart:hover {\n",
              "    background-color: var(--hover-bg-color);\n",
              "    box-shadow: 0 1px 2px rgba(60, 64, 67, 0.3), 0 1px 3px 1px rgba(60, 64, 67, 0.15);\n",
              "    fill: var(--button-hover-fill-color);\n",
              "  }\n",
              "\n",
              "  .colab-df-quickchart-complete:disabled,\n",
              "  .colab-df-quickchart-complete:disabled:hover {\n",
              "    background-color: var(--disabled-bg-color);\n",
              "    fill: var(--disabled-fill-color);\n",
              "    box-shadow: none;\n",
              "  }\n",
              "\n",
              "  .colab-df-spinner {\n",
              "    border: 2px solid var(--fill-color);\n",
              "    border-color: transparent;\n",
              "    border-bottom-color: var(--fill-color);\n",
              "    animation:\n",
              "      spin 1s steps(1) infinite;\n",
              "  }\n",
              "\n",
              "  @keyframes spin {\n",
              "    0% {\n",
              "      border-color: transparent;\n",
              "      border-bottom-color: var(--fill-color);\n",
              "      border-left-color: var(--fill-color);\n",
              "    }\n",
              "    20% {\n",
              "      border-color: transparent;\n",
              "      border-left-color: var(--fill-color);\n",
              "      border-top-color: var(--fill-color);\n",
              "    }\n",
              "    30% {\n",
              "      border-color: transparent;\n",
              "      border-left-color: var(--fill-color);\n",
              "      border-top-color: var(--fill-color);\n",
              "      border-right-color: var(--fill-color);\n",
              "    }\n",
              "    40% {\n",
              "      border-color: transparent;\n",
              "      border-right-color: var(--fill-color);\n",
              "      border-top-color: var(--fill-color);\n",
              "    }\n",
              "    60% {\n",
              "      border-color: transparent;\n",
              "      border-right-color: var(--fill-color);\n",
              "    }\n",
              "    80% {\n",
              "      border-color: transparent;\n",
              "      border-right-color: var(--fill-color);\n",
              "      border-bottom-color: var(--fill-color);\n",
              "    }\n",
              "    90% {\n",
              "      border-color: transparent;\n",
              "      border-bottom-color: var(--fill-color);\n",
              "    }\n",
              "  }\n",
              "</style>\n",
              "\n",
              "  <script>\n",
              "    async function quickchart(key) {\n",
              "      const quickchartButtonEl =\n",
              "        document.querySelector('#' + key + ' button');\n",
              "      quickchartButtonEl.disabled = true;  // To prevent multiple clicks.\n",
              "      quickchartButtonEl.classList.add('colab-df-spinner');\n",
              "      try {\n",
              "        const charts = await google.colab.kernel.invokeFunction(\n",
              "            'suggestCharts', [key], {});\n",
              "      } catch (error) {\n",
              "        console.error('Error during call to suggestCharts:', error);\n",
              "      }\n",
              "      quickchartButtonEl.classList.remove('colab-df-spinner');\n",
              "      quickchartButtonEl.classList.add('colab-df-quickchart-complete');\n",
              "    }\n",
              "    (() => {\n",
              "      let quickchartButtonEl =\n",
              "        document.querySelector('#df-d4773729-9e93-4524-b226-a3ae70ec4c63 button');\n",
              "      quickchartButtonEl.style.display =\n",
              "        google.colab.kernel.accessAllowed ? 'block' : 'none';\n",
              "    })();\n",
              "  </script>\n",
              "</div>\n",
              "\n",
              "  <div id=\"id_95955f5d-2056-4638-8229-060153c1ee6f\">\n",
              "    <style>\n",
              "      .colab-df-generate {\n",
              "        background-color: #E8F0FE;\n",
              "        border: none;\n",
              "        border-radius: 50%;\n",
              "        cursor: pointer;\n",
              "        display: none;\n",
              "        fill: #1967D2;\n",
              "        height: 32px;\n",
              "        padding: 0 0 0 0;\n",
              "        width: 32px;\n",
              "      }\n",
              "\n",
              "      .colab-df-generate:hover {\n",
              "        background-color: #E2EBFA;\n",
              "        box-shadow: 0px 1px 2px rgba(60, 64, 67, 0.3), 0px 1px 3px 1px rgba(60, 64, 67, 0.15);\n",
              "        fill: #174EA6;\n",
              "      }\n",
              "\n",
              "      [theme=dark] .colab-df-generate {\n",
              "        background-color: #3B4455;\n",
              "        fill: #D2E3FC;\n",
              "      }\n",
              "\n",
              "      [theme=dark] .colab-df-generate:hover {\n",
              "        background-color: #434B5C;\n",
              "        box-shadow: 0px 1px 3px 1px rgba(0, 0, 0, 0.15);\n",
              "        filter: drop-shadow(0px 1px 2px rgba(0, 0, 0, 0.3));\n",
              "        fill: #FFFFFF;\n",
              "      }\n",
              "    </style>\n",
              "    <button class=\"colab-df-generate\" onclick=\"generateWithVariable('normalized_df')\"\n",
              "            title=\"Generate code using this dataframe.\"\n",
              "            style=\"display:none;\">\n",
              "\n",
              "  <svg xmlns=\"http://www.w3.org/2000/svg\" height=\"24px\"viewBox=\"0 0 24 24\"\n",
              "       width=\"24px\">\n",
              "    <path d=\"M7,19H8.4L18.45,9,17,7.55,7,17.6ZM5,21V16.75L18.45,3.32a2,2,0,0,1,2.83,0l1.4,1.43a1.91,1.91,0,0,1,.58,1.4,1.91,1.91,0,0,1-.58,1.4L9.25,21ZM18.45,9,17,7.55Zm-12,3A5.31,5.31,0,0,0,4.9,8.1,5.31,5.31,0,0,0,1,6.5,5.31,5.31,0,0,0,4.9,4.9,5.31,5.31,0,0,0,6.5,1,5.31,5.31,0,0,0,8.1,4.9,5.31,5.31,0,0,0,12,6.5,5.46,5.46,0,0,0,6.5,12Z\"/>\n",
              "  </svg>\n",
              "    </button>\n",
              "    <script>\n",
              "      (() => {\n",
              "      const buttonEl =\n",
              "        document.querySelector('#id_95955f5d-2056-4638-8229-060153c1ee6f button.colab-df-generate');\n",
              "      buttonEl.style.display =\n",
              "        google.colab.kernel.accessAllowed ? 'block' : 'none';\n",
              "\n",
              "      buttonEl.onclick = () => {\n",
              "        google.colab.notebook.generateWithVariable('normalized_df');\n",
              "      }\n",
              "      })();\n",
              "    </script>\n",
              "  </div>\n",
              "\n",
              "    </div>\n",
              "  </div>\n"
            ],
            "application/vnd.google.colaboratory.intrinsic+json": {
              "type": "dataframe",
              "variable_name": "normalized_df",
              "summary": "{\n  \"name\": \"normalized_df\",\n  \"rows\": 17184,\n  \"fields\": [\n    {\n      \"column\": \"Real_RD_PV_pHDosado\",\n      \"properties\": {\n        \"dtype\": \"number\",\n        \"std\": 0.10744674297797788,\n        \"min\": 0.0,\n        \"max\": 1.0,\n        \"num_unique_values\": 447,\n        \"samples\": [\n          0.6909384831461294,\n          0.8964401223154761,\n          0.1990291743705388\n        ],\n        \"semantic_type\": \"\",\n        \"description\": \"\"\n      }\n    },\n    {\n      \"column\": \"Real_RD_MV_ValvulaCalpHDosado\",\n      \"properties\": {\n        \"dtype\": \"number\",\n        \"std\": 0.14799125691924453,\n        \"min\": 0.0,\n        \"max\": 1.0,\n        \"num_unique_values\": 4853,\n        \"samples\": [\n          0.6530174878332904,\n          0.4372099267970426,\n          0.34245918287429467\n        ],\n        \"semantic_type\": \"\",\n        \"description\": \"\"\n      }\n    },\n    {\n      \"column\": \"Real_RD_PV_VazaoDosado\",\n      \"properties\": {\n        \"dtype\": \"number\",\n        \"std\": 0.089241771948294,\n        \"min\": 0.0,\n        \"max\": 1.0,\n        \"num_unique_values\": 565,\n        \"samples\": [\n          0.9145527369826434,\n          0.705607476635514,\n          0.9425901201602136\n        ],\n        \"semantic_type\": \"\",\n        \"description\": \"\"\n      }\n    },\n    {\n      \"column\": \"Real_RD_ST_LimpezaPHmetro\",\n      \"properties\": {\n        \"dtype\": \"number\",\n        \"std\": 0.1080483210668218,\n        \"min\": 0.0,\n        \"max\": 1.0,\n        \"num_unique_values\": 2,\n        \"samples\": [\n          1.0,\n          0.0\n        ],\n        \"semantic_type\": \"\",\n        \"description\": \"\"\n      }\n    },\n    {\n      \"column\": \"Real_RD_PV_PressaoLinhaCal\",\n      \"properties\": {\n        \"dtype\": \"number\",\n        \"std\": 0.07568504154368727,\n        \"min\": 0.0,\n        \"max\": 1.0,\n        \"num_unique_values\": 111,\n        \"samples\": [\n          0.7267760398173673,\n          0.3451730197453946\n        ],\n        \"semantic_type\": \"\",\n        \"description\": \"\"\n      }\n    },\n    {\n      \"column\": \"Real_RD_MV_PressaoLinhaCal\",\n      \"properties\": {\n        \"dtype\": \"number\",\n        \"std\": 0.19447888283286496,\n        \"min\": 0.0,\n        \"max\": 1.0,\n        \"num_unique_values\": 3924,\n        \"samples\": [\n          0.9423175965665225,\n          0.22540772532188758\n        ],\n        \"semantic_type\": \"\",\n        \"description\": \"\"\n      }\n    },\n    {\n      \"column\": \"Real_RD_PV_NivelTqCal\",\n      \"properties\": {\n        \"dtype\": \"number\",\n        \"std\": 0.2580146730723468,\n        \"min\": 0.0,\n        \"max\": 1.0,\n        \"num_unique_values\": 910,\n        \"samples\": [\n          0.04381037968995738,\n          0.526398562120872\n        ],\n        \"semantic_type\": \"\",\n        \"description\": \"\"\n      }\n    },\n    {\n      \"column\": \"Real_RD_PV_NivelTqDosado\",\n      \"properties\": {\n        \"dtype\": \"number\",\n        \"std\": 0.22326420540310365,\n        \"min\": 0.0,\n        \"max\": 0.9999999999999999,\n        \"num_unique_values\": 2274,\n        \"samples\": [\n          0.744798310943844,\n          0.7387963902119848\n        ],\n        \"semantic_type\": \"\",\n        \"description\": \"\"\n      }\n    }\n  ]\n}"
            }
          },
          "metadata": {},
          "execution_count": 11
        }
      ],
      "source": [
        "normalized_df"
      ]
    },
    {
      "cell_type": "markdown",
      "metadata": {
        "id": "gZdaRdE9OWPQ"
      },
      "source": [
        "### Dataset de treinamento"
      ]
    },
    {
      "cell_type": "code",
      "execution_count": 12,
      "metadata": {
        "id": "q2AuqJDVOWPQ"
      },
      "outputs": [],
      "source": [
        "# Usaremos os dados da última hora para prever 5 minutos\n",
        "past = hour\n",
        "future = minute * 5\n",
        "step = 1\n",
        "\n",
        "# Dataset de treinamento\n",
        "start = past + future\n",
        "end = start + train_split\n",
        "\n",
        "x_train = train_data.drop(columns=['Real_RD_PV_pHDosado']).values\n",
        "y_train = normalized_df['Real_RD_PV_pHDosado'][start:end]\n",
        "\n",
        "sequence_length = int(past / step)"
      ]
    },
    {
      "cell_type": "code",
      "execution_count": 13,
      "metadata": {
        "id": "YXHcEizKOWPR"
      },
      "outputs": [],
      "source": [
        "dataset_train = keras.preprocessing.timeseries_dataset_from_array(\n",
        "    x_train,\n",
        "    y_train,\n",
        "    sequence_length=sequence_length,\n",
        "    sampling_rate=step,\n",
        "    batch_size=batch_size,\n",
        ")"
      ]
    },
    {
      "cell_type": "code",
      "execution_count": 14,
      "metadata": {
        "colab": {
          "base_uri": "https://localhost:8080/"
        },
        "id": "Jj5XICXxOWPR",
        "outputId": "55f7d8e9-4023-4201-a8f7-ba312207212c"
      },
      "outputs": [
        {
          "output_type": "stream",
          "name": "stdout",
          "text": [
            "x_train shape: (12286, 7)\n",
            "y_train shape: (12286,)\n"
          ]
        }
      ],
      "source": [
        "print(f\"x_train shape: {x_train.shape}\")\n",
        "print(f\"y_train shape: {y_train.shape}\")"
      ]
    },
    {
      "cell_type": "code",
      "execution_count": 15,
      "metadata": {
        "colab": {
          "base_uri": "https://localhost:8080/"
        },
        "id": "oKxdJaL2OWPR",
        "outputId": "e17f5230-1d6e-4779-aff0-f8368bed50ce"
      },
      "outputs": [
        {
          "output_type": "stream",
          "name": "stdout",
          "text": [
            "Input shape: (256, 1200, 7)\n",
            "Target shape: (256,)\n"
          ]
        }
      ],
      "source": [
        "for batch in dataset_train.take(1):\n",
        "    inputs, targets = batch\n",
        "\n",
        "print(\"Input shape:\", inputs.numpy().shape)\n",
        "print(\"Target shape:\", targets.numpy().shape)"
      ]
    },
    {
      "cell_type": "markdown",
      "metadata": {
        "id": "rPWVG2wvOWPR"
      },
      "source": [
        "### Dataset de validação"
      ]
    },
    {
      "cell_type": "code",
      "execution_count": 16,
      "metadata": {
        "id": "JXJcO_rWOWPS"
      },
      "outputs": [],
      "source": [
        "# Dataset de validação\n",
        "x_end = len(val_data) - past - future\n",
        "label_start = train_split + past + future\n",
        "\n",
        "x_val = val_data.drop(columns=['Real_RD_PV_pHDosado']).iloc[:x_end].values\n",
        "y_val = normalized_df['Real_RD_PV_pHDosado'][label_start:].values\n",
        "\n",
        "dataset_val = keras.preprocessing.timeseries_dataset_from_array(\n",
        "    x_val,\n",
        "    y_val,\n",
        "    sequence_length=sequence_length,\n",
        "    sampling_rate=step,\n",
        "    batch_size=batch_size,\n",
        ")"
      ]
    },
    {
      "cell_type": "code",
      "execution_count": 17,
      "metadata": {
        "colab": {
          "base_uri": "https://localhost:8080/"
        },
        "id": "ftQyB5d1OWPS",
        "outputId": "7f8ea199-da39-4001-ce90-3d8f9f57f502"
      },
      "outputs": [
        {
          "output_type": "stream",
          "name": "stdout",
          "text": [
            "x_val shape: (3598, 7)\n",
            "y_val shape: (3598,)\n"
          ]
        }
      ],
      "source": [
        "print(f\"x_val shape: {x_val.shape}\")\n",
        "print(f\"y_val shape: {y_val.shape}\")"
      ]
    },
    {
      "cell_type": "markdown",
      "metadata": {
        "id": "Rc8OEZTHOWPS"
      },
      "source": [
        "# Treinamento"
      ]
    },
    {
      "cell_type": "markdown",
      "metadata": {
        "id": "aRgdbzrIX-6H"
      },
      "source": [
        "## LSTM"
      ]
    },
    {
      "cell_type": "code",
      "execution_count": null,
      "metadata": {
        "colab": {
          "base_uri": "https://localhost:8080/",
          "height": 199
        },
        "id": "wjt6Tzi8SF6H",
        "outputId": "584fd343-5a2f-4c7a-9671-96fc3e8781aa"
      },
      "outputs": [
        {
          "data": {
            "text/html": [
              "<pre style=\"white-space:pre;overflow-x:auto;line-height:normal;font-family:Menlo,'DejaVu Sans Mono',consolas,'Courier New',monospace\"><span style=\"font-weight: bold\">Model: \"sequential_15\"</span>\n",
              "</pre>\n"
            ],
            "text/plain": [
              "\u001b[1mModel: \"sequential_15\"\u001b[0m\n"
            ]
          },
          "metadata": {},
          "output_type": "display_data"
        },
        {
          "data": {
            "text/html": [
              "<pre style=\"white-space:pre;overflow-x:auto;line-height:normal;font-family:Menlo,'DejaVu Sans Mono',consolas,'Courier New',monospace\">┏━━━━━━━━━━━━━━━━━━━━━━━━━━━━━━━━━━━━━━┳━━━━━━━━━━━━━━━━━━━━━━━━━━━━━┳━━━━━━━━━━━━━━━━━┓\n",
              "┃<span style=\"font-weight: bold\"> Layer (type)                         </span>┃<span style=\"font-weight: bold\"> Output Shape                </span>┃<span style=\"font-weight: bold\">         Param # </span>┃\n",
              "┡━━━━━━━━━━━━━━━━━━━━━━━━━━━━━━━━━━━━━━╇━━━━━━━━━━━━━━━━━━━━━━━━━━━━━╇━━━━━━━━━━━━━━━━━┩\n",
              "│ lstm_8 (<span style=\"color: #0087ff; text-decoration-color: #0087ff\">LSTM</span>)                        │ (<span style=\"color: #00d7ff; text-decoration-color: #00d7ff\">None</span>, <span style=\"color: #00af00; text-decoration-color: #00af00\">32</span>)                  │           <span style=\"color: #00af00; text-decoration-color: #00af00\">5,248</span> │\n",
              "├──────────────────────────────────────┼─────────────────────────────┼─────────────────┤\n",
              "│ dense_17 (<span style=\"color: #0087ff; text-decoration-color: #0087ff\">Dense</span>)                     │ (<span style=\"color: #00d7ff; text-decoration-color: #00d7ff\">None</span>, <span style=\"color: #00af00; text-decoration-color: #00af00\">1</span>)                   │              <span style=\"color: #00af00; text-decoration-color: #00af00\">33</span> │\n",
              "└──────────────────────────────────────┴─────────────────────────────┴─────────────────┘\n",
              "</pre>\n"
            ],
            "text/plain": [
              "┏━━━━━━━━━━━━━━━━━━━━━━━━━━━━━━━━━━━━━━┳━━━━━━━━━━━━━━━━━━━━━━━━━━━━━┳━━━━━━━━━━━━━━━━━┓\n",
              "┃\u001b[1m \u001b[0m\u001b[1mLayer (type)                        \u001b[0m\u001b[1m \u001b[0m┃\u001b[1m \u001b[0m\u001b[1mOutput Shape               \u001b[0m\u001b[1m \u001b[0m┃\u001b[1m \u001b[0m\u001b[1m        Param #\u001b[0m\u001b[1m \u001b[0m┃\n",
              "┡━━━━━━━━━━━━━━━━━━━━━━━━━━━━━━━━━━━━━━╇━━━━━━━━━━━━━━━━━━━━━━━━━━━━━╇━━━━━━━━━━━━━━━━━┩\n",
              "│ lstm_8 (\u001b[38;5;33mLSTM\u001b[0m)                        │ (\u001b[38;5;45mNone\u001b[0m, \u001b[38;5;34m32\u001b[0m)                  │           \u001b[38;5;34m5,248\u001b[0m │\n",
              "├──────────────────────────────────────┼─────────────────────────────┼─────────────────┤\n",
              "│ dense_17 (\u001b[38;5;33mDense\u001b[0m)                     │ (\u001b[38;5;45mNone\u001b[0m, \u001b[38;5;34m1\u001b[0m)                   │              \u001b[38;5;34m33\u001b[0m │\n",
              "└──────────────────────────────────────┴─────────────────────────────┴─────────────────┘\n"
            ]
          },
          "metadata": {},
          "output_type": "display_data"
        },
        {
          "data": {
            "text/html": [
              "<pre style=\"white-space:pre;overflow-x:auto;line-height:normal;font-family:Menlo,'DejaVu Sans Mono',consolas,'Courier New',monospace\"><span style=\"font-weight: bold\"> Total params: </span><span style=\"color: #00af00; text-decoration-color: #00af00\">5,281</span> (20.63 KB)\n",
              "</pre>\n"
            ],
            "text/plain": [
              "\u001b[1m Total params: \u001b[0m\u001b[38;5;34m5,281\u001b[0m (20.63 KB)\n"
            ]
          },
          "metadata": {},
          "output_type": "display_data"
        },
        {
          "data": {
            "text/html": [
              "<pre style=\"white-space:pre;overflow-x:auto;line-height:normal;font-family:Menlo,'DejaVu Sans Mono',consolas,'Courier New',monospace\"><span style=\"font-weight: bold\"> Trainable params: </span><span style=\"color: #00af00; text-decoration-color: #00af00\">5,281</span> (20.63 KB)\n",
              "</pre>\n"
            ],
            "text/plain": [
              "\u001b[1m Trainable params: \u001b[0m\u001b[38;5;34m5,281\u001b[0m (20.63 KB)\n"
            ]
          },
          "metadata": {},
          "output_type": "display_data"
        },
        {
          "data": {
            "text/html": [
              "<pre style=\"white-space:pre;overflow-x:auto;line-height:normal;font-family:Menlo,'DejaVu Sans Mono',consolas,'Courier New',monospace\"><span style=\"font-weight: bold\"> Non-trainable params: </span><span style=\"color: #00af00; text-decoration-color: #00af00\">0</span> (0.00 B)\n",
              "</pre>\n"
            ],
            "text/plain": [
              "\u001b[1m Non-trainable params: \u001b[0m\u001b[38;5;34m0\u001b[0m (0.00 B)\n"
            ]
          },
          "metadata": {},
          "output_type": "display_data"
        }
      ],
      "source": [
        "model = keras.Sequential()\n",
        "model.add(keras.layers.Input(shape=(inputs.shape[1], inputs.shape[2])))\n",
        "model.add(keras.layers.LSTM(32))\n",
        "model.add(keras.layers.Dense(1))\n",
        "\n",
        "model.compile(optimizer=keras.optimizers.Adam(learning_rate=learning_rate), loss=\"mae\")\n",
        "model.summary()"
      ]
    },
    {
      "cell_type": "code",
      "execution_count": null,
      "metadata": {
        "colab": {
          "base_uri": "https://localhost:8080/"
        },
        "id": "x1inFS29Zz6Q",
        "outputId": "2e08894a-da17-453c-c692-3e5cb17abab8"
      },
      "outputs": [
        {
          "name": "stdout",
          "output_type": "stream",
          "text": [
            "Epoch 1/10\n",
            "\u001b[1m799/800\u001b[0m \u001b[32m━━━━━━━━━━━━━━━━━━━\u001b[0m\u001b[37m━\u001b[0m \u001b[1m0s\u001b[0m 81ms/step - loss: 0.0558\n",
            "Epoch 1: val_loss improved from inf to 0.07801, saving model to model_checkpoint.weights.h5\n",
            "\u001b[1m800/800\u001b[0m \u001b[32m━━━━━━━━━━━━━━━━━━━━\u001b[0m\u001b[37m\u001b[0m \u001b[1m81s\u001b[0m 100ms/step - loss: 0.0558 - val_loss: 0.0780\n",
            "Epoch 2/10\n",
            "\u001b[1m799/800\u001b[0m \u001b[32m━━━━━━━━━━━━━━━━━━━\u001b[0m\u001b[37m━\u001b[0m \u001b[1m0s\u001b[0m 80ms/step - loss: 0.0415\n",
            "Epoch 2: val_loss improved from 0.07801 to 0.07490, saving model to model_checkpoint.weights.h5\n",
            "\u001b[1m800/800\u001b[0m \u001b[32m━━━━━━━━━━━━━━━━━━━━\u001b[0m\u001b[37m\u001b[0m \u001b[1m82s\u001b[0m 102ms/step - loss: 0.0415 - val_loss: 0.0749\n",
            "Epoch 3/10\n",
            "\u001b[1m799/800\u001b[0m \u001b[32m━━━━━━━━━━━━━━━━━━━\u001b[0m\u001b[37m━\u001b[0m \u001b[1m0s\u001b[0m 84ms/step - loss: 0.0399\n",
            "Epoch 3: val_loss did not improve from 0.07490\n",
            "\u001b[1m800/800\u001b[0m \u001b[32m━━━━━━━━━━━━━━━━━━━━\u001b[0m\u001b[37m\u001b[0m \u001b[1m83s\u001b[0m 104ms/step - loss: 0.0400 - val_loss: 0.0758\n",
            "Epoch 4/10\n",
            "\u001b[1m800/800\u001b[0m \u001b[32m━━━━━━━━━━━━━━━━━━━━\u001b[0m\u001b[37m\u001b[0m \u001b[1m0s\u001b[0m 80ms/step - loss: 0.0390\n",
            "Epoch 4: val_loss improved from 0.07490 to 0.07195, saving model to model_checkpoint.weights.h5\n",
            "\u001b[1m800/800\u001b[0m \u001b[32m━━━━━━━━━━━━━━━━━━━━\u001b[0m\u001b[37m\u001b[0m \u001b[1m84s\u001b[0m 105ms/step - loss: 0.0391 - val_loss: 0.0719\n",
            "Epoch 5/10\n",
            "\u001b[1m799/800\u001b[0m \u001b[32m━━━━━━━━━━━━━━━━━━━\u001b[0m\u001b[37m━\u001b[0m \u001b[1m0s\u001b[0m 77ms/step - loss: 0.0381\n",
            "Epoch 5: val_loss improved from 0.07195 to 0.07045, saving model to model_checkpoint.weights.h5\n",
            "\u001b[1m800/800\u001b[0m \u001b[32m━━━━━━━━━━━━━━━━━━━━\u001b[0m\u001b[37m\u001b[0m \u001b[1m80s\u001b[0m 100ms/step - loss: 0.0381 - val_loss: 0.0705\n",
            "Epoch 6/10\n",
            "\u001b[1m799/800\u001b[0m \u001b[32m━━━━━━━━━━━━━━━━━━━\u001b[0m\u001b[37m━\u001b[0m \u001b[1m0s\u001b[0m 78ms/step - loss: 0.0377\n",
            "Epoch 6: val_loss improved from 0.07045 to 0.06919, saving model to model_checkpoint.weights.h5\n",
            "\u001b[1m800/800\u001b[0m \u001b[32m━━━━━━━━━━━━━━━━━━━━\u001b[0m\u001b[37m\u001b[0m \u001b[1m79s\u001b[0m 99ms/step - loss: 0.0377 - val_loss: 0.0692\n",
            "Epoch 7/10\n",
            "\u001b[1m799/800\u001b[0m \u001b[32m━━━━━━━━━━━━━━━━━━━\u001b[0m\u001b[37m━\u001b[0m \u001b[1m0s\u001b[0m 76ms/step - loss: 0.0373\n",
            "Epoch 7: val_loss improved from 0.06919 to 0.06910, saving model to model_checkpoint.weights.h5\n",
            "\u001b[1m800/800\u001b[0m \u001b[32m━━━━━━━━━━━━━━━━━━━━\u001b[0m\u001b[37m\u001b[0m \u001b[1m78s\u001b[0m 97ms/step - loss: 0.0374 - val_loss: 0.0691\n",
            "Epoch 8/10\n",
            "\u001b[1m800/800\u001b[0m \u001b[32m━━━━━━━━━━━━━━━━━━━━\u001b[0m\u001b[37m\u001b[0m \u001b[1m0s\u001b[0m 80ms/step - loss: 0.0371\n",
            "Epoch 8: val_loss improved from 0.06910 to 0.06869, saving model to model_checkpoint.weights.h5\n",
            "\u001b[1m800/800\u001b[0m \u001b[32m━━━━━━━━━━━━━━━━━━━━\u001b[0m\u001b[37m\u001b[0m \u001b[1m83s\u001b[0m 99ms/step - loss: 0.0372 - val_loss: 0.0687\n",
            "Epoch 9/10\n",
            "\u001b[1m800/800\u001b[0m \u001b[32m━━━━━━━━━━━━━━━━━━━━\u001b[0m\u001b[37m\u001b[0m \u001b[1m0s\u001b[0m 79ms/step - loss: 0.0369\n",
            "Epoch 9: val_loss improved from 0.06869 to 0.06853, saving model to model_checkpoint.weights.h5\n",
            "\u001b[1m800/800\u001b[0m \u001b[32m━━━━━━━━━━━━━━━━━━━━\u001b[0m\u001b[37m\u001b[0m \u001b[1m81s\u001b[0m 101ms/step - loss: 0.0369 - val_loss: 0.0685\n",
            "Epoch 10/10\n",
            "\u001b[1m799/800\u001b[0m \u001b[32m━━━━━━━━━━━━━━━━━━━\u001b[0m\u001b[37m━\u001b[0m \u001b[1m0s\u001b[0m 79ms/step - loss: 0.0367\n",
            "Epoch 10: val_loss improved from 0.06853 to 0.06842, saving model to model_checkpoint.weights.h5\n",
            "\u001b[1m800/800\u001b[0m \u001b[32m━━━━━━━━━━━━━━━━━━━━\u001b[0m\u001b[37m\u001b[0m \u001b[1m80s\u001b[0m 100ms/step - loss: 0.0368 - val_loss: 0.0684\n"
          ]
        }
      ],
      "source": [
        "path_checkpoint = \"model_checkpoint.weights.h5\"\n",
        "es_callback = keras.callbacks.EarlyStopping(monitor=\"val_loss\", min_delta=0, patience=5)\n",
        "\n",
        "modelckpt_callback = keras.callbacks.ModelCheckpoint(\n",
        "    monitor=\"val_loss\",\n",
        "    filepath=path_checkpoint,\n",
        "    verbose=1,\n",
        "    save_weights_only=True,\n",
        "    save_best_only=True,\n",
        ")\n",
        "\n",
        "history = model.fit(\n",
        "    dataset_train,\n",
        "    epochs=epochs,\n",
        "    validation_data=dataset_val,\n",
        "    callbacks=[es_callback, modelckpt_callback],\n",
        ")"
      ]
    },
    {
      "cell_type": "code",
      "execution_count": null,
      "metadata": {
        "colab": {
          "base_uri": "https://localhost:8080/",
          "height": 452
        },
        "id": "05ecP7YDYmF-",
        "outputId": "5d7d02ed-353e-48ae-912d-3d1268639844"
      },
      "outputs": [
        {
          "data": {
            "image/png": "[encoded data removed]",
            "text/plain": [
              "<Figure size 640x480 with 1 Axes>"
            ]
          },
          "metadata": {},
          "output_type": "display_data"
        }
      ],
      "source": [
        "def plot_history(history):\n",
        "  loss = history.history['loss']\n",
        "  val_loss = history.history['val_loss']\n",
        "\n",
        "  plot_epochs = range(len(loss))\n",
        "\n",
        "  plt.figure()\n",
        "\n",
        "  plt.plot(plot_epochs, loss, 'bo', label='Training loss')\n",
        "  plt.plot(plot_epochs, val_loss, 'b', label='Validation loss')\n",
        "  plt.title('Training and validation loss')\n",
        "  plt.legend()\n",
        "\n",
        "  plt.show()\n",
        "\n",
        "plot_history(history)\n"
      ]
    },
    {
      "cell_type": "markdown",
      "metadata": {
        "id": "KGwQd77CYDiB"
      },
      "source": [
        "## Camada LSTM com dropout"
      ]
    },
    {
      "cell_type": "code",
      "execution_count": 18,
      "metadata": {
        "colab": {
          "base_uri": "https://localhost:8080/",
          "height": 193
        },
        "id": "PPiyer9LYG8F",
        "outputId": "dfab55d8-3cd0-4320-925b-d52775ae9508"
      },
      "outputs": [
        {
          "output_type": "display_data",
          "data": {
            "text/plain": [
              "\u001b[1mModel: \"sequential\"\u001b[0m\n"
            ],
            "text/html": [
              "<pre style=\"white-space:pre;overflow-x:auto;line-height:normal;font-family:Menlo,'DejaVu Sans Mono',consolas,'Courier New',monospace\"><span style=\"font-weight: bold\">Model: \"sequential\"</span>\n",
              "</pre>\n"
            ]
          },
          "metadata": {}
        },
        {
          "output_type": "display_data",
          "data": {
            "text/plain": [
              "┏━━━━━━━━━━━━━━━━━━━━━━━━━━━━━━━━━━━━━━┳━━━━━━━━━━━━━━━━━━━━━━━━━━━━━┳━━━━━━━━━━━━━━━━━┓\n",
              "┃\u001b[1m \u001b[0m\u001b[1mLayer (type)                        \u001b[0m\u001b[1m \u001b[0m┃\u001b[1m \u001b[0m\u001b[1mOutput Shape               \u001b[0m\u001b[1m \u001b[0m┃\u001b[1m \u001b[0m\u001b[1m        Param #\u001b[0m\u001b[1m \u001b[0m┃\n",
              "┡━━━━━━━━━━━━━━━━━━━━━━━━━━━━━━━━━━━━━━╇━━━━━━━━━━━━━━━━━━━━━━━━━━━━━╇━━━━━━━━━━━━━━━━━┩\n",
              "│ lstm (\u001b[38;5;33mLSTM\u001b[0m)                          │ (\u001b[38;5;45mNone\u001b[0m, \u001b[38;5;34m32\u001b[0m)                  │           \u001b[38;5;34m5,120\u001b[0m │\n",
              "├──────────────────────────────────────┼─────────────────────────────┼─────────────────┤\n",
              "│ dense (\u001b[38;5;33mDense\u001b[0m)                        │ (\u001b[38;5;45mNone\u001b[0m, \u001b[38;5;34m1\u001b[0m)                   │              \u001b[38;5;34m33\u001b[0m │\n",
              "└──────────────────────────────────────┴─────────────────────────────┴─────────────────┘\n"
            ],
            "text/html": [
              "<pre style=\"white-space:pre;overflow-x:auto;line-height:normal;font-family:Menlo,'DejaVu Sans Mono',consolas,'Courier New',monospace\">┏━━━━━━━━━━━━━━━━━━━━━━━━━━━━━━━━━━━━━━┳━━━━━━━━━━━━━━━━━━━━━━━━━━━━━┳━━━━━━━━━━━━━━━━━┓\n",
              "┃<span style=\"font-weight: bold\"> Layer (type)                         </span>┃<span style=\"font-weight: bold\"> Output Shape                </span>┃<span style=\"font-weight: bold\">         Param # </span>┃\n",
              "┡━━━━━━━━━━━━━━━━━━━━━━━━━━━━━━━━━━━━━━╇━━━━━━━━━━━━━━━━━━━━━━━━━━━━━╇━━━━━━━━━━━━━━━━━┩\n",
              "│ lstm (<span style=\"color: #0087ff; text-decoration-color: #0087ff\">LSTM</span>)                          │ (<span style=\"color: #00d7ff; text-decoration-color: #00d7ff\">None</span>, <span style=\"color: #00af00; text-decoration-color: #00af00\">32</span>)                  │           <span style=\"color: #00af00; text-decoration-color: #00af00\">5,120</span> │\n",
              "├──────────────────────────────────────┼─────────────────────────────┼─────────────────┤\n",
              "│ dense (<span style=\"color: #0087ff; text-decoration-color: #0087ff\">Dense</span>)                        │ (<span style=\"color: #00d7ff; text-decoration-color: #00d7ff\">None</span>, <span style=\"color: #00af00; text-decoration-color: #00af00\">1</span>)                   │              <span style=\"color: #00af00; text-decoration-color: #00af00\">33</span> │\n",
              "└──────────────────────────────────────┴─────────────────────────────┴─────────────────┘\n",
              "</pre>\n"
            ]
          },
          "metadata": {}
        },
        {
          "output_type": "display_data",
          "data": {
            "text/plain": [
              "\u001b[1m Total params: \u001b[0m\u001b[38;5;34m5,153\u001b[0m (20.13 KB)\n"
            ],
            "text/html": [
              "<pre style=\"white-space:pre;overflow-x:auto;line-height:normal;font-family:Menlo,'DejaVu Sans Mono',consolas,'Courier New',monospace\"><span style=\"font-weight: bold\"> Total params: </span><span style=\"color: #00af00; text-decoration-color: #00af00\">5,153</span> (20.13 KB)\n",
              "</pre>\n"
            ]
          },
          "metadata": {}
        },
        {
          "output_type": "display_data",
          "data": {
            "text/plain": [
              "\u001b[1m Trainable params: \u001b[0m\u001b[38;5;34m5,153\u001b[0m (20.13 KB)\n"
            ],
            "text/html": [
              "<pre style=\"white-space:pre;overflow-x:auto;line-height:normal;font-family:Menlo,'DejaVu Sans Mono',consolas,'Courier New',monospace\"><span style=\"font-weight: bold\"> Trainable params: </span><span style=\"color: #00af00; text-decoration-color: #00af00\">5,153</span> (20.13 KB)\n",
              "</pre>\n"
            ]
          },
          "metadata": {}
        },
        {
          "output_type": "display_data",
          "data": {
            "text/plain": [
              "\u001b[1m Non-trainable params: \u001b[0m\u001b[38;5;34m0\u001b[0m (0.00 B)\n"
            ],
            "text/html": [
              "<pre style=\"white-space:pre;overflow-x:auto;line-height:normal;font-family:Menlo,'DejaVu Sans Mono',consolas,'Courier New',monospace\"><span style=\"font-weight: bold\"> Non-trainable params: </span><span style=\"color: #00af00; text-decoration-color: #00af00\">0</span> (0.00 B)\n",
              "</pre>\n"
            ]
          },
          "metadata": {}
        }
      ],
      "source": [
        "model = keras.Sequential()\n",
        "model.add(keras.layers.Input(shape=(inputs.shape[1], inputs.shape[2])))\n",
        "model.add(keras.layers.LSTM(32,\n",
        "                           dropout=0.2,\n",
        "                           recurrent_dropout=0.2,\n",
        "                           ))\n",
        "model.add(keras.layers.Dense(1))\n",
        "\n",
        "model.compile(optimizer=keras.optimizers.Adam(learning_rate=learning_rate), loss=\"mae\")\n",
        "model.summary()"
      ]
    },
    {
      "cell_type": "code",
      "execution_count": 19,
      "metadata": {
        "colab": {
          "base_uri": "https://localhost:8080/"
        },
        "id": "dZ-9MZ_hZZt_",
        "outputId": "c0de3658-a81f-4e94-be96-2ff1c162c2af"
      },
      "outputs": [
        {
          "output_type": "stream",
          "name": "stdout",
          "text": [
            "Epoch 1/10\n",
            "\u001b[1m44/44\u001b[0m \u001b[32m━━━━━━━━━━━━━━━━━━━━\u001b[0m\u001b[37m\u001b[0m \u001b[1m0s\u001b[0m 2s/step - loss: 0.4058\n",
            "Epoch 1: val_loss improved from inf to 0.03673, saving model to model_checkpoint.weights.h5\n",
            "\u001b[1m44/44\u001b[0m \u001b[32m━━━━━━━━━━━━━━━━━━━━\u001b[0m\u001b[37m\u001b[0m \u001b[1m85s\u001b[0m 2s/step - loss: 0.4023 - val_loss: 0.0367\n",
            "Epoch 2/10\n",
            "\u001b[1m44/44\u001b[0m \u001b[32m━━━━━━━━━━━━━━━━━━━━\u001b[0m\u001b[37m\u001b[0m \u001b[1m0s\u001b[0m 2s/step - loss: 0.1123\n",
            "Epoch 2: val_loss improved from 0.03673 to 0.02989, saving model to model_checkpoint.weights.h5\n",
            "\u001b[1m44/44\u001b[0m \u001b[32m━━━━━━━━━━━━━━━━━━━━\u001b[0m\u001b[37m\u001b[0m \u001b[1m86s\u001b[0m 2s/step - loss: 0.1120 - val_loss: 0.0299\n",
            "Epoch 3/10\n",
            "\u001b[1m44/44\u001b[0m \u001b[32m━━━━━━━━━━━━━━━━━━━━\u001b[0m\u001b[37m\u001b[0m \u001b[1m0s\u001b[0m 2s/step - loss: 0.0970\n",
            "Epoch 3: val_loss did not improve from 0.02989\n",
            "\u001b[1m44/44\u001b[0m \u001b[32m━━━━━━━━━━━━━━━━━━━━\u001b[0m\u001b[37m\u001b[0m \u001b[1m82s\u001b[0m 2s/step - loss: 0.0968 - val_loss: 0.0315\n",
            "Epoch 4/10\n",
            "\u001b[1m44/44\u001b[0m \u001b[32m━━━━━━━━━━━━━━━━━━━━\u001b[0m\u001b[37m\u001b[0m \u001b[1m0s\u001b[0m 2s/step - loss: 0.0886\n",
            "Epoch 4: val_loss did not improve from 0.02989\n",
            "\u001b[1m44/44\u001b[0m \u001b[32m━━━━━━━━━━━━━━━━━━━━\u001b[0m\u001b[37m\u001b[0m \u001b[1m75s\u001b[0m 2s/step - loss: 0.0884 - val_loss: 0.0357\n",
            "Epoch 5/10\n",
            "\u001b[1m44/44\u001b[0m \u001b[32m━━━━━━━━━━━━━━━━━━━━\u001b[0m\u001b[37m\u001b[0m \u001b[1m0s\u001b[0m 2s/step - loss: 0.0837\n",
            "Epoch 5: val_loss did not improve from 0.02989\n",
            "\u001b[1m44/44\u001b[0m \u001b[32m━━━━━━━━━━━━━━━━━━━━\u001b[0m\u001b[37m\u001b[0m \u001b[1m72s\u001b[0m 2s/step - loss: 0.0835 - val_loss: 0.0354\n",
            "Epoch 6/10\n",
            "\u001b[1m44/44\u001b[0m \u001b[32m━━━━━━━━━━━━━━━━━━━━\u001b[0m\u001b[37m\u001b[0m \u001b[1m0s\u001b[0m 2s/step - loss: 0.0800\n",
            "Epoch 6: val_loss did not improve from 0.02989\n",
            "\u001b[1m44/44\u001b[0m \u001b[32m━━━━━━━━━━━━━━━━━━━━\u001b[0m\u001b[37m\u001b[0m \u001b[1m73s\u001b[0m 2s/step - loss: 0.0798 - val_loss: 0.0326\n",
            "Epoch 7/10\n",
            "\u001b[1m44/44\u001b[0m \u001b[32m━━━━━━━━━━━━━━━━━━━━\u001b[0m\u001b[37m\u001b[0m \u001b[1m0s\u001b[0m 2s/step - loss: 0.0793\n",
            "Epoch 7: val_loss did not improve from 0.02989\n",
            "\u001b[1m44/44\u001b[0m \u001b[32m━━━━━━━━━━━━━━━━━━━━\u001b[0m\u001b[37m\u001b[0m \u001b[1m81s\u001b[0m 2s/step - loss: 0.0791 - val_loss: 0.0308\n"
          ]
        }
      ],
      "source": [
        "path_checkpoint = \"model_checkpoint.weights.h5\"\n",
        "es_callback = keras.callbacks.EarlyStopping(monitor=\"val_loss\", min_delta=0, patience=5)\n",
        "\n",
        "modelckpt_callback = keras.callbacks.ModelCheckpoint(\n",
        "    monitor=\"val_loss\",\n",
        "    filepath=path_checkpoint,\n",
        "    verbose=1,\n",
        "    save_weights_only=True,\n",
        "    save_best_only=True,\n",
        ")\n",
        "\n",
        "history = model.fit(\n",
        "    dataset_train,\n",
        "    epochs=epochs,\n",
        "    validation_data=dataset_val,\n",
        "    callbacks=[es_callback, modelckpt_callback],\n",
        ")"
      ]
    },
    {
      "cell_type": "code",
      "execution_count": 20,
      "metadata": {
        "colab": {
          "base_uri": "https://localhost:8080/",
          "height": 452
        },
        "id": "TmsrWccnCMKa",
        "outputId": "8408fc84-616d-46da-f78e-73956690c847"
      },
      "outputs": [
        {
          "output_type": "display_data",
          "data": {
            "text/plain": [
              "<Figure size 640x480 with 1 Axes>"
            ],
            "image/png": "[encoded data removed]"
          },
          "metadata": {}
        }
      ],
      "source": [
        "def plot_history(history):\n",
        "  loss = history.history['loss']\n",
        "  val_loss = history.history['val_loss']\n",
        "\n",
        "  plot_epochs = range(len(loss))\n",
        "\n",
        "  plt.figure()\n",
        "\n",
        "  plt.plot(plot_epochs, loss, 'bo', label='Training loss')\n",
        "  plt.plot(plot_epochs, val_loss, 'b', label='Validation loss')\n",
        "  plt.title('Training and validation loss')\n",
        "  plt.legend()\n",
        "\n",
        "  plt.show()\n",
        "\n",
        "plot_history(history)"
      ]
    },
    {
      "cell_type": "markdown",
      "metadata": {
        "id": "XaltjeUMCMKb"
      },
      "source": [
        "## Camadas Dense"
      ]
    },
    {
      "cell_type": "code",
      "execution_count": 23,
      "metadata": {
        "colab": {
          "base_uri": "https://localhost:8080/",
          "height": 225
        },
        "id": "1LWqJE0FCMKc",
        "outputId": "bcf83a02-8346-4bfc-c9d9-974be203dec4"
      },
      "outputs": [
        {
          "output_type": "display_data",
          "data": {
            "text/plain": [
              "\u001b[1mModel: \"sequential_2\"\u001b[0m\n"
            ],
            "text/html": [
              "<pre style=\"white-space:pre;overflow-x:auto;line-height:normal;font-family:Menlo,'DejaVu Sans Mono',consolas,'Courier New',monospace\"><span style=\"font-weight: bold\">Model: \"sequential_2\"</span>\n",
              "</pre>\n"
            ]
          },
          "metadata": {}
        },
        {
          "output_type": "display_data",
          "data": {
            "text/plain": [
              "┏━━━━━━━━━━━━━━━━━━━━━━━━━━━━━━━━━━━━━━┳━━━━━━━━━━━━━━━━━━━━━━━━━━━━━┳━━━━━━━━━━━━━━━━━┓\n",
              "┃\u001b[1m \u001b[0m\u001b[1mLayer (type)                        \u001b[0m\u001b[1m \u001b[0m┃\u001b[1m \u001b[0m\u001b[1mOutput Shape               \u001b[0m\u001b[1m \u001b[0m┃\u001b[1m \u001b[0m\u001b[1m        Param #\u001b[0m\u001b[1m \u001b[0m┃\n",
              "┡━━━━━━━━━━━━━━━━━━━━━━━━━━━━━━━━━━━━━━╇━━━━━━━━━━━━━━━━━━━━━━━━━━━━━╇━━━━━━━━━━━━━━━━━┩\n",
              "│ dense_4 (\u001b[38;5;33mDense\u001b[0m)                      │ (\u001b[38;5;45mNone\u001b[0m, \u001b[38;5;34m1200\u001b[0m, \u001b[38;5;34m64\u001b[0m)            │             \u001b[38;5;34m512\u001b[0m │\n",
              "├──────────────────────────────────────┼─────────────────────────────┼─────────────────┤\n",
              "│ dense_5 (\u001b[38;5;33mDense\u001b[0m)                      │ (\u001b[38;5;45mNone\u001b[0m, \u001b[38;5;34m1200\u001b[0m, \u001b[38;5;34m32\u001b[0m)            │           \u001b[38;5;34m2,080\u001b[0m │\n",
              "├──────────────────────────────────────┼─────────────────────────────┼─────────────────┤\n",
              "│ dense_6 (\u001b[38;5;33mDense\u001b[0m)                      │ (\u001b[38;5;45mNone\u001b[0m, \u001b[38;5;34m1200\u001b[0m, \u001b[38;5;34m1\u001b[0m)             │              \u001b[38;5;34m33\u001b[0m │\n",
              "└──────────────────────────────────────┴─────────────────────────────┴─────────────────┘\n"
            ],
            "text/html": [
              "<pre style=\"white-space:pre;overflow-x:auto;line-height:normal;font-family:Menlo,'DejaVu Sans Mono',consolas,'Courier New',monospace\">┏━━━━━━━━━━━━━━━━━━━━━━━━━━━━━━━━━━━━━━┳━━━━━━━━━━━━━━━━━━━━━━━━━━━━━┳━━━━━━━━━━━━━━━━━┓\n",
              "┃<span style=\"font-weight: bold\"> Layer (type)                         </span>┃<span style=\"font-weight: bold\"> Output Shape                </span>┃<span style=\"font-weight: bold\">         Param # </span>┃\n",
              "┡━━━━━━━━━━━━━━━━━━━━━━━━━━━━━━━━━━━━━━╇━━━━━━━━━━━━━━━━━━━━━━━━━━━━━╇━━━━━━━━━━━━━━━━━┩\n",
              "│ dense_4 (<span style=\"color: #0087ff; text-decoration-color: #0087ff\">Dense</span>)                      │ (<span style=\"color: #00d7ff; text-decoration-color: #00d7ff\">None</span>, <span style=\"color: #00af00; text-decoration-color: #00af00\">1200</span>, <span style=\"color: #00af00; text-decoration-color: #00af00\">64</span>)            │             <span style=\"color: #00af00; text-decoration-color: #00af00\">512</span> │\n",
              "├──────────────────────────────────────┼─────────────────────────────┼─────────────────┤\n",
              "│ dense_5 (<span style=\"color: #0087ff; text-decoration-color: #0087ff\">Dense</span>)                      │ (<span style=\"color: #00d7ff; text-decoration-color: #00d7ff\">None</span>, <span style=\"color: #00af00; text-decoration-color: #00af00\">1200</span>, <span style=\"color: #00af00; text-decoration-color: #00af00\">32</span>)            │           <span style=\"color: #00af00; text-decoration-color: #00af00\">2,080</span> │\n",
              "├──────────────────────────────────────┼─────────────────────────────┼─────────────────┤\n",
              "│ dense_6 (<span style=\"color: #0087ff; text-decoration-color: #0087ff\">Dense</span>)                      │ (<span style=\"color: #00d7ff; text-decoration-color: #00d7ff\">None</span>, <span style=\"color: #00af00; text-decoration-color: #00af00\">1200</span>, <span style=\"color: #00af00; text-decoration-color: #00af00\">1</span>)             │              <span style=\"color: #00af00; text-decoration-color: #00af00\">33</span> │\n",
              "└──────────────────────────────────────┴─────────────────────────────┴─────────────────┘\n",
              "</pre>\n"
            ]
          },
          "metadata": {}
        },
        {
          "output_type": "display_data",
          "data": {
            "text/plain": [
              "\u001b[1m Total params: \u001b[0m\u001b[38;5;34m2,625\u001b[0m (10.25 KB)\n"
            ],
            "text/html": [
              "<pre style=\"white-space:pre;overflow-x:auto;line-height:normal;font-family:Menlo,'DejaVu Sans Mono',consolas,'Courier New',monospace\"><span style=\"font-weight: bold\"> Total params: </span><span style=\"color: #00af00; text-decoration-color: #00af00\">2,625</span> (10.25 KB)\n",
              "</pre>\n"
            ]
          },
          "metadata": {}
        },
        {
          "output_type": "display_data",
          "data": {
            "text/plain": [
              "\u001b[1m Trainable params: \u001b[0m\u001b[38;5;34m2,625\u001b[0m (10.25 KB)\n"
            ],
            "text/html": [
              "<pre style=\"white-space:pre;overflow-x:auto;line-height:normal;font-family:Menlo,'DejaVu Sans Mono',consolas,'Courier New',monospace\"><span style=\"font-weight: bold\"> Trainable params: </span><span style=\"color: #00af00; text-decoration-color: #00af00\">2,625</span> (10.25 KB)\n",
              "</pre>\n"
            ]
          },
          "metadata": {}
        },
        {
          "output_type": "display_data",
          "data": {
            "text/plain": [
              "\u001b[1m Non-trainable params: \u001b[0m\u001b[38;5;34m0\u001b[0m (0.00 B)\n"
            ],
            "text/html": [
              "<pre style=\"white-space:pre;overflow-x:auto;line-height:normal;font-family:Menlo,'DejaVu Sans Mono',consolas,'Courier New',monospace\"><span style=\"font-weight: bold\"> Non-trainable params: </span><span style=\"color: #00af00; text-decoration-color: #00af00\">0</span> (0.00 B)\n",
              "</pre>\n"
            ]
          },
          "metadata": {}
        }
      ],
      "source": [
        "model = keras.Sequential()\n",
        "model.add(keras.layers.Input(shape=(inputs.shape[1], inputs.shape[2])))\n",
        "model.add(keras.layers.Dense(64, activation='relu'))\n",
        "model.add(keras.layers.Dense(32, activation='relu'))\n",
        "model.add(keras.layers.Dense(1))\n",
        "\n",
        "model.compile(optimizer=keras.optimizers.Adam(learning_rate=learning_rate), loss=\"mae\")\n",
        "model.summary()"
      ]
    },
    {
      "cell_type": "code",
      "execution_count": 24,
      "metadata": {
        "colab": {
          "base_uri": "https://localhost:8080/"
        },
        "id": "8U_zYuaQCMKc",
        "outputId": "9a2a51db-2620-4f88-f778-ea2c6db9f801"
      },
      "outputs": [
        {
          "output_type": "stream",
          "name": "stdout",
          "text": [
            "Epoch 1/10\n",
            "\u001b[1m44/44\u001b[0m \u001b[32m━━━━━━━━━━━━━━━━━━━━\u001b[0m\u001b[37m\u001b[0m \u001b[1m0s\u001b[0m 87ms/step - loss: 0.5275\n",
            "Epoch 1: val_loss improved from inf to 0.16901, saving model to model_checkpoint_dense.weights.h5\n",
            "\u001b[1m44/44\u001b[0m \u001b[32m━━━━━━━━━━━━━━━━━━━━\u001b[0m\u001b[37m\u001b[0m \u001b[1m8s\u001b[0m 112ms/step - loss: 0.5224 - val_loss: 0.1690\n",
            "Epoch 2/10\n",
            "\u001b[1m43/44\u001b[0m \u001b[32m━━━━━━━━━━━━━━━━━━━\u001b[0m\u001b[37m━\u001b[0m \u001b[1m0s\u001b[0m 34ms/step - loss: 0.1335\n",
            "Epoch 2: val_loss improved from 0.16901 to 0.09136, saving model to model_checkpoint_dense.weights.h5\n",
            "\u001b[1m44/44\u001b[0m \u001b[32m━━━━━━━━━━━━━━━━━━━━\u001b[0m\u001b[37m\u001b[0m \u001b[1m2s\u001b[0m 42ms/step - loss: 0.1321 - val_loss: 0.0914\n",
            "Epoch 3/10\n",
            "\u001b[1m43/44\u001b[0m \u001b[32m━━━━━━━━━━━━━━━━━━━\u001b[0m\u001b[37m━\u001b[0m \u001b[1m0s\u001b[0m 35ms/step - loss: 0.0888\n",
            "Epoch 3: val_loss did not improve from 0.09136\n",
            "\u001b[1m44/44\u001b[0m \u001b[32m━━━━━━━━━━━━━━━━━━━━\u001b[0m\u001b[37m\u001b[0m \u001b[1m2s\u001b[0m 50ms/step - loss: 0.0885 - val_loss: 0.1031\n",
            "Epoch 4/10\n",
            "\u001b[1m43/44\u001b[0m \u001b[32m━━━━━━━━━━━━━━━━━━━\u001b[0m\u001b[37m━\u001b[0m \u001b[1m0s\u001b[0m 36ms/step - loss: 0.0837\n",
            "Epoch 4: val_loss did not improve from 0.09136\n",
            "\u001b[1m44/44\u001b[0m \u001b[32m━━━━━━━━━━━━━━━━━━━━\u001b[0m\u001b[37m\u001b[0m \u001b[1m2s\u001b[0m 51ms/step - loss: 0.0836 - val_loss: 0.1041\n",
            "Epoch 5/10\n",
            "\u001b[1m43/44\u001b[0m \u001b[32m━━━━━━━━━━━━━━━━━━━\u001b[0m\u001b[37m━\u001b[0m \u001b[1m0s\u001b[0m 58ms/step - loss: 0.0757\n",
            "Epoch 5: val_loss did not improve from 0.09136\n",
            "\u001b[1m44/44\u001b[0m \u001b[32m━━━━━━━━━━━━━━━━━━━━\u001b[0m\u001b[37m\u001b[0m \u001b[1m4s\u001b[0m 87ms/step - loss: 0.0757 - val_loss: 0.1117\n",
            "Epoch 6/10\n",
            "\u001b[1m42/44\u001b[0m \u001b[32m━━━━━━━━━━━━━━━━━━━\u001b[0m\u001b[37m━\u001b[0m \u001b[1m0s\u001b[0m 38ms/step - loss: 0.0787\n",
            "Epoch 6: val_loss did not improve from 0.09136\n",
            "\u001b[1m44/44\u001b[0m \u001b[32m━━━━━━━━━━━━━━━━━━━━\u001b[0m\u001b[37m\u001b[0m \u001b[1m4s\u001b[0m 53ms/step - loss: 0.0787 - val_loss: 0.1085\n",
            "Epoch 7/10\n",
            "\u001b[1m42/44\u001b[0m \u001b[32m━━━━━━━━━━━━━━━━━━━\u001b[0m\u001b[37m━\u001b[0m \u001b[1m0s\u001b[0m 36ms/step - loss: 0.0738\n",
            "Epoch 7: val_loss did not improve from 0.09136\n",
            "\u001b[1m44/44\u001b[0m \u001b[32m━━━━━━━━━━━━━━━━━━━━\u001b[0m\u001b[37m\u001b[0m \u001b[1m2s\u001b[0m 44ms/step - loss: 0.0737 - val_loss: 0.1119\n"
          ]
        }
      ],
      "source": [
        "path_checkpoint = \"model_checkpoint_dense.weights.h5\"\n",
        "es_callback = keras.callbacks.EarlyStopping(monitor=\"val_loss\", min_delta=0, patience=5)\n",
        "\n",
        "modelckpt_callback = keras.callbacks.ModelCheckpoint(\n",
        "    monitor=\"val_loss\",\n",
        "    filepath=path_checkpoint,\n",
        "    verbose=1,\n",
        "    save_weights_only=True,\n",
        "    save_best_only=True,\n",
        ")\n",
        "\n",
        "history = model.fit(\n",
        "    dataset_train,\n",
        "    epochs=epochs,\n",
        "    validation_data=dataset_val,\n",
        "    callbacks=[es_callback, modelckpt_callback],\n",
        ")"
      ]
    },
    {
      "cell_type": "code",
      "execution_count": 27,
      "metadata": {
        "colab": {
          "base_uri": "https://localhost:8080/",
          "height": 452
        },
        "id": "7AZPB_OlCMKd",
        "outputId": "4f460756-990c-49cd-ab78-03ad0ef254b1"
      },
      "outputs": [
        {
          "output_type": "display_data",
          "data": {
            "text/plain": [
              "<Figure size 640x480 with 1 Axes>"
            ],
            "image/png": "[encoded data removed]"
          },
          "metadata": {}
        }
      ],
      "source": [
        "def plot_history(history):\n",
        "    loss = history.history['loss']\n",
        "    val_loss = history.history['val_loss']\n",
        "\n",
        "    plot_epochs = range(len(loss))\n",
        "\n",
        "    plt.figure()\n",
        "\n",
        "    plt.plot(plot_epochs, loss, 'bo', label='Training loss')\n",
        "    plt.plot(plot_epochs, val_loss, 'b', label='Validation loss')\n",
        "    plt.title('Training and validation loss')\n",
        "    plt.legend()\n",
        "\n",
        "    plt.show()\n",
        "plot_history(history)"
      ]
    },
    {
      "cell_type": "markdown",
      "metadata": {
        "id": "8o2AGnx9OWPS"
      },
      "source": [
        "# Referências"
      ]
    },
    {
      "cell_type": "markdown",
      "metadata": {
        "id": "KVq5tT5AOWPT"
      },
      "source": [
        "- [Timeseries forecasting for weather prediction](https://keras.io/examples/timeseries/timeseries_weather_forecasting/)"
      ]
    }
  ],
  "metadata": {
    "accelerator": "GPU",
    "colab": {
      "gpuType": "T4",
      "provenance": []
    },
    "kernelspec": {
      "display_name": "Python 3",
      "name": "python3"
    },
    "language_info": {
      "codemirror_mode": {
        "name": "ipython",
        "version": 3
      },
      "file_extension": ".py",
      "mimetype": "text/x-python",
      "name": "python",
      "nbconvert_exporter": "python",
      "pygments_lexer": "ipython3",
      "version": "3.12.2"
    }
  },
  "nbformat": 4,
  "nbformat_minor": 0
}