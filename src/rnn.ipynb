{
  "cells": [
    {
      "cell_type": "code",
      "execution_count": 64,
      "metadata": {
        "id": "FdCBq-2qOWPJ"
      },
      "outputs": [],
      "source": [
        "import pandas as pd\n",
        "import keras\n",
        "import matplotlib.pyplot as plt"
      ]
    },
    {
      "cell_type": "code",
      "source": [
        "from google.colab import drive\n",
        "drive.mount('/content/drive')"
      ],
      "metadata": {
        "id": "nhUae1hIOL5_",
        "outputId": "8bf89c0c-2ca7-40cf-96dc-15a3e35cb283",
        "colab": {
          "base_uri": "https://localhost:8080/"
        }
      },
      "execution_count": 2,
      "outputs": [
        {
          "output_type": "stream",
          "name": "stdout",
          "text": [
            "Mounted at /content/drive\n"
          ]
        }
      ]
    },
    {
      "cell_type": "code",
      "execution_count": 77,
      "metadata": {
        "id": "DjKZ8Ao3OWPL"
      },
      "outputs": [],
      "source": [
        "df_raw = pd.read_csv('/content/data_phdosado.csv', index_col=1, engine='python', on_bad_lines='skip') # Colab\n",
        "# df = pd.read_csv('../data/data_phdosado.csv', index_col=1) # Local"
      ]
    },
    {
      "cell_type": "code",
      "source": [
        "# Check for nulls\n",
        "df_raw.isnull().sum()"
      ],
      "metadata": {
        "id": "oFp0RkcwVys-",
        "outputId": "a889e1d2-3209-4c37-e3db-58e2360b83cb",
        "colab": {
          "base_uri": "https://localhost:8080/",
          "height": 429
        }
      },
      "execution_count": 78,
      "outputs": [
        {
          "output_type": "execute_result",
          "data": {
            "text/plain": [
              "ID                                  0\n",
              "Real_RD_PV_pHDosado                89\n",
              "Real_RD_MV_ValvulaCalpHDosado      97\n",
              "Real_RD_PV_VazaoDosado             64\n",
              "Real_RD_ST_LimpezaPHmetro          99\n",
              "Real_RD_PV_BaumeCal                89\n",
              "Real_RD_PV_PressaoLinhaCal         88\n",
              "Real_RD_MV_ValvulaCalpHDosado-2    97\n",
              "Real_RD_MV_PressaoLinhaCal         51\n",
              "Real_RD_PV_NivelTqCal              92\n",
              "Real_RD_PV_NivelTqDosado           61\n",
              "dtype: int64"
            ],
            "text/html": [
              "<div>\n",
              "<style scoped>\n",
              "    .dataframe tbody tr th:only-of-type {\n",
              "        vertical-align: middle;\n",
              "    }\n",
              "\n",
              "    .dataframe tbody tr th {\n",
              "        vertical-align: top;\n",
              "    }\n",
              "\n",
              "    .dataframe thead th {\n",
              "        text-align: right;\n",
              "    }\n",
              "</style>\n",
              "<table border=\"1\" class=\"dataframe\">\n",
              "  <thead>\n",
              "    <tr style=\"text-align: right;\">\n",
              "      <th></th>\n",
              "      <th>0</th>\n",
              "    </tr>\n",
              "  </thead>\n",
              "  <tbody>\n",
              "    <tr>\n",
              "      <th>ID</th>\n",
              "      <td>0</td>\n",
              "    </tr>\n",
              "    <tr>\n",
              "      <th>Real_RD_PV_pHDosado</th>\n",
              "      <td>89</td>\n",
              "    </tr>\n",
              "    <tr>\n",
              "      <th>Real_RD_MV_ValvulaCalpHDosado</th>\n",
              "      <td>97</td>\n",
              "    </tr>\n",
              "    <tr>\n",
              "      <th>Real_RD_PV_VazaoDosado</th>\n",
              "      <td>64</td>\n",
              "    </tr>\n",
              "    <tr>\n",
              "      <th>Real_RD_ST_LimpezaPHmetro</th>\n",
              "      <td>99</td>\n",
              "    </tr>\n",
              "    <tr>\n",
              "      <th>Real_RD_PV_BaumeCal</th>\n",
              "      <td>89</td>\n",
              "    </tr>\n",
              "    <tr>\n",
              "      <th>Real_RD_PV_PressaoLinhaCal</th>\n",
              "      <td>88</td>\n",
              "    </tr>\n",
              "    <tr>\n",
              "      <th>Real_RD_MV_ValvulaCalpHDosado-2</th>\n",
              "      <td>97</td>\n",
              "    </tr>\n",
              "    <tr>\n",
              "      <th>Real_RD_MV_PressaoLinhaCal</th>\n",
              "      <td>51</td>\n",
              "    </tr>\n",
              "    <tr>\n",
              "      <th>Real_RD_PV_NivelTqCal</th>\n",
              "      <td>92</td>\n",
              "    </tr>\n",
              "    <tr>\n",
              "      <th>Real_RD_PV_NivelTqDosado</th>\n",
              "      <td>61</td>\n",
              "    </tr>\n",
              "  </tbody>\n",
              "</table>\n",
              "</div><br><label><b>dtype:</b> int64</label>"
            ]
          },
          "metadata": {},
          "execution_count": 78
        }
      ]
    },
    {
      "cell_type": "code",
      "execution_count": 79,
      "metadata": {
        "id": "k7veblrnOWPL",
        "outputId": "c4c93935-6143-4780-e967-ead835b5d6cb",
        "colab": {
          "base_uri": "https://localhost:8080/"
        }
      },
      "outputs": [
        {
          "output_type": "execute_result",
          "data": {
            "text/plain": [
              "['ID',\n",
              " 'Real_RD_PV_pHDosado',\n",
              " 'Real_RD_MV_ValvulaCalpHDosado',\n",
              " 'Real_RD_PV_VazaoDosado',\n",
              " 'Real_RD_ST_LimpezaPHmetro',\n",
              " 'Real_RD_PV_BaumeCal',\n",
              " 'Real_RD_PV_PressaoLinhaCal',\n",
              " 'Real_RD_MV_ValvulaCalpHDosado-2',\n",
              " 'Real_RD_MV_PressaoLinhaCal',\n",
              " 'Real_RD_PV_NivelTqCal',\n",
              " 'Real_RD_PV_NivelTqDosado']"
            ]
          },
          "metadata": {},
          "execution_count": 79
        }
      ],
      "source": [
        "list(df_raw.columns)"
      ]
    },
    {
      "cell_type": "code",
      "execution_count": 80,
      "metadata": {
        "id": "GqDXmYMBOWPL",
        "outputId": "b5a57622-2892-4ca9-ffff-7ba7a45f8af2",
        "colab": {
          "base_uri": "https://localhost:8080/",
          "height": 344
        }
      },
      "outputs": [
        {
          "output_type": "execute_result",
          "data": {
            "text/plain": [
              "                         ID  Real_RD_PV_pHDosado  \\\n",
              "timezone                                           \n",
              "2024-07-13 14:28:22  393652               7.1260   \n",
              "2024-07-13 14:28:25  393653               7.1225   \n",
              "2024-07-13 14:28:28  393654               7.1225   \n",
              "2024-07-13 14:28:31  393655               7.1260   \n",
              "2024-07-13 14:28:34  393656               7.1225   \n",
              "\n",
              "                     Real_RD_MV_ValvulaCalpHDosado  Real_RD_PV_VazaoDosado  \\\n",
              "timezone                                                                     \n",
              "2024-07-13 14:28:22                      37.128124                 899.625   \n",
              "2024-07-13 14:28:25                      37.178123                 899.625   \n",
              "2024-07-13 14:28:28                      37.187500                 899.625   \n",
              "2024-07-13 14:28:31                      37.331249                 899.625   \n",
              "2024-07-13 14:28:34                      37.218750                 900.375   \n",
              "\n",
              "                     Real_RD_ST_LimpezaPHmetro  Real_RD_PV_BaumeCal  \\\n",
              "timezone                                                              \n",
              "2024-07-13 14:28:22                        0.0            20.454374   \n",
              "2024-07-13 14:28:25                        0.0            20.454374   \n",
              "2024-07-13 14:28:28                        0.0            20.454374   \n",
              "2024-07-13 14:28:31                        0.0            20.454374   \n",
              "2024-07-13 14:28:34                        0.0            20.454374   \n",
              "\n",
              "                     Real_RD_PV_PressaoLinhaCal  \\\n",
              "timezone                                          \n",
              "2024-07-13 14:28:22                    0.798437   \n",
              "2024-07-13 14:28:25                    0.798437   \n",
              "2024-07-13 14:28:28                    0.796875   \n",
              "2024-07-13 14:28:31                    0.798437   \n",
              "2024-07-13 14:28:34                    0.798437   \n",
              "\n",
              "                     Real_RD_MV_ValvulaCalpHDosado-2  \\\n",
              "timezone                                               \n",
              "2024-07-13 14:28:22                        37.128124   \n",
              "2024-07-13 14:28:25                        37.178123   \n",
              "2024-07-13 14:28:28                        37.187500   \n",
              "2024-07-13 14:28:31                        37.331249   \n",
              "2024-07-13 14:28:34                        37.218750   \n",
              "\n",
              "                     Real_RD_MV_PressaoLinhaCal  Real_RD_PV_NivelTqCal  \\\n",
              "timezone                                                                 \n",
              "2024-07-13 14:28:22                   74.546875               98.31250   \n",
              "2024-07-13 14:28:25                   74.578125               98.34375   \n",
              "2024-07-13 14:28:28                   74.559375               98.40625   \n",
              "2024-07-13 14:28:31                   74.596875               98.50000   \n",
              "2024-07-13 14:28:34                   74.562500               98.25000   \n",
              "\n",
              "                     Real_RD_PV_NivelTqDosado  \n",
              "timezone                                       \n",
              "2024-07-13 14:28:22                  73.84375  \n",
              "2024-07-13 14:28:25                  73.87500  \n",
              "2024-07-13 14:28:28                  73.87500  \n",
              "2024-07-13 14:28:31                  73.84375  \n",
              "2024-07-13 14:28:34                  73.87500  "
            ],
            "text/html": [
              "\n",
              "  <div id=\"df-86f79562-cea6-4d0c-b4aa-30ac10d61b80\" class=\"colab-df-container\">\n",
              "    <div>\n",
              "<style scoped>\n",
              "    .dataframe tbody tr th:only-of-type {\n",
              "        vertical-align: middle;\n",
              "    }\n",
              "\n",
              "    .dataframe tbody tr th {\n",
              "        vertical-align: top;\n",
              "    }\n",
              "\n",
              "    .dataframe thead th {\n",
              "        text-align: right;\n",
              "    }\n",
              "</style>\n",
              "<table border=\"1\" class=\"dataframe\">\n",
              "  <thead>\n",
              "    <tr style=\"text-align: right;\">\n",
              "      <th></th>\n",
              "      <th>ID</th>\n",
              "      <th>Real_RD_PV_pHDosado</th>\n",
              "      <th>Real_RD_MV_ValvulaCalpHDosado</th>\n",
              "      <th>Real_RD_PV_VazaoDosado</th>\n",
              "      <th>Real_RD_ST_LimpezaPHmetro</th>\n",
              "      <th>Real_RD_PV_BaumeCal</th>\n",
              "      <th>Real_RD_PV_PressaoLinhaCal</th>\n",
              "      <th>Real_RD_MV_ValvulaCalpHDosado-2</th>\n",
              "      <th>Real_RD_MV_PressaoLinhaCal</th>\n",
              "      <th>Real_RD_PV_NivelTqCal</th>\n",
              "      <th>Real_RD_PV_NivelTqDosado</th>\n",
              "    </tr>\n",
              "    <tr>\n",
              "      <th>timezone</th>\n",
              "      <th></th>\n",
              "      <th></th>\n",
              "      <th></th>\n",
              "      <th></th>\n",
              "      <th></th>\n",
              "      <th></th>\n",
              "      <th></th>\n",
              "      <th></th>\n",
              "      <th></th>\n",
              "      <th></th>\n",
              "      <th></th>\n",
              "    </tr>\n",
              "  </thead>\n",
              "  <tbody>\n",
              "    <tr>\n",
              "      <th>2024-07-13 14:28:22</th>\n",
              "      <td>393652</td>\n",
              "      <td>7.1260</td>\n",
              "      <td>37.128124</td>\n",
              "      <td>899.625</td>\n",
              "      <td>0.0</td>\n",
              "      <td>20.454374</td>\n",
              "      <td>0.798437</td>\n",
              "      <td>37.128124</td>\n",
              "      <td>74.546875</td>\n",
              "      <td>98.31250</td>\n",
              "      <td>73.84375</td>\n",
              "    </tr>\n",
              "    <tr>\n",
              "      <th>2024-07-13 14:28:25</th>\n",
              "      <td>393653</td>\n",
              "      <td>7.1225</td>\n",
              "      <td>37.178123</td>\n",
              "      <td>899.625</td>\n",
              "      <td>0.0</td>\n",
              "      <td>20.454374</td>\n",
              "      <td>0.798437</td>\n",
              "      <td>37.178123</td>\n",
              "      <td>74.578125</td>\n",
              "      <td>98.34375</td>\n",
              "      <td>73.87500</td>\n",
              "    </tr>\n",
              "    <tr>\n",
              "      <th>2024-07-13 14:28:28</th>\n",
              "      <td>393654</td>\n",
              "      <td>7.1225</td>\n",
              "      <td>37.187500</td>\n",
              "      <td>899.625</td>\n",
              "      <td>0.0</td>\n",
              "      <td>20.454374</td>\n",
              "      <td>0.796875</td>\n",
              "      <td>37.187500</td>\n",
              "      <td>74.559375</td>\n",
              "      <td>98.40625</td>\n",
              "      <td>73.87500</td>\n",
              "    </tr>\n",
              "    <tr>\n",
              "      <th>2024-07-13 14:28:31</th>\n",
              "      <td>393655</td>\n",
              "      <td>7.1260</td>\n",
              "      <td>37.331249</td>\n",
              "      <td>899.625</td>\n",
              "      <td>0.0</td>\n",
              "      <td>20.454374</td>\n",
              "      <td>0.798437</td>\n",
              "      <td>37.331249</td>\n",
              "      <td>74.596875</td>\n",
              "      <td>98.50000</td>\n",
              "      <td>73.84375</td>\n",
              "    </tr>\n",
              "    <tr>\n",
              "      <th>2024-07-13 14:28:34</th>\n",
              "      <td>393656</td>\n",
              "      <td>7.1225</td>\n",
              "      <td>37.218750</td>\n",
              "      <td>900.375</td>\n",
              "      <td>0.0</td>\n",
              "      <td>20.454374</td>\n",
              "      <td>0.798437</td>\n",
              "      <td>37.218750</td>\n",
              "      <td>74.562500</td>\n",
              "      <td>98.25000</td>\n",
              "      <td>73.87500</td>\n",
              "    </tr>\n",
              "  </tbody>\n",
              "</table>\n",
              "</div>\n",
              "    <div class=\"colab-df-buttons\">\n",
              "\n",
              "  <div class=\"colab-df-container\">\n",
              "    <button class=\"colab-df-convert\" onclick=\"convertToInteractive('df-86f79562-cea6-4d0c-b4aa-30ac10d61b80')\"\n",
              "            title=\"Convert this dataframe to an interactive table.\"\n",
              "            style=\"display:none;\">\n",
              "\n",
              "  <svg xmlns=\"http://www.w3.org/2000/svg\" height=\"24px\" viewBox=\"0 -960 960 960\">\n",
              "    <path d=\"M120-120v-720h720v720H120Zm60-500h600v-160H180v160Zm220 220h160v-160H400v160Zm0 220h160v-160H400v160ZM180-400h160v-160H180v160Zm440 0h160v-160H620v160ZM180-180h160v-160H180v160Zm440 0h160v-160H620v160Z\"/>\n",
              "  </svg>\n",
              "    </button>\n",
              "\n",
              "  <style>\n",
              "    .colab-df-container {\n",
              "      display:flex;\n",
              "      gap: 12px;\n",
              "    }\n",
              "\n",
              "    .colab-df-convert {\n",
              "      background-color: #E8F0FE;\n",
              "      border: none;\n",
              "      border-radius: 50%;\n",
              "      cursor: pointer;\n",
              "      display: none;\n",
              "      fill: #1967D2;\n",
              "      height: 32px;\n",
              "      padding: 0 0 0 0;\n",
              "      width: 32px;\n",
              "    }\n",
              "\n",
              "    .colab-df-convert:hover {\n",
              "      background-color: #E2EBFA;\n",
              "      box-shadow: 0px 1px 2px rgba(60, 64, 67, 0.3), 0px 1px 3px 1px rgba(60, 64, 67, 0.15);\n",
              "      fill: #174EA6;\n",
              "    }\n",
              "\n",
              "    .colab-df-buttons div {\n",
              "      margin-bottom: 4px;\n",
              "    }\n",
              "\n",
              "    [theme=dark] .colab-df-convert {\n",
              "      background-color: #3B4455;\n",
              "      fill: #D2E3FC;\n",
              "    }\n",
              "\n",
              "    [theme=dark] .colab-df-convert:hover {\n",
              "      background-color: #434B5C;\n",
              "      box-shadow: 0px 1px 3px 1px rgba(0, 0, 0, 0.15);\n",
              "      filter: drop-shadow(0px 1px 2px rgba(0, 0, 0, 0.3));\n",
              "      fill: #FFFFFF;\n",
              "    }\n",
              "  </style>\n",
              "\n",
              "    <script>\n",
              "      const buttonEl =\n",
              "        document.querySelector('#df-86f79562-cea6-4d0c-b4aa-30ac10d61b80 button.colab-df-convert');\n",
              "      buttonEl.style.display =\n",
              "        google.colab.kernel.accessAllowed ? 'block' : 'none';\n",
              "\n",
              "      async function convertToInteractive(key) {\n",
              "        const element = document.querySelector('#df-86f79562-cea6-4d0c-b4aa-30ac10d61b80');\n",
              "        const dataTable =\n",
              "          await google.colab.kernel.invokeFunction('convertToInteractive',\n",
              "                                                    [key], {});\n",
              "        if (!dataTable) return;\n",
              "\n",
              "        const docLinkHtml = 'Like what you see? Visit the ' +\n",
              "          '<a target=\"_blank\" href=https://colab.research.google.com/notebooks/data_table.ipynb>data table notebook</a>'\n",
              "          + ' to learn more about interactive tables.';\n",
              "        element.innerHTML = '';\n",
              "        dataTable['output_type'] = 'display_data';\n",
              "        await google.colab.output.renderOutput(dataTable, element);\n",
              "        const docLink = document.createElement('div');\n",
              "        docLink.innerHTML = docLinkHtml;\n",
              "        element.appendChild(docLink);\n",
              "      }\n",
              "    </script>\n",
              "  </div>\n",
              "\n",
              "\n",
              "<div id=\"df-546f4b8b-61db-4362-a4ae-9bb6d938201d\">\n",
              "  <button class=\"colab-df-quickchart\" onclick=\"quickchart('df-546f4b8b-61db-4362-a4ae-9bb6d938201d')\"\n",
              "            title=\"Suggest charts\"\n",
              "            style=\"display:none;\">\n",
              "\n",
              "<svg xmlns=\"http://www.w3.org/2000/svg\" height=\"24px\"viewBox=\"0 0 24 24\"\n",
              "     width=\"24px\">\n",
              "    <g>\n",
              "        <path d=\"M19 3H5c-1.1 0-2 .9-2 2v14c0 1.1.9 2 2 2h14c1.1 0 2-.9 2-2V5c0-1.1-.9-2-2-2zM9 17H7v-7h2v7zm4 0h-2V7h2v10zm4 0h-2v-4h2v4z\"/>\n",
              "    </g>\n",
              "</svg>\n",
              "  </button>\n",
              "\n",
              "<style>\n",
              "  .colab-df-quickchart {\n",
              "      --bg-color: #E8F0FE;\n",
              "      --fill-color: #1967D2;\n",
              "      --hover-bg-color: #E2EBFA;\n",
              "      --hover-fill-color: #174EA6;\n",
              "      --disabled-fill-color: #AAA;\n",
              "      --disabled-bg-color: #DDD;\n",
              "  }\n",
              "\n",
              "  [theme=dark] .colab-df-quickchart {\n",
              "      --bg-color: #3B4455;\n",
              "      --fill-color: #D2E3FC;\n",
              "      --hover-bg-color: #434B5C;\n",
              "      --hover-fill-color: #FFFFFF;\n",
              "      --disabled-bg-color: #3B4455;\n",
              "      --disabled-fill-color: #666;\n",
              "  }\n",
              "\n",
              "  .colab-df-quickchart {\n",
              "    background-color: var(--bg-color);\n",
              "    border: none;\n",
              "    border-radius: 50%;\n",
              "    cursor: pointer;\n",
              "    display: none;\n",
              "    fill: var(--fill-color);\n",
              "    height: 32px;\n",
              "    padding: 0;\n",
              "    width: 32px;\n",
              "  }\n",
              "\n",
              "  .colab-df-quickchart:hover {\n",
              "    background-color: var(--hover-bg-color);\n",
              "    box-shadow: 0 1px 2px rgba(60, 64, 67, 0.3), 0 1px 3px 1px rgba(60, 64, 67, 0.15);\n",
              "    fill: var(--button-hover-fill-color);\n",
              "  }\n",
              "\n",
              "  .colab-df-quickchart-complete:disabled,\n",
              "  .colab-df-quickchart-complete:disabled:hover {\n",
              "    background-color: var(--disabled-bg-color);\n",
              "    fill: var(--disabled-fill-color);\n",
              "    box-shadow: none;\n",
              "  }\n",
              "\n",
              "  .colab-df-spinner {\n",
              "    border: 2px solid var(--fill-color);\n",
              "    border-color: transparent;\n",
              "    border-bottom-color: var(--fill-color);\n",
              "    animation:\n",
              "      spin 1s steps(1) infinite;\n",
              "  }\n",
              "\n",
              "  @keyframes spin {\n",
              "    0% {\n",
              "      border-color: transparent;\n",
              "      border-bottom-color: var(--fill-color);\n",
              "      border-left-color: var(--fill-color);\n",
              "    }\n",
              "    20% {\n",
              "      border-color: transparent;\n",
              "      border-left-color: var(--fill-color);\n",
              "      border-top-color: var(--fill-color);\n",
              "    }\n",
              "    30% {\n",
              "      border-color: transparent;\n",
              "      border-left-color: var(--fill-color);\n",
              "      border-top-color: var(--fill-color);\n",
              "      border-right-color: var(--fill-color);\n",
              "    }\n",
              "    40% {\n",
              "      border-color: transparent;\n",
              "      border-right-color: var(--fill-color);\n",
              "      border-top-color: var(--fill-color);\n",
              "    }\n",
              "    60% {\n",
              "      border-color: transparent;\n",
              "      border-right-color: var(--fill-color);\n",
              "    }\n",
              "    80% {\n",
              "      border-color: transparent;\n",
              "      border-right-color: var(--fill-color);\n",
              "      border-bottom-color: var(--fill-color);\n",
              "    }\n",
              "    90% {\n",
              "      border-color: transparent;\n",
              "      border-bottom-color: var(--fill-color);\n",
              "    }\n",
              "  }\n",
              "</style>\n",
              "\n",
              "  <script>\n",
              "    async function quickchart(key) {\n",
              "      const quickchartButtonEl =\n",
              "        document.querySelector('#' + key + ' button');\n",
              "      quickchartButtonEl.disabled = true;  // To prevent multiple clicks.\n",
              "      quickchartButtonEl.classList.add('colab-df-spinner');\n",
              "      try {\n",
              "        const charts = await google.colab.kernel.invokeFunction(\n",
              "            'suggestCharts', [key], {});\n",
              "      } catch (error) {\n",
              "        console.error('Error during call to suggestCharts:', error);\n",
              "      }\n",
              "      quickchartButtonEl.classList.remove('colab-df-spinner');\n",
              "      quickchartButtonEl.classList.add('colab-df-quickchart-complete');\n",
              "    }\n",
              "    (() => {\n",
              "      let quickchartButtonEl =\n",
              "        document.querySelector('#df-546f4b8b-61db-4362-a4ae-9bb6d938201d button');\n",
              "      quickchartButtonEl.style.display =\n",
              "        google.colab.kernel.accessAllowed ? 'block' : 'none';\n",
              "    })();\n",
              "  </script>\n",
              "</div>\n",
              "\n",
              "    </div>\n",
              "  </div>\n"
            ],
            "application/vnd.google.colaboratory.intrinsic+json": {
              "type": "dataframe",
              "variable_name": "df_raw"
            }
          },
          "metadata": {},
          "execution_count": 80
        }
      ],
      "source": [
        "df_raw.head()\n"
      ]
    },
    {
      "cell_type": "markdown",
      "metadata": {
        "id": "o3fHLsR7OWPM"
      },
      "source": [
        "## Pré-processamento"
      ]
    },
    {
      "cell_type": "code",
      "execution_count": 81,
      "metadata": {
        "id": "6PoB0tJOOWPO"
      },
      "outputs": [],
      "source": [
        "minute = 20 # Observações por minuto\n",
        "hour = minute * 60\n",
        "day = hour * 24"
      ]
    },
    {
      "cell_type": "code",
      "execution_count": 82,
      "metadata": {
        "id": "PvLb0YY9OWPO",
        "outputId": "3e6b8f88-c2d6-4565-9081-f8744c33faf1",
        "colab": {
          "base_uri": "https://localhost:8080/",
          "height": 344
        }
      },
      "outputs": [
        {
          "output_type": "execute_result",
          "data": {
            "text/plain": [
              "                     Real_RD_PV_pHDosado  Real_RD_MV_ValvulaCalpHDosado  \\\n",
              "timezone                                                                  \n",
              "2024-09-01 22:16:02               7.5110                      40.787498   \n",
              "2024-09-01 22:16:05               7.5110                      40.896873   \n",
              "2024-09-01 22:16:08               7.5110                      41.053123   \n",
              "2024-09-01 22:16:11               7.5075                      41.131248   \n",
              "2024-09-01 22:16:14               7.5075                      41.193748   \n",
              "\n",
              "                     Real_RD_PV_VazaoDosado  Real_RD_ST_LimpezaPHmetro  \\\n",
              "timezone                                                                 \n",
              "2024-09-01 22:16:02                1049.625                        0.0   \n",
              "2024-09-01 22:16:05                1048.500                        0.0   \n",
              "2024-09-01 22:16:08                1049.625                        0.0   \n",
              "2024-09-01 22:16:11                1050.000                        0.0   \n",
              "2024-09-01 22:16:14                1050.000                        0.0   \n",
              "\n",
              "                     Real_RD_PV_PressaoLinhaCal  \\\n",
              "timezone                                          \n",
              "2024-09-01 22:16:02                    0.800000   \n",
              "2024-09-01 22:16:05                    0.800000   \n",
              "2024-09-01 22:16:08                    0.798437   \n",
              "2024-09-01 22:16:11                    0.795313   \n",
              "2024-09-01 22:16:14                    0.793750   \n",
              "\n",
              "                     Real_RD_MV_ValvulaCalpHDosado-2  \\\n",
              "timezone                                               \n",
              "2024-09-01 22:16:02                        40.787498   \n",
              "2024-09-01 22:16:05                        40.896873   \n",
              "2024-09-01 22:16:08                        41.053123   \n",
              "2024-09-01 22:16:11                        41.131248   \n",
              "2024-09-01 22:16:14                        41.193748   \n",
              "\n",
              "                     Real_RD_MV_PressaoLinhaCal  Real_RD_PV_NivelTqCal  \\\n",
              "timezone                                                                 \n",
              "2024-09-01 22:16:02                   80.568750               98.65625   \n",
              "2024-09-01 22:16:05                   80.568750               98.59375   \n",
              "2024-09-01 22:16:08                   80.593750               98.65625   \n",
              "2024-09-01 22:16:11                   80.609375               98.59375   \n",
              "2024-09-01 22:16:14                   80.634375               98.53125   \n",
              "\n",
              "                     Real_RD_PV_NivelTqDosado  \n",
              "timezone                                       \n",
              "2024-09-01 22:16:02                  74.46875  \n",
              "2024-09-01 22:16:05                  74.31250  \n",
              "2024-09-01 22:16:08                  74.09375  \n",
              "2024-09-01 22:16:11                  74.09375  \n",
              "2024-09-01 22:16:14                  73.93750  "
            ],
            "text/html": [
              "\n",
              "  <div id=\"df-3385071f-da82-4d9f-9cff-b62fed7f241d\" class=\"colab-df-container\">\n",
              "    <div>\n",
              "<style scoped>\n",
              "    .dataframe tbody tr th:only-of-type {\n",
              "        vertical-align: middle;\n",
              "    }\n",
              "\n",
              "    .dataframe tbody tr th {\n",
              "        vertical-align: top;\n",
              "    }\n",
              "\n",
              "    .dataframe thead th {\n",
              "        text-align: right;\n",
              "    }\n",
              "</style>\n",
              "<table border=\"1\" class=\"dataframe\">\n",
              "  <thead>\n",
              "    <tr style=\"text-align: right;\">\n",
              "      <th></th>\n",
              "      <th>Real_RD_PV_pHDosado</th>\n",
              "      <th>Real_RD_MV_ValvulaCalpHDosado</th>\n",
              "      <th>Real_RD_PV_VazaoDosado</th>\n",
              "      <th>Real_RD_ST_LimpezaPHmetro</th>\n",
              "      <th>Real_RD_PV_PressaoLinhaCal</th>\n",
              "      <th>Real_RD_MV_ValvulaCalpHDosado-2</th>\n",
              "      <th>Real_RD_MV_PressaoLinhaCal</th>\n",
              "      <th>Real_RD_PV_NivelTqCal</th>\n",
              "      <th>Real_RD_PV_NivelTqDosado</th>\n",
              "    </tr>\n",
              "    <tr>\n",
              "      <th>timezone</th>\n",
              "      <th></th>\n",
              "      <th></th>\n",
              "      <th></th>\n",
              "      <th></th>\n",
              "      <th></th>\n",
              "      <th></th>\n",
              "      <th></th>\n",
              "      <th></th>\n",
              "      <th></th>\n",
              "    </tr>\n",
              "  </thead>\n",
              "  <tbody>\n",
              "    <tr>\n",
              "      <th>2024-09-01 22:16:02</th>\n",
              "      <td>7.5110</td>\n",
              "      <td>40.787498</td>\n",
              "      <td>1049.625</td>\n",
              "      <td>0.0</td>\n",
              "      <td>0.800000</td>\n",
              "      <td>40.787498</td>\n",
              "      <td>80.568750</td>\n",
              "      <td>98.65625</td>\n",
              "      <td>74.46875</td>\n",
              "    </tr>\n",
              "    <tr>\n",
              "      <th>2024-09-01 22:16:05</th>\n",
              "      <td>7.5110</td>\n",
              "      <td>40.896873</td>\n",
              "      <td>1048.500</td>\n",
              "      <td>0.0</td>\n",
              "      <td>0.800000</td>\n",
              "      <td>40.896873</td>\n",
              "      <td>80.568750</td>\n",
              "      <td>98.59375</td>\n",
              "      <td>74.31250</td>\n",
              "    </tr>\n",
              "    <tr>\n",
              "      <th>2024-09-01 22:16:08</th>\n",
              "      <td>7.5110</td>\n",
              "      <td>41.053123</td>\n",
              "      <td>1049.625</td>\n",
              "      <td>0.0</td>\n",
              "      <td>0.798437</td>\n",
              "      <td>41.053123</td>\n",
              "      <td>80.593750</td>\n",
              "      <td>98.65625</td>\n",
              "      <td>74.09375</td>\n",
              "    </tr>\n",
              "    <tr>\n",
              "      <th>2024-09-01 22:16:11</th>\n",
              "      <td>7.5075</td>\n",
              "      <td>41.131248</td>\n",
              "      <td>1050.000</td>\n",
              "      <td>0.0</td>\n",
              "      <td>0.795313</td>\n",
              "      <td>41.131248</td>\n",
              "      <td>80.609375</td>\n",
              "      <td>98.59375</td>\n",
              "      <td>74.09375</td>\n",
              "    </tr>\n",
              "    <tr>\n",
              "      <th>2024-09-01 22:16:14</th>\n",
              "      <td>7.5075</td>\n",
              "      <td>41.193748</td>\n",
              "      <td>1050.000</td>\n",
              "      <td>0.0</td>\n",
              "      <td>0.793750</td>\n",
              "      <td>41.193748</td>\n",
              "      <td>80.634375</td>\n",
              "      <td>98.53125</td>\n",
              "      <td>73.93750</td>\n",
              "    </tr>\n",
              "  </tbody>\n",
              "</table>\n",
              "</div>\n",
              "    <div class=\"colab-df-buttons\">\n",
              "\n",
              "  <div class=\"colab-df-container\">\n",
              "    <button class=\"colab-df-convert\" onclick=\"convertToInteractive('df-3385071f-da82-4d9f-9cff-b62fed7f241d')\"\n",
              "            title=\"Convert this dataframe to an interactive table.\"\n",
              "            style=\"display:none;\">\n",
              "\n",
              "  <svg xmlns=\"http://www.w3.org/2000/svg\" height=\"24px\" viewBox=\"0 -960 960 960\">\n",
              "    <path d=\"M120-120v-720h720v720H120Zm60-500h600v-160H180v160Zm220 220h160v-160H400v160Zm0 220h160v-160H400v160ZM180-400h160v-160H180v160Zm440 0h160v-160H620v160ZM180-180h160v-160H180v160Zm440 0h160v-160H620v160Z\"/>\n",
              "  </svg>\n",
              "    </button>\n",
              "\n",
              "  <style>\n",
              "    .colab-df-container {\n",
              "      display:flex;\n",
              "      gap: 12px;\n",
              "    }\n",
              "\n",
              "    .colab-df-convert {\n",
              "      background-color: #E8F0FE;\n",
              "      border: none;\n",
              "      border-radius: 50%;\n",
              "      cursor: pointer;\n",
              "      display: none;\n",
              "      fill: #1967D2;\n",
              "      height: 32px;\n",
              "      padding: 0 0 0 0;\n",
              "      width: 32px;\n",
              "    }\n",
              "\n",
              "    .colab-df-convert:hover {\n",
              "      background-color: #E2EBFA;\n",
              "      box-shadow: 0px 1px 2px rgba(60, 64, 67, 0.3), 0px 1px 3px 1px rgba(60, 64, 67, 0.15);\n",
              "      fill: #174EA6;\n",
              "    }\n",
              "\n",
              "    .colab-df-buttons div {\n",
              "      margin-bottom: 4px;\n",
              "    }\n",
              "\n",
              "    [theme=dark] .colab-df-convert {\n",
              "      background-color: #3B4455;\n",
              "      fill: #D2E3FC;\n",
              "    }\n",
              "\n",
              "    [theme=dark] .colab-df-convert:hover {\n",
              "      background-color: #434B5C;\n",
              "      box-shadow: 0px 1px 3px 1px rgba(0, 0, 0, 0.15);\n",
              "      filter: drop-shadow(0px 1px 2px rgba(0, 0, 0, 0.3));\n",
              "      fill: #FFFFFF;\n",
              "    }\n",
              "  </style>\n",
              "\n",
              "    <script>\n",
              "      const buttonEl =\n",
              "        document.querySelector('#df-3385071f-da82-4d9f-9cff-b62fed7f241d button.colab-df-convert');\n",
              "      buttonEl.style.display =\n",
              "        google.colab.kernel.accessAllowed ? 'block' : 'none';\n",
              "\n",
              "      async function convertToInteractive(key) {\n",
              "        const element = document.querySelector('#df-3385071f-da82-4d9f-9cff-b62fed7f241d');\n",
              "        const dataTable =\n",
              "          await google.colab.kernel.invokeFunction('convertToInteractive',\n",
              "                                                    [key], {});\n",
              "        if (!dataTable) return;\n",
              "\n",
              "        const docLinkHtml = 'Like what you see? Visit the ' +\n",
              "          '<a target=\"_blank\" href=https://colab.research.google.com/notebooks/data_table.ipynb>data table notebook</a>'\n",
              "          + ' to learn more about interactive tables.';\n",
              "        element.innerHTML = '';\n",
              "        dataTable['output_type'] = 'display_data';\n",
              "        await google.colab.output.renderOutput(dataTable, element);\n",
              "        const docLink = document.createElement('div');\n",
              "        docLink.innerHTML = docLinkHtml;\n",
              "        element.appendChild(docLink);\n",
              "      }\n",
              "    </script>\n",
              "  </div>\n",
              "\n",
              "\n",
              "<div id=\"df-c028dd37-4254-49cb-b060-7f91874096fe\">\n",
              "  <button class=\"colab-df-quickchart\" onclick=\"quickchart('df-c028dd37-4254-49cb-b060-7f91874096fe')\"\n",
              "            title=\"Suggest charts\"\n",
              "            style=\"display:none;\">\n",
              "\n",
              "<svg xmlns=\"http://www.w3.org/2000/svg\" height=\"24px\"viewBox=\"0 0 24 24\"\n",
              "     width=\"24px\">\n",
              "    <g>\n",
              "        <path d=\"M19 3H5c-1.1 0-2 .9-2 2v14c0 1.1.9 2 2 2h14c1.1 0 2-.9 2-2V5c0-1.1-.9-2-2-2zM9 17H7v-7h2v7zm4 0h-2V7h2v10zm4 0h-2v-4h2v4z\"/>\n",
              "    </g>\n",
              "</svg>\n",
              "  </button>\n",
              "\n",
              "<style>\n",
              "  .colab-df-quickchart {\n",
              "      --bg-color: #E8F0FE;\n",
              "      --fill-color: #1967D2;\n",
              "      --hover-bg-color: #E2EBFA;\n",
              "      --hover-fill-color: #174EA6;\n",
              "      --disabled-fill-color: #AAA;\n",
              "      --disabled-bg-color: #DDD;\n",
              "  }\n",
              "\n",
              "  [theme=dark] .colab-df-quickchart {\n",
              "      --bg-color: #3B4455;\n",
              "      --fill-color: #D2E3FC;\n",
              "      --hover-bg-color: #434B5C;\n",
              "      --hover-fill-color: #FFFFFF;\n",
              "      --disabled-bg-color: #3B4455;\n",
              "      --disabled-fill-color: #666;\n",
              "  }\n",
              "\n",
              "  .colab-df-quickchart {\n",
              "    background-color: var(--bg-color);\n",
              "    border: none;\n",
              "    border-radius: 50%;\n",
              "    cursor: pointer;\n",
              "    display: none;\n",
              "    fill: var(--fill-color);\n",
              "    height: 32px;\n",
              "    padding: 0;\n",
              "    width: 32px;\n",
              "  }\n",
              "\n",
              "  .colab-df-quickchart:hover {\n",
              "    background-color: var(--hover-bg-color);\n",
              "    box-shadow: 0 1px 2px rgba(60, 64, 67, 0.3), 0 1px 3px 1px rgba(60, 64, 67, 0.15);\n",
              "    fill: var(--button-hover-fill-color);\n",
              "  }\n",
              "\n",
              "  .colab-df-quickchart-complete:disabled,\n",
              "  .colab-df-quickchart-complete:disabled:hover {\n",
              "    background-color: var(--disabled-bg-color);\n",
              "    fill: var(--disabled-fill-color);\n",
              "    box-shadow: none;\n",
              "  }\n",
              "\n",
              "  .colab-df-spinner {\n",
              "    border: 2px solid var(--fill-color);\n",
              "    border-color: transparent;\n",
              "    border-bottom-color: var(--fill-color);\n",
              "    animation:\n",
              "      spin 1s steps(1) infinite;\n",
              "  }\n",
              "\n",
              "  @keyframes spin {\n",
              "    0% {\n",
              "      border-color: transparent;\n",
              "      border-bottom-color: var(--fill-color);\n",
              "      border-left-color: var(--fill-color);\n",
              "    }\n",
              "    20% {\n",
              "      border-color: transparent;\n",
              "      border-left-color: var(--fill-color);\n",
              "      border-top-color: var(--fill-color);\n",
              "    }\n",
              "    30% {\n",
              "      border-color: transparent;\n",
              "      border-left-color: var(--fill-color);\n",
              "      border-top-color: var(--fill-color);\n",
              "      border-right-color: var(--fill-color);\n",
              "    }\n",
              "    40% {\n",
              "      border-color: transparent;\n",
              "      border-right-color: var(--fill-color);\n",
              "      border-top-color: var(--fill-color);\n",
              "    }\n",
              "    60% {\n",
              "      border-color: transparent;\n",
              "      border-right-color: var(--fill-color);\n",
              "    }\n",
              "    80% {\n",
              "      border-color: transparent;\n",
              "      border-right-color: var(--fill-color);\n",
              "      border-bottom-color: var(--fill-color);\n",
              "    }\n",
              "    90% {\n",
              "      border-color: transparent;\n",
              "      border-bottom-color: var(--fill-color);\n",
              "    }\n",
              "  }\n",
              "</style>\n",
              "\n",
              "  <script>\n",
              "    async function quickchart(key) {\n",
              "      const quickchartButtonEl =\n",
              "        document.querySelector('#' + key + ' button');\n",
              "      quickchartButtonEl.disabled = true;  // To prevent multiple clicks.\n",
              "      quickchartButtonEl.classList.add('colab-df-spinner');\n",
              "      try {\n",
              "        const charts = await google.colab.kernel.invokeFunction(\n",
              "            'suggestCharts', [key], {});\n",
              "      } catch (error) {\n",
              "        console.error('Error during call to suggestCharts:', error);\n",
              "      }\n",
              "      quickchartButtonEl.classList.remove('colab-df-spinner');\n",
              "      quickchartButtonEl.classList.add('colab-df-quickchart-complete');\n",
              "    }\n",
              "    (() => {\n",
              "      let quickchartButtonEl =\n",
              "        document.querySelector('#df-c028dd37-4254-49cb-b060-7f91874096fe button');\n",
              "      quickchartButtonEl.style.display =\n",
              "        google.colab.kernel.accessAllowed ? 'block' : 'none';\n",
              "    })();\n",
              "  </script>\n",
              "</div>\n",
              "\n",
              "    </div>\n",
              "  </div>\n"
            ],
            "application/vnd.google.colaboratory.intrinsic+json": {
              "type": "dataframe",
              "variable_name": "df"
            }
          },
          "metadata": {},
          "execution_count": 82
        }
      ],
      "source": [
        "df = df_raw.dropna() # Drop nulls\n",
        "df = df.tail(day * 10) # Seleciona apenas os últimos dez dias\n",
        "df = df.drop(columns=['ID', 'Real_RD_PV_BaumeCal']) # Features não usadas\n",
        "df.head()"
      ]
    },
    {
      "cell_type": "code",
      "execution_count": 83,
      "metadata": {
        "id": "LlFFObnLOWPO"
      },
      "outputs": [],
      "source": [
        "# Normalização\n",
        "from sklearn.preprocessing import MinMaxScaler\n",
        "\n",
        "scaler = MinMaxScaler()\n",
        "normalized_data = scaler.fit_transform(df)\n",
        "normalized_df = pd.DataFrame(normalized_data, columns=df.columns)"
      ]
    },
    {
      "cell_type": "code",
      "execution_count": 84,
      "metadata": {
        "id": "XU5pdBt7OWPO"
      },
      "outputs": [],
      "source": [
        "# Porcentagem usada para treinar o modelo\n",
        "split_fraction = 0.715\n",
        "train_split = int(split_fraction * int(df.shape[0]))\n",
        "\n",
        "step = 1\n",
        "\n",
        "# Usaremos os dados da última hora para prever 5 minutos\n",
        "past = hour\n",
        "future = minute * 5\n",
        "\n",
        "learning_rate = 0.001\n",
        "batch_size = 256\n",
        "epochs = 10"
      ]
    },
    {
      "cell_type": "code",
      "execution_count": 85,
      "metadata": {
        "id": "4Jh4voPuOWPQ"
      },
      "outputs": [],
      "source": [
        "train_data = normalized_df.loc[0 : train_split - 1]\n",
        "val_data = normalized_df.loc[train_split:]"
      ]
    },
    {
      "cell_type": "code",
      "source": [
        "normalized_df"
      ],
      "metadata": {
        "id": "dD07bLOEUpVt",
        "outputId": "b6791c6d-22bd-4b9e-8331-22e765656403",
        "colab": {
          "base_uri": "https://localhost:8080/",
          "height": 444
        }
      },
      "execution_count": 86,
      "outputs": [
        {
          "output_type": "execute_result",
          "data": {
            "text/plain": [
              "        Real_RD_PV_pHDosado  Real_RD_MV_ValvulaCalpHDosado  \\\n",
              "0                  0.510448                       0.407875   \n",
              "1                  0.510448                       0.408969   \n",
              "2                  0.510448                       0.410531   \n",
              "3                  0.509851                       0.411312   \n",
              "4                  0.509851                       0.411937   \n",
              "...                     ...                            ...   \n",
              "287995             0.529552                       0.252062   \n",
              "287996             0.529552                       0.252281   \n",
              "287997             0.529552                       0.251969   \n",
              "287998             0.527761                       0.252750   \n",
              "287999             0.522985                       0.253625   \n",
              "\n",
              "        Real_RD_PV_VazaoDosado  Real_RD_ST_LimpezaPHmetro  \\\n",
              "0                     0.837935                        0.0   \n",
              "1                     0.837035                        0.0   \n",
              "2                     0.837935                        0.0   \n",
              "3                     0.838235                        0.0   \n",
              "4                     0.838235                        0.0   \n",
              "...                        ...                        ...   \n",
              "287995                0.668367                        0.0   \n",
              "287996                0.667767                        0.0   \n",
              "287997                0.668067                        0.0   \n",
              "287998                0.665966                        0.0   \n",
              "287999                0.666267                        0.0   \n",
              "\n",
              "        Real_RD_PV_PressaoLinhaCal  Real_RD_MV_ValvulaCalpHDosado-2  \\\n",
              "0                         0.553151                         0.407875   \n",
              "1                         0.553151                         0.408969   \n",
              "2                         0.552017                         0.410531   \n",
              "3                         0.549751                         0.411312   \n",
              "4                         0.548617                         0.411937   \n",
              "...                            ...                              ...   \n",
              "287995                    0.553151                         0.252062   \n",
              "287996                    0.553151                         0.252281   \n",
              "287997                    0.554284                         0.251969   \n",
              "287998                    0.556550                         0.252750   \n",
              "287999                    0.556550                         0.253625   \n",
              "\n",
              "        Real_RD_MV_PressaoLinhaCal  Real_RD_PV_NivelTqCal  \\\n",
              "0                         0.423405               0.904401   \n",
              "1                         0.423405               0.902737   \n",
              "2                         0.424147               0.904401   \n",
              "3                         0.424611               0.902737   \n",
              "4                         0.425352               0.901073   \n",
              "...                            ...                    ...   \n",
              "287995                    0.089114               0.958732   \n",
              "287996                    0.089948               0.964057   \n",
              "287997                    0.089484               0.968051   \n",
              "287998                    0.087259               0.959398   \n",
              "287999                    0.087723               0.960729   \n",
              "\n",
              "        Real_RD_PV_NivelTqDosado  \n",
              "0                       0.712759  \n",
              "1                       0.711141  \n",
              "2                       0.708874  \n",
              "3                       0.708874  \n",
              "4                       0.707255  \n",
              "...                          ...  \n",
              "287995                  0.139832  \n",
              "287996                  0.140804  \n",
              "287997                  0.139832  \n",
              "287998                  0.138537  \n",
              "287999                  0.137890  \n",
              "\n",
              "[288000 rows x 9 columns]"
            ],
            "text/html": [
              "\n",
              "  <div id=\"df-ea71285f-01ac-4051-9a05-8174c6eb117d\" class=\"colab-df-container\">\n",
              "    <div>\n",
              "<style scoped>\n",
              "    .dataframe tbody tr th:only-of-type {\n",
              "        vertical-align: middle;\n",
              "    }\n",
              "\n",
              "    .dataframe tbody tr th {\n",
              "        vertical-align: top;\n",
              "    }\n",
              "\n",
              "    .dataframe thead th {\n",
              "        text-align: right;\n",
              "    }\n",
              "</style>\n",
              "<table border=\"1\" class=\"dataframe\">\n",
              "  <thead>\n",
              "    <tr style=\"text-align: right;\">\n",
              "      <th></th>\n",
              "      <th>Real_RD_PV_pHDosado</th>\n",
              "      <th>Real_RD_MV_ValvulaCalpHDosado</th>\n",
              "      <th>Real_RD_PV_VazaoDosado</th>\n",
              "      <th>Real_RD_ST_LimpezaPHmetro</th>\n",
              "      <th>Real_RD_PV_PressaoLinhaCal</th>\n",
              "      <th>Real_RD_MV_ValvulaCalpHDosado-2</th>\n",
              "      <th>Real_RD_MV_PressaoLinhaCal</th>\n",
              "      <th>Real_RD_PV_NivelTqCal</th>\n",
              "      <th>Real_RD_PV_NivelTqDosado</th>\n",
              "    </tr>\n",
              "  </thead>\n",
              "  <tbody>\n",
              "    <tr>\n",
              "      <th>0</th>\n",
              "      <td>0.510448</td>\n",
              "      <td>0.407875</td>\n",
              "      <td>0.837935</td>\n",
              "      <td>0.0</td>\n",
              "      <td>0.553151</td>\n",
              "      <td>0.407875</td>\n",
              "      <td>0.423405</td>\n",
              "      <td>0.904401</td>\n",
              "      <td>0.712759</td>\n",
              "    </tr>\n",
              "    <tr>\n",
              "      <th>1</th>\n",
              "      <td>0.510448</td>\n",
              "      <td>0.408969</td>\n",
              "      <td>0.837035</td>\n",
              "      <td>0.0</td>\n",
              "      <td>0.553151</td>\n",
              "      <td>0.408969</td>\n",
              "      <td>0.423405</td>\n",
              "      <td>0.902737</td>\n",
              "      <td>0.711141</td>\n",
              "    </tr>\n",
              "    <tr>\n",
              "      <th>2</th>\n",
              "      <td>0.510448</td>\n",
              "      <td>0.410531</td>\n",
              "      <td>0.837935</td>\n",
              "      <td>0.0</td>\n",
              "      <td>0.552017</td>\n",
              "      <td>0.410531</td>\n",
              "      <td>0.424147</td>\n",
              "      <td>0.904401</td>\n",
              "      <td>0.708874</td>\n",
              "    </tr>\n",
              "    <tr>\n",
              "      <th>3</th>\n",
              "      <td>0.509851</td>\n",
              "      <td>0.411312</td>\n",
              "      <td>0.838235</td>\n",
              "      <td>0.0</td>\n",
              "      <td>0.549751</td>\n",
              "      <td>0.411312</td>\n",
              "      <td>0.424611</td>\n",
              "      <td>0.902737</td>\n",
              "      <td>0.708874</td>\n",
              "    </tr>\n",
              "    <tr>\n",
              "      <th>4</th>\n",
              "      <td>0.509851</td>\n",
              "      <td>0.411937</td>\n",
              "      <td>0.838235</td>\n",
              "      <td>0.0</td>\n",
              "      <td>0.548617</td>\n",
              "      <td>0.411937</td>\n",
              "      <td>0.425352</td>\n",
              "      <td>0.901073</td>\n",
              "      <td>0.707255</td>\n",
              "    </tr>\n",
              "    <tr>\n",
              "      <th>...</th>\n",
              "      <td>...</td>\n",
              "      <td>...</td>\n",
              "      <td>...</td>\n",
              "      <td>...</td>\n",
              "      <td>...</td>\n",
              "      <td>...</td>\n",
              "      <td>...</td>\n",
              "      <td>...</td>\n",
              "      <td>...</td>\n",
              "    </tr>\n",
              "    <tr>\n",
              "      <th>287995</th>\n",
              "      <td>0.529552</td>\n",
              "      <td>0.252062</td>\n",
              "      <td>0.668367</td>\n",
              "      <td>0.0</td>\n",
              "      <td>0.553151</td>\n",
              "      <td>0.252062</td>\n",
              "      <td>0.089114</td>\n",
              "      <td>0.958732</td>\n",
              "      <td>0.139832</td>\n",
              "    </tr>\n",
              "    <tr>\n",
              "      <th>287996</th>\n",
              "      <td>0.529552</td>\n",
              "      <td>0.252281</td>\n",
              "      <td>0.667767</td>\n",
              "      <td>0.0</td>\n",
              "      <td>0.553151</td>\n",
              "      <td>0.252281</td>\n",
              "      <td>0.089948</td>\n",
              "      <td>0.964057</td>\n",
              "      <td>0.140804</td>\n",
              "    </tr>\n",
              "    <tr>\n",
              "      <th>287997</th>\n",
              "      <td>0.529552</td>\n",
              "      <td>0.251969</td>\n",
              "      <td>0.668067</td>\n",
              "      <td>0.0</td>\n",
              "      <td>0.554284</td>\n",
              "      <td>0.251969</td>\n",
              "      <td>0.089484</td>\n",
              "      <td>0.968051</td>\n",
              "      <td>0.139832</td>\n",
              "    </tr>\n",
              "    <tr>\n",
              "      <th>287998</th>\n",
              "      <td>0.527761</td>\n",
              "      <td>0.252750</td>\n",
              "      <td>0.665966</td>\n",
              "      <td>0.0</td>\n",
              "      <td>0.556550</td>\n",
              "      <td>0.252750</td>\n",
              "      <td>0.087259</td>\n",
              "      <td>0.959398</td>\n",
              "      <td>0.138537</td>\n",
              "    </tr>\n",
              "    <tr>\n",
              "      <th>287999</th>\n",
              "      <td>0.522985</td>\n",
              "      <td>0.253625</td>\n",
              "      <td>0.666267</td>\n",
              "      <td>0.0</td>\n",
              "      <td>0.556550</td>\n",
              "      <td>0.253625</td>\n",
              "      <td>0.087723</td>\n",
              "      <td>0.960729</td>\n",
              "      <td>0.137890</td>\n",
              "    </tr>\n",
              "  </tbody>\n",
              "</table>\n",
              "<p>288000 rows × 9 columns</p>\n",
              "</div>\n",
              "    <div class=\"colab-df-buttons\">\n",
              "\n",
              "  <div class=\"colab-df-container\">\n",
              "    <button class=\"colab-df-convert\" onclick=\"convertToInteractive('df-ea71285f-01ac-4051-9a05-8174c6eb117d')\"\n",
              "            title=\"Convert this dataframe to an interactive table.\"\n",
              "            style=\"display:none;\">\n",
              "\n",
              "  <svg xmlns=\"http://www.w3.org/2000/svg\" height=\"24px\" viewBox=\"0 -960 960 960\">\n",
              "    <path d=\"M120-120v-720h720v720H120Zm60-500h600v-160H180v160Zm220 220h160v-160H400v160Zm0 220h160v-160H400v160ZM180-400h160v-160H180v160Zm440 0h160v-160H620v160ZM180-180h160v-160H180v160Zm440 0h160v-160H620v160Z\"/>\n",
              "  </svg>\n",
              "    </button>\n",
              "\n",
              "  <style>\n",
              "    .colab-df-container {\n",
              "      display:flex;\n",
              "      gap: 12px;\n",
              "    }\n",
              "\n",
              "    .colab-df-convert {\n",
              "      background-color: #E8F0FE;\n",
              "      border: none;\n",
              "      border-radius: 50%;\n",
              "      cursor: pointer;\n",
              "      display: none;\n",
              "      fill: #1967D2;\n",
              "      height: 32px;\n",
              "      padding: 0 0 0 0;\n",
              "      width: 32px;\n",
              "    }\n",
              "\n",
              "    .colab-df-convert:hover {\n",
              "      background-color: #E2EBFA;\n",
              "      box-shadow: 0px 1px 2px rgba(60, 64, 67, 0.3), 0px 1px 3px 1px rgba(60, 64, 67, 0.15);\n",
              "      fill: #174EA6;\n",
              "    }\n",
              "\n",
              "    .colab-df-buttons div {\n",
              "      margin-bottom: 4px;\n",
              "    }\n",
              "\n",
              "    [theme=dark] .colab-df-convert {\n",
              "      background-color: #3B4455;\n",
              "      fill: #D2E3FC;\n",
              "    }\n",
              "\n",
              "    [theme=dark] .colab-df-convert:hover {\n",
              "      background-color: #434B5C;\n",
              "      box-shadow: 0px 1px 3px 1px rgba(0, 0, 0, 0.15);\n",
              "      filter: drop-shadow(0px 1px 2px rgba(0, 0, 0, 0.3));\n",
              "      fill: #FFFFFF;\n",
              "    }\n",
              "  </style>\n",
              "\n",
              "    <script>\n",
              "      const buttonEl =\n",
              "        document.querySelector('#df-ea71285f-01ac-4051-9a05-8174c6eb117d button.colab-df-convert');\n",
              "      buttonEl.style.display =\n",
              "        google.colab.kernel.accessAllowed ? 'block' : 'none';\n",
              "\n",
              "      async function convertToInteractive(key) {\n",
              "        const element = document.querySelector('#df-ea71285f-01ac-4051-9a05-8174c6eb117d');\n",
              "        const dataTable =\n",
              "          await google.colab.kernel.invokeFunction('convertToInteractive',\n",
              "                                                    [key], {});\n",
              "        if (!dataTable) return;\n",
              "\n",
              "        const docLinkHtml = 'Like what you see? Visit the ' +\n",
              "          '<a target=\"_blank\" href=https://colab.research.google.com/notebooks/data_table.ipynb>data table notebook</a>'\n",
              "          + ' to learn more about interactive tables.';\n",
              "        element.innerHTML = '';\n",
              "        dataTable['output_type'] = 'display_data';\n",
              "        await google.colab.output.renderOutput(dataTable, element);\n",
              "        const docLink = document.createElement('div');\n",
              "        docLink.innerHTML = docLinkHtml;\n",
              "        element.appendChild(docLink);\n",
              "      }\n",
              "    </script>\n",
              "  </div>\n",
              "\n",
              "\n",
              "<div id=\"df-5aa917f3-510a-4a26-89ec-af49cc5b30c7\">\n",
              "  <button class=\"colab-df-quickchart\" onclick=\"quickchart('df-5aa917f3-510a-4a26-89ec-af49cc5b30c7')\"\n",
              "            title=\"Suggest charts\"\n",
              "            style=\"display:none;\">\n",
              "\n",
              "<svg xmlns=\"http://www.w3.org/2000/svg\" height=\"24px\"viewBox=\"0 0 24 24\"\n",
              "     width=\"24px\">\n",
              "    <g>\n",
              "        <path d=\"M19 3H5c-1.1 0-2 .9-2 2v14c0 1.1.9 2 2 2h14c1.1 0 2-.9 2-2V5c0-1.1-.9-2-2-2zM9 17H7v-7h2v7zm4 0h-2V7h2v10zm4 0h-2v-4h2v4z\"/>\n",
              "    </g>\n",
              "</svg>\n",
              "  </button>\n",
              "\n",
              "<style>\n",
              "  .colab-df-quickchart {\n",
              "      --bg-color: #E8F0FE;\n",
              "      --fill-color: #1967D2;\n",
              "      --hover-bg-color: #E2EBFA;\n",
              "      --hover-fill-color: #174EA6;\n",
              "      --disabled-fill-color: #AAA;\n",
              "      --disabled-bg-color: #DDD;\n",
              "  }\n",
              "\n",
              "  [theme=dark] .colab-df-quickchart {\n",
              "      --bg-color: #3B4455;\n",
              "      --fill-color: #D2E3FC;\n",
              "      --hover-bg-color: #434B5C;\n",
              "      --hover-fill-color: #FFFFFF;\n",
              "      --disabled-bg-color: #3B4455;\n",
              "      --disabled-fill-color: #666;\n",
              "  }\n",
              "\n",
              "  .colab-df-quickchart {\n",
              "    background-color: var(--bg-color);\n",
              "    border: none;\n",
              "    border-radius: 50%;\n",
              "    cursor: pointer;\n",
              "    display: none;\n",
              "    fill: var(--fill-color);\n",
              "    height: 32px;\n",
              "    padding: 0;\n",
              "    width: 32px;\n",
              "  }\n",
              "\n",
              "  .colab-df-quickchart:hover {\n",
              "    background-color: var(--hover-bg-color);\n",
              "    box-shadow: 0 1px 2px rgba(60, 64, 67, 0.3), 0 1px 3px 1px rgba(60, 64, 67, 0.15);\n",
              "    fill: var(--button-hover-fill-color);\n",
              "  }\n",
              "\n",
              "  .colab-df-quickchart-complete:disabled,\n",
              "  .colab-df-quickchart-complete:disabled:hover {\n",
              "    background-color: var(--disabled-bg-color);\n",
              "    fill: var(--disabled-fill-color);\n",
              "    box-shadow: none;\n",
              "  }\n",
              "\n",
              "  .colab-df-spinner {\n",
              "    border: 2px solid var(--fill-color);\n",
              "    border-color: transparent;\n",
              "    border-bottom-color: var(--fill-color);\n",
              "    animation:\n",
              "      spin 1s steps(1) infinite;\n",
              "  }\n",
              "\n",
              "  @keyframes spin {\n",
              "    0% {\n",
              "      border-color: transparent;\n",
              "      border-bottom-color: var(--fill-color);\n",
              "      border-left-color: var(--fill-color);\n",
              "    }\n",
              "    20% {\n",
              "      border-color: transparent;\n",
              "      border-left-color: var(--fill-color);\n",
              "      border-top-color: var(--fill-color);\n",
              "    }\n",
              "    30% {\n",
              "      border-color: transparent;\n",
              "      border-left-color: var(--fill-color);\n",
              "      border-top-color: var(--fill-color);\n",
              "      border-right-color: var(--fill-color);\n",
              "    }\n",
              "    40% {\n",
              "      border-color: transparent;\n",
              "      border-right-color: var(--fill-color);\n",
              "      border-top-color: var(--fill-color);\n",
              "    }\n",
              "    60% {\n",
              "      border-color: transparent;\n",
              "      border-right-color: var(--fill-color);\n",
              "    }\n",
              "    80% {\n",
              "      border-color: transparent;\n",
              "      border-right-color: var(--fill-color);\n",
              "      border-bottom-color: var(--fill-color);\n",
              "    }\n",
              "    90% {\n",
              "      border-color: transparent;\n",
              "      border-bottom-color: var(--fill-color);\n",
              "    }\n",
              "  }\n",
              "</style>\n",
              "\n",
              "  <script>\n",
              "    async function quickchart(key) {\n",
              "      const quickchartButtonEl =\n",
              "        document.querySelector('#' + key + ' button');\n",
              "      quickchartButtonEl.disabled = true;  // To prevent multiple clicks.\n",
              "      quickchartButtonEl.classList.add('colab-df-spinner');\n",
              "      try {\n",
              "        const charts = await google.colab.kernel.invokeFunction(\n",
              "            'suggestCharts', [key], {});\n",
              "      } catch (error) {\n",
              "        console.error('Error during call to suggestCharts:', error);\n",
              "      }\n",
              "      quickchartButtonEl.classList.remove('colab-df-spinner');\n",
              "      quickchartButtonEl.classList.add('colab-df-quickchart-complete');\n",
              "    }\n",
              "    (() => {\n",
              "      let quickchartButtonEl =\n",
              "        document.querySelector('#df-5aa917f3-510a-4a26-89ec-af49cc5b30c7 button');\n",
              "      quickchartButtonEl.style.display =\n",
              "        google.colab.kernel.accessAllowed ? 'block' : 'none';\n",
              "    })();\n",
              "  </script>\n",
              "</div>\n",
              "\n",
              "  <div id=\"id_2a6f61c8-a580-432c-9510-7f7be58ec586\">\n",
              "    <style>\n",
              "      .colab-df-generate {\n",
              "        background-color: #E8F0FE;\n",
              "        border: none;\n",
              "        border-radius: 50%;\n",
              "        cursor: pointer;\n",
              "        display: none;\n",
              "        fill: #1967D2;\n",
              "        height: 32px;\n",
              "        padding: 0 0 0 0;\n",
              "        width: 32px;\n",
              "      }\n",
              "\n",
              "      .colab-df-generate:hover {\n",
              "        background-color: #E2EBFA;\n",
              "        box-shadow: 0px 1px 2px rgba(60, 64, 67, 0.3), 0px 1px 3px 1px rgba(60, 64, 67, 0.15);\n",
              "        fill: #174EA6;\n",
              "      }\n",
              "\n",
              "      [theme=dark] .colab-df-generate {\n",
              "        background-color: #3B4455;\n",
              "        fill: #D2E3FC;\n",
              "      }\n",
              "\n",
              "      [theme=dark] .colab-df-generate:hover {\n",
              "        background-color: #434B5C;\n",
              "        box-shadow: 0px 1px 3px 1px rgba(0, 0, 0, 0.15);\n",
              "        filter: drop-shadow(0px 1px 2px rgba(0, 0, 0, 0.3));\n",
              "        fill: #FFFFFF;\n",
              "      }\n",
              "    </style>\n",
              "    <button class=\"colab-df-generate\" onclick=\"generateWithVariable('normalized_df')\"\n",
              "            title=\"Generate code using this dataframe.\"\n",
              "            style=\"display:none;\">\n",
              "\n",
              "  <svg xmlns=\"http://www.w3.org/2000/svg\" height=\"24px\"viewBox=\"0 0 24 24\"\n",
              "       width=\"24px\">\n",
              "    <path d=\"M7,19H8.4L18.45,9,17,7.55,7,17.6ZM5,21V16.75L18.45,3.32a2,2,0,0,1,2.83,0l1.4,1.43a1.91,1.91,0,0,1,.58,1.4,1.91,1.91,0,0,1-.58,1.4L9.25,21ZM18.45,9,17,7.55Zm-12,3A5.31,5.31,0,0,0,4.9,8.1,5.31,5.31,0,0,0,1,6.5,5.31,5.31,0,0,0,4.9,4.9,5.31,5.31,0,0,0,6.5,1,5.31,5.31,0,0,0,8.1,4.9,5.31,5.31,0,0,0,12,6.5,5.46,5.46,0,0,0,6.5,12Z\"/>\n",
              "  </svg>\n",
              "    </button>\n",
              "    <script>\n",
              "      (() => {\n",
              "      const buttonEl =\n",
              "        document.querySelector('#id_2a6f61c8-a580-432c-9510-7f7be58ec586 button.colab-df-generate');\n",
              "      buttonEl.style.display =\n",
              "        google.colab.kernel.accessAllowed ? 'block' : 'none';\n",
              "\n",
              "      buttonEl.onclick = () => {\n",
              "        google.colab.notebook.generateWithVariable('normalized_df');\n",
              "      }\n",
              "      })();\n",
              "    </script>\n",
              "  </div>\n",
              "\n",
              "    </div>\n",
              "  </div>\n"
            ],
            "application/vnd.google.colaboratory.intrinsic+json": {
              "type": "dataframe",
              "variable_name": "normalized_df"
            }
          },
          "metadata": {},
          "execution_count": 86
        }
      ]
    },
    {
      "cell_type": "markdown",
      "metadata": {
        "id": "gZdaRdE9OWPQ"
      },
      "source": [
        "### Dataset de treinamento"
      ]
    },
    {
      "cell_type": "code",
      "execution_count": 87,
      "metadata": {
        "id": "q2AuqJDVOWPQ"
      },
      "outputs": [],
      "source": [
        "# Dataset de treinamento\n",
        "start = past + future\n",
        "end = start + train_split\n",
        "\n",
        "# x_train = train_data.values\n",
        "x_train = train_data.drop(columns=['Real_RD_PV_pHDosado']).values\n",
        "\n",
        "# y_train = normalized_df['Real_RD_PV_pHDosado'][:train_split - 1].values\n",
        "y_train = normalized_df['Real_RD_PV_pHDosado'][start:end]\n",
        "\n",
        "sequence_length = int(past / step)"
      ]
    },
    {
      "cell_type": "code",
      "execution_count": 88,
      "metadata": {
        "id": "YXHcEizKOWPR"
      },
      "outputs": [],
      "source": [
        "dataset_train = keras.preprocessing.timeseries_dataset_from_array(\n",
        "    x_train,\n",
        "    y_train,\n",
        "    sequence_length=sequence_length,\n",
        "    sampling_rate=step,\n",
        "    batch_size=batch_size,\n",
        ")"
      ]
    },
    {
      "cell_type": "code",
      "execution_count": 89,
      "metadata": {
        "id": "Jj5XICXxOWPR",
        "outputId": "d8c30f8b-0689-4c6a-9491-43e9f0c23535",
        "colab": {
          "base_uri": "https://localhost:8080/"
        }
      },
      "outputs": [
        {
          "output_type": "stream",
          "name": "stdout",
          "text": [
            "x_train shape: (205920, 8)\n",
            "y_train shape: (205920,)\n"
          ]
        }
      ],
      "source": [
        "print(f\"x_train shape: {x_train.shape}\")\n",
        "print(f\"y_train shape: {y_train.shape}\")"
      ]
    },
    {
      "cell_type": "code",
      "execution_count": 90,
      "metadata": {
        "id": "oKxdJaL2OWPR",
        "outputId": "54f7354f-2c91-44e8-b33e-236ea18ff4f9",
        "colab": {
          "base_uri": "https://localhost:8080/"
        }
      },
      "outputs": [
        {
          "output_type": "stream",
          "name": "stdout",
          "text": [
            "Input shape: (256, 1200, 8)\n",
            "Target shape: (256,)\n"
          ]
        }
      ],
      "source": [
        "for batch in dataset_train.take(1):\n",
        "    inputs, targets = batch\n",
        "\n",
        "print(\"Input shape:\", inputs.numpy().shape)\n",
        "print(\"Target shape:\", targets.numpy().shape)"
      ]
    },
    {
      "cell_type": "markdown",
      "metadata": {
        "id": "rPWVG2wvOWPR"
      },
      "source": [
        "### Dataset de validação"
      ]
    },
    {
      "cell_type": "code",
      "execution_count": 91,
      "metadata": {
        "id": "JXJcO_rWOWPS"
      },
      "outputs": [],
      "source": [
        "# Dataset de validação\n",
        "x_end = len(val_data) - past - future\n",
        "label_start = train_split + past + future\n",
        "\n",
        "x_val = val_data.drop(columns=['Real_RD_PV_pHDosado']).iloc[:x_end].values\n",
        "y_val = normalized_df['Real_RD_PV_pHDosado'][label_start:].values\n",
        "\n",
        "dataset_val = keras.preprocessing.timeseries_dataset_from_array(\n",
        "    x_val,\n",
        "    y_val,\n",
        "    sequence_length=sequence_length,\n",
        "    sampling_rate=step,\n",
        "    batch_size=batch_size,\n",
        ")"
      ]
    },
    {
      "cell_type": "code",
      "execution_count": 92,
      "metadata": {
        "id": "ftQyB5d1OWPS",
        "outputId": "8d7cfc55-876e-4b60-9034-f48ce74360f9",
        "colab": {
          "base_uri": "https://localhost:8080/"
        }
      },
      "outputs": [
        {
          "output_type": "stream",
          "name": "stdout",
          "text": [
            "x_val shape: (80780, 8)\n",
            "y_val shape: (80780,)\n"
          ]
        }
      ],
      "source": [
        "print(f\"x_val shape: {x_val.shape}\")\n",
        "print(f\"y_val shape: {y_val.shape}\")"
      ]
    },
    {
      "cell_type": "markdown",
      "metadata": {
        "id": "Rc8OEZTHOWPS"
      },
      "source": [
        "# Treinamento"
      ]
    },
    {
      "cell_type": "markdown",
      "source": [
        "## LSTM"
      ],
      "metadata": {
        "id": "aRgdbzrIX-6H"
      }
    },
    {
      "cell_type": "code",
      "source": [
        "model = keras.Sequential()\n",
        "model.add(keras.layers.Input(shape=(inputs.shape[1], inputs.shape[2])))\n",
        "model.add(keras.layers.LSTM(32))\n",
        "model.add(keras.layers.Dense(1))\n",
        "\n",
        "model.compile(optimizer=keras.optimizers.Adam(learning_rate=learning_rate), loss=\"mse\")\n",
        "model.summary()"
      ],
      "metadata": {
        "id": "wjt6Tzi8SF6H",
        "outputId": "61bee61c-081b-494d-89c6-79669639403d",
        "colab": {
          "base_uri": "https://localhost:8080/",
          "height": 199
        }
      },
      "execution_count": 61,
      "outputs": [
        {
          "output_type": "display_data",
          "data": {
            "text/plain": [
              "\u001b[1mModel: \"sequential_3\"\u001b[0m\n"
            ],
            "text/html": [
              "<pre style=\"white-space:pre;overflow-x:auto;line-height:normal;font-family:Menlo,'DejaVu Sans Mono',consolas,'Courier New',monospace\"><span style=\"font-weight: bold\">Model: \"sequential_3\"</span>\n",
              "</pre>\n"
            ]
          },
          "metadata": {}
        },
        {
          "output_type": "display_data",
          "data": {
            "text/plain": [
              "┏━━━━━━━━━━━━━━━━━━━━━━━━━━━━━━━━━━━━━━┳━━━━━━━━━━━━━━━━━━━━━━━━━━━━━┳━━━━━━━━━━━━━━━━━┓\n",
              "┃\u001b[1m \u001b[0m\u001b[1mLayer (type)                        \u001b[0m\u001b[1m \u001b[0m┃\u001b[1m \u001b[0m\u001b[1mOutput Shape               \u001b[0m\u001b[1m \u001b[0m┃\u001b[1m \u001b[0m\u001b[1m        Param #\u001b[0m\u001b[1m \u001b[0m┃\n",
              "┡━━━━━━━━━━━━━━━━━━━━━━━━━━━━━━━━━━━━━━╇━━━━━━━━━━━━━━━━━━━━━━━━━━━━━╇━━━━━━━━━━━━━━━━━┩\n",
              "│ lstm_5 (\u001b[38;5;33mLSTM\u001b[0m)                        │ (\u001b[38;5;45mNone\u001b[0m, \u001b[38;5;34m32\u001b[0m)                  │           \u001b[38;5;34m5,248\u001b[0m │\n",
              "├──────────────────────────────────────┼─────────────────────────────┼─────────────────┤\n",
              "│ dense_5 (\u001b[38;5;33mDense\u001b[0m)                      │ (\u001b[38;5;45mNone\u001b[0m, \u001b[38;5;34m1\u001b[0m)                   │              \u001b[38;5;34m33\u001b[0m │\n",
              "└──────────────────────────────────────┴─────────────────────────────┴─────────────────┘\n"
            ],
            "text/html": [
              "<pre style=\"white-space:pre;overflow-x:auto;line-height:normal;font-family:Menlo,'DejaVu Sans Mono',consolas,'Courier New',monospace\">┏━━━━━━━━━━━━━━━━━━━━━━━━━━━━━━━━━━━━━━┳━━━━━━━━━━━━━━━━━━━━━━━━━━━━━┳━━━━━━━━━━━━━━━━━┓\n",
              "┃<span style=\"font-weight: bold\"> Layer (type)                         </span>┃<span style=\"font-weight: bold\"> Output Shape                </span>┃<span style=\"font-weight: bold\">         Param # </span>┃\n",
              "┡━━━━━━━━━━━━━━━━━━━━━━━━━━━━━━━━━━━━━━╇━━━━━━━━━━━━━━━━━━━━━━━━━━━━━╇━━━━━━━━━━━━━━━━━┩\n",
              "│ lstm_5 (<span style=\"color: #0087ff; text-decoration-color: #0087ff\">LSTM</span>)                        │ (<span style=\"color: #00d7ff; text-decoration-color: #00d7ff\">None</span>, <span style=\"color: #00af00; text-decoration-color: #00af00\">32</span>)                  │           <span style=\"color: #00af00; text-decoration-color: #00af00\">5,248</span> │\n",
              "├──────────────────────────────────────┼─────────────────────────────┼─────────────────┤\n",
              "│ dense_5 (<span style=\"color: #0087ff; text-decoration-color: #0087ff\">Dense</span>)                      │ (<span style=\"color: #00d7ff; text-decoration-color: #00d7ff\">None</span>, <span style=\"color: #00af00; text-decoration-color: #00af00\">1</span>)                   │              <span style=\"color: #00af00; text-decoration-color: #00af00\">33</span> │\n",
              "└──────────────────────────────────────┴─────────────────────────────┴─────────────────┘\n",
              "</pre>\n"
            ]
          },
          "metadata": {}
        },
        {
          "output_type": "display_data",
          "data": {
            "text/plain": [
              "\u001b[1m Total params: \u001b[0m\u001b[38;5;34m5,281\u001b[0m (20.63 KB)\n"
            ],
            "text/html": [
              "<pre style=\"white-space:pre;overflow-x:auto;line-height:normal;font-family:Menlo,'DejaVu Sans Mono',consolas,'Courier New',monospace\"><span style=\"font-weight: bold\"> Total params: </span><span style=\"color: #00af00; text-decoration-color: #00af00\">5,281</span> (20.63 KB)\n",
              "</pre>\n"
            ]
          },
          "metadata": {}
        },
        {
          "output_type": "display_data",
          "data": {
            "text/plain": [
              "\u001b[1m Trainable params: \u001b[0m\u001b[38;5;34m5,281\u001b[0m (20.63 KB)\n"
            ],
            "text/html": [
              "<pre style=\"white-space:pre;overflow-x:auto;line-height:normal;font-family:Menlo,'DejaVu Sans Mono',consolas,'Courier New',monospace\"><span style=\"font-weight: bold\"> Trainable params: </span><span style=\"color: #00af00; text-decoration-color: #00af00\">5,281</span> (20.63 KB)\n",
              "</pre>\n"
            ]
          },
          "metadata": {}
        },
        {
          "output_type": "display_data",
          "data": {
            "text/plain": [
              "\u001b[1m Non-trainable params: \u001b[0m\u001b[38;5;34m0\u001b[0m (0.00 B)\n"
            ],
            "text/html": [
              "<pre style=\"white-space:pre;overflow-x:auto;line-height:normal;font-family:Menlo,'DejaVu Sans Mono',consolas,'Courier New',monospace\"><span style=\"font-weight: bold\"> Non-trainable params: </span><span style=\"color: #00af00; text-decoration-color: #00af00\">0</span> (0.00 B)\n",
              "</pre>\n"
            ]
          },
          "metadata": {}
        }
      ]
    },
    {
      "cell_type": "code",
      "execution_count": 35,
      "metadata": {
        "id": "Y3EGBnJlOWPS",
        "outputId": "7e34ecf7-eb44-4a12-dbbe-05339be7ece6",
        "colab": {
          "base_uri": "https://localhost:8080/",
          "height": 232
        }
      },
      "outputs": [
        {
          "output_type": "display_data",
          "data": {
            "text/plain": [
              "\u001b[1mModel: \"functional_2\"\u001b[0m\n"
            ],
            "text/html": [
              "<pre style=\"white-space:pre;overflow-x:auto;line-height:normal;font-family:Menlo,'DejaVu Sans Mono',consolas,'Courier New',monospace\"><span style=\"font-weight: bold\">Model: \"functional_2\"</span>\n",
              "</pre>\n"
            ]
          },
          "metadata": {}
        },
        {
          "output_type": "display_data",
          "data": {
            "text/plain": [
              "┏━━━━━━━━━━━━━━━━━━━━━━━━━━━━━━━━━━━━━━┳━━━━━━━━━━━━━━━━━━━━━━━━━━━━━┳━━━━━━━━━━━━━━━━━┓\n",
              "┃\u001b[1m \u001b[0m\u001b[1mLayer (type)                        \u001b[0m\u001b[1m \u001b[0m┃\u001b[1m \u001b[0m\u001b[1mOutput Shape               \u001b[0m\u001b[1m \u001b[0m┃\u001b[1m \u001b[0m\u001b[1m        Param #\u001b[0m\u001b[1m \u001b[0m┃\n",
              "┡━━━━━━━━━━━━━━━━━━━━━━━━━━━━━━━━━━━━━━╇━━━━━━━━━━━━━━━━━━━━━━━━━━━━━╇━━━━━━━━━━━━━━━━━┩\n",
              "│ input_layer_2 (\u001b[38;5;33mInputLayer\u001b[0m)           │ (\u001b[38;5;45mNone\u001b[0m, \u001b[38;5;34m1200\u001b[0m, \u001b[38;5;34m9\u001b[0m)             │               \u001b[38;5;34m0\u001b[0m │\n",
              "├──────────────────────────────────────┼─────────────────────────────┼─────────────────┤\n",
              "│ lstm_3 (\u001b[38;5;33mLSTM\u001b[0m)                        │ (\u001b[38;5;45mNone\u001b[0m, \u001b[38;5;34m32\u001b[0m)                  │           \u001b[38;5;34m5,376\u001b[0m │\n",
              "├──────────────────────────────────────┼─────────────────────────────┼─────────────────┤\n",
              "│ dense_3 (\u001b[38;5;33mDense\u001b[0m)                      │ (\u001b[38;5;45mNone\u001b[0m, \u001b[38;5;34m1\u001b[0m)                   │              \u001b[38;5;34m33\u001b[0m │\n",
              "└──────────────────────────────────────┴─────────────────────────────┴─────────────────┘\n"
            ],
            "text/html": [
              "<pre style=\"white-space:pre;overflow-x:auto;line-height:normal;font-family:Menlo,'DejaVu Sans Mono',consolas,'Courier New',monospace\">┏━━━━━━━━━━━━━━━━━━━━━━━━━━━━━━━━━━━━━━┳━━━━━━━━━━━━━━━━━━━━━━━━━━━━━┳━━━━━━━━━━━━━━━━━┓\n",
              "┃<span style=\"font-weight: bold\"> Layer (type)                         </span>┃<span style=\"font-weight: bold\"> Output Shape                </span>┃<span style=\"font-weight: bold\">         Param # </span>┃\n",
              "┡━━━━━━━━━━━━━━━━━━━━━━━━━━━━━━━━━━━━━━╇━━━━━━━━━━━━━━━━━━━━━━━━━━━━━╇━━━━━━━━━━━━━━━━━┩\n",
              "│ input_layer_2 (<span style=\"color: #0087ff; text-decoration-color: #0087ff\">InputLayer</span>)           │ (<span style=\"color: #00d7ff; text-decoration-color: #00d7ff\">None</span>, <span style=\"color: #00af00; text-decoration-color: #00af00\">1200</span>, <span style=\"color: #00af00; text-decoration-color: #00af00\">9</span>)             │               <span style=\"color: #00af00; text-decoration-color: #00af00\">0</span> │\n",
              "├──────────────────────────────────────┼─────────────────────────────┼─────────────────┤\n",
              "│ lstm_3 (<span style=\"color: #0087ff; text-decoration-color: #0087ff\">LSTM</span>)                        │ (<span style=\"color: #00d7ff; text-decoration-color: #00d7ff\">None</span>, <span style=\"color: #00af00; text-decoration-color: #00af00\">32</span>)                  │           <span style=\"color: #00af00; text-decoration-color: #00af00\">5,376</span> │\n",
              "├──────────────────────────────────────┼─────────────────────────────┼─────────────────┤\n",
              "│ dense_3 (<span style=\"color: #0087ff; text-decoration-color: #0087ff\">Dense</span>)                      │ (<span style=\"color: #00d7ff; text-decoration-color: #00d7ff\">None</span>, <span style=\"color: #00af00; text-decoration-color: #00af00\">1</span>)                   │              <span style=\"color: #00af00; text-decoration-color: #00af00\">33</span> │\n",
              "└──────────────────────────────────────┴─────────────────────────────┴─────────────────┘\n",
              "</pre>\n"
            ]
          },
          "metadata": {}
        },
        {
          "output_type": "display_data",
          "data": {
            "text/plain": [
              "\u001b[1m Total params: \u001b[0m\u001b[38;5;34m5,409\u001b[0m (21.13 KB)\n"
            ],
            "text/html": [
              "<pre style=\"white-space:pre;overflow-x:auto;line-height:normal;font-family:Menlo,'DejaVu Sans Mono',consolas,'Courier New',monospace\"><span style=\"font-weight: bold\"> Total params: </span><span style=\"color: #00af00; text-decoration-color: #00af00\">5,409</span> (21.13 KB)\n",
              "</pre>\n"
            ]
          },
          "metadata": {}
        },
        {
          "output_type": "display_data",
          "data": {
            "text/plain": [
              "\u001b[1m Trainable params: \u001b[0m\u001b[38;5;34m5,409\u001b[0m (21.13 KB)\n"
            ],
            "text/html": [
              "<pre style=\"white-space:pre;overflow-x:auto;line-height:normal;font-family:Menlo,'DejaVu Sans Mono',consolas,'Courier New',monospace\"><span style=\"font-weight: bold\"> Trainable params: </span><span style=\"color: #00af00; text-decoration-color: #00af00\">5,409</span> (21.13 KB)\n",
              "</pre>\n"
            ]
          },
          "metadata": {}
        },
        {
          "output_type": "display_data",
          "data": {
            "text/plain": [
              "\u001b[1m Non-trainable params: \u001b[0m\u001b[38;5;34m0\u001b[0m (0.00 B)\n"
            ],
            "text/html": [
              "<pre style=\"white-space:pre;overflow-x:auto;line-height:normal;font-family:Menlo,'DejaVu Sans Mono',consolas,'Courier New',monospace\"><span style=\"font-weight: bold\"> Non-trainable params: </span><span style=\"color: #00af00; text-decoration-color: #00af00\">0</span> (0.00 B)\n",
              "</pre>\n"
            ]
          },
          "metadata": {}
        }
      ],
      "source": [
        "# inputs = keras.layers.Input(shape=(inputs.shape[1], inputs.shape[2]))\n",
        "# lstm_out = keras.layers.LSTM(32)(inputs)\n",
        "# # lstm_out = keras.layers.Dense(32)(inputs)\n",
        "# outputs = keras.layers.Dense(1)(lstm_out)\n",
        "\n",
        "# model = keras.Model(inputs=inputs, outputs=outputs)\n",
        "# model.compile(optimizer=keras.optimizers.Adam(learning_rate=learning_rate), loss=\"mse\")\n",
        "# model.summary()\n"
      ]
    },
    {
      "cell_type": "code",
      "source": [
        "path_checkpoint = \"model_checkpoint.weights.h5\"\n",
        "es_callback = keras.callbacks.EarlyStopping(monitor=\"val_loss\", min_delta=0, patience=5)\n",
        "\n",
        "modelckpt_callback = keras.callbacks.ModelCheckpoint(\n",
        "    monitor=\"val_loss\",\n",
        "    filepath=path_checkpoint,\n",
        "    verbose=1,\n",
        "    save_weights_only=True,\n",
        "    save_best_only=True,\n",
        ")\n",
        "\n",
        "history = model.fit(\n",
        "    dataset_train,\n",
        "    epochs=epochs,\n",
        "    validation_data=dataset_val,\n",
        "    callbacks=[es_callback, modelckpt_callback],\n",
        ")"
      ],
      "metadata": {
        "id": "x1inFS29Zz6Q"
      },
      "execution_count": 69,
      "outputs": []
    },
    {
      "cell_type": "code",
      "execution_count": 62,
      "metadata": {
        "id": "PIwozAEUOWPS",
        "outputId": "dc6f605a-f209-463d-8a67-146b7f0633ba",
        "colab": {
          "base_uri": "https://localhost:8080/"
        }
      },
      "outputs": [
        {
          "output_type": "stream",
          "name": "stdout",
          "text": [
            "Epoch 1/10\n",
            "\u001b[1m799/800\u001b[0m \u001b[32m━━━━━━━━━━━━━━━━━━━\u001b[0m\u001b[37m━\u001b[0m \u001b[1m0s\u001b[0m 78ms/step - loss: 0.0063\n",
            "Epoch 1: val_loss improved from inf to 0.01106, saving model to model_checkpoint.weights.h5\n",
            "\u001b[1m800/800\u001b[0m \u001b[32m━━━━━━━━━━━━━━━━━━━━\u001b[0m\u001b[37m\u001b[0m \u001b[1m81s\u001b[0m 100ms/step - loss: 0.0063 - val_loss: 0.0111\n",
            "Epoch 2/10\n",
            "\u001b[1m799/800\u001b[0m \u001b[32m━━━━━━━━━━━━━━━━━━━\u001b[0m\u001b[37m━\u001b[0m \u001b[1m0s\u001b[0m 76ms/step - loss: 0.0032\n",
            "Epoch 2: val_loss improved from 0.01106 to 0.01056, saving model to model_checkpoint.weights.h5\n",
            "\u001b[1m800/800\u001b[0m \u001b[32m━━━━━━━━━━━━━━━━━━━━\u001b[0m\u001b[37m\u001b[0m \u001b[1m77s\u001b[0m 96ms/step - loss: 0.0032 - val_loss: 0.0106\n",
            "Epoch 3/10\n",
            "\u001b[1m799/800\u001b[0m \u001b[32m━━━━━━━━━━━━━━━━━━━\u001b[0m\u001b[37m━\u001b[0m \u001b[1m0s\u001b[0m 75ms/step - loss: 0.0030\n",
            "Epoch 3: val_loss improved from 0.01056 to 0.01045, saving model to model_checkpoint.weights.h5\n",
            "\u001b[1m800/800\u001b[0m \u001b[32m━━━━━━━━━━━━━━━━━━━━\u001b[0m\u001b[37m\u001b[0m \u001b[1m76s\u001b[0m 95ms/step - loss: 0.0030 - val_loss: 0.0105\n",
            "Epoch 4/10\n",
            "\u001b[1m799/800\u001b[0m \u001b[32m━━━━━━━━━━━━━━━━━━━\u001b[0m\u001b[37m━\u001b[0m \u001b[1m0s\u001b[0m 77ms/step - loss: 0.0029\n",
            "Epoch 4: val_loss did not improve from 0.01045\n",
            "\u001b[1m800/800\u001b[0m \u001b[32m━━━━━━━━━━━━━━━━━━━━\u001b[0m\u001b[37m\u001b[0m \u001b[1m76s\u001b[0m 96ms/step - loss: 0.0029 - val_loss: 0.0105\n",
            "Epoch 5/10\n",
            "\u001b[1m799/800\u001b[0m \u001b[32m━━━━━━━━━━━━━━━━━━━\u001b[0m\u001b[37m━\u001b[0m \u001b[1m0s\u001b[0m 77ms/step - loss: 0.0029\n",
            "Epoch 5: val_loss did not improve from 0.01045\n",
            "\u001b[1m800/800\u001b[0m \u001b[32m━━━━━━━━━━━━━━━━━━━━\u001b[0m\u001b[37m\u001b[0m \u001b[1m77s\u001b[0m 96ms/step - loss: 0.0029 - val_loss: 0.0105\n",
            "Epoch 6/10\n",
            "\u001b[1m799/800\u001b[0m \u001b[32m━━━━━━━━━━━━━━━━━━━\u001b[0m\u001b[37m━\u001b[0m \u001b[1m0s\u001b[0m 77ms/step - loss: 0.0029\n",
            "Epoch 6: val_loss did not improve from 0.01045\n",
            "\u001b[1m800/800\u001b[0m \u001b[32m━━━━━━━━━━━━━━━━━━━━\u001b[0m\u001b[37m\u001b[0m \u001b[1m78s\u001b[0m 98ms/step - loss: 0.0029 - val_loss: 0.0105\n",
            "Epoch 7/10\n",
            "\u001b[1m800/800\u001b[0m \u001b[32m━━━━━━━━━━━━━━━━━━━━\u001b[0m\u001b[37m\u001b[0m \u001b[1m0s\u001b[0m 91ms/step - loss: 0.0028\n",
            "Epoch 7: val_loss did not improve from 0.01045\n",
            "\u001b[1m800/800\u001b[0m \u001b[32m━━━━━━━━━━━━━━━━━━━━\u001b[0m\u001b[37m\u001b[0m \u001b[1m94s\u001b[0m 117ms/step - loss: 0.0029 - val_loss: 0.0105\n",
            "Epoch 8/10\n",
            "\u001b[1m799/800\u001b[0m \u001b[32m━━━━━━━━━━━━━━━━━━━\u001b[0m\u001b[37m━\u001b[0m \u001b[1m0s\u001b[0m 78ms/step - loss: 0.0028\n",
            "Epoch 8: val_loss did not improve from 0.01045\n",
            "\u001b[1m800/800\u001b[0m \u001b[32m━━━━━━━━━━━━━━━━━━━━\u001b[0m\u001b[37m\u001b[0m \u001b[1m79s\u001b[0m 98ms/step - loss: 0.0028 - val_loss: 0.0106\n"
          ]
        }
      ],
      "source": [
        "history = train_model(model)"
      ]
    },
    {
      "cell_type": "code",
      "source": [
        "def plot_history(history):\n",
        "  loss = history.history['loss']\n",
        "  val_loss = history.history['val_loss']\n",
        "\n",
        "  plot_epochs = range(len(loss))\n",
        "\n",
        "  plt.figure()\n",
        "\n",
        "  plt.plot(plot_epochs, loss, 'bo', label='Training loss')\n",
        "  plt.plot(plot_epochs, val_loss, 'b', label='Validation loss')\n",
        "  plt.title('Training and validation loss')\n",
        "  plt.legend()\n",
        "\n",
        "  plt.show()\n",
        "\n",
        "plot_history(history)"
      ],
      "metadata": {
        "id": "05ecP7YDYmF-",
        "outputId": "1e1923a6-add0-4642-eb9f-eaf8b0ee442a",
        "colab": {
          "base_uri": "https://localhost:8080/",
          "height": 452
        }
      },
      "execution_count": 73,
      "outputs": [
        {
          "output_type": "display_data",
          "data": {
            "text/plain": [
              "<Figure size 640x480 with 1 Axes>"
            ],
            "image/png": "[encoded data removed]"
          },
          "metadata": {}
        }
      ]
    },
    {
      "cell_type": "markdown",
      "source": [
        "## Camada LSTM com dropout"
      ],
      "metadata": {
        "id": "KGwQd77CYDiB"
      }
    },
    {
      "cell_type": "code",
      "source": [
        "from tensorflow.keras import models\n",
        "from tensorflow.keras import layers"
      ],
      "metadata": {
        "id": "0DFpkBBwh2Q2"
      },
      "execution_count": 107,
      "outputs": []
    },
    {
      "cell_type": "code",
      "source": [
        "learning_rate = 0.001\n",
        "\n",
        "model = models.Sequential()\n",
        "model.add(layers.Input(shape=(inputs.shape[1], inputs.shape[2])))\n",
        "model.add(layers.GRU(32,\n",
        "                           dropout=0.2,\n",
        "                           recurrent_dropout=0.2,\n",
        "                           ))\n",
        "model.add(layers.Dense(1))\n",
        "\n",
        "model.compile(optimizer=keras.optimizers.Adam(learning_rate=learning_rate), loss=\"mse\")\n",
        "model.summary()"
      ],
      "metadata": {
        "id": "PPiyer9LYG8F",
        "outputId": "ae26efec-4367-4d27-d019-be237c4464ad",
        "colab": {
          "base_uri": "https://localhost:8080/",
          "height": 199
        }
      },
      "execution_count": 108,
      "outputs": [
        {
          "output_type": "display_data",
          "data": {
            "text/plain": [
              "\u001b[1mModel: \"sequential_13\"\u001b[0m\n"
            ],
            "text/html": [
              "<pre style=\"white-space:pre;overflow-x:auto;line-height:normal;font-family:Menlo,'DejaVu Sans Mono',consolas,'Courier New',monospace\"><span style=\"font-weight: bold\">Model: \"sequential_13\"</span>\n",
              "</pre>\n"
            ]
          },
          "metadata": {}
        },
        {
          "output_type": "display_data",
          "data": {
            "text/plain": [
              "┏━━━━━━━━━━━━━━━━━━━━━━━━━━━━━━━━━━━━━━┳━━━━━━━━━━━━━━━━━━━━━━━━━━━━━┳━━━━━━━━━━━━━━━━━┓\n",
              "┃\u001b[1m \u001b[0m\u001b[1mLayer (type)                        \u001b[0m\u001b[1m \u001b[0m┃\u001b[1m \u001b[0m\u001b[1mOutput Shape               \u001b[0m\u001b[1m \u001b[0m┃\u001b[1m \u001b[0m\u001b[1m        Param #\u001b[0m\u001b[1m \u001b[0m┃\n",
              "┡━━━━━━━━━━━━━━━━━━━━━━━━━━━━━━━━━━━━━━╇━━━━━━━━━━━━━━━━━━━━━━━━━━━━━╇━━━━━━━━━━━━━━━━━┩\n",
              "│ gru_8 (\u001b[38;5;33mGRU\u001b[0m)                          │ (\u001b[38;5;45mNone\u001b[0m, \u001b[38;5;34m32\u001b[0m)                  │           \u001b[38;5;34m4,032\u001b[0m │\n",
              "├──────────────────────────────────────┼─────────────────────────────┼─────────────────┤\n",
              "│ dense_15 (\u001b[38;5;33mDense\u001b[0m)                     │ (\u001b[38;5;45mNone\u001b[0m, \u001b[38;5;34m1\u001b[0m)                   │              \u001b[38;5;34m33\u001b[0m │\n",
              "└──────────────────────────────────────┴─────────────────────────────┴─────────────────┘\n"
            ],
            "text/html": [
              "<pre style=\"white-space:pre;overflow-x:auto;line-height:normal;font-family:Menlo,'DejaVu Sans Mono',consolas,'Courier New',monospace\">┏━━━━━━━━━━━━━━━━━━━━━━━━━━━━━━━━━━━━━━┳━━━━━━━━━━━━━━━━━━━━━━━━━━━━━┳━━━━━━━━━━━━━━━━━┓\n",
              "┃<span style=\"font-weight: bold\"> Layer (type)                         </span>┃<span style=\"font-weight: bold\"> Output Shape                </span>┃<span style=\"font-weight: bold\">         Param # </span>┃\n",
              "┡━━━━━━━━━━━━━━━━━━━━━━━━━━━━━━━━━━━━━━╇━━━━━━━━━━━━━━━━━━━━━━━━━━━━━╇━━━━━━━━━━━━━━━━━┩\n",
              "│ gru_8 (<span style=\"color: #0087ff; text-decoration-color: #0087ff\">GRU</span>)                          │ (<span style=\"color: #00d7ff; text-decoration-color: #00d7ff\">None</span>, <span style=\"color: #00af00; text-decoration-color: #00af00\">32</span>)                  │           <span style=\"color: #00af00; text-decoration-color: #00af00\">4,032</span> │\n",
              "├──────────────────────────────────────┼─────────────────────────────┼─────────────────┤\n",
              "│ dense_15 (<span style=\"color: #0087ff; text-decoration-color: #0087ff\">Dense</span>)                     │ (<span style=\"color: #00d7ff; text-decoration-color: #00d7ff\">None</span>, <span style=\"color: #00af00; text-decoration-color: #00af00\">1</span>)                   │              <span style=\"color: #00af00; text-decoration-color: #00af00\">33</span> │\n",
              "└──────────────────────────────────────┴─────────────────────────────┴─────────────────┘\n",
              "</pre>\n"
            ]
          },
          "metadata": {}
        },
        {
          "output_type": "display_data",
          "data": {
            "text/plain": [
              "\u001b[1m Total params: \u001b[0m\u001b[38;5;34m4,065\u001b[0m (15.88 KB)\n"
            ],
            "text/html": [
              "<pre style=\"white-space:pre;overflow-x:auto;line-height:normal;font-family:Menlo,'DejaVu Sans Mono',consolas,'Courier New',monospace\"><span style=\"font-weight: bold\"> Total params: </span><span style=\"color: #00af00; text-decoration-color: #00af00\">4,065</span> (15.88 KB)\n",
              "</pre>\n"
            ]
          },
          "metadata": {}
        },
        {
          "output_type": "display_data",
          "data": {
            "text/plain": [
              "\u001b[1m Trainable params: \u001b[0m\u001b[38;5;34m4,065\u001b[0m (15.88 KB)\n"
            ],
            "text/html": [
              "<pre style=\"white-space:pre;overflow-x:auto;line-height:normal;font-family:Menlo,'DejaVu Sans Mono',consolas,'Courier New',monospace\"><span style=\"font-weight: bold\"> Trainable params: </span><span style=\"color: #00af00; text-decoration-color: #00af00\">4,065</span> (15.88 KB)\n",
              "</pre>\n"
            ]
          },
          "metadata": {}
        },
        {
          "output_type": "display_data",
          "data": {
            "text/plain": [
              "\u001b[1m Non-trainable params: \u001b[0m\u001b[38;5;34m0\u001b[0m (0.00 B)\n"
            ],
            "text/html": [
              "<pre style=\"white-space:pre;overflow-x:auto;line-height:normal;font-family:Menlo,'DejaVu Sans Mono',consolas,'Courier New',monospace\"><span style=\"font-weight: bold\"> Non-trainable params: </span><span style=\"color: #00af00; text-decoration-color: #00af00\">0</span> (0.00 B)\n",
              "</pre>\n"
            ]
          },
          "metadata": {}
        }
      ]
    },
    {
      "cell_type": "code",
      "source": [
        "path_checkpoint = \"model_checkpoint.weights.h5\"\n",
        "es_callback = keras.callbacks.EarlyStopping(monitor=\"val_loss\", min_delta=0, patience=5)\n",
        "\n",
        "modelckpt_callback = keras.callbacks.ModelCheckpoint(\n",
        "    monitor=\"val_loss\",\n",
        "    filepath=path_checkpoint,\n",
        "    verbose=1,\n",
        "    save_weights_only=True,\n",
        "    save_best_only=True,\n",
        ")\n",
        "\n",
        "history = model.fit(\n",
        "    dataset_train,\n",
        "    epochs=epochs,\n",
        "    validation_data=dataset_val,\n",
        "    callbacks=[es_callback, modelckpt_callback],\n",
        ")"
      ],
      "metadata": {
        "id": "dZ-9MZ_hZZt_",
        "outputId": "2f05f165-f439-4b05-9361-c2dfb533a9e9",
        "colab": {
          "base_uri": "https://localhost:8080/"
        }
      },
      "execution_count": null,
      "outputs": [
        {
          "output_type": "stream",
          "name": "stdout",
          "text": [
            "Epoch 1/10\n",
            "\u001b[1m 18/800\u001b[0m \u001b[37m━━━━━━━━━━━━━━━━━━━━\u001b[0m \u001b[1m30:44\u001b[0m 2s/step - loss: 0.1407"
          ]
        }
      ]
    },
    {
      "cell_type": "markdown",
      "metadata": {
        "id": "8o2AGnx9OWPS"
      },
      "source": [
        "# Referências"
      ]
    },
    {
      "cell_type": "markdown",
      "metadata": {
        "id": "KVq5tT5AOWPT"
      },
      "source": [
        "- [Timeseries forecasting for weather prediction](https://keras.io/examples/timeseries/timeseries_weather_forecasting/)"
      ]
    }
  ],
  "metadata": {
    "kernelspec": {
      "display_name": "Python 3",
      "name": "python3"
    },
    "language_info": {
      "codemirror_mode": {
        "name": "ipython",
        "version": 3
      },
      "file_extension": ".py",
      "mimetype": "text/x-python",
      "name": "python",
      "nbconvert_exporter": "python",
      "pygments_lexer": "ipython3",
      "version": "3.12.3"
    },
    "colab": {
      "provenance": [],
      "gpuType": "T4"
    },
    "accelerator": "GPU"
  },
  "nbformat": 4,
  "nbformat_minor": 0
}