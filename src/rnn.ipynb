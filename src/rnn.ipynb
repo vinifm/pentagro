{
  "cells": [
    {
      "cell_type": "code",
      "execution_count": 1,
      "metadata": {
        "id": "FdCBq-2qOWPJ"
      },
      "outputs": [],
      "source": [
        "import pandas as pd\n",
        "import keras\n",
        "import matplotlib.pyplot as plt"
      ]
    },
    {
      "cell_type": "code",
      "execution_count": null,
      "metadata": {
        "colab": {
          "base_uri": "https://localhost:8080/"
        },
        "id": "nhUae1hIOL5_",
        "outputId": "8bf89c0c-2ca7-40cf-96dc-15a3e35cb283"
      },
      "outputs": [
        {
          "name": "stdout",
          "output_type": "stream",
          "text": [
            "Mounted at /content/drive\n"
          ]
        }
      ],
      "source": [
        "from google.colab import drive\n",
        "drive.mount('/content/drive')"
      ]
    },
    {
      "cell_type": "code",
      "execution_count": 2,
      "metadata": {
        "id": "DjKZ8Ao3OWPL"
      },
      "outputs": [],
      "source": [
        "df_raw = pd.read_csv('/content/data_phdosado.csv', index_col=1, engine='python', on_bad_lines='skip') # Colab\n",
        "#df = pd.read_csv('../data/data_phdosado.csv', index_col=1) # Local"
      ]
    },
    {
      "cell_type": "code",
      "execution_count": 3,
      "metadata": {
        "colab": {
          "base_uri": "https://localhost:8080/",
          "height": 429
        },
        "id": "oFp0RkcwVys-",
        "outputId": "d53285f7-9091-4bea-ba22-2e9eac17cb18"
      },
      "outputs": [
        {
          "output_type": "execute_result",
          "data": {
            "text/plain": [
              "ID                                 0\n",
              "Real_RD_PV_pHDosado                4\n",
              "Real_RD_MV_ValvulaCalpHDosado      4\n",
              "Real_RD_PV_VazaoDosado             3\n",
              "Real_RD_ST_LimpezaPHmetro          4\n",
              "Real_RD_PV_BaumeCal                4\n",
              "Real_RD_PV_PressaoLinhaCal         4\n",
              "Real_RD_MV_ValvulaCalpHDosado-2    4\n",
              "Real_RD_MV_PressaoLinhaCal         2\n",
              "Real_RD_PV_NivelTqCal              4\n",
              "Real_RD_PV_NivelTqDosado           3\n",
              "dtype: int64"
            ],
            "text/html": [
              "<div>\n",
              "<style scoped>\n",
              "    .dataframe tbody tr th:only-of-type {\n",
              "        vertical-align: middle;\n",
              "    }\n",
              "\n",
              "    .dataframe tbody tr th {\n",
              "        vertical-align: top;\n",
              "    }\n",
              "\n",
              "    .dataframe thead th {\n",
              "        text-align: right;\n",
              "    }\n",
              "</style>\n",
              "<table border=\"1\" class=\"dataframe\">\n",
              "  <thead>\n",
              "    <tr style=\"text-align: right;\">\n",
              "      <th></th>\n",
              "      <th>0</th>\n",
              "    </tr>\n",
              "  </thead>\n",
              "  <tbody>\n",
              "    <tr>\n",
              "      <th>ID</th>\n",
              "      <td>0</td>\n",
              "    </tr>\n",
              "    <tr>\n",
              "      <th>Real_RD_PV_pHDosado</th>\n",
              "      <td>4</td>\n",
              "    </tr>\n",
              "    <tr>\n",
              "      <th>Real_RD_MV_ValvulaCalpHDosado</th>\n",
              "      <td>4</td>\n",
              "    </tr>\n",
              "    <tr>\n",
              "      <th>Real_RD_PV_VazaoDosado</th>\n",
              "      <td>3</td>\n",
              "    </tr>\n",
              "    <tr>\n",
              "      <th>Real_RD_ST_LimpezaPHmetro</th>\n",
              "      <td>4</td>\n",
              "    </tr>\n",
              "    <tr>\n",
              "      <th>Real_RD_PV_BaumeCal</th>\n",
              "      <td>4</td>\n",
              "    </tr>\n",
              "    <tr>\n",
              "      <th>Real_RD_PV_PressaoLinhaCal</th>\n",
              "      <td>4</td>\n",
              "    </tr>\n",
              "    <tr>\n",
              "      <th>Real_RD_MV_ValvulaCalpHDosado-2</th>\n",
              "      <td>4</td>\n",
              "    </tr>\n",
              "    <tr>\n",
              "      <th>Real_RD_MV_PressaoLinhaCal</th>\n",
              "      <td>2</td>\n",
              "    </tr>\n",
              "    <tr>\n",
              "      <th>Real_RD_PV_NivelTqCal</th>\n",
              "      <td>4</td>\n",
              "    </tr>\n",
              "    <tr>\n",
              "      <th>Real_RD_PV_NivelTqDosado</th>\n",
              "      <td>3</td>\n",
              "    </tr>\n",
              "  </tbody>\n",
              "</table>\n",
              "</div><br><label><b>dtype:</b> int64</label>"
            ]
          },
          "metadata": {},
          "execution_count": 3
        }
      ],
      "source": [
        "# Check for nulls\n",
        "df_raw.isnull().sum()"
      ]
    },
    {
      "cell_type": "code",
      "execution_count": 4,
      "metadata": {
        "colab": {
          "base_uri": "https://localhost:8080/"
        },
        "id": "k7veblrnOWPL",
        "outputId": "bb9b20f8-9acc-4c81-876a-044dd3fe747b"
      },
      "outputs": [
        {
          "output_type": "execute_result",
          "data": {
            "text/plain": [
              "['ID',\n",
              " 'Real_RD_PV_pHDosado',\n",
              " 'Real_RD_MV_ValvulaCalpHDosado',\n",
              " 'Real_RD_PV_VazaoDosado',\n",
              " 'Real_RD_ST_LimpezaPHmetro',\n",
              " 'Real_RD_PV_BaumeCal',\n",
              " 'Real_RD_PV_PressaoLinhaCal',\n",
              " 'Real_RD_MV_ValvulaCalpHDosado-2',\n",
              " 'Real_RD_MV_PressaoLinhaCal',\n",
              " 'Real_RD_PV_NivelTqCal',\n",
              " 'Real_RD_PV_NivelTqDosado']"
            ]
          },
          "metadata": {},
          "execution_count": 4
        }
      ],
      "source": [
        "list(df_raw.columns)"
      ]
    },
    {
      "cell_type": "code",
      "execution_count": 5,
      "metadata": {
        "colab": {
          "base_uri": "https://localhost:8080/",
          "height": 448
        },
        "id": "GqDXmYMBOWPL",
        "outputId": "4ab87caa-ba35-4424-d285-d0b23576b50d"
      },
      "outputs": [
        {
          "output_type": "execute_result",
          "data": {
            "text/plain": [
              "                         ID  Real_RD_PV_pHDosado  \\\n",
              "timezone                                           \n",
              "2024-07-13 14:28:22  393652               7.1260   \n",
              "2024-07-13 14:28:25  393653               7.1225   \n",
              "2024-07-13 14:28:28  393654               7.1225   \n",
              "2024-07-13 14:28:31  393655               7.1260   \n",
              "2024-07-13 14:28:34  393656               7.1225   \n",
              "\n",
              "                     Real_RD_MV_ValvulaCalpHDosado  Real_RD_PV_VazaoDosado  \\\n",
              "timezone                                                                     \n",
              "2024-07-13 14:28:22                      37.128124                 899.625   \n",
              "2024-07-13 14:28:25                      37.178123                 899.625   \n",
              "2024-07-13 14:28:28                      37.187500                 899.625   \n",
              "2024-07-13 14:28:31                      37.331249                 899.625   \n",
              "2024-07-13 14:28:34                      37.218750                 900.375   \n",
              "\n",
              "                     Real_RD_ST_LimpezaPHmetro  Real_RD_PV_BaumeCal  \\\n",
              "timezone                                                              \n",
              "2024-07-13 14:28:22                        0.0            20.454374   \n",
              "2024-07-13 14:28:25                        0.0            20.454374   \n",
              "2024-07-13 14:28:28                        0.0            20.454374   \n",
              "2024-07-13 14:28:31                        0.0            20.454374   \n",
              "2024-07-13 14:28:34                        0.0            20.454374   \n",
              "\n",
              "                     Real_RD_PV_PressaoLinhaCal  \\\n",
              "timezone                                          \n",
              "2024-07-13 14:28:22                    0.798437   \n",
              "2024-07-13 14:28:25                    0.798437   \n",
              "2024-07-13 14:28:28                    0.796875   \n",
              "2024-07-13 14:28:31                    0.798437   \n",
              "2024-07-13 14:28:34                    0.798437   \n",
              "\n",
              "                     Real_RD_MV_ValvulaCalpHDosado-2  \\\n",
              "timezone                                               \n",
              "2024-07-13 14:28:22                        37.128124   \n",
              "2024-07-13 14:28:25                        37.178123   \n",
              "2024-07-13 14:28:28                        37.187500   \n",
              "2024-07-13 14:28:31                        37.331249   \n",
              "2024-07-13 14:28:34                        37.218750   \n",
              "\n",
              "                     Real_RD_MV_PressaoLinhaCal  Real_RD_PV_NivelTqCal  \\\n",
              "timezone                                                                 \n",
              "2024-07-13 14:28:22                   74.546875               98.31250   \n",
              "2024-07-13 14:28:25                   74.578125               98.34375   \n",
              "2024-07-13 14:28:28                   74.559375               98.40625   \n",
              "2024-07-13 14:28:31                   74.596875               98.50000   \n",
              "2024-07-13 14:28:34                   74.562500               98.25000   \n",
              "\n",
              "                     Real_RD_PV_NivelTqDosado  \n",
              "timezone                                       \n",
              "2024-07-13 14:28:22                  73.84375  \n",
              "2024-07-13 14:28:25                  73.87500  \n",
              "2024-07-13 14:28:28                  73.87500  \n",
              "2024-07-13 14:28:31                  73.84375  \n",
              "2024-07-13 14:28:34                  73.87500  "
            ],
            "text/html": [
              "\n",
              "  <div id=\"df-64452d5f-1a92-4d97-9795-4e3c5f89fa1f\" class=\"colab-df-container\">\n",
              "    <div>\n",
              "<style scoped>\n",
              "    .dataframe tbody tr th:only-of-type {\n",
              "        vertical-align: middle;\n",
              "    }\n",
              "\n",
              "    .dataframe tbody tr th {\n",
              "        vertical-align: top;\n",
              "    }\n",
              "\n",
              "    .dataframe thead th {\n",
              "        text-align: right;\n",
              "    }\n",
              "</style>\n",
              "<table border=\"1\" class=\"dataframe\">\n",
              "  <thead>\n",
              "    <tr style=\"text-align: right;\">\n",
              "      <th></th>\n",
              "      <th>ID</th>\n",
              "      <th>Real_RD_PV_pHDosado</th>\n",
              "      <th>Real_RD_MV_ValvulaCalpHDosado</th>\n",
              "      <th>Real_RD_PV_VazaoDosado</th>\n",
              "      <th>Real_RD_ST_LimpezaPHmetro</th>\n",
              "      <th>Real_RD_PV_BaumeCal</th>\n",
              "      <th>Real_RD_PV_PressaoLinhaCal</th>\n",
              "      <th>Real_RD_MV_ValvulaCalpHDosado-2</th>\n",
              "      <th>Real_RD_MV_PressaoLinhaCal</th>\n",
              "      <th>Real_RD_PV_NivelTqCal</th>\n",
              "      <th>Real_RD_PV_NivelTqDosado</th>\n",
              "    </tr>\n",
              "    <tr>\n",
              "      <th>timezone</th>\n",
              "      <th></th>\n",
              "      <th></th>\n",
              "      <th></th>\n",
              "      <th></th>\n",
              "      <th></th>\n",
              "      <th></th>\n",
              "      <th></th>\n",
              "      <th></th>\n",
              "      <th></th>\n",
              "      <th></th>\n",
              "      <th></th>\n",
              "    </tr>\n",
              "  </thead>\n",
              "  <tbody>\n",
              "    <tr>\n",
              "      <th>2024-07-13 14:28:22</th>\n",
              "      <td>393652</td>\n",
              "      <td>7.1260</td>\n",
              "      <td>37.128124</td>\n",
              "      <td>899.625</td>\n",
              "      <td>0.0</td>\n",
              "      <td>20.454374</td>\n",
              "      <td>0.798437</td>\n",
              "      <td>37.128124</td>\n",
              "      <td>74.546875</td>\n",
              "      <td>98.31250</td>\n",
              "      <td>73.84375</td>\n",
              "    </tr>\n",
              "    <tr>\n",
              "      <th>2024-07-13 14:28:25</th>\n",
              "      <td>393653</td>\n",
              "      <td>7.1225</td>\n",
              "      <td>37.178123</td>\n",
              "      <td>899.625</td>\n",
              "      <td>0.0</td>\n",
              "      <td>20.454374</td>\n",
              "      <td>0.798437</td>\n",
              "      <td>37.178123</td>\n",
              "      <td>74.578125</td>\n",
              "      <td>98.34375</td>\n",
              "      <td>73.87500</td>\n",
              "    </tr>\n",
              "    <tr>\n",
              "      <th>2024-07-13 14:28:28</th>\n",
              "      <td>393654</td>\n",
              "      <td>7.1225</td>\n",
              "      <td>37.187500</td>\n",
              "      <td>899.625</td>\n",
              "      <td>0.0</td>\n",
              "      <td>20.454374</td>\n",
              "      <td>0.796875</td>\n",
              "      <td>37.187500</td>\n",
              "      <td>74.559375</td>\n",
              "      <td>98.40625</td>\n",
              "      <td>73.87500</td>\n",
              "    </tr>\n",
              "    <tr>\n",
              "      <th>2024-07-13 14:28:31</th>\n",
              "      <td>393655</td>\n",
              "      <td>7.1260</td>\n",
              "      <td>37.331249</td>\n",
              "      <td>899.625</td>\n",
              "      <td>0.0</td>\n",
              "      <td>20.454374</td>\n",
              "      <td>0.798437</td>\n",
              "      <td>37.331249</td>\n",
              "      <td>74.596875</td>\n",
              "      <td>98.50000</td>\n",
              "      <td>73.84375</td>\n",
              "    </tr>\n",
              "    <tr>\n",
              "      <th>2024-07-13 14:28:34</th>\n",
              "      <td>393656</td>\n",
              "      <td>7.1225</td>\n",
              "      <td>37.218750</td>\n",
              "      <td>900.375</td>\n",
              "      <td>0.0</td>\n",
              "      <td>20.454374</td>\n",
              "      <td>0.798437</td>\n",
              "      <td>37.218750</td>\n",
              "      <td>74.562500</td>\n",
              "      <td>98.25000</td>\n",
              "      <td>73.87500</td>\n",
              "    </tr>\n",
              "  </tbody>\n",
              "</table>\n",
              "</div>\n",
              "    <div class=\"colab-df-buttons\">\n",
              "\n",
              "  <div class=\"colab-df-container\">\n",
              "    <button class=\"colab-df-convert\" onclick=\"convertToInteractive('df-64452d5f-1a92-4d97-9795-4e3c5f89fa1f')\"\n",
              "            title=\"Convert this dataframe to an interactive table.\"\n",
              "            style=\"display:none;\">\n",
              "\n",
              "  <svg xmlns=\"http://www.w3.org/2000/svg\" height=\"24px\" viewBox=\"0 -960 960 960\">\n",
              "    <path d=\"M120-120v-720h720v720H120Zm60-500h600v-160H180v160Zm220 220h160v-160H400v160Zm0 220h160v-160H400v160ZM180-400h160v-160H180v160Zm440 0h160v-160H620v160ZM180-180h160v-160H180v160Zm440 0h160v-160H620v160Z\"/>\n",
              "  </svg>\n",
              "    </button>\n",
              "\n",
              "  <style>\n",
              "    .colab-df-container {\n",
              "      display:flex;\n",
              "      gap: 12px;\n",
              "    }\n",
              "\n",
              "    .colab-df-convert {\n",
              "      background-color: #E8F0FE;\n",
              "      border: none;\n",
              "      border-radius: 50%;\n",
              "      cursor: pointer;\n",
              "      display: none;\n",
              "      fill: #1967D2;\n",
              "      height: 32px;\n",
              "      padding: 0 0 0 0;\n",
              "      width: 32px;\n",
              "    }\n",
              "\n",
              "    .colab-df-convert:hover {\n",
              "      background-color: #E2EBFA;\n",
              "      box-shadow: 0px 1px 2px rgba(60, 64, 67, 0.3), 0px 1px 3px 1px rgba(60, 64, 67, 0.15);\n",
              "      fill: #174EA6;\n",
              "    }\n",
              "\n",
              "    .colab-df-buttons div {\n",
              "      margin-bottom: 4px;\n",
              "    }\n",
              "\n",
              "    [theme=dark] .colab-df-convert {\n",
              "      background-color: #3B4455;\n",
              "      fill: #D2E3FC;\n",
              "    }\n",
              "\n",
              "    [theme=dark] .colab-df-convert:hover {\n",
              "      background-color: #434B5C;\n",
              "      box-shadow: 0px 1px 3px 1px rgba(0, 0, 0, 0.15);\n",
              "      filter: drop-shadow(0px 1px 2px rgba(0, 0, 0, 0.3));\n",
              "      fill: #FFFFFF;\n",
              "    }\n",
              "  </style>\n",
              "\n",
              "    <script>\n",
              "      const buttonEl =\n",
              "        document.querySelector('#df-64452d5f-1a92-4d97-9795-4e3c5f89fa1f button.colab-df-convert');\n",
              "      buttonEl.style.display =\n",
              "        google.colab.kernel.accessAllowed ? 'block' : 'none';\n",
              "\n",
              "      async function convertToInteractive(key) {\n",
              "        const element = document.querySelector('#df-64452d5f-1a92-4d97-9795-4e3c5f89fa1f');\n",
              "        const dataTable =\n",
              "          await google.colab.kernel.invokeFunction('convertToInteractive',\n",
              "                                                    [key], {});\n",
              "        if (!dataTable) return;\n",
              "\n",
              "        const docLinkHtml = 'Like what you see? Visit the ' +\n",
              "          '<a target=\"_blank\" href=https://colab.research.google.com/notebooks/data_table.ipynb>data table notebook</a>'\n",
              "          + ' to learn more about interactive tables.';\n",
              "        element.innerHTML = '';\n",
              "        dataTable['output_type'] = 'display_data';\n",
              "        await google.colab.output.renderOutput(dataTable, element);\n",
              "        const docLink = document.createElement('div');\n",
              "        docLink.innerHTML = docLinkHtml;\n",
              "        element.appendChild(docLink);\n",
              "      }\n",
              "    </script>\n",
              "  </div>\n",
              "\n",
              "\n",
              "<div id=\"df-9fa2e054-e7f4-4b68-9b33-de1f6fa10ad8\">\n",
              "  <button class=\"colab-df-quickchart\" onclick=\"quickchart('df-9fa2e054-e7f4-4b68-9b33-de1f6fa10ad8')\"\n",
              "            title=\"Suggest charts\"\n",
              "            style=\"display:none;\">\n",
              "\n",
              "<svg xmlns=\"http://www.w3.org/2000/svg\" height=\"24px\"viewBox=\"0 0 24 24\"\n",
              "     width=\"24px\">\n",
              "    <g>\n",
              "        <path d=\"M19 3H5c-1.1 0-2 .9-2 2v14c0 1.1.9 2 2 2h14c1.1 0 2-.9 2-2V5c0-1.1-.9-2-2-2zM9 17H7v-7h2v7zm4 0h-2V7h2v10zm4 0h-2v-4h2v4z\"/>\n",
              "    </g>\n",
              "</svg>\n",
              "  </button>\n",
              "\n",
              "<style>\n",
              "  .colab-df-quickchart {\n",
              "      --bg-color: #E8F0FE;\n",
              "      --fill-color: #1967D2;\n",
              "      --hover-bg-color: #E2EBFA;\n",
              "      --hover-fill-color: #174EA6;\n",
              "      --disabled-fill-color: #AAA;\n",
              "      --disabled-bg-color: #DDD;\n",
              "  }\n",
              "\n",
              "  [theme=dark] .colab-df-quickchart {\n",
              "      --bg-color: #3B4455;\n",
              "      --fill-color: #D2E3FC;\n",
              "      --hover-bg-color: #434B5C;\n",
              "      --hover-fill-color: #FFFFFF;\n",
              "      --disabled-bg-color: #3B4455;\n",
              "      --disabled-fill-color: #666;\n",
              "  }\n",
              "\n",
              "  .colab-df-quickchart {\n",
              "    background-color: var(--bg-color);\n",
              "    border: none;\n",
              "    border-radius: 50%;\n",
              "    cursor: pointer;\n",
              "    display: none;\n",
              "    fill: var(--fill-color);\n",
              "    height: 32px;\n",
              "    padding: 0;\n",
              "    width: 32px;\n",
              "  }\n",
              "\n",
              "  .colab-df-quickchart:hover {\n",
              "    background-color: var(--hover-bg-color);\n",
              "    box-shadow: 0 1px 2px rgba(60, 64, 67, 0.3), 0 1px 3px 1px rgba(60, 64, 67, 0.15);\n",
              "    fill: var(--button-hover-fill-color);\n",
              "  }\n",
              "\n",
              "  .colab-df-quickchart-complete:disabled,\n",
              "  .colab-df-quickchart-complete:disabled:hover {\n",
              "    background-color: var(--disabled-bg-color);\n",
              "    fill: var(--disabled-fill-color);\n",
              "    box-shadow: none;\n",
              "  }\n",
              "\n",
              "  .colab-df-spinner {\n",
              "    border: 2px solid var(--fill-color);\n",
              "    border-color: transparent;\n",
              "    border-bottom-color: var(--fill-color);\n",
              "    animation:\n",
              "      spin 1s steps(1) infinite;\n",
              "  }\n",
              "\n",
              "  @keyframes spin {\n",
              "    0% {\n",
              "      border-color: transparent;\n",
              "      border-bottom-color: var(--fill-color);\n",
              "      border-left-color: var(--fill-color);\n",
              "    }\n",
              "    20% {\n",
              "      border-color: transparent;\n",
              "      border-left-color: var(--fill-color);\n",
              "      border-top-color: var(--fill-color);\n",
              "    }\n",
              "    30% {\n",
              "      border-color: transparent;\n",
              "      border-left-color: var(--fill-color);\n",
              "      border-top-color: var(--fill-color);\n",
              "      border-right-color: var(--fill-color);\n",
              "    }\n",
              "    40% {\n",
              "      border-color: transparent;\n",
              "      border-right-color: var(--fill-color);\n",
              "      border-top-color: var(--fill-color);\n",
              "    }\n",
              "    60% {\n",
              "      border-color: transparent;\n",
              "      border-right-color: var(--fill-color);\n",
              "    }\n",
              "    80% {\n",
              "      border-color: transparent;\n",
              "      border-right-color: var(--fill-color);\n",
              "      border-bottom-color: var(--fill-color);\n",
              "    }\n",
              "    90% {\n",
              "      border-color: transparent;\n",
              "      border-bottom-color: var(--fill-color);\n",
              "    }\n",
              "  }\n",
              "</style>\n",
              "\n",
              "  <script>\n",
              "    async function quickchart(key) {\n",
              "      const quickchartButtonEl =\n",
              "        document.querySelector('#' + key + ' button');\n",
              "      quickchartButtonEl.disabled = true;  // To prevent multiple clicks.\n",
              "      quickchartButtonEl.classList.add('colab-df-spinner');\n",
              "      try {\n",
              "        const charts = await google.colab.kernel.invokeFunction(\n",
              "            'suggestCharts', [key], {});\n",
              "      } catch (error) {\n",
              "        console.error('Error during call to suggestCharts:', error);\n",
              "      }\n",
              "      quickchartButtonEl.classList.remove('colab-df-spinner');\n",
              "      quickchartButtonEl.classList.add('colab-df-quickchart-complete');\n",
              "    }\n",
              "    (() => {\n",
              "      let quickchartButtonEl =\n",
              "        document.querySelector('#df-9fa2e054-e7f4-4b68-9b33-de1f6fa10ad8 button');\n",
              "      quickchartButtonEl.style.display =\n",
              "        google.colab.kernel.accessAllowed ? 'block' : 'none';\n",
              "    })();\n",
              "  </script>\n",
              "</div>\n",
              "\n",
              "    </div>\n",
              "  </div>\n"
            ],
            "application/vnd.google.colaboratory.intrinsic+json": {
              "type": "dataframe",
              "variable_name": "df_raw",
              "summary": "{\n  \"name\": \"df_raw\",\n  \"rows\": 57347,\n  \"fields\": [\n    {\n      \"column\": \"timezone\",\n      \"properties\": {\n        \"dtype\": \"object\",\n        \"num_unique_values\": 55043,\n        \"samples\": [\n          \"2024-07-13 18:11:13\",\n          \"2024-07-13 17:58:39\",\n          \"2024-07-14 00:16:29\"\n        ],\n        \"semantic_type\": \"\",\n        \"description\": \"\"\n      }\n    },\n    {\n      \"column\": \"ID\",\n      \"properties\": {\n        \"dtype\": \"number\",\n        \"std\": 16554,\n        \"min\": 393652,\n        \"max\": 450998,\n        \"num_unique_values\": 57347,\n        \"samples\": [\n          397864,\n          419023,\n          429930\n        ],\n        \"semantic_type\": \"\",\n        \"description\": \"\"\n      }\n    },\n    {\n      \"column\": \"Real_RD_PV_pHDosado\",\n      \"properties\": {\n        \"dtype\": \"number\",\n        \"std\": 0.23516910834079932,\n        \"min\": 5.557999610900879,\n        \"max\": 8.441999435424805,\n        \"num_unique_values\": 725,\n        \"samples\": [\n          5.84499979019165,\n          6.586999893188477,\n          7.853999614715576\n        ],\n        \"semantic_type\": \"\",\n        \"description\": \"\"\n      }\n    },\n    {\n      \"column\": \"Real_RD_MV_ValvulaCalpHDosado\",\n      \"properties\": {\n        \"dtype\": \"number\",\n        \"std\": 5.519188866813185,\n        \"min\": 15.471875190734863,\n        \"max\": 84.9781265258789,\n        \"num_unique_values\": 7949,\n        \"samples\": [\n          35.30937576293945,\n          40.59687423706055,\n          32.91875076293945\n        ],\n        \"semantic_type\": \"\",\n        \"description\": \"\"\n      }\n    },\n    {\n      \"column\": \"Real_RD_PV_VazaoDosado\",\n      \"properties\": {\n        \"dtype\": \"number\",\n        \"std\": 59.8412764440279,\n        \"min\": 550.125,\n        \"max\": 1209.75,\n        \"num_unique_values\": 945,\n        \"samples\": [\n          604.125,\n          1030.875,\n          1069.5\n        ],\n        \"semantic_type\": \"\",\n        \"description\": \"\"\n      }\n    },\n    {\n      \"column\": \"Real_RD_ST_LimpezaPHmetro\",\n      \"properties\": {\n        \"dtype\": \"number\",\n        \"std\": 0.14000959122359302,\n        \"min\": 0.0,\n        \"max\": 1.0,\n        \"num_unique_values\": 2,\n        \"samples\": [\n          1.0,\n          0.0\n        ],\n        \"semantic_type\": \"\",\n        \"description\": \"\"\n      }\n    },\n    {\n      \"column\": \"Real_RD_PV_BaumeCal\",\n      \"properties\": {\n        \"dtype\": \"number\",\n        \"std\": 0.0,\n        \"min\": 20.45437431335449,\n        \"max\": 20.45437431335449,\n        \"num_unique_values\": 1,\n        \"samples\": [\n          20.45437431335449\n        ],\n        \"semantic_type\": \"\",\n        \"description\": \"\"\n      }\n    },\n    {\n      \"column\": \"Real_RD_PV_PressaoLinhaCal\",\n      \"properties\": {\n        \"dtype\": \"number\",\n        \"std\": 0.013029397595367764,\n        \"min\": 0.5004687309265137,\n        \"max\": 1.1493749618530271,\n        \"num_unique_values\": 188,\n        \"samples\": [\n          0.9246875047683716\n        ],\n        \"semantic_type\": \"\",\n        \"description\": \"\"\n      }\n    },\n    {\n      \"column\": \"Real_RD_MV_ValvulaCalpHDosado-2\",\n      \"properties\": {\n        \"dtype\": \"number\",\n        \"std\": 5.519188866813185,\n        \"min\": 15.471875190734863,\n        \"max\": 84.9781265258789,\n        \"num_unique_values\": 7949,\n        \"samples\": [\n          35.30937576293945\n        ],\n        \"semantic_type\": \"\",\n        \"description\": \"\"\n      }\n    },\n    {\n      \"column\": \"Real_RD_MV_PressaoLinhaCal\",\n      \"properties\": {\n        \"dtype\": \"number\",\n        \"std\": 4.028546251592637,\n        \"min\": 69.58125,\n        \"max\": 94.075,\n        \"num_unique_values\": 6269,\n        \"samples\": [\n          84.884375\n        ],\n        \"semantic_type\": \"\",\n        \"description\": \"\"\n      }\n    },\n    {\n      \"column\": \"Real_RD_PV_NivelTqCal\",\n      \"properties\": {\n        \"dtype\": \"number\",\n        \"std\": 6.804345637572597,\n        \"min\": 73.740625,\n        \"max\": 102.246875,\n        \"num_unique_values\": 932,\n        \"samples\": [\n          76.89375\n        ],\n        \"semantic_type\": \"\",\n        \"description\": \"\"\n      }\n    },\n    {\n      \"column\": \"Real_RD_PV_NivelTqDosado\",\n      \"properties\": {\n        \"dtype\": \"number\",\n        \"std\": 18.229540988926296,\n        \"min\": 8.446874618530273,\n        \"max\": 102.09375,\n        \"num_unique_values\": 2827,\n        \"samples\": [\n          83.7874984741211\n        ],\n        \"semantic_type\": \"\",\n        \"description\": \"\"\n      }\n    }\n  ]\n}"
            }
          },
          "metadata": {},
          "execution_count": 5
        }
      ],
      "source": [
        "df_raw.head()\n"
      ]
    },
    {
      "cell_type": "markdown",
      "metadata": {
        "id": "o3fHLsR7OWPM"
      },
      "source": [
        "## Pré-processamento"
      ]
    },
    {
      "cell_type": "code",
      "execution_count": 6,
      "metadata": {
        "id": "6PoB0tJOOWPO"
      },
      "outputs": [],
      "source": [
        "minute = 20 # Observações por minuto\n",
        "hour = minute * 60\n",
        "day = hour * 24"
      ]
    },
    {
      "cell_type": "code",
      "execution_count": 7,
      "metadata": {
        "colab": {
          "base_uri": "https://localhost:8080/",
          "height": 431
        },
        "id": "PvLb0YY9OWPO",
        "outputId": "dc9b4023-5a51-4cfa-abe6-969add21bccc"
      },
      "outputs": [
        {
          "output_type": "execute_result",
          "data": {
            "text/plain": [
              "                     Real_RD_PV_pHDosado  Real_RD_MV_ValvulaCalpHDosado  \\\n",
              "timezone                                                                  \n",
              "2024-07-13 14:28:22               7.1260                      37.128124   \n",
              "2024-07-13 14:28:25               7.1225                      37.178123   \n",
              "2024-07-13 14:28:28               7.1225                      37.187500   \n",
              "2024-07-13 14:28:31               7.1260                      37.331249   \n",
              "2024-07-13 14:28:34               7.1225                      37.218750   \n",
              "\n",
              "                     Real_RD_PV_VazaoDosado  Real_RD_ST_LimpezaPHmetro  \\\n",
              "timezone                                                                 \n",
              "2024-07-13 14:28:22                 899.625                        0.0   \n",
              "2024-07-13 14:28:25                 899.625                        0.0   \n",
              "2024-07-13 14:28:28                 899.625                        0.0   \n",
              "2024-07-13 14:28:31                 899.625                        0.0   \n",
              "2024-07-13 14:28:34                 900.375                        0.0   \n",
              "\n",
              "                     Real_RD_PV_PressaoLinhaCal  Real_RD_MV_PressaoLinhaCal  \\\n",
              "timezone                                                                      \n",
              "2024-07-13 14:28:22                    0.798437                   74.546875   \n",
              "2024-07-13 14:28:25                    0.798437                   74.578125   \n",
              "2024-07-13 14:28:28                    0.796875                   74.559375   \n",
              "2024-07-13 14:28:31                    0.798437                   74.596875   \n",
              "2024-07-13 14:28:34                    0.798437                   74.562500   \n",
              "\n",
              "                     Real_RD_PV_NivelTqCal  Real_RD_PV_NivelTqDosado  \n",
              "timezone                                                              \n",
              "2024-07-13 14:28:22               98.31250                  73.84375  \n",
              "2024-07-13 14:28:25               98.34375                  73.87500  \n",
              "2024-07-13 14:28:28               98.40625                  73.87500  \n",
              "2024-07-13 14:28:31               98.50000                  73.84375  \n",
              "2024-07-13 14:28:34               98.25000                  73.87500  "
            ],
            "text/html": [
              "\n",
              "  <div id=\"df-90b89de3-9acf-4609-815a-cfcaab2a3531\" class=\"colab-df-container\">\n",
              "    <div>\n",
              "<style scoped>\n",
              "    .dataframe tbody tr th:only-of-type {\n",
              "        vertical-align: middle;\n",
              "    }\n",
              "\n",
              "    .dataframe tbody tr th {\n",
              "        vertical-align: top;\n",
              "    }\n",
              "\n",
              "    .dataframe thead th {\n",
              "        text-align: right;\n",
              "    }\n",
              "</style>\n",
              "<table border=\"1\" class=\"dataframe\">\n",
              "  <thead>\n",
              "    <tr style=\"text-align: right;\">\n",
              "      <th></th>\n",
              "      <th>Real_RD_PV_pHDosado</th>\n",
              "      <th>Real_RD_MV_ValvulaCalpHDosado</th>\n",
              "      <th>Real_RD_PV_VazaoDosado</th>\n",
              "      <th>Real_RD_ST_LimpezaPHmetro</th>\n",
              "      <th>Real_RD_PV_PressaoLinhaCal</th>\n",
              "      <th>Real_RD_MV_PressaoLinhaCal</th>\n",
              "      <th>Real_RD_PV_NivelTqCal</th>\n",
              "      <th>Real_RD_PV_NivelTqDosado</th>\n",
              "    </tr>\n",
              "    <tr>\n",
              "      <th>timezone</th>\n",
              "      <th></th>\n",
              "      <th></th>\n",
              "      <th></th>\n",
              "      <th></th>\n",
              "      <th></th>\n",
              "      <th></th>\n",
              "      <th></th>\n",
              "      <th></th>\n",
              "    </tr>\n",
              "  </thead>\n",
              "  <tbody>\n",
              "    <tr>\n",
              "      <th>2024-07-13 14:28:22</th>\n",
              "      <td>7.1260</td>\n",
              "      <td>37.128124</td>\n",
              "      <td>899.625</td>\n",
              "      <td>0.0</td>\n",
              "      <td>0.798437</td>\n",
              "      <td>74.546875</td>\n",
              "      <td>98.31250</td>\n",
              "      <td>73.84375</td>\n",
              "    </tr>\n",
              "    <tr>\n",
              "      <th>2024-07-13 14:28:25</th>\n",
              "      <td>7.1225</td>\n",
              "      <td>37.178123</td>\n",
              "      <td>899.625</td>\n",
              "      <td>0.0</td>\n",
              "      <td>0.798437</td>\n",
              "      <td>74.578125</td>\n",
              "      <td>98.34375</td>\n",
              "      <td>73.87500</td>\n",
              "    </tr>\n",
              "    <tr>\n",
              "      <th>2024-07-13 14:28:28</th>\n",
              "      <td>7.1225</td>\n",
              "      <td>37.187500</td>\n",
              "      <td>899.625</td>\n",
              "      <td>0.0</td>\n",
              "      <td>0.796875</td>\n",
              "      <td>74.559375</td>\n",
              "      <td>98.40625</td>\n",
              "      <td>73.87500</td>\n",
              "    </tr>\n",
              "    <tr>\n",
              "      <th>2024-07-13 14:28:31</th>\n",
              "      <td>7.1260</td>\n",
              "      <td>37.331249</td>\n",
              "      <td>899.625</td>\n",
              "      <td>0.0</td>\n",
              "      <td>0.798437</td>\n",
              "      <td>74.596875</td>\n",
              "      <td>98.50000</td>\n",
              "      <td>73.84375</td>\n",
              "    </tr>\n",
              "    <tr>\n",
              "      <th>2024-07-13 14:28:34</th>\n",
              "      <td>7.1225</td>\n",
              "      <td>37.218750</td>\n",
              "      <td>900.375</td>\n",
              "      <td>0.0</td>\n",
              "      <td>0.798437</td>\n",
              "      <td>74.562500</td>\n",
              "      <td>98.25000</td>\n",
              "      <td>73.87500</td>\n",
              "    </tr>\n",
              "  </tbody>\n",
              "</table>\n",
              "</div>\n",
              "    <div class=\"colab-df-buttons\">\n",
              "\n",
              "  <div class=\"colab-df-container\">\n",
              "    <button class=\"colab-df-convert\" onclick=\"convertToInteractive('df-90b89de3-9acf-4609-815a-cfcaab2a3531')\"\n",
              "            title=\"Convert this dataframe to an interactive table.\"\n",
              "            style=\"display:none;\">\n",
              "\n",
              "  <svg xmlns=\"http://www.w3.org/2000/svg\" height=\"24px\" viewBox=\"0 -960 960 960\">\n",
              "    <path d=\"M120-120v-720h720v720H120Zm60-500h600v-160H180v160Zm220 220h160v-160H400v160Zm0 220h160v-160H400v160ZM180-400h160v-160H180v160Zm440 0h160v-160H620v160ZM180-180h160v-160H180v160Zm440 0h160v-160H620v160Z\"/>\n",
              "  </svg>\n",
              "    </button>\n",
              "\n",
              "  <style>\n",
              "    .colab-df-container {\n",
              "      display:flex;\n",
              "      gap: 12px;\n",
              "    }\n",
              "\n",
              "    .colab-df-convert {\n",
              "      background-color: #E8F0FE;\n",
              "      border: none;\n",
              "      border-radius: 50%;\n",
              "      cursor: pointer;\n",
              "      display: none;\n",
              "      fill: #1967D2;\n",
              "      height: 32px;\n",
              "      padding: 0 0 0 0;\n",
              "      width: 32px;\n",
              "    }\n",
              "\n",
              "    .colab-df-convert:hover {\n",
              "      background-color: #E2EBFA;\n",
              "      box-shadow: 0px 1px 2px rgba(60, 64, 67, 0.3), 0px 1px 3px 1px rgba(60, 64, 67, 0.15);\n",
              "      fill: #174EA6;\n",
              "    }\n",
              "\n",
              "    .colab-df-buttons div {\n",
              "      margin-bottom: 4px;\n",
              "    }\n",
              "\n",
              "    [theme=dark] .colab-df-convert {\n",
              "      background-color: #3B4455;\n",
              "      fill: #D2E3FC;\n",
              "    }\n",
              "\n",
              "    [theme=dark] .colab-df-convert:hover {\n",
              "      background-color: #434B5C;\n",
              "      box-shadow: 0px 1px 3px 1px rgba(0, 0, 0, 0.15);\n",
              "      filter: drop-shadow(0px 1px 2px rgba(0, 0, 0, 0.3));\n",
              "      fill: #FFFFFF;\n",
              "    }\n",
              "  </style>\n",
              "\n",
              "    <script>\n",
              "      const buttonEl =\n",
              "        document.querySelector('#df-90b89de3-9acf-4609-815a-cfcaab2a3531 button.colab-df-convert');\n",
              "      buttonEl.style.display =\n",
              "        google.colab.kernel.accessAllowed ? 'block' : 'none';\n",
              "\n",
              "      async function convertToInteractive(key) {\n",
              "        const element = document.querySelector('#df-90b89de3-9acf-4609-815a-cfcaab2a3531');\n",
              "        const dataTable =\n",
              "          await google.colab.kernel.invokeFunction('convertToInteractive',\n",
              "                                                    [key], {});\n",
              "        if (!dataTable) return;\n",
              "\n",
              "        const docLinkHtml = 'Like what you see? Visit the ' +\n",
              "          '<a target=\"_blank\" href=https://colab.research.google.com/notebooks/data_table.ipynb>data table notebook</a>'\n",
              "          + ' to learn more about interactive tables.';\n",
              "        element.innerHTML = '';\n",
              "        dataTable['output_type'] = 'display_data';\n",
              "        await google.colab.output.renderOutput(dataTable, element);\n",
              "        const docLink = document.createElement('div');\n",
              "        docLink.innerHTML = docLinkHtml;\n",
              "        element.appendChild(docLink);\n",
              "      }\n",
              "    </script>\n",
              "  </div>\n",
              "\n",
              "\n",
              "<div id=\"df-cb395418-98b1-466e-a378-30258f4a123f\">\n",
              "  <button class=\"colab-df-quickchart\" onclick=\"quickchart('df-cb395418-98b1-466e-a378-30258f4a123f')\"\n",
              "            title=\"Suggest charts\"\n",
              "            style=\"display:none;\">\n",
              "\n",
              "<svg xmlns=\"http://www.w3.org/2000/svg\" height=\"24px\"viewBox=\"0 0 24 24\"\n",
              "     width=\"24px\">\n",
              "    <g>\n",
              "        <path d=\"M19 3H5c-1.1 0-2 .9-2 2v14c0 1.1.9 2 2 2h14c1.1 0 2-.9 2-2V5c0-1.1-.9-2-2-2zM9 17H7v-7h2v7zm4 0h-2V7h2v10zm4 0h-2v-4h2v4z\"/>\n",
              "    </g>\n",
              "</svg>\n",
              "  </button>\n",
              "\n",
              "<style>\n",
              "  .colab-df-quickchart {\n",
              "      --bg-color: #E8F0FE;\n",
              "      --fill-color: #1967D2;\n",
              "      --hover-bg-color: #E2EBFA;\n",
              "      --hover-fill-color: #174EA6;\n",
              "      --disabled-fill-color: #AAA;\n",
              "      --disabled-bg-color: #DDD;\n",
              "  }\n",
              "\n",
              "  [theme=dark] .colab-df-quickchart {\n",
              "      --bg-color: #3B4455;\n",
              "      --fill-color: #D2E3FC;\n",
              "      --hover-bg-color: #434B5C;\n",
              "      --hover-fill-color: #FFFFFF;\n",
              "      --disabled-bg-color: #3B4455;\n",
              "      --disabled-fill-color: #666;\n",
              "  }\n",
              "\n",
              "  .colab-df-quickchart {\n",
              "    background-color: var(--bg-color);\n",
              "    border: none;\n",
              "    border-radius: 50%;\n",
              "    cursor: pointer;\n",
              "    display: none;\n",
              "    fill: var(--fill-color);\n",
              "    height: 32px;\n",
              "    padding: 0;\n",
              "    width: 32px;\n",
              "  }\n",
              "\n",
              "  .colab-df-quickchart:hover {\n",
              "    background-color: var(--hover-bg-color);\n",
              "    box-shadow: 0 1px 2px rgba(60, 64, 67, 0.3), 0 1px 3px 1px rgba(60, 64, 67, 0.15);\n",
              "    fill: var(--button-hover-fill-color);\n",
              "  }\n",
              "\n",
              "  .colab-df-quickchart-complete:disabled,\n",
              "  .colab-df-quickchart-complete:disabled:hover {\n",
              "    background-color: var(--disabled-bg-color);\n",
              "    fill: var(--disabled-fill-color);\n",
              "    box-shadow: none;\n",
              "  }\n",
              "\n",
              "  .colab-df-spinner {\n",
              "    border: 2px solid var(--fill-color);\n",
              "    border-color: transparent;\n",
              "    border-bottom-color: var(--fill-color);\n",
              "    animation:\n",
              "      spin 1s steps(1) infinite;\n",
              "  }\n",
              "\n",
              "  @keyframes spin {\n",
              "    0% {\n",
              "      border-color: transparent;\n",
              "      border-bottom-color: var(--fill-color);\n",
              "      border-left-color: var(--fill-color);\n",
              "    }\n",
              "    20% {\n",
              "      border-color: transparent;\n",
              "      border-left-color: var(--fill-color);\n",
              "      border-top-color: var(--fill-color);\n",
              "    }\n",
              "    30% {\n",
              "      border-color: transparent;\n",
              "      border-left-color: var(--fill-color);\n",
              "      border-top-color: var(--fill-color);\n",
              "      border-right-color: var(--fill-color);\n",
              "    }\n",
              "    40% {\n",
              "      border-color: transparent;\n",
              "      border-right-color: var(--fill-color);\n",
              "      border-top-color: var(--fill-color);\n",
              "    }\n",
              "    60% {\n",
              "      border-color: transparent;\n",
              "      border-right-color: var(--fill-color);\n",
              "    }\n",
              "    80% {\n",
              "      border-color: transparent;\n",
              "      border-right-color: var(--fill-color);\n",
              "      border-bottom-color: var(--fill-color);\n",
              "    }\n",
              "    90% {\n",
              "      border-color: transparent;\n",
              "      border-bottom-color: var(--fill-color);\n",
              "    }\n",
              "  }\n",
              "</style>\n",
              "\n",
              "  <script>\n",
              "    async function quickchart(key) {\n",
              "      const quickchartButtonEl =\n",
              "        document.querySelector('#' + key + ' button');\n",
              "      quickchartButtonEl.disabled = true;  // To prevent multiple clicks.\n",
              "      quickchartButtonEl.classList.add('colab-df-spinner');\n",
              "      try {\n",
              "        const charts = await google.colab.kernel.invokeFunction(\n",
              "            'suggestCharts', [key], {});\n",
              "      } catch (error) {\n",
              "        console.error('Error during call to suggestCharts:', error);\n",
              "      }\n",
              "      quickchartButtonEl.classList.remove('colab-df-spinner');\n",
              "      quickchartButtonEl.classList.add('colab-df-quickchart-complete');\n",
              "    }\n",
              "    (() => {\n",
              "      let quickchartButtonEl =\n",
              "        document.querySelector('#df-cb395418-98b1-466e-a378-30258f4a123f button');\n",
              "      quickchartButtonEl.style.display =\n",
              "        google.colab.kernel.accessAllowed ? 'block' : 'none';\n",
              "    })();\n",
              "  </script>\n",
              "</div>\n",
              "\n",
              "    </div>\n",
              "  </div>\n"
            ],
            "application/vnd.google.colaboratory.intrinsic+json": {
              "type": "dataframe",
              "variable_name": "df",
              "summary": "{\n  \"name\": \"df\",\n  \"rows\": 57343,\n  \"fields\": [\n    {\n      \"column\": \"timezone\",\n      \"properties\": {\n        \"dtype\": \"object\",\n        \"num_unique_values\": 55039,\n        \"samples\": [\n          \"2024-07-14 02:46:54\",\n          \"2024-07-14 22:49:33\",\n          \"2024-07-14 22:53:28\"\n        ],\n        \"semantic_type\": \"\",\n        \"description\": \"\"\n      }\n    },\n    {\n      \"column\": \"Real_RD_PV_pHDosado\",\n      \"properties\": {\n        \"dtype\": \"number\",\n        \"std\": 0.23516910834079932,\n        \"min\": 5.557999610900879,\n        \"max\": 8.441999435424805,\n        \"num_unique_values\": 725,\n        \"samples\": [\n          5.84499979019165,\n          6.586999893188477,\n          7.853999614715576\n        ],\n        \"semantic_type\": \"\",\n        \"description\": \"\"\n      }\n    },\n    {\n      \"column\": \"Real_RD_MV_ValvulaCalpHDosado\",\n      \"properties\": {\n        \"dtype\": \"number\",\n        \"std\": 5.519188866813185,\n        \"min\": 15.471875190734863,\n        \"max\": 84.9781265258789,\n        \"num_unique_values\": 7949,\n        \"samples\": [\n          35.30937576293945,\n          40.59687423706055,\n          32.91875076293945\n        ],\n        \"semantic_type\": \"\",\n        \"description\": \"\"\n      }\n    },\n    {\n      \"column\": \"Real_RD_PV_VazaoDosado\",\n      \"properties\": {\n        \"dtype\": \"number\",\n        \"std\": 59.83768088843688,\n        \"min\": 550.125,\n        \"max\": 1209.75,\n        \"num_unique_values\": 945,\n        \"samples\": [\n          604.125,\n          1030.875,\n          1069.5\n        ],\n        \"semantic_type\": \"\",\n        \"description\": \"\"\n      }\n    },\n    {\n      \"column\": \"Real_RD_ST_LimpezaPHmetro\",\n      \"properties\": {\n        \"dtype\": \"number\",\n        \"std\": 0.14000959122359302,\n        \"min\": 0.0,\n        \"max\": 1.0,\n        \"num_unique_values\": 2,\n        \"samples\": [\n          1.0,\n          0.0\n        ],\n        \"semantic_type\": \"\",\n        \"description\": \"\"\n      }\n    },\n    {\n      \"column\": \"Real_RD_PV_PressaoLinhaCal\",\n      \"properties\": {\n        \"dtype\": \"number\",\n        \"std\": 0.013029397595367764,\n        \"min\": 0.5004687309265137,\n        \"max\": 1.1493749618530271,\n        \"num_unique_values\": 188,\n        \"samples\": [\n          0.9246875047683716,\n          0.9793750047683716\n        ],\n        \"semantic_type\": \"\",\n        \"description\": \"\"\n      }\n    },\n    {\n      \"column\": \"Real_RD_MV_PressaoLinhaCal\",\n      \"properties\": {\n        \"dtype\": \"number\",\n        \"std\": 4.028572218693931,\n        \"min\": 69.58125,\n        \"max\": 94.075,\n        \"num_unique_values\": 6269,\n        \"samples\": [\n          84.884375,\n          83.075\n        ],\n        \"semantic_type\": \"\",\n        \"description\": \"\"\n      }\n    },\n    {\n      \"column\": \"Real_RD_PV_NivelTqCal\",\n      \"properties\": {\n        \"dtype\": \"number\",\n        \"std\": 6.804345637572597,\n        \"min\": 73.740625,\n        \"max\": 102.246875,\n        \"num_unique_values\": 932,\n        \"samples\": [\n          76.89375,\n          99.625\n        ],\n        \"semantic_type\": \"\",\n        \"description\": \"\"\n      }\n    },\n    {\n      \"column\": \"Real_RD_PV_NivelTqDosado\",\n      \"properties\": {\n        \"dtype\": \"number\",\n        \"std\": 18.229685727630617,\n        \"min\": 8.446874618530273,\n        \"max\": 102.09375,\n        \"num_unique_values\": 2827,\n        \"samples\": [\n          83.7874984741211,\n          63.46562576293945\n        ],\n        \"semantic_type\": \"\",\n        \"description\": \"\"\n      }\n    }\n  ]\n}"
            }
          },
          "metadata": {},
          "execution_count": 7
        }
      ],
      "source": [
        "df = df_raw.dropna() # Drop nulls\n",
        "df = df.tail(day * 10) # Seleciona apenas os últimos dez dias\n",
        "df = df.drop(columns=['ID', 'Real_RD_PV_BaumeCal', 'Real_RD_MV_ValvulaCalpHDosado-2']) # Features não usadas\n",
        "df.head()"
      ]
    },
    {
      "cell_type": "code",
      "execution_count": 8,
      "metadata": {
        "id": "LlFFObnLOWPO"
      },
      "outputs": [],
      "source": [
        "# Normalização\n",
        "from sklearn.preprocessing import MinMaxScaler\n",
        "\n",
        "scaler = MinMaxScaler()\n",
        "normalized_data = scaler.fit_transform(df)\n",
        "normalized_df = pd.DataFrame(normalized_data, columns=df.columns)"
      ]
    },
    {
      "cell_type": "code",
      "execution_count": 9,
      "metadata": {
        "id": "XU5pdBt7OWPO"
      },
      "outputs": [],
      "source": [
        "# Porcentagem usada para treinar o modelo\n",
        "split_fraction = 0.715\n",
        "train_split = int(split_fraction * int(df.shape[0]))\n",
        "\n",
        "learning_rate = 0.001\n",
        "batch_size = 256\n",
        "epochs = 10"
      ]
    },
    {
      "cell_type": "code",
      "execution_count": 10,
      "metadata": {
        "id": "4Jh4voPuOWPQ"
      },
      "outputs": [],
      "source": [
        "train_data = normalized_df.loc[0 : train_split - 1]\n",
        "val_data = normalized_df.loc[train_split:]"
      ]
    },
    {
      "cell_type": "code",
      "execution_count": 11,
      "metadata": {
        "colab": {
          "base_uri": "https://localhost:8080/",
          "height": 443
        },
        "id": "dD07bLOEUpVt",
        "outputId": "6b9decd3-4d81-4c82-8c58-d2821a37c1f1"
      },
      "outputs": [
        {
          "output_type": "execute_result",
          "data": {
            "text/plain": [
              "       Real_RD_PV_pHDosado  Real_RD_MV_ValvulaCalpHDosado  \\\n",
              "0                 0.543689                       0.311573   \n",
              "1                 0.542476                       0.312292   \n",
              "2                 0.542476                       0.312427   \n",
              "3                 0.543689                       0.314495   \n",
              "4                 0.542476                       0.312877   \n",
              "...                    ...                            ...   \n",
              "57338             0.691748                       0.289542   \n",
              "57339             0.694175                       0.289452   \n",
              "57340             0.694175                       0.288733   \n",
              "57341             0.694175                       0.289677   \n",
              "57342             0.694175                       0.288463   \n",
              "\n",
              "       Real_RD_PV_VazaoDosado  Real_RD_ST_LimpezaPHmetro  \\\n",
              "0                    0.529847                        0.0   \n",
              "1                    0.529847                        0.0   \n",
              "2                    0.529847                        0.0   \n",
              "3                    0.529847                        0.0   \n",
              "4                    0.530984                        0.0   \n",
              "...                       ...                        ...   \n",
              "57338                0.980102                        0.0   \n",
              "57339                0.981239                        0.0   \n",
              "57340                0.985219                        0.0   \n",
              "57341                0.989198                        0.0   \n",
              "57342                0.988061                        0.0   \n",
              "\n",
              "       Real_RD_PV_PressaoLinhaCal  Real_RD_MV_PressaoLinhaCal  \\\n",
              "0                        0.459186                    0.202730   \n",
              "1                        0.459186                    0.204006   \n",
              "2                        0.456778                    0.203241   \n",
              "3                        0.459186                    0.204772   \n",
              "4                        0.459186                    0.203368   \n",
              "...                           ...                         ...   \n",
              "57338                    0.461594                    0.416943   \n",
              "57339                    0.459186                    0.417964   \n",
              "57340                    0.456778                    0.418219   \n",
              "57341                    0.461594                    0.417709   \n",
              "57342                    0.459186                    0.417198   \n",
              "\n",
              "       Real_RD_PV_NivelTqCal  Real_RD_PV_NivelTqDosado  \n",
              "0                   0.861982                  0.698335  \n",
              "1                   0.863078                  0.698669  \n",
              "2                   0.865271                  0.698669  \n",
              "3                   0.868560                  0.698335  \n",
              "4                   0.859790                  0.698669  \n",
              "...                      ...                       ...  \n",
              "57338               0.767814                  0.321220  \n",
              "57339               0.759044                  0.320886  \n",
              "57340               0.765622                  0.321220  \n",
              "57341               0.762333                  0.321554  \n",
              "57342               0.764525                  0.322555  \n",
              "\n",
              "[57343 rows x 8 columns]"
            ],
            "text/html": [
              "\n",
              "  <div id=\"df-daf56c48-b604-42d7-924d-427a552984d0\" class=\"colab-df-container\">\n",
              "    <div>\n",
              "<style scoped>\n",
              "    .dataframe tbody tr th:only-of-type {\n",
              "        vertical-align: middle;\n",
              "    }\n",
              "\n",
              "    .dataframe tbody tr th {\n",
              "        vertical-align: top;\n",
              "    }\n",
              "\n",
              "    .dataframe thead th {\n",
              "        text-align: right;\n",
              "    }\n",
              "</style>\n",
              "<table border=\"1\" class=\"dataframe\">\n",
              "  <thead>\n",
              "    <tr style=\"text-align: right;\">\n",
              "      <th></th>\n",
              "      <th>Real_RD_PV_pHDosado</th>\n",
              "      <th>Real_RD_MV_ValvulaCalpHDosado</th>\n",
              "      <th>Real_RD_PV_VazaoDosado</th>\n",
              "      <th>Real_RD_ST_LimpezaPHmetro</th>\n",
              "      <th>Real_RD_PV_PressaoLinhaCal</th>\n",
              "      <th>Real_RD_MV_PressaoLinhaCal</th>\n",
              "      <th>Real_RD_PV_NivelTqCal</th>\n",
              "      <th>Real_RD_PV_NivelTqDosado</th>\n",
              "    </tr>\n",
              "  </thead>\n",
              "  <tbody>\n",
              "    <tr>\n",
              "      <th>0</th>\n",
              "      <td>0.543689</td>\n",
              "      <td>0.311573</td>\n",
              "      <td>0.529847</td>\n",
              "      <td>0.0</td>\n",
              "      <td>0.459186</td>\n",
              "      <td>0.202730</td>\n",
              "      <td>0.861982</td>\n",
              "      <td>0.698335</td>\n",
              "    </tr>\n",
              "    <tr>\n",
              "      <th>1</th>\n",
              "      <td>0.542476</td>\n",
              "      <td>0.312292</td>\n",
              "      <td>0.529847</td>\n",
              "      <td>0.0</td>\n",
              "      <td>0.459186</td>\n",
              "      <td>0.204006</td>\n",
              "      <td>0.863078</td>\n",
              "      <td>0.698669</td>\n",
              "    </tr>\n",
              "    <tr>\n",
              "      <th>2</th>\n",
              "      <td>0.542476</td>\n",
              "      <td>0.312427</td>\n",
              "      <td>0.529847</td>\n",
              "      <td>0.0</td>\n",
              "      <td>0.456778</td>\n",
              "      <td>0.203241</td>\n",
              "      <td>0.865271</td>\n",
              "      <td>0.698669</td>\n",
              "    </tr>\n",
              "    <tr>\n",
              "      <th>3</th>\n",
              "      <td>0.543689</td>\n",
              "      <td>0.314495</td>\n",
              "      <td>0.529847</td>\n",
              "      <td>0.0</td>\n",
              "      <td>0.459186</td>\n",
              "      <td>0.204772</td>\n",
              "      <td>0.868560</td>\n",
              "      <td>0.698335</td>\n",
              "    </tr>\n",
              "    <tr>\n",
              "      <th>4</th>\n",
              "      <td>0.542476</td>\n",
              "      <td>0.312877</td>\n",
              "      <td>0.530984</td>\n",
              "      <td>0.0</td>\n",
              "      <td>0.459186</td>\n",
              "      <td>0.203368</td>\n",
              "      <td>0.859790</td>\n",
              "      <td>0.698669</td>\n",
              "    </tr>\n",
              "    <tr>\n",
              "      <th>...</th>\n",
              "      <td>...</td>\n",
              "      <td>...</td>\n",
              "      <td>...</td>\n",
              "      <td>...</td>\n",
              "      <td>...</td>\n",
              "      <td>...</td>\n",
              "      <td>...</td>\n",
              "      <td>...</td>\n",
              "    </tr>\n",
              "    <tr>\n",
              "      <th>57338</th>\n",
              "      <td>0.691748</td>\n",
              "      <td>0.289542</td>\n",
              "      <td>0.980102</td>\n",
              "      <td>0.0</td>\n",
              "      <td>0.461594</td>\n",
              "      <td>0.416943</td>\n",
              "      <td>0.767814</td>\n",
              "      <td>0.321220</td>\n",
              "    </tr>\n",
              "    <tr>\n",
              "      <th>57339</th>\n",
              "      <td>0.694175</td>\n",
              "      <td>0.289452</td>\n",
              "      <td>0.981239</td>\n",
              "      <td>0.0</td>\n",
              "      <td>0.459186</td>\n",
              "      <td>0.417964</td>\n",
              "      <td>0.759044</td>\n",
              "      <td>0.320886</td>\n",
              "    </tr>\n",
              "    <tr>\n",
              "      <th>57340</th>\n",
              "      <td>0.694175</td>\n",
              "      <td>0.288733</td>\n",
              "      <td>0.985219</td>\n",
              "      <td>0.0</td>\n",
              "      <td>0.456778</td>\n",
              "      <td>0.418219</td>\n",
              "      <td>0.765622</td>\n",
              "      <td>0.321220</td>\n",
              "    </tr>\n",
              "    <tr>\n",
              "      <th>57341</th>\n",
              "      <td>0.694175</td>\n",
              "      <td>0.289677</td>\n",
              "      <td>0.989198</td>\n",
              "      <td>0.0</td>\n",
              "      <td>0.461594</td>\n",
              "      <td>0.417709</td>\n",
              "      <td>0.762333</td>\n",
              "      <td>0.321554</td>\n",
              "    </tr>\n",
              "    <tr>\n",
              "      <th>57342</th>\n",
              "      <td>0.694175</td>\n",
              "      <td>0.288463</td>\n",
              "      <td>0.988061</td>\n",
              "      <td>0.0</td>\n",
              "      <td>0.459186</td>\n",
              "      <td>0.417198</td>\n",
              "      <td>0.764525</td>\n",
              "      <td>0.322555</td>\n",
              "    </tr>\n",
              "  </tbody>\n",
              "</table>\n",
              "<p>57343 rows × 8 columns</p>\n",
              "</div>\n",
              "    <div class=\"colab-df-buttons\">\n",
              "\n",
              "  <div class=\"colab-df-container\">\n",
              "    <button class=\"colab-df-convert\" onclick=\"convertToInteractive('df-daf56c48-b604-42d7-924d-427a552984d0')\"\n",
              "            title=\"Convert this dataframe to an interactive table.\"\n",
              "            style=\"display:none;\">\n",
              "\n",
              "  <svg xmlns=\"http://www.w3.org/2000/svg\" height=\"24px\" viewBox=\"0 -960 960 960\">\n",
              "    <path d=\"M120-120v-720h720v720H120Zm60-500h600v-160H180v160Zm220 220h160v-160H400v160Zm0 220h160v-160H400v160ZM180-400h160v-160H180v160Zm440 0h160v-160H620v160ZM180-180h160v-160H180v160Zm440 0h160v-160H620v160Z\"/>\n",
              "  </svg>\n",
              "    </button>\n",
              "\n",
              "  <style>\n",
              "    .colab-df-container {\n",
              "      display:flex;\n",
              "      gap: 12px;\n",
              "    }\n",
              "\n",
              "    .colab-df-convert {\n",
              "      background-color: #E8F0FE;\n",
              "      border: none;\n",
              "      border-radius: 50%;\n",
              "      cursor: pointer;\n",
              "      display: none;\n",
              "      fill: #1967D2;\n",
              "      height: 32px;\n",
              "      padding: 0 0 0 0;\n",
              "      width: 32px;\n",
              "    }\n",
              "\n",
              "    .colab-df-convert:hover {\n",
              "      background-color: #E2EBFA;\n",
              "      box-shadow: 0px 1px 2px rgba(60, 64, 67, 0.3), 0px 1px 3px 1px rgba(60, 64, 67, 0.15);\n",
              "      fill: #174EA6;\n",
              "    }\n",
              "\n",
              "    .colab-df-buttons div {\n",
              "      margin-bottom: 4px;\n",
              "    }\n",
              "\n",
              "    [theme=dark] .colab-df-convert {\n",
              "      background-color: #3B4455;\n",
              "      fill: #D2E3FC;\n",
              "    }\n",
              "\n",
              "    [theme=dark] .colab-df-convert:hover {\n",
              "      background-color: #434B5C;\n",
              "      box-shadow: 0px 1px 3px 1px rgba(0, 0, 0, 0.15);\n",
              "      filter: drop-shadow(0px 1px 2px rgba(0, 0, 0, 0.3));\n",
              "      fill: #FFFFFF;\n",
              "    }\n",
              "  </style>\n",
              "\n",
              "    <script>\n",
              "      const buttonEl =\n",
              "        document.querySelector('#df-daf56c48-b604-42d7-924d-427a552984d0 button.colab-df-convert');\n",
              "      buttonEl.style.display =\n",
              "        google.colab.kernel.accessAllowed ? 'block' : 'none';\n",
              "\n",
              "      async function convertToInteractive(key) {\n",
              "        const element = document.querySelector('#df-daf56c48-b604-42d7-924d-427a552984d0');\n",
              "        const dataTable =\n",
              "          await google.colab.kernel.invokeFunction('convertToInteractive',\n",
              "                                                    [key], {});\n",
              "        if (!dataTable) return;\n",
              "\n",
              "        const docLinkHtml = 'Like what you see? Visit the ' +\n",
              "          '<a target=\"_blank\" href=https://colab.research.google.com/notebooks/data_table.ipynb>data table notebook</a>'\n",
              "          + ' to learn more about interactive tables.';\n",
              "        element.innerHTML = '';\n",
              "        dataTable['output_type'] = 'display_data';\n",
              "        await google.colab.output.renderOutput(dataTable, element);\n",
              "        const docLink = document.createElement('div');\n",
              "        docLink.innerHTML = docLinkHtml;\n",
              "        element.appendChild(docLink);\n",
              "      }\n",
              "    </script>\n",
              "  </div>\n",
              "\n",
              "\n",
              "<div id=\"df-70bbd169-34eb-472d-8d6e-3c0a535da535\">\n",
              "  <button class=\"colab-df-quickchart\" onclick=\"quickchart('df-70bbd169-34eb-472d-8d6e-3c0a535da535')\"\n",
              "            title=\"Suggest charts\"\n",
              "            style=\"display:none;\">\n",
              "\n",
              "<svg xmlns=\"http://www.w3.org/2000/svg\" height=\"24px\"viewBox=\"0 0 24 24\"\n",
              "     width=\"24px\">\n",
              "    <g>\n",
              "        <path d=\"M19 3H5c-1.1 0-2 .9-2 2v14c0 1.1.9 2 2 2h14c1.1 0 2-.9 2-2V5c0-1.1-.9-2-2-2zM9 17H7v-7h2v7zm4 0h-2V7h2v10zm4 0h-2v-4h2v4z\"/>\n",
              "    </g>\n",
              "</svg>\n",
              "  </button>\n",
              "\n",
              "<style>\n",
              "  .colab-df-quickchart {\n",
              "      --bg-color: #E8F0FE;\n",
              "      --fill-color: #1967D2;\n",
              "      --hover-bg-color: #E2EBFA;\n",
              "      --hover-fill-color: #174EA6;\n",
              "      --disabled-fill-color: #AAA;\n",
              "      --disabled-bg-color: #DDD;\n",
              "  }\n",
              "\n",
              "  [theme=dark] .colab-df-quickchart {\n",
              "      --bg-color: #3B4455;\n",
              "      --fill-color: #D2E3FC;\n",
              "      --hover-bg-color: #434B5C;\n",
              "      --hover-fill-color: #FFFFFF;\n",
              "      --disabled-bg-color: #3B4455;\n",
              "      --disabled-fill-color: #666;\n",
              "  }\n",
              "\n",
              "  .colab-df-quickchart {\n",
              "    background-color: var(--bg-color);\n",
              "    border: none;\n",
              "    border-radius: 50%;\n",
              "    cursor: pointer;\n",
              "    display: none;\n",
              "    fill: var(--fill-color);\n",
              "    height: 32px;\n",
              "    padding: 0;\n",
              "    width: 32px;\n",
              "  }\n",
              "\n",
              "  .colab-df-quickchart:hover {\n",
              "    background-color: var(--hover-bg-color);\n",
              "    box-shadow: 0 1px 2px rgba(60, 64, 67, 0.3), 0 1px 3px 1px rgba(60, 64, 67, 0.15);\n",
              "    fill: var(--button-hover-fill-color);\n",
              "  }\n",
              "\n",
              "  .colab-df-quickchart-complete:disabled,\n",
              "  .colab-df-quickchart-complete:disabled:hover {\n",
              "    background-color: var(--disabled-bg-color);\n",
              "    fill: var(--disabled-fill-color);\n",
              "    box-shadow: none;\n",
              "  }\n",
              "\n",
              "  .colab-df-spinner {\n",
              "    border: 2px solid var(--fill-color);\n",
              "    border-color: transparent;\n",
              "    border-bottom-color: var(--fill-color);\n",
              "    animation:\n",
              "      spin 1s steps(1) infinite;\n",
              "  }\n",
              "\n",
              "  @keyframes spin {\n",
              "    0% {\n",
              "      border-color: transparent;\n",
              "      border-bottom-color: var(--fill-color);\n",
              "      border-left-color: var(--fill-color);\n",
              "    }\n",
              "    20% {\n",
              "      border-color: transparent;\n",
              "      border-left-color: var(--fill-color);\n",
              "      border-top-color: var(--fill-color);\n",
              "    }\n",
              "    30% {\n",
              "      border-color: transparent;\n",
              "      border-left-color: var(--fill-color);\n",
              "      border-top-color: var(--fill-color);\n",
              "      border-right-color: var(--fill-color);\n",
              "    }\n",
              "    40% {\n",
              "      border-color: transparent;\n",
              "      border-right-color: var(--fill-color);\n",
              "      border-top-color: var(--fill-color);\n",
              "    }\n",
              "    60% {\n",
              "      border-color: transparent;\n",
              "      border-right-color: var(--fill-color);\n",
              "    }\n",
              "    80% {\n",
              "      border-color: transparent;\n",
              "      border-right-color: var(--fill-color);\n",
              "      border-bottom-color: var(--fill-color);\n",
              "    }\n",
              "    90% {\n",
              "      border-color: transparent;\n",
              "      border-bottom-color: var(--fill-color);\n",
              "    }\n",
              "  }\n",
              "</style>\n",
              "\n",
              "  <script>\n",
              "    async function quickchart(key) {\n",
              "      const quickchartButtonEl =\n",
              "        document.querySelector('#' + key + ' button');\n",
              "      quickchartButtonEl.disabled = true;  // To prevent multiple clicks.\n",
              "      quickchartButtonEl.classList.add('colab-df-spinner');\n",
              "      try {\n",
              "        const charts = await google.colab.kernel.invokeFunction(\n",
              "            'suggestCharts', [key], {});\n",
              "      } catch (error) {\n",
              "        console.error('Error during call to suggestCharts:', error);\n",
              "      }\n",
              "      quickchartButtonEl.classList.remove('colab-df-spinner');\n",
              "      quickchartButtonEl.classList.add('colab-df-quickchart-complete');\n",
              "    }\n",
              "    (() => {\n",
              "      let quickchartButtonEl =\n",
              "        document.querySelector('#df-70bbd169-34eb-472d-8d6e-3c0a535da535 button');\n",
              "      quickchartButtonEl.style.display =\n",
              "        google.colab.kernel.accessAllowed ? 'block' : 'none';\n",
              "    })();\n",
              "  </script>\n",
              "</div>\n",
              "\n",
              "  <div id=\"id_38e598a7-d406-4d9c-99db-5be5175cfdd2\">\n",
              "    <style>\n",
              "      .colab-df-generate {\n",
              "        background-color: #E8F0FE;\n",
              "        border: none;\n",
              "        border-radius: 50%;\n",
              "        cursor: pointer;\n",
              "        display: none;\n",
              "        fill: #1967D2;\n",
              "        height: 32px;\n",
              "        padding: 0 0 0 0;\n",
              "        width: 32px;\n",
              "      }\n",
              "\n",
              "      .colab-df-generate:hover {\n",
              "        background-color: #E2EBFA;\n",
              "        box-shadow: 0px 1px 2px rgba(60, 64, 67, 0.3), 0px 1px 3px 1px rgba(60, 64, 67, 0.15);\n",
              "        fill: #174EA6;\n",
              "      }\n",
              "\n",
              "      [theme=dark] .colab-df-generate {\n",
              "        background-color: #3B4455;\n",
              "        fill: #D2E3FC;\n",
              "      }\n",
              "\n",
              "      [theme=dark] .colab-df-generate:hover {\n",
              "        background-color: #434B5C;\n",
              "        box-shadow: 0px 1px 3px 1px rgba(0, 0, 0, 0.15);\n",
              "        filter: drop-shadow(0px 1px 2px rgba(0, 0, 0, 0.3));\n",
              "        fill: #FFFFFF;\n",
              "      }\n",
              "    </style>\n",
              "    <button class=\"colab-df-generate\" onclick=\"generateWithVariable('normalized_df')\"\n",
              "            title=\"Generate code using this dataframe.\"\n",
              "            style=\"display:none;\">\n",
              "\n",
              "  <svg xmlns=\"http://www.w3.org/2000/svg\" height=\"24px\"viewBox=\"0 0 24 24\"\n",
              "       width=\"24px\">\n",
              "    <path d=\"M7,19H8.4L18.45,9,17,7.55,7,17.6ZM5,21V16.75L18.45,3.32a2,2,0,0,1,2.83,0l1.4,1.43a1.91,1.91,0,0,1,.58,1.4,1.91,1.91,0,0,1-.58,1.4L9.25,21ZM18.45,9,17,7.55Zm-12,3A5.31,5.31,0,0,0,4.9,8.1,5.31,5.31,0,0,0,1,6.5,5.31,5.31,0,0,0,4.9,4.9,5.31,5.31,0,0,0,6.5,1,5.31,5.31,0,0,0,8.1,4.9,5.31,5.31,0,0,0,12,6.5,5.46,5.46,0,0,0,6.5,12Z\"/>\n",
              "  </svg>\n",
              "    </button>\n",
              "    <script>\n",
              "      (() => {\n",
              "      const buttonEl =\n",
              "        document.querySelector('#id_38e598a7-d406-4d9c-99db-5be5175cfdd2 button.colab-df-generate');\n",
              "      buttonEl.style.display =\n",
              "        google.colab.kernel.accessAllowed ? 'block' : 'none';\n",
              "\n",
              "      buttonEl.onclick = () => {\n",
              "        google.colab.notebook.generateWithVariable('normalized_df');\n",
              "      }\n",
              "      })();\n",
              "    </script>\n",
              "  </div>\n",
              "\n",
              "    </div>\n",
              "  </div>\n"
            ],
            "application/vnd.google.colaboratory.intrinsic+json": {
              "type": "dataframe",
              "variable_name": "normalized_df",
              "summary": "{\n  \"name\": \"normalized_df\",\n  \"rows\": 57343,\n  \"fields\": [\n    {\n      \"column\": \"Real_RD_PV_pHDosado\",\n      \"properties\": {\n        \"dtype\": \"number\",\n        \"std\": 0.08154269162607554,\n        \"min\": 0.0,\n        \"max\": 1.0,\n        \"num_unique_values\": 725,\n        \"samples\": [\n          0.09951463132912908,\n          0.3567962360945911,\n          0.7961165546165412\n        ],\n        \"semantic_type\": \"\",\n        \"description\": \"\"\n      }\n    },\n    {\n      \"column\": \"Real_RD_MV_ValvulaCalpHDosado\",\n      \"properties\": {\n        \"dtype\": \"number\",\n        \"std\": 0.07940564712950408,\n        \"min\": 0.0,\n        \"max\": 1.0,\n        \"num_unique_values\": 7949,\n        \"samples\": [\n          0.28540599142014544,\n          0.36147826366262215,\n          0.25101160308703097\n        ],\n        \"semantic_type\": \"\",\n        \"description\": \"\"\n      }\n    },\n    {\n      \"column\": \"Real_RD_PV_VazaoDosado\",\n      \"properties\": {\n        \"dtype\": \"number\",\n        \"std\": 0.09071469530178138,\n        \"min\": 0.0,\n        \"max\": 0.9999999999999999,\n        \"num_unique_values\": 945,\n        \"samples\": [\n          0.08186469584991463,\n          0.7288231949971574,\n          0.787379192723138\n        ],\n        \"semantic_type\": \"\",\n        \"description\": \"\"\n      }\n    },\n    {\n      \"column\": \"Real_RD_ST_LimpezaPHmetro\",\n      \"properties\": {\n        \"dtype\": \"number\",\n        \"std\": 0.14000959122359302,\n        \"min\": 0.0,\n        \"max\": 1.0,\n        \"num_unique_values\": 2,\n        \"samples\": [\n          1.0,\n          0.0\n        ],\n        \"semantic_type\": \"\",\n        \"description\": \"\"\n      }\n    },\n    {\n      \"column\": \"Real_RD_PV_PressaoLinhaCal\",\n      \"properties\": {\n        \"dtype\": \"number\",\n        \"std\": 0.02007901446217395,\n        \"min\": 0.0,\n        \"max\": 1.0,\n        \"num_unique_values\": 188,\n        \"samples\": [\n          0.6537443371997753,\n          0.7380207663564453\n        ],\n        \"semantic_type\": \"\",\n        \"description\": \"\"\n      }\n    },\n    {\n      \"column\": \"Real_RD_MV_PressaoLinhaCal\",\n      \"properties\": {\n        \"dtype\": \"number\",\n        \"std\": 0.1644734766499155,\n        \"min\": 0.0,\n        \"max\": 1.0,\n        \"num_unique_values\": 6269,\n        \"samples\": [\n          0.624776728757336,\n          0.5509058433273792\n        ],\n        \"semantic_type\": \"\",\n        \"description\": \"\"\n      }\n    },\n    {\n      \"column\": \"Real_RD_PV_NivelTqCal\",\n      \"properties\": {\n        \"dtype\": \"number\",\n        \"std\": 0.23869662398851596,\n        \"min\": 0.0,\n        \"max\": 1.0,\n        \"num_unique_values\": 932,\n        \"samples\": [\n          0.11061170795878095,\n          0.9080245560184173\n        ],\n        \"semantic_type\": \"\",\n        \"description\": \"\"\n      }\n    },\n    {\n      \"column\": \"Real_RD_PV_NivelTqDosado\",\n      \"properties\": {\n        \"dtype\": \"number\",\n        \"std\": 0.19466411082454693,\n        \"min\": 0.0,\n        \"max\": 1.0,\n        \"num_unique_values\": 2827,\n        \"samples\": [\n          0.8045182879694752,\n          0.5875129407178914\n        ],\n        \"semantic_type\": \"\",\n        \"description\": \"\"\n      }\n    }\n  ]\n}"
            }
          },
          "metadata": {},
          "execution_count": 11
        }
      ],
      "source": [
        "normalized_df"
      ]
    },
    {
      "cell_type": "markdown",
      "metadata": {
        "id": "gZdaRdE9OWPQ"
      },
      "source": [
        "### Dataset de treinamento"
      ]
    },
    {
      "cell_type": "code",
      "execution_count": 12,
      "metadata": {
        "id": "q2AuqJDVOWPQ"
      },
      "outputs": [],
      "source": [
        "# Usaremos os dados da última hora para prever 5 minutos\n",
        "past = hour\n",
        "future = minute * 5\n",
        "step = 1\n",
        "\n",
        "# Dataset de treinamento\n",
        "start = past + future\n",
        "end = start + train_split\n",
        "\n",
        "x_train = train_data.drop(columns=['Real_RD_PV_pHDosado']).values\n",
        "y_train = normalized_df['Real_RD_PV_pHDosado'][start:end]\n",
        "\n",
        "sequence_length = int(past / step)"
      ]
    },
    {
      "cell_type": "code",
      "execution_count": 13,
      "metadata": {
        "id": "YXHcEizKOWPR"
      },
      "outputs": [],
      "source": [
        "dataset_train = keras.preprocessing.timeseries_dataset_from_array(\n",
        "    x_train,\n",
        "    y_train,\n",
        "    sequence_length=sequence_length,\n",
        "    sampling_rate=step,\n",
        "    batch_size=batch_size,\n",
        ")"
      ]
    },
    {
      "cell_type": "code",
      "execution_count": 14,
      "metadata": {
        "colab": {
          "base_uri": "https://localhost:8080/"
        },
        "id": "Jj5XICXxOWPR",
        "outputId": "8f073c07-793c-49e5-89d8-a8e9ede3f2ba"
      },
      "outputs": [
        {
          "output_type": "stream",
          "name": "stdout",
          "text": [
            "x_train shape: (41000, 7)\n",
            "y_train shape: (41000,)\n"
          ]
        }
      ],
      "source": [
        "print(f\"x_train shape: {x_train.shape}\")\n",
        "print(f\"y_train shape: {y_train.shape}\")"
      ]
    },
    {
      "cell_type": "code",
      "execution_count": 15,
      "metadata": {
        "colab": {
          "base_uri": "https://localhost:8080/"
        },
        "id": "oKxdJaL2OWPR",
        "outputId": "2242c0b2-3926-459d-9c49-d1abbed1f774"
      },
      "outputs": [
        {
          "output_type": "stream",
          "name": "stdout",
          "text": [
            "Input shape: (256, 1200, 7)\n",
            "Target shape: (256,)\n"
          ]
        }
      ],
      "source": [
        "for batch in dataset_train.take(1):\n",
        "    inputs, targets = batch\n",
        "\n",
        "print(\"Input shape:\", inputs.numpy().shape)\n",
        "print(\"Target shape:\", targets.numpy().shape)"
      ]
    },
    {
      "cell_type": "markdown",
      "metadata": {
        "id": "rPWVG2wvOWPR"
      },
      "source": [
        "### Dataset de validação"
      ]
    },
    {
      "cell_type": "code",
      "execution_count": 16,
      "metadata": {
        "id": "JXJcO_rWOWPS"
      },
      "outputs": [],
      "source": [
        "# Dataset de validação\n",
        "x_end = len(val_data) - past - future\n",
        "label_start = train_split + past + future\n",
        "\n",
        "x_val = val_data.drop(columns=['Real_RD_PV_pHDosado']).iloc[:x_end].values\n",
        "y_val = normalized_df['Real_RD_PV_pHDosado'][label_start:].values\n",
        "\n",
        "dataset_val = keras.preprocessing.timeseries_dataset_from_array(\n",
        "    x_val,\n",
        "    y_val,\n",
        "    sequence_length=sequence_length,\n",
        "    sampling_rate=step,\n",
        "    batch_size=batch_size,\n",
        ")"
      ]
    },
    {
      "cell_type": "code",
      "execution_count": 17,
      "metadata": {
        "colab": {
          "base_uri": "https://localhost:8080/"
        },
        "id": "ftQyB5d1OWPS",
        "outputId": "4fe6854d-ea52-4abc-c7b1-cd05586eed5d"
      },
      "outputs": [
        {
          "output_type": "stream",
          "name": "stdout",
          "text": [
            "x_val shape: (15043, 7)\n",
            "y_val shape: (15043,)\n"
          ]
        }
      ],
      "source": [
        "print(f\"x_val shape: {x_val.shape}\")\n",
        "print(f\"y_val shape: {y_val.shape}\")"
      ]
    },
    {
      "cell_type": "markdown",
      "metadata": {
        "id": "Rc8OEZTHOWPS"
      },
      "source": [
        "# Treinamento"
      ]
    },
    {
      "cell_type": "markdown",
      "metadata": {
        "id": "aRgdbzrIX-6H"
      },
      "source": [
        "## LSTM"
      ]
    },
    {
      "cell_type": "code",
      "execution_count": null,
      "metadata": {
        "colab": {
          "base_uri": "https://localhost:8080/",
          "height": 199
        },
        "id": "wjt6Tzi8SF6H",
        "outputId": "584fd343-5a2f-4c7a-9671-96fc3e8781aa"
      },
      "outputs": [
        {
          "data": {
            "text/html": [
              "<pre style=\"white-space:pre;overflow-x:auto;line-height:normal;font-family:Menlo,'DejaVu Sans Mono',consolas,'Courier New',monospace\"><span style=\"font-weight: bold\">Model: \"sequential_15\"</span>\n",
              "</pre>\n"
            ],
            "text/plain": [
              "\u001b[1mModel: \"sequential_15\"\u001b[0m\n"
            ]
          },
          "metadata": {},
          "output_type": "display_data"
        },
        {
          "data": {
            "text/html": [
              "<pre style=\"white-space:pre;overflow-x:auto;line-height:normal;font-family:Menlo,'DejaVu Sans Mono',consolas,'Courier New',monospace\">┏━━━━━━━━━━━━━━━━━━━━━━━━━━━━━━━━━━━━━━┳━━━━━━━━━━━━━━━━━━━━━━━━━━━━━┳━━━━━━━━━━━━━━━━━┓\n",
              "┃<span style=\"font-weight: bold\"> Layer (type)                         </span>┃<span style=\"font-weight: bold\"> Output Shape                </span>┃<span style=\"font-weight: bold\">         Param # </span>┃\n",
              "┡━━━━━━━━━━━━━━━━━━━━━━━━━━━━━━━━━━━━━━╇━━━━━━━━━━━━━━━━━━━━━━━━━━━━━╇━━━━━━━━━━━━━━━━━┩\n",
              "│ lstm_8 (<span style=\"color: #0087ff; text-decoration-color: #0087ff\">LSTM</span>)                        │ (<span style=\"color: #00d7ff; text-decoration-color: #00d7ff\">None</span>, <span style=\"color: #00af00; text-decoration-color: #00af00\">32</span>)                  │           <span style=\"color: #00af00; text-decoration-color: #00af00\">5,248</span> │\n",
              "├──────────────────────────────────────┼─────────────────────────────┼─────────────────┤\n",
              "│ dense_17 (<span style=\"color: #0087ff; text-decoration-color: #0087ff\">Dense</span>)                     │ (<span style=\"color: #00d7ff; text-decoration-color: #00d7ff\">None</span>, <span style=\"color: #00af00; text-decoration-color: #00af00\">1</span>)                   │              <span style=\"color: #00af00; text-decoration-color: #00af00\">33</span> │\n",
              "└──────────────────────────────────────┴─────────────────────────────┴─────────────────┘\n",
              "</pre>\n"
            ],
            "text/plain": [
              "┏━━━━━━━━━━━━━━━━━━━━━━━━━━━━━━━━━━━━━━┳━━━━━━━━━━━━━━━━━━━━━━━━━━━━━┳━━━━━━━━━━━━━━━━━┓\n",
              "┃\u001b[1m \u001b[0m\u001b[1mLayer (type)                        \u001b[0m\u001b[1m \u001b[0m┃\u001b[1m \u001b[0m\u001b[1mOutput Shape               \u001b[0m\u001b[1m \u001b[0m┃\u001b[1m \u001b[0m\u001b[1m        Param #\u001b[0m\u001b[1m \u001b[0m┃\n",
              "┡━━━━━━━━━━━━━━━━━━━━━━━━━━━━━━━━━━━━━━╇━━━━━━━━━━━━━━━━━━━━━━━━━━━━━╇━━━━━━━━━━━━━━━━━┩\n",
              "│ lstm_8 (\u001b[38;5;33mLSTM\u001b[0m)                        │ (\u001b[38;5;45mNone\u001b[0m, \u001b[38;5;34m32\u001b[0m)                  │           \u001b[38;5;34m5,248\u001b[0m │\n",
              "├──────────────────────────────────────┼─────────────────────────────┼─────────────────┤\n",
              "│ dense_17 (\u001b[38;5;33mDense\u001b[0m)                     │ (\u001b[38;5;45mNone\u001b[0m, \u001b[38;5;34m1\u001b[0m)                   │              \u001b[38;5;34m33\u001b[0m │\n",
              "└──────────────────────────────────────┴─────────────────────────────┴─────────────────┘\n"
            ]
          },
          "metadata": {},
          "output_type": "display_data"
        },
        {
          "data": {
            "text/html": [
              "<pre style=\"white-space:pre;overflow-x:auto;line-height:normal;font-family:Menlo,'DejaVu Sans Mono',consolas,'Courier New',monospace\"><span style=\"font-weight: bold\"> Total params: </span><span style=\"color: #00af00; text-decoration-color: #00af00\">5,281</span> (20.63 KB)\n",
              "</pre>\n"
            ],
            "text/plain": [
              "\u001b[1m Total params: \u001b[0m\u001b[38;5;34m5,281\u001b[0m (20.63 KB)\n"
            ]
          },
          "metadata": {},
          "output_type": "display_data"
        },
        {
          "data": {
            "text/html": [
              "<pre style=\"white-space:pre;overflow-x:auto;line-height:normal;font-family:Menlo,'DejaVu Sans Mono',consolas,'Courier New',monospace\"><span style=\"font-weight: bold\"> Trainable params: </span><span style=\"color: #00af00; text-decoration-color: #00af00\">5,281</span> (20.63 KB)\n",
              "</pre>\n"
            ],
            "text/plain": [
              "\u001b[1m Trainable params: \u001b[0m\u001b[38;5;34m5,281\u001b[0m (20.63 KB)\n"
            ]
          },
          "metadata": {},
          "output_type": "display_data"
        },
        {
          "data": {
            "text/html": [
              "<pre style=\"white-space:pre;overflow-x:auto;line-height:normal;font-family:Menlo,'DejaVu Sans Mono',consolas,'Courier New',monospace\"><span style=\"font-weight: bold\"> Non-trainable params: </span><span style=\"color: #00af00; text-decoration-color: #00af00\">0</span> (0.00 B)\n",
              "</pre>\n"
            ],
            "text/plain": [
              "\u001b[1m Non-trainable params: \u001b[0m\u001b[38;5;34m0\u001b[0m (0.00 B)\n"
            ]
          },
          "metadata": {},
          "output_type": "display_data"
        }
      ],
      "source": [
        "model = keras.Sequential()\n",
        "model.add(keras.layers.Input(shape=(inputs.shape[1], inputs.shape[2])))\n",
        "model.add(keras.layers.LSTM(32))\n",
        "model.add(keras.layers.Dense(1))\n",
        "\n",
        "model.compile(optimizer=keras.optimizers.Adam(learning_rate=learning_rate), loss=\"mae\")\n",
        "model.summary()"
      ]
    },
    {
      "cell_type": "code",
      "execution_count": null,
      "metadata": {
        "colab": {
          "base_uri": "https://localhost:8080/"
        },
        "id": "x1inFS29Zz6Q",
        "outputId": "2e08894a-da17-453c-c692-3e5cb17abab8"
      },
      "outputs": [
        {
          "name": "stdout",
          "output_type": "stream",
          "text": [
            "Epoch 1/10\n",
            "\u001b[1m799/800\u001b[0m \u001b[32m━━━━━━━━━━━━━━━━━━━\u001b[0m\u001b[37m━\u001b[0m \u001b[1m0s\u001b[0m 81ms/step - loss: 0.0558\n",
            "Epoch 1: val_loss improved from inf to 0.07801, saving model to model_checkpoint.weights.h5\n",
            "\u001b[1m800/800\u001b[0m \u001b[32m━━━━━━━━━━━━━━━━━━━━\u001b[0m\u001b[37m\u001b[0m \u001b[1m81s\u001b[0m 100ms/step - loss: 0.0558 - val_loss: 0.0780\n",
            "Epoch 2/10\n",
            "\u001b[1m799/800\u001b[0m \u001b[32m━━━━━━━━━━━━━━━━━━━\u001b[0m\u001b[37m━\u001b[0m \u001b[1m0s\u001b[0m 80ms/step - loss: 0.0415\n",
            "Epoch 2: val_loss improved from 0.07801 to 0.07490, saving model to model_checkpoint.weights.h5\n",
            "\u001b[1m800/800\u001b[0m \u001b[32m━━━━━━━━━━━━━━━━━━━━\u001b[0m\u001b[37m\u001b[0m \u001b[1m82s\u001b[0m 102ms/step - loss: 0.0415 - val_loss: 0.0749\n",
            "Epoch 3/10\n",
            "\u001b[1m799/800\u001b[0m \u001b[32m━━━━━━━━━━━━━━━━━━━\u001b[0m\u001b[37m━\u001b[0m \u001b[1m0s\u001b[0m 84ms/step - loss: 0.0399\n",
            "Epoch 3: val_loss did not improve from 0.07490\n",
            "\u001b[1m800/800\u001b[0m \u001b[32m━━━━━━━━━━━━━━━━━━━━\u001b[0m\u001b[37m\u001b[0m \u001b[1m83s\u001b[0m 104ms/step - loss: 0.0400 - val_loss: 0.0758\n",
            "Epoch 4/10\n",
            "\u001b[1m800/800\u001b[0m \u001b[32m━━━━━━━━━━━━━━━━━━━━\u001b[0m\u001b[37m\u001b[0m \u001b[1m0s\u001b[0m 80ms/step - loss: 0.0390\n",
            "Epoch 4: val_loss improved from 0.07490 to 0.07195, saving model to model_checkpoint.weights.h5\n",
            "\u001b[1m800/800\u001b[0m \u001b[32m━━━━━━━━━━━━━━━━━━━━\u001b[0m\u001b[37m\u001b[0m \u001b[1m84s\u001b[0m 105ms/step - loss: 0.0391 - val_loss: 0.0719\n",
            "Epoch 5/10\n",
            "\u001b[1m799/800\u001b[0m \u001b[32m━━━━━━━━━━━━━━━━━━━\u001b[0m\u001b[37m━\u001b[0m \u001b[1m0s\u001b[0m 77ms/step - loss: 0.0381\n",
            "Epoch 5: val_loss improved from 0.07195 to 0.07045, saving model to model_checkpoint.weights.h5\n",
            "\u001b[1m800/800\u001b[0m \u001b[32m━━━━━━━━━━━━━━━━━━━━\u001b[0m\u001b[37m\u001b[0m \u001b[1m80s\u001b[0m 100ms/step - loss: 0.0381 - val_loss: 0.0705\n",
            "Epoch 6/10\n",
            "\u001b[1m799/800\u001b[0m \u001b[32m━━━━━━━━━━━━━━━━━━━\u001b[0m\u001b[37m━\u001b[0m \u001b[1m0s\u001b[0m 78ms/step - loss: 0.0377\n",
            "Epoch 6: val_loss improved from 0.07045 to 0.06919, saving model to model_checkpoint.weights.h5\n",
            "\u001b[1m800/800\u001b[0m \u001b[32m━━━━━━━━━━━━━━━━━━━━\u001b[0m\u001b[37m\u001b[0m \u001b[1m79s\u001b[0m 99ms/step - loss: 0.0377 - val_loss: 0.0692\n",
            "Epoch 7/10\n",
            "\u001b[1m799/800\u001b[0m \u001b[32m━━━━━━━━━━━━━━━━━━━\u001b[0m\u001b[37m━\u001b[0m \u001b[1m0s\u001b[0m 76ms/step - loss: 0.0373\n",
            "Epoch 7: val_loss improved from 0.06919 to 0.06910, saving model to model_checkpoint.weights.h5\n",
            "\u001b[1m800/800\u001b[0m \u001b[32m━━━━━━━━━━━━━━━━━━━━\u001b[0m\u001b[37m\u001b[0m \u001b[1m78s\u001b[0m 97ms/step - loss: 0.0374 - val_loss: 0.0691\n",
            "Epoch 8/10\n",
            "\u001b[1m800/800\u001b[0m \u001b[32m━━━━━━━━━━━━━━━━━━━━\u001b[0m\u001b[37m\u001b[0m \u001b[1m0s\u001b[0m 80ms/step - loss: 0.0371\n",
            "Epoch 8: val_loss improved from 0.06910 to 0.06869, saving model to model_checkpoint.weights.h5\n",
            "\u001b[1m800/800\u001b[0m \u001b[32m━━━━━━━━━━━━━━━━━━━━\u001b[0m\u001b[37m\u001b[0m \u001b[1m83s\u001b[0m 99ms/step - loss: 0.0372 - val_loss: 0.0687\n",
            "Epoch 9/10\n",
            "\u001b[1m800/800\u001b[0m \u001b[32m━━━━━━━━━━━━━━━━━━━━\u001b[0m\u001b[37m\u001b[0m \u001b[1m0s\u001b[0m 79ms/step - loss: 0.0369\n",
            "Epoch 9: val_loss improved from 0.06869 to 0.06853, saving model to model_checkpoint.weights.h5\n",
            "\u001b[1m800/800\u001b[0m \u001b[32m━━━━━━━━━━━━━━━━━━━━\u001b[0m\u001b[37m\u001b[0m \u001b[1m81s\u001b[0m 101ms/step - loss: 0.0369 - val_loss: 0.0685\n",
            "Epoch 10/10\n",
            "\u001b[1m799/800\u001b[0m \u001b[32m━━━━━━━━━━━━━━━━━━━\u001b[0m\u001b[37m━\u001b[0m \u001b[1m0s\u001b[0m 79ms/step - loss: 0.0367\n",
            "Epoch 10: val_loss improved from 0.06853 to 0.06842, saving model to model_checkpoint.weights.h5\n",
            "\u001b[1m800/800\u001b[0m \u001b[32m━━━━━━━━━━━━━━━━━━━━\u001b[0m\u001b[37m\u001b[0m \u001b[1m80s\u001b[0m 100ms/step - loss: 0.0368 - val_loss: 0.0684\n"
          ]
        }
      ],
      "source": [
        "path_checkpoint = \"model_checkpoint.weights.h5\"\n",
        "es_callback = keras.callbacks.EarlyStopping(monitor=\"val_loss\", min_delta=0, patience=5)\n",
        "\n",
        "modelckpt_callback = keras.callbacks.ModelCheckpoint(\n",
        "    monitor=\"val_loss\",\n",
        "    filepath=path_checkpoint,\n",
        "    verbose=1,\n",
        "    save_weights_only=True,\n",
        "    save_best_only=True,\n",
        ")\n",
        "\n",
        "history = model.fit(\n",
        "    dataset_train,\n",
        "    epochs=epochs,\n",
        "    validation_data=dataset_val,\n",
        "    callbacks=[es_callback, modelckpt_callback],\n",
        ")"
      ]
    },
    {
      "cell_type": "code",
      "execution_count": null,
      "metadata": {
        "colab": {
          "base_uri": "https://localhost:8080/",
          "height": 452
        },
        "id": "05ecP7YDYmF-",
        "outputId": "5d7d02ed-353e-48ae-912d-3d1268639844"
      },
      "outputs": [
        {
          "data": {
            "image/png": "[encoded data removed]",
            "text/plain": [
              "<Figure size 640x480 with 1 Axes>"
            ]
          },
          "metadata": {},
          "output_type": "display_data"
        }
      ],
      "source": [
        "def plot_history(history):\n",
        "  loss = history.history['loss']\n",
        "  val_loss = history.history['val_loss']\n",
        "\n",
        "  plot_epochs = range(len(loss))\n",
        "\n",
        "  plt.figure()\n",
        "\n",
        "  plt.plot(plot_epochs, loss, 'bo', label='Training loss')\n",
        "  plt.plot(plot_epochs, val_loss, 'b', label='Validation loss')\n",
        "  plt.title('Training and validation loss')\n",
        "  plt.legend()\n",
        "\n",
        "  plt.show()\n",
        "\n",
        "plot_history(history)\n"
      ]
    },
    {
      "cell_type": "markdown",
      "metadata": {
        "id": "KGwQd77CYDiB"
      },
      "source": [
        "## Camada LSTM com dropout"
      ]
    },
    {
      "cell_type": "code",
      "execution_count": null,
      "metadata": {
        "colab": {
          "base_uri": "https://localhost:8080/",
          "height": 193
        },
        "id": "PPiyer9LYG8F",
        "outputId": "dfab55d8-3cd0-4320-925b-d52775ae9508"
      },
      "outputs": [
        {
          "output_type": "display_data",
          "data": {
            "text/plain": [
              "\u001b[1mModel: \"sequential\"\u001b[0m\n"
            ],
            "text/html": [
              "<pre style=\"white-space:pre;overflow-x:auto;line-height:normal;font-family:Menlo,'DejaVu Sans Mono',consolas,'Courier New',monospace\"><span style=\"font-weight: bold\">Model: \"sequential\"</span>\n",
              "</pre>\n"
            ]
          },
          "metadata": {}
        },
        {
          "output_type": "display_data",
          "data": {
            "text/plain": [
              "┏━━━━━━━━━━━━━━━━━━━━━━━━━━━━━━━━━━━━━━┳━━━━━━━━━━━━━━━━━━━━━━━━━━━━━┳━━━━━━━━━━━━━━━━━┓\n",
              "┃\u001b[1m \u001b[0m\u001b[1mLayer (type)                        \u001b[0m\u001b[1m \u001b[0m┃\u001b[1m \u001b[0m\u001b[1mOutput Shape               \u001b[0m\u001b[1m \u001b[0m┃\u001b[1m \u001b[0m\u001b[1m        Param #\u001b[0m\u001b[1m \u001b[0m┃\n",
              "┡━━━━━━━━━━━━━━━━━━━━━━━━━━━━━━━━━━━━━━╇━━━━━━━━━━━━━━━━━━━━━━━━━━━━━╇━━━━━━━━━━━━━━━━━┩\n",
              "│ lstm (\u001b[38;5;33mLSTM\u001b[0m)                          │ (\u001b[38;5;45mNone\u001b[0m, \u001b[38;5;34m32\u001b[0m)                  │           \u001b[38;5;34m5,120\u001b[0m │\n",
              "├──────────────────────────────────────┼─────────────────────────────┼─────────────────┤\n",
              "│ dense (\u001b[38;5;33mDense\u001b[0m)                        │ (\u001b[38;5;45mNone\u001b[0m, \u001b[38;5;34m1\u001b[0m)                   │              \u001b[38;5;34m33\u001b[0m │\n",
              "└──────────────────────────────────────┴─────────────────────────────┴─────────────────┘\n"
            ],
            "text/html": [
              "<pre style=\"white-space:pre;overflow-x:auto;line-height:normal;font-family:Menlo,'DejaVu Sans Mono',consolas,'Courier New',monospace\">┏━━━━━━━━━━━━━━━━━━━━━━━━━━━━━━━━━━━━━━┳━━━━━━━━━━━━━━━━━━━━━━━━━━━━━┳━━━━━━━━━━━━━━━━━┓\n",
              "┃<span style=\"font-weight: bold\"> Layer (type)                         </span>┃<span style=\"font-weight: bold\"> Output Shape                </span>┃<span style=\"font-weight: bold\">         Param # </span>┃\n",
              "┡━━━━━━━━━━━━━━━━━━━━━━━━━━━━━━━━━━━━━━╇━━━━━━━━━━━━━━━━━━━━━━━━━━━━━╇━━━━━━━━━━━━━━━━━┩\n",
              "│ lstm (<span style=\"color: #0087ff; text-decoration-color: #0087ff\">LSTM</span>)                          │ (<span style=\"color: #00d7ff; text-decoration-color: #00d7ff\">None</span>, <span style=\"color: #00af00; text-decoration-color: #00af00\">32</span>)                  │           <span style=\"color: #00af00; text-decoration-color: #00af00\">5,120</span> │\n",
              "├──────────────────────────────────────┼─────────────────────────────┼─────────────────┤\n",
              "│ dense (<span style=\"color: #0087ff; text-decoration-color: #0087ff\">Dense</span>)                        │ (<span style=\"color: #00d7ff; text-decoration-color: #00d7ff\">None</span>, <span style=\"color: #00af00; text-decoration-color: #00af00\">1</span>)                   │              <span style=\"color: #00af00; text-decoration-color: #00af00\">33</span> │\n",
              "└──────────────────────────────────────┴─────────────────────────────┴─────────────────┘\n",
              "</pre>\n"
            ]
          },
          "metadata": {}
        },
        {
          "output_type": "display_data",
          "data": {
            "text/plain": [
              "\u001b[1m Total params: \u001b[0m\u001b[38;5;34m5,153\u001b[0m (20.13 KB)\n"
            ],
            "text/html": [
              "<pre style=\"white-space:pre;overflow-x:auto;line-height:normal;font-family:Menlo,'DejaVu Sans Mono',consolas,'Courier New',monospace\"><span style=\"font-weight: bold\"> Total params: </span><span style=\"color: #00af00; text-decoration-color: #00af00\">5,153</span> (20.13 KB)\n",
              "</pre>\n"
            ]
          },
          "metadata": {}
        },
        {
          "output_type": "display_data",
          "data": {
            "text/plain": [
              "\u001b[1m Trainable params: \u001b[0m\u001b[38;5;34m5,153\u001b[0m (20.13 KB)\n"
            ],
            "text/html": [
              "<pre style=\"white-space:pre;overflow-x:auto;line-height:normal;font-family:Menlo,'DejaVu Sans Mono',consolas,'Courier New',monospace\"><span style=\"font-weight: bold\"> Trainable params: </span><span style=\"color: #00af00; text-decoration-color: #00af00\">5,153</span> (20.13 KB)\n",
              "</pre>\n"
            ]
          },
          "metadata": {}
        },
        {
          "output_type": "display_data",
          "data": {
            "text/plain": [
              "\u001b[1m Non-trainable params: \u001b[0m\u001b[38;5;34m0\u001b[0m (0.00 B)\n"
            ],
            "text/html": [
              "<pre style=\"white-space:pre;overflow-x:auto;line-height:normal;font-family:Menlo,'DejaVu Sans Mono',consolas,'Courier New',monospace\"><span style=\"font-weight: bold\"> Non-trainable params: </span><span style=\"color: #00af00; text-decoration-color: #00af00\">0</span> (0.00 B)\n",
              "</pre>\n"
            ]
          },
          "metadata": {}
        }
      ],
      "source": [
        "model = keras.Sequential()\n",
        "model.add(keras.layers.Input(shape=(inputs.shape[1], inputs.shape[2])))\n",
        "model.add(keras.layers.LSTM(32,\n",
        "                           dropout=0.2,\n",
        "                           recurrent_dropout=0.2,\n",
        "                           ))\n",
        "model.add(keras.layers.Dense(1))\n",
        "\n",
        "model.compile(optimizer=keras.optimizers.Adam(learning_rate=learning_rate), loss=\"mae\")\n",
        "model.summary()"
      ]
    },
    {
      "cell_type": "code",
      "execution_count": null,
      "metadata": {
        "colab": {
          "base_uri": "https://localhost:8080/"
        },
        "id": "dZ-9MZ_hZZt_",
        "outputId": "c0de3658-a81f-4e94-be96-2ff1c162c2af"
      },
      "outputs": [
        {
          "output_type": "stream",
          "name": "stdout",
          "text": [
            "Epoch 1/10\n",
            "\u001b[1m44/44\u001b[0m \u001b[32m━━━━━━━━━━━━━━━━━━━━\u001b[0m\u001b[37m\u001b[0m \u001b[1m0s\u001b[0m 2s/step - loss: 0.4058\n",
            "Epoch 1: val_loss improved from inf to 0.03673, saving model to model_checkpoint.weights.h5\n",
            "\u001b[1m44/44\u001b[0m \u001b[32m━━━━━━━━━━━━━━━━━━━━\u001b[0m\u001b[37m\u001b[0m \u001b[1m85s\u001b[0m 2s/step - loss: 0.4023 - val_loss: 0.0367\n",
            "Epoch 2/10\n",
            "\u001b[1m44/44\u001b[0m \u001b[32m━━━━━━━━━━━━━━━━━━━━\u001b[0m\u001b[37m\u001b[0m \u001b[1m0s\u001b[0m 2s/step - loss: 0.1123\n",
            "Epoch 2: val_loss improved from 0.03673 to 0.02989, saving model to model_checkpoint.weights.h5\n",
            "\u001b[1m44/44\u001b[0m \u001b[32m━━━━━━━━━━━━━━━━━━━━\u001b[0m\u001b[37m\u001b[0m \u001b[1m86s\u001b[0m 2s/step - loss: 0.1120 - val_loss: 0.0299\n",
            "Epoch 3/10\n",
            "\u001b[1m44/44\u001b[0m \u001b[32m━━━━━━━━━━━━━━━━━━━━\u001b[0m\u001b[37m\u001b[0m \u001b[1m0s\u001b[0m 2s/step - loss: 0.0970\n",
            "Epoch 3: val_loss did not improve from 0.02989\n",
            "\u001b[1m44/44\u001b[0m \u001b[32m━━━━━━━━━━━━━━━━━━━━\u001b[0m\u001b[37m\u001b[0m \u001b[1m82s\u001b[0m 2s/step - loss: 0.0968 - val_loss: 0.0315\n",
            "Epoch 4/10\n",
            "\u001b[1m44/44\u001b[0m \u001b[32m━━━━━━━━━━━━━━━━━━━━\u001b[0m\u001b[37m\u001b[0m \u001b[1m0s\u001b[0m 2s/step - loss: 0.0886\n",
            "Epoch 4: val_loss did not improve from 0.02989\n",
            "\u001b[1m44/44\u001b[0m \u001b[32m━━━━━━━━━━━━━━━━━━━━\u001b[0m\u001b[37m\u001b[0m \u001b[1m75s\u001b[0m 2s/step - loss: 0.0884 - val_loss: 0.0357\n",
            "Epoch 5/10\n",
            "\u001b[1m44/44\u001b[0m \u001b[32m━━━━━━━━━━━━━━━━━━━━\u001b[0m\u001b[37m\u001b[0m \u001b[1m0s\u001b[0m 2s/step - loss: 0.0837\n",
            "Epoch 5: val_loss did not improve from 0.02989\n",
            "\u001b[1m44/44\u001b[0m \u001b[32m━━━━━━━━━━━━━━━━━━━━\u001b[0m\u001b[37m\u001b[0m \u001b[1m72s\u001b[0m 2s/step - loss: 0.0835 - val_loss: 0.0354\n",
            "Epoch 6/10\n",
            "\u001b[1m44/44\u001b[0m \u001b[32m━━━━━━━━━━━━━━━━━━━━\u001b[0m\u001b[37m\u001b[0m \u001b[1m0s\u001b[0m 2s/step - loss: 0.0800\n",
            "Epoch 6: val_loss did not improve from 0.02989\n",
            "\u001b[1m44/44\u001b[0m \u001b[32m━━━━━━━━━━━━━━━━━━━━\u001b[0m\u001b[37m\u001b[0m \u001b[1m73s\u001b[0m 2s/step - loss: 0.0798 - val_loss: 0.0326\n",
            "Epoch 7/10\n",
            "\u001b[1m44/44\u001b[0m \u001b[32m━━━━━━━━━━━━━━━━━━━━\u001b[0m\u001b[37m\u001b[0m \u001b[1m0s\u001b[0m 2s/step - loss: 0.0793\n",
            "Epoch 7: val_loss did not improve from 0.02989\n",
            "\u001b[1m44/44\u001b[0m \u001b[32m━━━━━━━━━━━━━━━━━━━━\u001b[0m\u001b[37m\u001b[0m \u001b[1m81s\u001b[0m 2s/step - loss: 0.0791 - val_loss: 0.0308\n"
          ]
        }
      ],
      "source": [
        "path_checkpoint = \"model_checkpoint.weights.h5\"\n",
        "es_callback = keras.callbacks.EarlyStopping(monitor=\"val_loss\", min_delta=0, patience=5)\n",
        "\n",
        "modelckpt_callback = keras.callbacks.ModelCheckpoint(\n",
        "    monitor=\"val_loss\",\n",
        "    filepath=path_checkpoint,\n",
        "    verbose=1,\n",
        "    save_weights_only=True,\n",
        "    save_best_only=True,\n",
        ")\n",
        "\n",
        "history = model.fit(\n",
        "    dataset_train,\n",
        "    epochs=epochs,\n",
        "    validation_data=dataset_val,\n",
        "    callbacks=[es_callback, modelckpt_callback],\n",
        ")"
      ]
    },
    {
      "cell_type": "code",
      "execution_count": null,
      "metadata": {
        "colab": {
          "base_uri": "https://localhost:8080/",
          "height": 452
        },
        "id": "TmsrWccnCMKa",
        "outputId": "8408fc84-616d-46da-f78e-73956690c847"
      },
      "outputs": [
        {
          "output_type": "display_data",
          "data": {
            "text/plain": [
              "<Figure size 640x480 with 1 Axes>"
            ],
            "image/png": "[encoded data removed]"
          },
          "metadata": {}
        }
      ],
      "source": [
        "def plot_history(history):\n",
        "  loss = history.history['loss']\n",
        "  val_loss = history.history['val_loss']\n",
        "\n",
        "  plot_epochs = range(len(loss))\n",
        "\n",
        "  plt.figure()\n",
        "\n",
        "  plt.plot(plot_epochs, loss, 'bo', label='Training loss')\n",
        "  plt.plot(plot_epochs, val_loss, 'b', label='Validation loss')\n",
        "  plt.title('Training and validation loss')\n",
        "  plt.legend()\n",
        "\n",
        "  plt.show()\n",
        "\n",
        "plot_history(history)"
      ]
    },
    {
      "cell_type": "markdown",
      "source": [
        "##Sem earlystop"
      ],
      "metadata": {
        "id": "2_5T5gfz2hG3"
      }
    },
    {
      "cell_type": "code",
      "execution_count": 18,
      "metadata": {
        "colab": {
          "base_uri": "https://localhost:8080/",
          "height": 193
        },
        "outputId": "ba159a6b-1244-4bcf-ffc1-d6d1c5c412d5",
        "id": "Rxr_N80l2tmp"
      },
      "outputs": [
        {
          "output_type": "display_data",
          "data": {
            "text/plain": [
              "\u001b[1mModel: \"sequential\"\u001b[0m\n"
            ],
            "text/html": [
              "<pre style=\"white-space:pre;overflow-x:auto;line-height:normal;font-family:Menlo,'DejaVu Sans Mono',consolas,'Courier New',monospace\"><span style=\"font-weight: bold\">Model: \"sequential\"</span>\n",
              "</pre>\n"
            ]
          },
          "metadata": {}
        },
        {
          "output_type": "display_data",
          "data": {
            "text/plain": [
              "┏━━━━━━━━━━━━━━━━━━━━━━━━━━━━━━━━━━━━━━┳━━━━━━━━━━━━━━━━━━━━━━━━━━━━━┳━━━━━━━━━━━━━━━━━┓\n",
              "┃\u001b[1m \u001b[0m\u001b[1mLayer (type)                        \u001b[0m\u001b[1m \u001b[0m┃\u001b[1m \u001b[0m\u001b[1mOutput Shape               \u001b[0m\u001b[1m \u001b[0m┃\u001b[1m \u001b[0m\u001b[1m        Param #\u001b[0m\u001b[1m \u001b[0m┃\n",
              "┡━━━━━━━━━━━━━━━━━━━━━━━━━━━━━━━━━━━━━━╇━━━━━━━━━━━━━━━━━━━━━━━━━━━━━╇━━━━━━━━━━━━━━━━━┩\n",
              "│ lstm (\u001b[38;5;33mLSTM\u001b[0m)                          │ (\u001b[38;5;45mNone\u001b[0m, \u001b[38;5;34m32\u001b[0m)                  │           \u001b[38;5;34m5,120\u001b[0m │\n",
              "├──────────────────────────────────────┼─────────────────────────────┼─────────────────┤\n",
              "│ dense (\u001b[38;5;33mDense\u001b[0m)                        │ (\u001b[38;5;45mNone\u001b[0m, \u001b[38;5;34m1\u001b[0m)                   │              \u001b[38;5;34m33\u001b[0m │\n",
              "└──────────────────────────────────────┴─────────────────────────────┴─────────────────┘\n"
            ],
            "text/html": [
              "<pre style=\"white-space:pre;overflow-x:auto;line-height:normal;font-family:Menlo,'DejaVu Sans Mono',consolas,'Courier New',monospace\">┏━━━━━━━━━━━━━━━━━━━━━━━━━━━━━━━━━━━━━━┳━━━━━━━━━━━━━━━━━━━━━━━━━━━━━┳━━━━━━━━━━━━━━━━━┓\n",
              "┃<span style=\"font-weight: bold\"> Layer (type)                         </span>┃<span style=\"font-weight: bold\"> Output Shape                </span>┃<span style=\"font-weight: bold\">         Param # </span>┃\n",
              "┡━━━━━━━━━━━━━━━━━━━━━━━━━━━━━━━━━━━━━━╇━━━━━━━━━━━━━━━━━━━━━━━━━━━━━╇━━━━━━━━━━━━━━━━━┩\n",
              "│ lstm (<span style=\"color: #0087ff; text-decoration-color: #0087ff\">LSTM</span>)                          │ (<span style=\"color: #00d7ff; text-decoration-color: #00d7ff\">None</span>, <span style=\"color: #00af00; text-decoration-color: #00af00\">32</span>)                  │           <span style=\"color: #00af00; text-decoration-color: #00af00\">5,120</span> │\n",
              "├──────────────────────────────────────┼─────────────────────────────┼─────────────────┤\n",
              "│ dense (<span style=\"color: #0087ff; text-decoration-color: #0087ff\">Dense</span>)                        │ (<span style=\"color: #00d7ff; text-decoration-color: #00d7ff\">None</span>, <span style=\"color: #00af00; text-decoration-color: #00af00\">1</span>)                   │              <span style=\"color: #00af00; text-decoration-color: #00af00\">33</span> │\n",
              "└──────────────────────────────────────┴─────────────────────────────┴─────────────────┘\n",
              "</pre>\n"
            ]
          },
          "metadata": {}
        },
        {
          "output_type": "display_data",
          "data": {
            "text/plain": [
              "\u001b[1m Total params: \u001b[0m\u001b[38;5;34m5,153\u001b[0m (20.13 KB)\n"
            ],
            "text/html": [
              "<pre style=\"white-space:pre;overflow-x:auto;line-height:normal;font-family:Menlo,'DejaVu Sans Mono',consolas,'Courier New',monospace\"><span style=\"font-weight: bold\"> Total params: </span><span style=\"color: #00af00; text-decoration-color: #00af00\">5,153</span> (20.13 KB)\n",
              "</pre>\n"
            ]
          },
          "metadata": {}
        },
        {
          "output_type": "display_data",
          "data": {
            "text/plain": [
              "\u001b[1m Trainable params: \u001b[0m\u001b[38;5;34m5,153\u001b[0m (20.13 KB)\n"
            ],
            "text/html": [
              "<pre style=\"white-space:pre;overflow-x:auto;line-height:normal;font-family:Menlo,'DejaVu Sans Mono',consolas,'Courier New',monospace\"><span style=\"font-weight: bold\"> Trainable params: </span><span style=\"color: #00af00; text-decoration-color: #00af00\">5,153</span> (20.13 KB)\n",
              "</pre>\n"
            ]
          },
          "metadata": {}
        },
        {
          "output_type": "display_data",
          "data": {
            "text/plain": [
              "\u001b[1m Non-trainable params: \u001b[0m\u001b[38;5;34m0\u001b[0m (0.00 B)\n"
            ],
            "text/html": [
              "<pre style=\"white-space:pre;overflow-x:auto;line-height:normal;font-family:Menlo,'DejaVu Sans Mono',consolas,'Courier New',monospace\"><span style=\"font-weight: bold\"> Non-trainable params: </span><span style=\"color: #00af00; text-decoration-color: #00af00\">0</span> (0.00 B)\n",
              "</pre>\n"
            ]
          },
          "metadata": {}
        }
      ],
      "source": [
        "model = keras.Sequential()\n",
        "model.add(keras.layers.Input(shape=(inputs.shape[1], inputs.shape[2])))\n",
        "model.add(keras.layers.LSTM(32,\n",
        "                           dropout=0.2,\n",
        "                           recurrent_dropout=0.2,\n",
        "                           ))\n",
        "model.add(keras.layers.Dense(1))\n",
        "\n",
        "model.compile(optimizer=keras.optimizers.Adam(learning_rate=learning_rate), loss=\"mae\")\n",
        "model.summary()"
      ]
    },
    {
      "cell_type": "code",
      "execution_count": 19,
      "metadata": {
        "colab": {
          "base_uri": "https://localhost:8080/"
        },
        "outputId": "5a36c59d-f0da-4a30-f1d0-72955a727f67",
        "id": "amrnOx062tmq"
      },
      "outputs": [
        {
          "output_type": "stream",
          "name": "stdout",
          "text": [
            "Epoch 1/10\n",
            "\u001b[1m156/156\u001b[0m \u001b[32m━━━━━━━━━━━━━━━━━━━━\u001b[0m\u001b[37m\u001b[0m \u001b[1m0s\u001b[0m 2s/step - loss: 0.1743\n",
            "Epoch 1: val_loss improved from inf to 0.07397, saving model to model_checkpoint.weights.h5\n",
            "\u001b[1m156/156\u001b[0m \u001b[32m━━━━━━━━━━━━━━━━━━━━\u001b[0m\u001b[37m\u001b[0m \u001b[1m271s\u001b[0m 2s/step - loss: 0.1738 - val_loss: 0.0740\n",
            "Epoch 2/10\n",
            "\u001b[1m156/156\u001b[0m \u001b[32m━━━━━━━━━━━━━━━━━━━━\u001b[0m\u001b[37m\u001b[0m \u001b[1m0s\u001b[0m 2s/step - loss: 0.0565\n",
            "Epoch 2: val_loss improved from 0.07397 to 0.07388, saving model to model_checkpoint.weights.h5\n",
            "\u001b[1m156/156\u001b[0m \u001b[32m━━━━━━━━━━━━━━━━━━━━\u001b[0m\u001b[37m\u001b[0m \u001b[1m268s\u001b[0m 2s/step - loss: 0.0565 - val_loss: 0.0739\n",
            "Epoch 3/10\n",
            "\u001b[1m156/156\u001b[0m \u001b[32m━━━━━━━━━━━━━━━━━━━━\u001b[0m\u001b[37m\u001b[0m \u001b[1m0s\u001b[0m 2s/step - loss: 0.0526\n",
            "Epoch 3: val_loss improved from 0.07388 to 0.06432, saving model to model_checkpoint.weights.h5\n",
            "\u001b[1m156/156\u001b[0m \u001b[32m━━━━━━━━━━━━━━━━━━━━\u001b[0m\u001b[37m\u001b[0m \u001b[1m321s\u001b[0m 2s/step - loss: 0.0526 - val_loss: 0.0643\n",
            "Epoch 4/10\n",
            "\u001b[1m156/156\u001b[0m \u001b[32m━━━━━━━━━━━━━━━━━━━━\u001b[0m\u001b[37m\u001b[0m \u001b[1m0s\u001b[0m 2s/step - loss: 0.0498\n",
            "Epoch 4: val_loss improved from 0.06432 to 0.06287, saving model to model_checkpoint.weights.h5\n",
            "\u001b[1m156/156\u001b[0m \u001b[32m━━━━━━━━━━━━━━━━━━━━\u001b[0m\u001b[37m\u001b[0m \u001b[1m268s\u001b[0m 2s/step - loss: 0.0498 - val_loss: 0.0629\n",
            "Epoch 5/10\n",
            "\u001b[1m156/156\u001b[0m \u001b[32m━━━━━━━━━━━━━━━━━━━━\u001b[0m\u001b[37m\u001b[0m \u001b[1m0s\u001b[0m 2s/step - loss: 0.0486\n",
            "Epoch 5: val_loss did not improve from 0.06287\n",
            "\u001b[1m156/156\u001b[0m \u001b[32m━━━━━━━━━━━━━━━━━━━━\u001b[0m\u001b[37m\u001b[0m \u001b[1m265s\u001b[0m 2s/step - loss: 0.0486 - val_loss: 0.0651\n",
            "Epoch 6/10\n",
            "\u001b[1m156/156\u001b[0m \u001b[32m━━━━━━━━━━━━━━━━━━━━\u001b[0m\u001b[37m\u001b[0m \u001b[1m0s\u001b[0m 2s/step - loss: 0.0481\n",
            "Epoch 6: val_loss did not improve from 0.06287\n",
            "\u001b[1m156/156\u001b[0m \u001b[32m━━━━━━━━━━━━━━━━━━━━\u001b[0m\u001b[37m\u001b[0m \u001b[1m266s\u001b[0m 2s/step - loss: 0.0481 - val_loss: 0.0664\n",
            "Epoch 7/10\n",
            "\u001b[1m156/156\u001b[0m \u001b[32m━━━━━━━━━━━━━━━━━━━━\u001b[0m\u001b[37m\u001b[0m \u001b[1m0s\u001b[0m 2s/step - loss: 0.0478\n",
            "Epoch 7: val_loss did not improve from 0.06287\n",
            "\u001b[1m156/156\u001b[0m \u001b[32m━━━━━━━━━━━━━━━━━━━━\u001b[0m\u001b[37m\u001b[0m \u001b[1m267s\u001b[0m 2s/step - loss: 0.0478 - val_loss: 0.0670\n",
            "Epoch 8/10\n",
            "\u001b[1m156/156\u001b[0m \u001b[32m━━━━━━━━━━━━━━━━━━━━\u001b[0m\u001b[37m\u001b[0m \u001b[1m0s\u001b[0m 2s/step - loss: 0.0473\n",
            "Epoch 8: val_loss did not improve from 0.06287\n",
            "\u001b[1m156/156\u001b[0m \u001b[32m━━━━━━━━━━━━━━━━━━━━\u001b[0m\u001b[37m\u001b[0m \u001b[1m319s\u001b[0m 2s/step - loss: 0.0473 - val_loss: 0.0656\n",
            "Epoch 9/10\n",
            "\u001b[1m156/156\u001b[0m \u001b[32m━━━━━━━━━━━━━━━━━━━━\u001b[0m\u001b[37m\u001b[0m \u001b[1m0s\u001b[0m 2s/step - loss: 0.0472\n",
            "Epoch 9: val_loss did not improve from 0.06287\n",
            "\u001b[1m156/156\u001b[0m \u001b[32m━━━━━━━━━━━━━━━━━━━━\u001b[0m\u001b[37m\u001b[0m \u001b[1m267s\u001b[0m 2s/step - loss: 0.0472 - val_loss: 0.0653\n",
            "Epoch 10/10\n",
            "\u001b[1m156/156\u001b[0m \u001b[32m━━━━━━━━━━━━━━━━━━━━\u001b[0m\u001b[37m\u001b[0m \u001b[1m0s\u001b[0m 2s/step - loss: 0.0471\n",
            "Epoch 10: val_loss did not improve from 0.06287\n",
            "\u001b[1m156/156\u001b[0m \u001b[32m━━━━━━━━━━━━━━━━━━━━\u001b[0m\u001b[37m\u001b[0m \u001b[1m266s\u001b[0m 2s/step - loss: 0.0471 - val_loss: 0.0658\n"
          ]
        }
      ],
      "source": [
        "path_checkpoint = \"model_checkpoint.weights.h5\"\n",
        "es_callback = keras.callbacks.EarlyStopping(monitor=\"val_loss\", min_delta=0)\n",
        "\n",
        "modelckpt_callback = keras.callbacks.ModelCheckpoint(\n",
        "    monitor=\"val_loss\",\n",
        "    filepath=path_checkpoint,\n",
        "    verbose=1,\n",
        "    save_weights_only=True,\n",
        "    save_best_only=True,\n",
        ")\n",
        "\n",
        "history = model.fit(\n",
        "    dataset_train,\n",
        "    epochs=epochs,\n",
        "    validation_data=dataset_val,\n",
        "    callbacks=[modelckpt_callback],\n",
        ")"
      ]
    },
    {
      "cell_type": "code",
      "execution_count": 20,
      "metadata": {
        "colab": {
          "base_uri": "https://localhost:8080/",
          "height": 452
        },
        "outputId": "41c04906-06c8-466d-fd7a-c99f21fd2b8f",
        "id": "oeW0tZo_2tmr"
      },
      "outputs": [
        {
          "output_type": "display_data",
          "data": {
            "text/plain": [
              "<Figure size 640x480 with 1 Axes>"
            ],
            "image/png": "[encoded data removed]"
          },
          "metadata": {}
        }
      ],
      "source": [
        "def plot_history(history):\n",
        "  loss = history.history['loss']\n",
        "  val_loss = history.history['val_loss']\n",
        "\n",
        "  plot_epochs = range(len(loss))\n",
        "\n",
        "  plt.figure()\n",
        "\n",
        "  plt.plot(plot_epochs, loss, 'bo', label='Training loss')\n",
        "  plt.plot(plot_epochs, val_loss, 'b', label='Validation loss')\n",
        "  plt.title('Training and validation loss')\n",
        "  plt.legend()\n",
        "\n",
        "  plt.show()\n",
        "\n",
        "plot_history(history)"
      ]
    },
    {
      "cell_type": "markdown",
      "metadata": {
        "id": "XaltjeUMCMKb"
      },
      "source": [
        "## Camadas Dense"
      ]
    },
    {
      "cell_type": "code",
      "execution_count": 21,
      "metadata": {
        "colab": {
          "base_uri": "https://localhost:8080/",
          "height": 225
        },
        "id": "1LWqJE0FCMKc",
        "outputId": "370995c9-4e5a-47de-9d87-9a622323c281"
      },
      "outputs": [
        {
          "output_type": "display_data",
          "data": {
            "text/plain": [
              "\u001b[1mModel: \"sequential_1\"\u001b[0m\n"
            ],
            "text/html": [
              "<pre style=\"white-space:pre;overflow-x:auto;line-height:normal;font-family:Menlo,'DejaVu Sans Mono',consolas,'Courier New',monospace\"><span style=\"font-weight: bold\">Model: \"sequential_1\"</span>\n",
              "</pre>\n"
            ]
          },
          "metadata": {}
        },
        {
          "output_type": "display_data",
          "data": {
            "text/plain": [
              "┏━━━━━━━━━━━━━━━━━━━━━━━━━━━━━━━━━━━━━━┳━━━━━━━━━━━━━━━━━━━━━━━━━━━━━┳━━━━━━━━━━━━━━━━━┓\n",
              "┃\u001b[1m \u001b[0m\u001b[1mLayer (type)                        \u001b[0m\u001b[1m \u001b[0m┃\u001b[1m \u001b[0m\u001b[1mOutput Shape               \u001b[0m\u001b[1m \u001b[0m┃\u001b[1m \u001b[0m\u001b[1m        Param #\u001b[0m\u001b[1m \u001b[0m┃\n",
              "┡━━━━━━━━━━━━━━━━━━━━━━━━━━━━━━━━━━━━━━╇━━━━━━━━━━━━━━━━━━━━━━━━━━━━━╇━━━━━━━━━━━━━━━━━┩\n",
              "│ dense_1 (\u001b[38;5;33mDense\u001b[0m)                      │ (\u001b[38;5;45mNone\u001b[0m, \u001b[38;5;34m1200\u001b[0m, \u001b[38;5;34m64\u001b[0m)            │             \u001b[38;5;34m512\u001b[0m │\n",
              "├──────────────────────────────────────┼─────────────────────────────┼─────────────────┤\n",
              "│ dense_2 (\u001b[38;5;33mDense\u001b[0m)                      │ (\u001b[38;5;45mNone\u001b[0m, \u001b[38;5;34m1200\u001b[0m, \u001b[38;5;34m32\u001b[0m)            │           \u001b[38;5;34m2,080\u001b[0m │\n",
              "├──────────────────────────────────────┼─────────────────────────────┼─────────────────┤\n",
              "│ dense_3 (\u001b[38;5;33mDense\u001b[0m)                      │ (\u001b[38;5;45mNone\u001b[0m, \u001b[38;5;34m1200\u001b[0m, \u001b[38;5;34m1\u001b[0m)             │              \u001b[38;5;34m33\u001b[0m │\n",
              "└──────────────────────────────────────┴─────────────────────────────┴─────────────────┘\n"
            ],
            "text/html": [
              "<pre style=\"white-space:pre;overflow-x:auto;line-height:normal;font-family:Menlo,'DejaVu Sans Mono',consolas,'Courier New',monospace\">┏━━━━━━━━━━━━━━━━━━━━━━━━━━━━━━━━━━━━━━┳━━━━━━━━━━━━━━━━━━━━━━━━━━━━━┳━━━━━━━━━━━━━━━━━┓\n",
              "┃<span style=\"font-weight: bold\"> Layer (type)                         </span>┃<span style=\"font-weight: bold\"> Output Shape                </span>┃<span style=\"font-weight: bold\">         Param # </span>┃\n",
              "┡━━━━━━━━━━━━━━━━━━━━━━━━━━━━━━━━━━━━━━╇━━━━━━━━━━━━━━━━━━━━━━━━━━━━━╇━━━━━━━━━━━━━━━━━┩\n",
              "│ dense_1 (<span style=\"color: #0087ff; text-decoration-color: #0087ff\">Dense</span>)                      │ (<span style=\"color: #00d7ff; text-decoration-color: #00d7ff\">None</span>, <span style=\"color: #00af00; text-decoration-color: #00af00\">1200</span>, <span style=\"color: #00af00; text-decoration-color: #00af00\">64</span>)            │             <span style=\"color: #00af00; text-decoration-color: #00af00\">512</span> │\n",
              "├──────────────────────────────────────┼─────────────────────────────┼─────────────────┤\n",
              "│ dense_2 (<span style=\"color: #0087ff; text-decoration-color: #0087ff\">Dense</span>)                      │ (<span style=\"color: #00d7ff; text-decoration-color: #00d7ff\">None</span>, <span style=\"color: #00af00; text-decoration-color: #00af00\">1200</span>, <span style=\"color: #00af00; text-decoration-color: #00af00\">32</span>)            │           <span style=\"color: #00af00; text-decoration-color: #00af00\">2,080</span> │\n",
              "├──────────────────────────────────────┼─────────────────────────────┼─────────────────┤\n",
              "│ dense_3 (<span style=\"color: #0087ff; text-decoration-color: #0087ff\">Dense</span>)                      │ (<span style=\"color: #00d7ff; text-decoration-color: #00d7ff\">None</span>, <span style=\"color: #00af00; text-decoration-color: #00af00\">1200</span>, <span style=\"color: #00af00; text-decoration-color: #00af00\">1</span>)             │              <span style=\"color: #00af00; text-decoration-color: #00af00\">33</span> │\n",
              "└──────────────────────────────────────┴─────────────────────────────┴─────────────────┘\n",
              "</pre>\n"
            ]
          },
          "metadata": {}
        },
        {
          "output_type": "display_data",
          "data": {
            "text/plain": [
              "\u001b[1m Total params: \u001b[0m\u001b[38;5;34m2,625\u001b[0m (10.25 KB)\n"
            ],
            "text/html": [
              "<pre style=\"white-space:pre;overflow-x:auto;line-height:normal;font-family:Menlo,'DejaVu Sans Mono',consolas,'Courier New',monospace\"><span style=\"font-weight: bold\"> Total params: </span><span style=\"color: #00af00; text-decoration-color: #00af00\">2,625</span> (10.25 KB)\n",
              "</pre>\n"
            ]
          },
          "metadata": {}
        },
        {
          "output_type": "display_data",
          "data": {
            "text/plain": [
              "\u001b[1m Trainable params: \u001b[0m\u001b[38;5;34m2,625\u001b[0m (10.25 KB)\n"
            ],
            "text/html": [
              "<pre style=\"white-space:pre;overflow-x:auto;line-height:normal;font-family:Menlo,'DejaVu Sans Mono',consolas,'Courier New',monospace\"><span style=\"font-weight: bold\"> Trainable params: </span><span style=\"color: #00af00; text-decoration-color: #00af00\">2,625</span> (10.25 KB)\n",
              "</pre>\n"
            ]
          },
          "metadata": {}
        },
        {
          "output_type": "display_data",
          "data": {
            "text/plain": [
              "\u001b[1m Non-trainable params: \u001b[0m\u001b[38;5;34m0\u001b[0m (0.00 B)\n"
            ],
            "text/html": [
              "<pre style=\"white-space:pre;overflow-x:auto;line-height:normal;font-family:Menlo,'DejaVu Sans Mono',consolas,'Courier New',monospace\"><span style=\"font-weight: bold\"> Non-trainable params: </span><span style=\"color: #00af00; text-decoration-color: #00af00\">0</span> (0.00 B)\n",
              "</pre>\n"
            ]
          },
          "metadata": {}
        }
      ],
      "source": [
        "model = keras.Sequential()\n",
        "model.add(keras.layers.Input(shape=(inputs.shape[1], inputs.shape[2])))\n",
        "model.add(keras.layers.Dense(64, activation='relu'))\n",
        "model.add(keras.layers.Dense(32, activation='relu'))\n",
        "model.add(keras.layers.Dense(1))\n",
        "\n",
        "model.compile(optimizer=keras.optimizers.Adam(learning_rate=learning_rate), loss=\"mae\")\n",
        "model.summary()"
      ]
    },
    {
      "cell_type": "code",
      "execution_count": 25,
      "metadata": {
        "colab": {
          "base_uri": "https://localhost:8080/"
        },
        "id": "8U_zYuaQCMKc",
        "outputId": "bed55e58-ccfc-4299-c9f0-e430a900f05b"
      },
      "outputs": [
        {
          "output_type": "stream",
          "name": "stdout",
          "text": [
            "Epoch 1/10\n",
            "\u001b[1m155/156\u001b[0m \u001b[32m━━━━━━━━━━━━━━━━━━━\u001b[0m\u001b[37m━\u001b[0m \u001b[1m0s\u001b[0m 40ms/step - loss: 0.0480\n",
            "Epoch 1: val_loss improved from inf to 0.06516, saving model to model_checkpoint_dense.weights.h5\n",
            "\u001b[1m156/156\u001b[0m \u001b[32m━━━━━━━━━━━━━━━━━━━━\u001b[0m\u001b[37m\u001b[0m \u001b[1m11s\u001b[0m 73ms/step - loss: 0.0480 - val_loss: 0.0652\n",
            "Epoch 2/10\n",
            "\u001b[1m154/156\u001b[0m \u001b[32m━━━━━━━━━━━━━━━━━━━\u001b[0m\u001b[37m━\u001b[0m \u001b[1m0s\u001b[0m 37ms/step - loss: 0.0473\n",
            "Epoch 2: val_loss improved from 0.06516 to 0.06449, saving model to model_checkpoint_dense.weights.h5\n",
            "\u001b[1m156/156\u001b[0m \u001b[32m━━━━━━━━━━━━━━━━━━━━\u001b[0m\u001b[37m\u001b[0m \u001b[1m8s\u001b[0m 54ms/step - loss: 0.0473 - val_loss: 0.0645\n",
            "Epoch 3/10\n",
            "\u001b[1m155/156\u001b[0m \u001b[32m━━━━━━━━━━━━━━━━━━━\u001b[0m\u001b[37m━\u001b[0m \u001b[1m0s\u001b[0m 48ms/step - loss: 0.0471\n",
            "Epoch 3: val_loss did not improve from 0.06449\n",
            "\u001b[1m156/156\u001b[0m \u001b[32m━━━━━━━━━━━━━━━━━━━━\u001b[0m\u001b[37m\u001b[0m \u001b[1m9s\u001b[0m 59ms/step - loss: 0.0471 - val_loss: 0.0651\n",
            "Epoch 4/10\n",
            "\u001b[1m155/156\u001b[0m \u001b[32m━━━━━━━━━━━━━━━━━━━\u001b[0m\u001b[37m━\u001b[0m \u001b[1m0s\u001b[0m 40ms/step - loss: 0.0470\n",
            "Epoch 4: val_loss improved from 0.06449 to 0.06419, saving model to model_checkpoint_dense.weights.h5\n",
            "\u001b[1m156/156\u001b[0m \u001b[32m━━━━━━━━━━━━━━━━━━━━\u001b[0m\u001b[37m\u001b[0m \u001b[1m11s\u001b[0m 73ms/step - loss: 0.0470 - val_loss: 0.0642\n",
            "Epoch 5/10\n",
            "\u001b[1m155/156\u001b[0m \u001b[32m━━━━━━━━━━━━━━━━━━━\u001b[0m\u001b[37m━\u001b[0m \u001b[1m0s\u001b[0m 42ms/step - loss: 0.0469\n",
            "Epoch 5: val_loss improved from 0.06419 to 0.06381, saving model to model_checkpoint_dense.weights.h5\n",
            "\u001b[1m156/156\u001b[0m \u001b[32m━━━━━━━━━━━━━━━━━━━━\u001b[0m\u001b[37m\u001b[0m \u001b[1m9s\u001b[0m 59ms/step - loss: 0.0468 - val_loss: 0.0638\n",
            "Epoch 6/10\n",
            "\u001b[1m154/156\u001b[0m \u001b[32m━━━━━━━━━━━━━━━━━━━\u001b[0m\u001b[37m━\u001b[0m \u001b[1m0s\u001b[0m 40ms/step - loss: 0.0468\n",
            "Epoch 6: val_loss improved from 0.06381 to 0.06365, saving model to model_checkpoint_dense.weights.h5\n",
            "\u001b[1m156/156\u001b[0m \u001b[32m━━━━━━━━━━━━━━━━━━━━\u001b[0m\u001b[37m\u001b[0m \u001b[1m9s\u001b[0m 51ms/step - loss: 0.0468 - val_loss: 0.0637\n",
            "Epoch 7/10\n",
            "\u001b[1m155/156\u001b[0m \u001b[32m━━━━━━━━━━━━━━━━━━━\u001b[0m\u001b[37m━\u001b[0m \u001b[1m0s\u001b[0m 50ms/step - loss: 0.0468\n",
            "Epoch 7: val_loss improved from 0.06365 to 0.06309, saving model to model_checkpoint_dense.weights.h5\n",
            "\u001b[1m156/156\u001b[0m \u001b[32m━━━━━━━━━━━━━━━━━━━━\u001b[0m\u001b[37m\u001b[0m \u001b[1m10s\u001b[0m 62ms/step - loss: 0.0468 - val_loss: 0.0631\n",
            "Epoch 8/10\n",
            "\u001b[1m156/156\u001b[0m \u001b[32m━━━━━━━━━━━━━━━━━━━━\u001b[0m\u001b[37m\u001b[0m \u001b[1m0s\u001b[0m 37ms/step - loss: 0.0467\n",
            "Epoch 8: val_loss did not improve from 0.06309\n",
            "\u001b[1m156/156\u001b[0m \u001b[32m━━━━━━━━━━━━━━━━━━━━\u001b[0m\u001b[37m\u001b[0m \u001b[1m8s\u001b[0m 54ms/step - loss: 0.0467 - val_loss: 0.0631\n",
            "Epoch 9/10\n",
            "\u001b[1m156/156\u001b[0m \u001b[32m━━━━━━━━━━━━━━━━━━━━\u001b[0m\u001b[37m\u001b[0m \u001b[1m0s\u001b[0m 47ms/step - loss: 0.0466\n",
            "Epoch 9: val_loss improved from 0.06309 to 0.06289, saving model to model_checkpoint_dense.weights.h5\n",
            "\u001b[1m156/156\u001b[0m \u001b[32m━━━━━━━━━━━━━━━━━━━━\u001b[0m\u001b[37m\u001b[0m \u001b[1m9s\u001b[0m 59ms/step - loss: 0.0466 - val_loss: 0.0629\n",
            "Epoch 10/10\n",
            "\u001b[1m155/156\u001b[0m \u001b[32m━━━━━━━━━━━━━━━━━━━\u001b[0m\u001b[37m━\u001b[0m \u001b[1m0s\u001b[0m 42ms/step - loss: 0.0466\n",
            "Epoch 10: val_loss improved from 0.06289 to 0.06255, saving model to model_checkpoint_dense.weights.h5\n",
            "\u001b[1m156/156\u001b[0m \u001b[32m━━━━━━━━━━━━━━━━━━━━\u001b[0m\u001b[37m\u001b[0m \u001b[1m10s\u001b[0m 67ms/step - loss: 0.0466 - val_loss: 0.0626\n"
          ]
        }
      ],
      "source": [
        "path_checkpoint = \"model_checkpoint_dense.weights.h5\"\n",
        "es_callback = keras.callbacks.EarlyStopping(monitor=\"val_loss\", min_delta=0, patience=5)\n",
        "\n",
        "modelckpt_callback = keras.callbacks.ModelCheckpoint(\n",
        "    monitor=\"val_loss\",\n",
        "    filepath=path_checkpoint,\n",
        "    verbose=1,\n",
        "    save_weights_only=True,\n",
        "    save_best_only=True,\n",
        ")\n",
        "\n",
        "history = model.fit(\n",
        "    dataset_train,\n",
        "    epochs=epochs,\n",
        "    validation_data=dataset_val,\n",
        "    callbacks=[es_callback, modelckpt_callback],\n",
        ")"
      ]
    },
    {
      "cell_type": "code",
      "execution_count": 26,
      "metadata": {
        "colab": {
          "base_uri": "https://localhost:8080/",
          "height": 452
        },
        "id": "7AZPB_OlCMKd",
        "outputId": "1ed0627b-b0c3-4044-d590-322d8fb2d4cc"
      },
      "outputs": [
        {
          "output_type": "display_data",
          "data": {
            "text/plain": [
              "<Figure size 640x480 with 1 Axes>"
            ],
            "image/png": "[encoded data removed]"
          },
          "metadata": {}
        }
      ],
      "source": [
        "def plot_history(history):\n",
        "    loss = history.history['loss']\n",
        "    val_loss = history.history['val_loss']\n",
        "\n",
        "    plot_epochs = range(len(loss))\n",
        "\n",
        "    plt.figure()\n",
        "\n",
        "    plt.plot(plot_epochs, loss, 'bo', label='Training loss')\n",
        "    plt.plot(plot_epochs, val_loss, 'b', label='Validation loss')\n",
        "    plt.title('Training and validation loss')\n",
        "    plt.legend()\n",
        "\n",
        "    plt.show()\n",
        "plot_history(history)"
      ]
    },
    {
      "cell_type": "markdown",
      "source": [
        "##Sem earlystop"
      ],
      "metadata": {
        "id": "oG7ELMLNDEAZ"
      }
    },
    {
      "cell_type": "code",
      "execution_count": 27,
      "metadata": {
        "colab": {
          "base_uri": "https://localhost:8080/",
          "height": 225
        },
        "outputId": "23a3ea7e-2b33-4340-bb53-91d668639007",
        "id": "FzezkuZ7DR4n"
      },
      "outputs": [
        {
          "output_type": "display_data",
          "data": {
            "text/plain": [
              "\u001b[1mModel: \"sequential_2\"\u001b[0m\n"
            ],
            "text/html": [
              "<pre style=\"white-space:pre;overflow-x:auto;line-height:normal;font-family:Menlo,'DejaVu Sans Mono',consolas,'Courier New',monospace\"><span style=\"font-weight: bold\">Model: \"sequential_2\"</span>\n",
              "</pre>\n"
            ]
          },
          "metadata": {}
        },
        {
          "output_type": "display_data",
          "data": {
            "text/plain": [
              "┏━━━━━━━━━━━━━━━━━━━━━━━━━━━━━━━━━━━━━━┳━━━━━━━━━━━━━━━━━━━━━━━━━━━━━┳━━━━━━━━━━━━━━━━━┓\n",
              "┃\u001b[1m \u001b[0m\u001b[1mLayer (type)                        \u001b[0m\u001b[1m \u001b[0m┃\u001b[1m \u001b[0m\u001b[1mOutput Shape               \u001b[0m\u001b[1m \u001b[0m┃\u001b[1m \u001b[0m\u001b[1m        Param #\u001b[0m\u001b[1m \u001b[0m┃\n",
              "┡━━━━━━━━━━━━━━━━━━━━━━━━━━━━━━━━━━━━━━╇━━━━━━━━━━━━━━━━━━━━━━━━━━━━━╇━━━━━━━━━━━━━━━━━┩\n",
              "│ dense_4 (\u001b[38;5;33mDense\u001b[0m)                      │ (\u001b[38;5;45mNone\u001b[0m, \u001b[38;5;34m1200\u001b[0m, \u001b[38;5;34m64\u001b[0m)            │             \u001b[38;5;34m512\u001b[0m │\n",
              "├──────────────────────────────────────┼─────────────────────────────┼─────────────────┤\n",
              "│ dense_5 (\u001b[38;5;33mDense\u001b[0m)                      │ (\u001b[38;5;45mNone\u001b[0m, \u001b[38;5;34m1200\u001b[0m, \u001b[38;5;34m32\u001b[0m)            │           \u001b[38;5;34m2,080\u001b[0m │\n",
              "├──────────────────────────────────────┼─────────────────────────────┼─────────────────┤\n",
              "│ dense_6 (\u001b[38;5;33mDense\u001b[0m)                      │ (\u001b[38;5;45mNone\u001b[0m, \u001b[38;5;34m1200\u001b[0m, \u001b[38;5;34m1\u001b[0m)             │              \u001b[38;5;34m33\u001b[0m │\n",
              "└──────────────────────────────────────┴─────────────────────────────┴─────────────────┘\n"
            ],
            "text/html": [
              "<pre style=\"white-space:pre;overflow-x:auto;line-height:normal;font-family:Menlo,'DejaVu Sans Mono',consolas,'Courier New',monospace\">┏━━━━━━━━━━━━━━━━━━━━━━━━━━━━━━━━━━━━━━┳━━━━━━━━━━━━━━━━━━━━━━━━━━━━━┳━━━━━━━━━━━━━━━━━┓\n",
              "┃<span style=\"font-weight: bold\"> Layer (type)                         </span>┃<span style=\"font-weight: bold\"> Output Shape                </span>┃<span style=\"font-weight: bold\">         Param # </span>┃\n",
              "┡━━━━━━━━━━━━━━━━━━━━━━━━━━━━━━━━━━━━━━╇━━━━━━━━━━━━━━━━━━━━━━━━━━━━━╇━━━━━━━━━━━━━━━━━┩\n",
              "│ dense_4 (<span style=\"color: #0087ff; text-decoration-color: #0087ff\">Dense</span>)                      │ (<span style=\"color: #00d7ff; text-decoration-color: #00d7ff\">None</span>, <span style=\"color: #00af00; text-decoration-color: #00af00\">1200</span>, <span style=\"color: #00af00; text-decoration-color: #00af00\">64</span>)            │             <span style=\"color: #00af00; text-decoration-color: #00af00\">512</span> │\n",
              "├──────────────────────────────────────┼─────────────────────────────┼─────────────────┤\n",
              "│ dense_5 (<span style=\"color: #0087ff; text-decoration-color: #0087ff\">Dense</span>)                      │ (<span style=\"color: #00d7ff; text-decoration-color: #00d7ff\">None</span>, <span style=\"color: #00af00; text-decoration-color: #00af00\">1200</span>, <span style=\"color: #00af00; text-decoration-color: #00af00\">32</span>)            │           <span style=\"color: #00af00; text-decoration-color: #00af00\">2,080</span> │\n",
              "├──────────────────────────────────────┼─────────────────────────────┼─────────────────┤\n",
              "│ dense_6 (<span style=\"color: #0087ff; text-decoration-color: #0087ff\">Dense</span>)                      │ (<span style=\"color: #00d7ff; text-decoration-color: #00d7ff\">None</span>, <span style=\"color: #00af00; text-decoration-color: #00af00\">1200</span>, <span style=\"color: #00af00; text-decoration-color: #00af00\">1</span>)             │              <span style=\"color: #00af00; text-decoration-color: #00af00\">33</span> │\n",
              "└──────────────────────────────────────┴─────────────────────────────┴─────────────────┘\n",
              "</pre>\n"
            ]
          },
          "metadata": {}
        },
        {
          "output_type": "display_data",
          "data": {
            "text/plain": [
              "\u001b[1m Total params: \u001b[0m\u001b[38;5;34m2,625\u001b[0m (10.25 KB)\n"
            ],
            "text/html": [
              "<pre style=\"white-space:pre;overflow-x:auto;line-height:normal;font-family:Menlo,'DejaVu Sans Mono',consolas,'Courier New',monospace\"><span style=\"font-weight: bold\"> Total params: </span><span style=\"color: #00af00; text-decoration-color: #00af00\">2,625</span> (10.25 KB)\n",
              "</pre>\n"
            ]
          },
          "metadata": {}
        },
        {
          "output_type": "display_data",
          "data": {
            "text/plain": [
              "\u001b[1m Trainable params: \u001b[0m\u001b[38;5;34m2,625\u001b[0m (10.25 KB)\n"
            ],
            "text/html": [
              "<pre style=\"white-space:pre;overflow-x:auto;line-height:normal;font-family:Menlo,'DejaVu Sans Mono',consolas,'Courier New',monospace\"><span style=\"font-weight: bold\"> Trainable params: </span><span style=\"color: #00af00; text-decoration-color: #00af00\">2,625</span> (10.25 KB)\n",
              "</pre>\n"
            ]
          },
          "metadata": {}
        },
        {
          "output_type": "display_data",
          "data": {
            "text/plain": [
              "\u001b[1m Non-trainable params: \u001b[0m\u001b[38;5;34m0\u001b[0m (0.00 B)\n"
            ],
            "text/html": [
              "<pre style=\"white-space:pre;overflow-x:auto;line-height:normal;font-family:Menlo,'DejaVu Sans Mono',consolas,'Courier New',monospace\"><span style=\"font-weight: bold\"> Non-trainable params: </span><span style=\"color: #00af00; text-decoration-color: #00af00\">0</span> (0.00 B)\n",
              "</pre>\n"
            ]
          },
          "metadata": {}
        }
      ],
      "source": [
        "model = keras.Sequential()\n",
        "model.add(keras.layers.Input(shape=(inputs.shape[1], inputs.shape[2])))\n",
        "model.add(keras.layers.Dense(64, activation='relu'))\n",
        "model.add(keras.layers.Dense(32, activation='relu'))\n",
        "model.add(keras.layers.Dense(1))\n",
        "\n",
        "model.compile(optimizer=keras.optimizers.Adam(learning_rate=learning_rate), loss=\"mae\")\n",
        "model.summary()"
      ]
    },
    {
      "cell_type": "code",
      "execution_count": 28,
      "metadata": {
        "colab": {
          "base_uri": "https://localhost:8080/"
        },
        "outputId": "9a80bf10-260e-4a04-dbf2-8f6509290b19",
        "id": "QlnqSYWWDR4o"
      },
      "outputs": [
        {
          "output_type": "stream",
          "name": "stdout",
          "text": [
            "Epoch 1/10\n",
            "\u001b[1m156/156\u001b[0m \u001b[32m━━━━━━━━━━━━━━━━━━━━\u001b[0m\u001b[37m\u001b[0m \u001b[1m0s\u001b[0m 54ms/step - loss: 0.1462\n",
            "Epoch 1: val_loss improved from inf to 0.06444, saving model to model_checkpoint_dense.weights.h5\n",
            "\u001b[1m156/156\u001b[0m \u001b[32m━━━━━━━━━━━━━━━━━━━━\u001b[0m\u001b[37m\u001b[0m \u001b[1m12s\u001b[0m 70ms/step - loss: 0.1459 - val_loss: 0.0644\n",
            "Epoch 2/10\n",
            "\u001b[1m155/156\u001b[0m \u001b[32m━━━━━━━━━━━━━━━━━━━\u001b[0m\u001b[37m━\u001b[0m \u001b[1m0s\u001b[0m 48ms/step - loss: 0.0621\n",
            "Epoch 2: val_loss did not improve from 0.06444\n",
            "\u001b[1m156/156\u001b[0m \u001b[32m━━━━━━━━━━━━━━━━━━━━\u001b[0m\u001b[37m\u001b[0m \u001b[1m10s\u001b[0m 65ms/step - loss: 0.0621 - val_loss: 0.0645\n",
            "Epoch 3/10\n",
            "\u001b[1m154/156\u001b[0m \u001b[32m━━━━━━━━━━━━━━━━━━━\u001b[0m\u001b[37m━\u001b[0m \u001b[1m0s\u001b[0m 37ms/step - loss: 0.0568\n",
            "Epoch 3: val_loss improved from 0.06444 to 0.06106, saving model to model_checkpoint_dense.weights.h5\n",
            "\u001b[1m156/156\u001b[0m \u001b[32m━━━━━━━━━━━━━━━━━━━━\u001b[0m\u001b[37m\u001b[0m \u001b[1m8s\u001b[0m 48ms/step - loss: 0.0568 - val_loss: 0.0611\n",
            "Epoch 4/10\n",
            "\u001b[1m155/156\u001b[0m \u001b[32m━━━━━━━━━━━━━━━━━━━\u001b[0m\u001b[37m━\u001b[0m \u001b[1m0s\u001b[0m 54ms/step - loss: 0.0532\n",
            "Epoch 4: val_loss did not improve from 0.06106\n",
            "\u001b[1m156/156\u001b[0m \u001b[32m━━━━━━━━━━━━━━━━━━━━\u001b[0m\u001b[37m\u001b[0m \u001b[1m10s\u001b[0m 66ms/step - loss: 0.0532 - val_loss: 0.0645\n",
            "Epoch 5/10\n",
            "\u001b[1m155/156\u001b[0m \u001b[32m━━━━━━━━━━━━━━━━━━━\u001b[0m\u001b[37m━\u001b[0m \u001b[1m0s\u001b[0m 47ms/step - loss: 0.0525\n",
            "Epoch 5: val_loss did not improve from 0.06106\n",
            "\u001b[1m156/156\u001b[0m \u001b[32m━━━━━━━━━━━━━━━━━━━━\u001b[0m\u001b[37m\u001b[0m \u001b[1m13s\u001b[0m 80ms/step - loss: 0.0525 - val_loss: 0.0664\n",
            "Epoch 6/10\n",
            "\u001b[1m155/156\u001b[0m \u001b[32m━━━━━━━━━━━━━━━━━━━\u001b[0m\u001b[37m━\u001b[0m \u001b[1m0s\u001b[0m 37ms/step - loss: 0.0521\n",
            "Epoch 6: val_loss did not improve from 0.06106\n",
            "\u001b[1m156/156\u001b[0m \u001b[32m━━━━━━━━━━━━━━━━━━━━\u001b[0m\u001b[37m\u001b[0m \u001b[1m8s\u001b[0m 50ms/step - loss: 0.0521 - val_loss: 0.0612\n",
            "Epoch 7/10\n",
            "\u001b[1m155/156\u001b[0m \u001b[32m━━━━━━━━━━━━━━━━━━━\u001b[0m\u001b[37m━\u001b[0m \u001b[1m0s\u001b[0m 54ms/step - loss: 0.0520\n",
            "Epoch 7: val_loss did not improve from 0.06106\n",
            "\u001b[1m156/156\u001b[0m \u001b[32m━━━━━━━━━━━━━━━━━━━━\u001b[0m\u001b[37m\u001b[0m \u001b[1m11s\u001b[0m 71ms/step - loss: 0.0520 - val_loss: 0.0685\n",
            "Epoch 8/10\n",
            "\u001b[1m155/156\u001b[0m \u001b[32m━━━━━━━━━━━━━━━━━━━\u001b[0m\u001b[37m━\u001b[0m \u001b[1m0s\u001b[0m 46ms/step - loss: 0.0508\n",
            "Epoch 8: val_loss improved from 0.06106 to 0.06083, saving model to model_checkpoint_dense.weights.h5\n",
            "\u001b[1m156/156\u001b[0m \u001b[32m━━━━━━━━━━━━━━━━━━━━\u001b[0m\u001b[37m\u001b[0m \u001b[1m10s\u001b[0m 62ms/step - loss: 0.0508 - val_loss: 0.0608\n",
            "Epoch 9/10\n",
            "\u001b[1m155/156\u001b[0m \u001b[32m━━━━━━━━━━━━━━━━━━━\u001b[0m\u001b[37m━\u001b[0m \u001b[1m0s\u001b[0m 37ms/step - loss: 0.0502\n",
            "Epoch 9: val_loss did not improve from 0.06083\n",
            "\u001b[1m156/156\u001b[0m \u001b[32m━━━━━━━━━━━━━━━━━━━━\u001b[0m\u001b[37m\u001b[0m \u001b[1m8s\u001b[0m 50ms/step - loss: 0.0502 - val_loss: 0.0665\n",
            "Epoch 10/10\n",
            "\u001b[1m154/156\u001b[0m \u001b[32m━━━━━━━━━━━━━━━━━━━\u001b[0m\u001b[37m━\u001b[0m \u001b[1m0s\u001b[0m 49ms/step - loss: 0.0495\n",
            "Epoch 10: val_loss improved from 0.06083 to 0.06054, saving model to model_checkpoint_dense.weights.h5\n",
            "\u001b[1m156/156\u001b[0m \u001b[32m━━━━━━━━━━━━━━━━━━━━\u001b[0m\u001b[37m\u001b[0m \u001b[1m10s\u001b[0m 62ms/step - loss: 0.0495 - val_loss: 0.0605\n"
          ]
        }
      ],
      "source": [
        "path_checkpoint = \"model_checkpoint_dense.weights.h5\"\n",
        "es_callback = keras.callbacks.EarlyStopping(monitor=\"val_loss\", min_delta=0)\n",
        "\n",
        "modelckpt_callback = keras.callbacks.ModelCheckpoint(\n",
        "    monitor=\"val_loss\",\n",
        "    filepath=path_checkpoint,\n",
        "    verbose=1,\n",
        "    save_weights_only=True,\n",
        "    save_best_only=True,\n",
        ")\n",
        "\n",
        "history = model.fit(\n",
        "    dataset_train,\n",
        "    epochs=epochs,\n",
        "    validation_data=dataset_val,\n",
        "    callbacks=[modelckpt_callback],\n",
        ")"
      ]
    },
    {
      "cell_type": "code",
      "execution_count": 29,
      "metadata": {
        "colab": {
          "base_uri": "https://localhost:8080/",
          "height": 452
        },
        "outputId": "d5ed7eb5-e921-4c3c-8c10-105acc280bba",
        "id": "7w8dT5hnDR4o"
      },
      "outputs": [
        {
          "output_type": "display_data",
          "data": {
            "text/plain": [
              "<Figure size 640x480 with 1 Axes>"
            ],
            "image/png": "[encoded data removed]"
          },
          "metadata": {}
        }
      ],
      "source": [
        "def plot_history(history):\n",
        "    loss = history.history['loss']\n",
        "    val_loss = history.history['val_loss']\n",
        "\n",
        "    plot_epochs = range(len(loss))\n",
        "\n",
        "    plt.figure()\n",
        "\n",
        "    plt.plot(plot_epochs, loss, 'bo', label='Training loss')\n",
        "    plt.plot(plot_epochs, val_loss, 'b', label='Validation loss')\n",
        "    plt.title('Training and validation loss')\n",
        "    plt.legend()\n",
        "\n",
        "    plt.show()\n",
        "plot_history(history)"
      ]
    },
    {
      "cell_type": "markdown",
      "metadata": {
        "id": "8o2AGnx9OWPS"
      },
      "source": [
        "# Referências"
      ]
    },
    {
      "cell_type": "markdown",
      "metadata": {
        "id": "KVq5tT5AOWPT"
      },
      "source": [
        "- [Timeseries forecasting for weather prediction](https://keras.io/examples/timeseries/timeseries_weather_forecasting/)"
      ]
    }
  ],
  "metadata": {
    "accelerator": "GPU",
    "colab": {
      "gpuType": "T4",
      "provenance": []
    },
    "kernelspec": {
      "display_name": "Python 3",
      "name": "python3"
    },
    "language_info": {
      "codemirror_mode": {
        "name": "ipython",
        "version": 3
      },
      "file_extension": ".py",
      "mimetype": "text/x-python",
      "name": "python",
      "nbconvert_exporter": "python",
      "pygments_lexer": "ipython3",
      "version": "3.12.2"
    }
  },
  "nbformat": 4,
  "nbformat_minor": 0
}